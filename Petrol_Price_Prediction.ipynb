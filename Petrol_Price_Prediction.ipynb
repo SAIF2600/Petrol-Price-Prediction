{
  "cells": [
    {
      "cell_type": "code",
      "execution_count": null,
      "id": "f512175f",
      "metadata": {
        "_cell_guid": "b1076dfc-b9ad-4769-8c92-a6c4dae69d19",
        "_uuid": "8f2839f25d086af736a60e9eeb907d3b93b6e0e5",
        "execution": {
          "iopub.execute_input": "2022-07-19T06:47:17.775140Z",
          "iopub.status.busy": "2022-07-19T06:47:17.774360Z",
          "iopub.status.idle": "2022-07-19T06:47:20.174194Z",
          "shell.execute_reply": "2022-07-19T06:47:20.173374Z"
        },
        "papermill": {
          "duration": 2.429546,
          "end_time": "2022-07-19T06:47:20.178307",
          "exception": false,
          "start_time": "2022-07-19T06:47:17.748761",
          "status": "completed"
        },
        "tags": [],
        "id": "f512175f"
      },
      "outputs": [],
      "source": [
        "# This Python 3 environment comes with many helpful analytics libraries installed\n",
        "# It is defined by the kaggle/python Docker image: https://github.com/kaggle/docker-python\n",
        "# For example, here's several helpful packages to load\n",
        "\n",
        "import numpy as np # linear algebra\n",
        "import pandas as pd # data processing, CSV file I/O (e.g. pd.read_csv)\n",
        "import matplotlib.pyplot as plt\n",
        "import seaborn as sns\n",
        "import plotly.express as px \n",
        "%matplotlib inline\n",
        "\n",
        "# Input data files are available in the read-only \"../input/\" directory\n",
        "# For example, running this (by clicking run or pressing Shift+Enter) will list all files under the input directory\n",
        "\n",
        "import os\n",
        "for dirname, _, filenames in os.walk('/kaggle/input'):\n",
        "    for filename in filenames:\n",
        "        print(os.path.join(dirname, filename))\n",
        "\n",
        "# You can write up to 20GB to the current directory (/kaggle/working/) that gets preserved as output when you create a version using \"Save & Run All\" \n",
        "# You can also write temporary files to /kaggle/temp/, but they won't be saved outside of the current session"
      ]
    },
    {
      "cell_type": "markdown",
      "id": "58da6db2",
      "metadata": {
        "execution": {
          "iopub.execute_input": "2022-06-23T08:26:54.775022Z",
          "iopub.status.busy": "2022-06-23T08:26:54.774663Z",
          "iopub.status.idle": "2022-06-23T08:26:55.36168Z",
          "shell.execute_reply": "2022-06-23T08:26:55.360794Z",
          "shell.execute_reply.started": "2022-06-23T08:26:54.774992Z"
        },
        "papermill": {
          "duration": 0.022073,
          "end_time": "2022-07-19T06:47:20.222151",
          "exception": false,
          "start_time": "2022-07-19T06:47:20.200078",
          "status": "completed"
        },
        "tags": [],
        "id": "58da6db2"
      },
      "source": [
        "## There are 7 steps in Data Science lifecycle\n",
        "1. Business Understanding\n",
        "2. Data mining\n",
        "3. Data cleaning\n",
        "4. Data Exploration\n",
        "5. Feather Engineering\n",
        "6. Predictive Modeling\n",
        "7. Data visualization\n"
      ]
    },
    {
      "cell_type": "markdown",
      "id": "a7027011",
      "metadata": {
        "papermill": {
          "duration": 0.020057,
          "end_time": "2022-07-19T06:47:20.262966",
          "exception": false,
          "start_time": "2022-07-19T06:47:20.242909",
          "status": "completed"
        },
        "tags": [],
        "id": "a7027011"
      },
      "source": [
        "# 1.Business Understanding\n",
        "\n",
        "This dataset contains data of petrol consumption, prices, share percentage of countries. Visualize the data and predict price of petrol."
      ]
    },
    {
      "cell_type": "markdown",
      "id": "c1ec1b2c",
      "metadata": {
        "papermill": {
          "duration": 0.020307,
          "end_time": "2022-07-19T06:47:20.303759",
          "exception": false,
          "start_time": "2022-07-19T06:47:20.283452",
          "status": "completed"
        },
        "tags": [],
        "id": "c1ec1b2c"
      },
      "source": [
        "# 2.Data mining"
      ]
    },
    {
      "cell_type": "code",
      "execution_count": null,
      "id": "3fcdfc09",
      "metadata": {
        "execution": {
          "iopub.execute_input": "2022-07-19T06:47:20.347548Z",
          "iopub.status.busy": "2022-07-19T06:47:20.346777Z",
          "iopub.status.idle": "2022-07-19T06:47:20.363539Z",
          "shell.execute_reply": "2022-07-19T06:47:20.362514Z"
        },
        "papermill": {
          "duration": 0.041903,
          "end_time": "2022-07-19T06:47:20.366339",
          "exception": false,
          "start_time": "2022-07-19T06:47:20.324436",
          "status": "completed"
        },
        "tags": [],
        "id": "3fcdfc09"
      },
      "outputs": [],
      "source": [
        "#reading data from .csv file as a dataset\n",
        "df=pd.read_csv('/content/drive/MyDrive/Machine_Learning/Petrol Dataset June 20 2022.csv',encoding='latin-1')"
      ]
    },
    {
      "cell_type": "code",
      "source": [
        "from google.colab import drive\n",
        "drive.mount('/content/drive')"
      ],
      "metadata": {
        "colab": {
          "base_uri": "https://localhost:8080/"
        },
        "id": "dsee-Mb4Gp4f",
        "outputId": "900ef3c1-467b-4015-8e08-fdbf0f7ccffa"
      },
      "id": "dsee-Mb4Gp4f",
      "execution_count": null,
      "outputs": [
        {
          "output_type": "stream",
          "name": "stdout",
          "text": [
            "Mounted at /content/drive\n"
          ]
        }
      ]
    },
    {
      "cell_type": "code",
      "execution_count": null,
      "id": "1d1d8b60",
      "metadata": {
        "execution": {
          "iopub.execute_input": "2022-07-19T06:47:20.410154Z",
          "iopub.status.busy": "2022-07-19T06:47:20.409556Z",
          "iopub.status.idle": "2022-07-19T06:47:20.520806Z",
          "shell.execute_reply": "2022-07-19T06:47:20.519673Z"
        },
        "papermill": {
          "duration": 0.135921,
          "end_time": "2022-07-19T06:47:20.523632",
          "exception": false,
          "start_time": "2022-07-19T06:47:20.387711",
          "status": "completed"
        },
        "tags": [],
        "colab": {
          "base_uri": "https://localhost:8080/",
          "height": 206
        },
        "id": "1d1d8b60",
        "outputId": "4f134452-1727-4e1a-f5c2-a4fcbc7afb19"
      },
      "outputs": [
        {
          "output_type": "execute_result",
          "data": {
            "text/plain": [
              "<pandas.io.formats.style.Styler at 0x7f0e7e25fb10>"
            ],
            "text/html": [
              "<style type=\"text/css\">\n",
              "#T_300ea_row0_col0, #T_300ea_row2_col4, #T_300ea_row4_col2, #T_300ea_row4_col5, #T_300ea_row4_col6, #T_300ea_row4_col7 {\n",
              "  background-color: #fff5f0;\n",
              "  color: #000000;\n",
              "  font-family: Segoe UI;\n",
              "}\n",
              "#T_300ea_row0_col1, #T_300ea_row0_col3, #T_300ea_row1_col1, #T_300ea_row1_col3, #T_300ea_row2_col1, #T_300ea_row2_col3, #T_300ea_row3_col1, #T_300ea_row3_col3, #T_300ea_row4_col1, #T_300ea_row4_col3 {\n",
              "  font-family: Segoe UI;\n",
              "}\n",
              "#T_300ea_row0_col2, #T_300ea_row0_col4, #T_300ea_row1_col5, #T_300ea_row1_col6, #T_300ea_row1_col7, #T_300ea_row4_col0 {\n",
              "  background-color: #67000d;\n",
              "  color: #f1f1f1;\n",
              "  font-family: Segoe UI;\n",
              "}\n",
              "#T_300ea_row0_col5, #T_300ea_row0_col7 {\n",
              "  background-color: #9f0e14;\n",
              "  color: #f1f1f1;\n",
              "  font-family: Segoe UI;\n",
              "}\n",
              "#T_300ea_row0_col6 {\n",
              "  background-color: #9d0d14;\n",
              "  color: #f1f1f1;\n",
              "  font-family: Segoe UI;\n",
              "}\n",
              "#T_300ea_row1_col0 {\n",
              "  background-color: #fcbba1;\n",
              "  color: #000000;\n",
              "  font-family: Segoe UI;\n",
              "}\n",
              "#T_300ea_row1_col2 {\n",
              "  background-color: #f44f39;\n",
              "  color: #f1f1f1;\n",
              "  font-family: Segoe UI;\n",
              "}\n",
              "#T_300ea_row1_col4 {\n",
              "  background-color: #fee5d8;\n",
              "  color: #000000;\n",
              "  font-family: Segoe UI;\n",
              "}\n",
              "#T_300ea_row2_col0 {\n",
              "  background-color: #fb694a;\n",
              "  color: #f1f1f1;\n",
              "  font-family: Segoe UI;\n",
              "}\n",
              "#T_300ea_row2_col2 {\n",
              "  background-color: #ffede5;\n",
              "  color: #000000;\n",
              "  font-family: Segoe UI;\n",
              "}\n",
              "#T_300ea_row2_col5, #T_300ea_row2_col7 {\n",
              "  background-color: #b71319;\n",
              "  color: #f1f1f1;\n",
              "  font-family: Segoe UI;\n",
              "}\n",
              "#T_300ea_row2_col6 {\n",
              "  background-color: #b81419;\n",
              "  color: #f1f1f1;\n",
              "  font-family: Segoe UI;\n",
              "}\n",
              "#T_300ea_row3_col0 {\n",
              "  background-color: #ca181d;\n",
              "  color: #f1f1f1;\n",
              "  font-family: Segoe UI;\n",
              "}\n",
              "#T_300ea_row3_col2 {\n",
              "  background-color: #fff1ea;\n",
              "  color: #000000;\n",
              "  font-family: Segoe UI;\n",
              "}\n",
              "#T_300ea_row3_col4 {\n",
              "  background-color: #fb6e4e;\n",
              "  color: #f1f1f1;\n",
              "  font-family: Segoe UI;\n",
              "}\n",
              "#T_300ea_row3_col5 {\n",
              "  background-color: #eb372a;\n",
              "  color: #f1f1f1;\n",
              "  font-family: Segoe UI;\n",
              "}\n",
              "#T_300ea_row3_col6 {\n",
              "  background-color: #ea362a;\n",
              "  color: #f1f1f1;\n",
              "  font-family: Segoe UI;\n",
              "}\n",
              "#T_300ea_row3_col7 {\n",
              "  background-color: #ec382b;\n",
              "  color: #f1f1f1;\n",
              "  font-family: Segoe UI;\n",
              "}\n",
              "#T_300ea_row4_col4 {\n",
              "  background-color: #fc9272;\n",
              "  color: #000000;\n",
              "  font-family: Segoe UI;\n",
              "}\n",
              "</style>\n",
              "<table id=\"T_300ea_\" class=\"dataframe\">\n",
              "  <thead>\n",
              "    <tr>\n",
              "      <th class=\"col_heading level0 col0\" >#</th>\n",
              "      <th class=\"col_heading level0 col1\" >Country</th>\n",
              "      <th class=\"col_heading level0 col2\" >Daily Oil Consumption (Barrels)</th>\n",
              "      <th class=\"col_heading level0 col3\" >World Share</th>\n",
              "      <th class=\"col_heading level0 col4\" >Yearly Gallons Per Capita</th>\n",
              "      <th class=\"col_heading level0 col5\" >Price Per Gallon (USD)</th>\n",
              "      <th class=\"col_heading level0 col6\" >Price Per Liter (USD)</th>\n",
              "      <th class=\"col_heading level0 col7\" >Price Per Liter (PKR)</th>\n",
              "    </tr>\n",
              "  </thead>\n",
              "  <tbody>\n",
              "    <tr>\n",
              "      <td id=\"T_300ea_row0_col0\" class=\"data row0 col0\" >1</td>\n",
              "      <td id=\"T_300ea_row0_col1\" class=\"data row0 col1\" >United States</td>\n",
              "      <td id=\"T_300ea_row0_col2\" class=\"data row0 col2\" >19687287</td>\n",
              "      <td id=\"T_300ea_row0_col3\" class=\"data row0 col3\" >20.30%</td>\n",
              "      <td id=\"T_300ea_row0_col4\" class=\"data row0 col4\" >934.300000</td>\n",
              "      <td id=\"T_300ea_row0_col5\" class=\"data row0 col5\" >5.190000</td>\n",
              "      <td id=\"T_300ea_row0_col6\" class=\"data row0 col6\" >1.370000</td>\n",
              "      <td id=\"T_300ea_row0_col7\" class=\"data row0 col7\" >289.970000</td>\n",
              "    </tr>\n",
              "    <tr>\n",
              "      <td id=\"T_300ea_row1_col0\" class=\"data row1 col0\" >2</td>\n",
              "      <td id=\"T_300ea_row1_col1\" class=\"data row1 col1\" >China</td>\n",
              "      <td id=\"T_300ea_row1_col2\" class=\"data row1 col2\" >12791553</td>\n",
              "      <td id=\"T_300ea_row1_col3\" class=\"data row1 col3\" >13.20%</td>\n",
              "      <td id=\"T_300ea_row1_col4\" class=\"data row1 col4\" >138.700000</td>\n",
              "      <td id=\"T_300ea_row1_col5\" class=\"data row1 col5\" >5.420000</td>\n",
              "      <td id=\"T_300ea_row1_col6\" class=\"data row1 col6\" >1.430000</td>\n",
              "      <td id=\"T_300ea_row1_col7\" class=\"data row1 col7\" >302.870000</td>\n",
              "    </tr>\n",
              "    <tr>\n",
              "      <td id=\"T_300ea_row2_col0\" class=\"data row2 col0\" >3</td>\n",
              "      <td id=\"T_300ea_row2_col1\" class=\"data row2 col1\" >India</td>\n",
              "      <td id=\"T_300ea_row2_col2\" class=\"data row2 col2\" >4443000</td>\n",
              "      <td id=\"T_300ea_row2_col3\" class=\"data row2 col3\" >4.60%</td>\n",
              "      <td id=\"T_300ea_row2_col4\" class=\"data row2 col4\" >51.400000</td>\n",
              "      <td id=\"T_300ea_row2_col5\" class=\"data row2 col5\" >5.050000</td>\n",
              "      <td id=\"T_300ea_row2_col6\" class=\"data row2 col6\" >1.330000</td>\n",
              "      <td id=\"T_300ea_row2_col7\" class=\"data row2 col7\" >281.930000</td>\n",
              "    </tr>\n",
              "    <tr>\n",
              "      <td id=\"T_300ea_row3_col0\" class=\"data row3 col0\" >4</td>\n",
              "      <td id=\"T_300ea_row3_col1\" class=\"data row3 col1\" >Japan</td>\n",
              "      <td id=\"T_300ea_row3_col2\" class=\"data row3 col2\" >4012877</td>\n",
              "      <td id=\"T_300ea_row3_col3\" class=\"data row3 col3\" >4.10%</td>\n",
              "      <td id=\"T_300ea_row3_col4\" class=\"data row3 col4\" >481.500000</td>\n",
              "      <td id=\"T_300ea_row3_col5\" class=\"data row3 col5\" >4.690000</td>\n",
              "      <td id=\"T_300ea_row3_col6\" class=\"data row3 col6\" >1.240000</td>\n",
              "      <td id=\"T_300ea_row3_col7\" class=\"data row3 col7\" >262.050000</td>\n",
              "    </tr>\n",
              "    <tr>\n",
              "      <td id=\"T_300ea_row4_col0\" class=\"data row4 col0\" >5</td>\n",
              "      <td id=\"T_300ea_row4_col1\" class=\"data row4 col1\" >Russia</td>\n",
              "      <td id=\"T_300ea_row4_col2\" class=\"data row4 col2\" >3631287</td>\n",
              "      <td id=\"T_300ea_row4_col3\" class=\"data row4 col3\" >3.70%</td>\n",
              "      <td id=\"T_300ea_row4_col4\" class=\"data row4 col4\" >383.200000</td>\n",
              "      <td id=\"T_300ea_row4_col5\" class=\"data row4 col5\" >3.410000</td>\n",
              "      <td id=\"T_300ea_row4_col6\" class=\"data row4 col6\" >0.900000</td>\n",
              "      <td id=\"T_300ea_row4_col7\" class=\"data row4 col7\" >190.560000</td>\n",
              "    </tr>\n",
              "  </tbody>\n",
              "</table>\n"
            ]
          },
          "metadata": {},
          "execution_count": 7
        }
      ],
      "source": [
        "#show first 5 rows of the dataset\n",
        "df.head().style.background_gradient(cmap='Reds').set_properties(**{'font-family': 'Segoe UI'}).hide_index()"
      ]
    },
    {
      "cell_type": "markdown",
      "id": "78b7bf76",
      "metadata": {
        "papermill": {
          "duration": 0.020378,
          "end_time": "2022-07-19T06:47:20.564951",
          "exception": false,
          "start_time": "2022-07-19T06:47:20.544573",
          "status": "completed"
        },
        "tags": [],
        "id": "78b7bf76"
      },
      "source": [
        "Check the number of rows and columns, data type of each column values."
      ]
    },
    {
      "cell_type": "code",
      "execution_count": null,
      "id": "89201ec0",
      "metadata": {
        "execution": {
          "iopub.execute_input": "2022-07-19T06:47:20.607659Z",
          "iopub.status.busy": "2022-07-19T06:47:20.607256Z",
          "iopub.status.idle": "2022-07-19T06:47:20.625704Z",
          "shell.execute_reply": "2022-07-19T06:47:20.624063Z"
        },
        "papermill": {
          "duration": 0.042871,
          "end_time": "2022-07-19T06:47:20.628368",
          "exception": false,
          "start_time": "2022-07-19T06:47:20.585497",
          "status": "completed"
        },
        "tags": [],
        "colab": {
          "base_uri": "https://localhost:8080/"
        },
        "id": "89201ec0",
        "outputId": "1f6dbfa5-0d8e-421f-e08f-ed2ae45829da"
      },
      "outputs": [
        {
          "output_type": "stream",
          "name": "stdout",
          "text": [
            "<class 'pandas.core.frame.DataFrame'>\n",
            "RangeIndex: 181 entries, 0 to 180\n",
            "Data columns (total 8 columns):\n",
            " #   Column                           Non-Null Count  Dtype  \n",
            "---  ------                           --------------  -----  \n",
            " 0   #                                181 non-null    int64  \n",
            " 1   Country                          181 non-null    object \n",
            " 2   Daily Oil Consumption (Barrels)  181 non-null    int64  \n",
            " 3   World Share                      181 non-null    object \n",
            " 4   Yearly Gallons Per Capita        181 non-null    float64\n",
            " 5   Price Per Gallon (USD)           181 non-null    float64\n",
            " 6   Price Per Liter (USD)            181 non-null    float64\n",
            " 7   Price Per Liter (PKR)            181 non-null    float64\n",
            "dtypes: float64(4), int64(2), object(2)\n",
            "memory usage: 11.4+ KB\n"
          ]
        }
      ],
      "source": [
        "#print the information of dataset, number of non-null cell, data type of each column values,number of rows and columns.\n",
        "df.info()"
      ]
    },
    {
      "cell_type": "code",
      "execution_count": null,
      "id": "8928ab35",
      "metadata": {
        "execution": {
          "iopub.execute_input": "2022-07-19T06:47:20.672490Z",
          "iopub.status.busy": "2022-07-19T06:47:20.671749Z",
          "iopub.status.idle": "2022-07-19T06:47:20.677351Z",
          "shell.execute_reply": "2022-07-19T06:47:20.676519Z"
        },
        "papermill": {
          "duration": 0.030004,
          "end_time": "2022-07-19T06:47:20.679474",
          "exception": false,
          "start_time": "2022-07-19T06:47:20.649470",
          "status": "completed"
        },
        "tags": [],
        "colab": {
          "base_uri": "https://localhost:8080/"
        },
        "id": "8928ab35",
        "outputId": "dc81c6e2-3315-4582-8e3e-0ec5d71d3fe9"
      },
      "outputs": [
        {
          "output_type": "execute_result",
          "data": {
            "text/plain": [
              "(181, 8)"
            ]
          },
          "metadata": {},
          "execution_count": 9
        }
      ],
      "source": [
        "#print number of rows and columns of the dataset\n",
        "df.shape"
      ]
    },
    {
      "cell_type": "code",
      "execution_count": null,
      "id": "135f5530",
      "metadata": {
        "execution": {
          "iopub.execute_input": "2022-07-19T06:47:20.723932Z",
          "iopub.status.busy": "2022-07-19T06:47:20.723120Z",
          "iopub.status.idle": "2022-07-19T06:47:20.730040Z",
          "shell.execute_reply": "2022-07-19T06:47:20.729094Z"
        },
        "papermill": {
          "duration": 0.031859,
          "end_time": "2022-07-19T06:47:20.732217",
          "exception": false,
          "start_time": "2022-07-19T06:47:20.700358",
          "status": "completed"
        },
        "tags": [],
        "colab": {
          "base_uri": "https://localhost:8080/"
        },
        "id": "135f5530",
        "outputId": "675f6ee8-2a5a-466c-e135-2238334e64d2"
      },
      "outputs": [
        {
          "output_type": "execute_result",
          "data": {
            "text/plain": [
              "Index(['#', 'Country', 'Daily Oil Consumption (Barrels)', 'World Share',\n",
              "       'Yearly Gallons Per Capita', 'Price Per Gallon (USD)',\n",
              "       'Price Per Liter (USD)', 'Price Per Liter (PKR)'],\n",
              "      dtype='object')"
            ]
          },
          "metadata": {},
          "execution_count": 10
        }
      ],
      "source": [
        "#print the list of column header names.\n",
        "df.columns"
      ]
    },
    {
      "cell_type": "markdown",
      "id": "03c3290e",
      "metadata": {
        "papermill": {
          "duration": 0.02077,
          "end_time": "2022-07-19T06:47:20.773793",
          "exception": false,
          "start_time": "2022-07-19T06:47:20.753023",
          "status": "completed"
        },
        "tags": [],
        "id": "03c3290e"
      },
      "source": [
        "# 3.Data cleaning"
      ]
    },
    {
      "cell_type": "code",
      "execution_count": null,
      "id": "a78c0c32",
      "metadata": {
        "execution": {
          "iopub.execute_input": "2022-07-19T06:47:20.818376Z",
          "iopub.status.busy": "2022-07-19T06:47:20.817652Z",
          "iopub.status.idle": "2022-07-19T06:47:20.849197Z",
          "shell.execute_reply": "2022-07-19T06:47:20.848287Z"
        },
        "papermill": {
          "duration": 0.056364,
          "end_time": "2022-07-19T06:47:20.851467",
          "exception": false,
          "start_time": "2022-07-19T06:47:20.795103",
          "status": "completed"
        },
        "tags": [],
        "colab": {
          "base_uri": "https://localhost:8080/",
          "height": 206
        },
        "id": "a78c0c32",
        "outputId": "ea16109a-bd9a-4d20-ecc5-96c11093ba77"
      },
      "outputs": [
        {
          "output_type": "execute_result",
          "data": {
            "text/plain": [
              "<pandas.io.formats.style.Styler at 0x7f0e7ce1cc90>"
            ],
            "text/html": [
              "<style type=\"text/css\">\n",
              "#T_dded7_row0_col0, #T_dded7_row2_col4, #T_dded7_row4_col2, #T_dded7_row4_col5, #T_dded7_row4_col6, #T_dded7_row4_col7 {\n",
              "  background-color: #fff5f0;\n",
              "  color: #000000;\n",
              "  font-family: Segoe UI;\n",
              "}\n",
              "#T_dded7_row0_col1, #T_dded7_row0_col3, #T_dded7_row1_col1, #T_dded7_row1_col3, #T_dded7_row2_col1, #T_dded7_row2_col3, #T_dded7_row3_col1, #T_dded7_row3_col3, #T_dded7_row4_col1, #T_dded7_row4_col3 {\n",
              "  font-family: Segoe UI;\n",
              "}\n",
              "#T_dded7_row0_col2, #T_dded7_row0_col4, #T_dded7_row1_col5, #T_dded7_row1_col6, #T_dded7_row1_col7, #T_dded7_row4_col0 {\n",
              "  background-color: #67000d;\n",
              "  color: #f1f1f1;\n",
              "  font-family: Segoe UI;\n",
              "}\n",
              "#T_dded7_row0_col5, #T_dded7_row0_col7 {\n",
              "  background-color: #9f0e14;\n",
              "  color: #f1f1f1;\n",
              "  font-family: Segoe UI;\n",
              "}\n",
              "#T_dded7_row0_col6 {\n",
              "  background-color: #9d0d14;\n",
              "  color: #f1f1f1;\n",
              "  font-family: Segoe UI;\n",
              "}\n",
              "#T_dded7_row1_col0 {\n",
              "  background-color: #fcbba1;\n",
              "  color: #000000;\n",
              "  font-family: Segoe UI;\n",
              "}\n",
              "#T_dded7_row1_col2 {\n",
              "  background-color: #f44f39;\n",
              "  color: #f1f1f1;\n",
              "  font-family: Segoe UI;\n",
              "}\n",
              "#T_dded7_row1_col4 {\n",
              "  background-color: #fee5d8;\n",
              "  color: #000000;\n",
              "  font-family: Segoe UI;\n",
              "}\n",
              "#T_dded7_row2_col0 {\n",
              "  background-color: #fb694a;\n",
              "  color: #f1f1f1;\n",
              "  font-family: Segoe UI;\n",
              "}\n",
              "#T_dded7_row2_col2 {\n",
              "  background-color: #ffede5;\n",
              "  color: #000000;\n",
              "  font-family: Segoe UI;\n",
              "}\n",
              "#T_dded7_row2_col5, #T_dded7_row2_col7 {\n",
              "  background-color: #b71319;\n",
              "  color: #f1f1f1;\n",
              "  font-family: Segoe UI;\n",
              "}\n",
              "#T_dded7_row2_col6 {\n",
              "  background-color: #b81419;\n",
              "  color: #f1f1f1;\n",
              "  font-family: Segoe UI;\n",
              "}\n",
              "#T_dded7_row3_col0 {\n",
              "  background-color: #ca181d;\n",
              "  color: #f1f1f1;\n",
              "  font-family: Segoe UI;\n",
              "}\n",
              "#T_dded7_row3_col2 {\n",
              "  background-color: #fff1ea;\n",
              "  color: #000000;\n",
              "  font-family: Segoe UI;\n",
              "}\n",
              "#T_dded7_row3_col4 {\n",
              "  background-color: #fb6e4e;\n",
              "  color: #f1f1f1;\n",
              "  font-family: Segoe UI;\n",
              "}\n",
              "#T_dded7_row3_col5 {\n",
              "  background-color: #eb372a;\n",
              "  color: #f1f1f1;\n",
              "  font-family: Segoe UI;\n",
              "}\n",
              "#T_dded7_row3_col6 {\n",
              "  background-color: #ea362a;\n",
              "  color: #f1f1f1;\n",
              "  font-family: Segoe UI;\n",
              "}\n",
              "#T_dded7_row3_col7 {\n",
              "  background-color: #ec382b;\n",
              "  color: #f1f1f1;\n",
              "  font-family: Segoe UI;\n",
              "}\n",
              "#T_dded7_row4_col4 {\n",
              "  background-color: #fc9272;\n",
              "  color: #000000;\n",
              "  font-family: Segoe UI;\n",
              "}\n",
              "</style>\n",
              "<table id=\"T_dded7_\" class=\"dataframe\">\n",
              "  <thead>\n",
              "    <tr>\n",
              "      <th class=\"col_heading level0 col0\" >#</th>\n",
              "      <th class=\"col_heading level0 col1\" >Country</th>\n",
              "      <th class=\"col_heading level0 col2\" >Daily Oil Consumption (Barrels)</th>\n",
              "      <th class=\"col_heading level0 col3\" >World Share</th>\n",
              "      <th class=\"col_heading level0 col4\" >Yearly Gallons Per Capita</th>\n",
              "      <th class=\"col_heading level0 col5\" >Price Per Gallon (USD)</th>\n",
              "      <th class=\"col_heading level0 col6\" >Price Per Liter (USD)</th>\n",
              "      <th class=\"col_heading level0 col7\" >Price Per Liter (PKR)</th>\n",
              "    </tr>\n",
              "  </thead>\n",
              "  <tbody>\n",
              "    <tr>\n",
              "      <td id=\"T_dded7_row0_col0\" class=\"data row0 col0\" >1</td>\n",
              "      <td id=\"T_dded7_row0_col1\" class=\"data row0 col1\" >United States</td>\n",
              "      <td id=\"T_dded7_row0_col2\" class=\"data row0 col2\" >19687287</td>\n",
              "      <td id=\"T_dded7_row0_col3\" class=\"data row0 col3\" >20.30%</td>\n",
              "      <td id=\"T_dded7_row0_col4\" class=\"data row0 col4\" >934.300000</td>\n",
              "      <td id=\"T_dded7_row0_col5\" class=\"data row0 col5\" >5.190000</td>\n",
              "      <td id=\"T_dded7_row0_col6\" class=\"data row0 col6\" >1.370000</td>\n",
              "      <td id=\"T_dded7_row0_col7\" class=\"data row0 col7\" >289.970000</td>\n",
              "    </tr>\n",
              "    <tr>\n",
              "      <td id=\"T_dded7_row1_col0\" class=\"data row1 col0\" >2</td>\n",
              "      <td id=\"T_dded7_row1_col1\" class=\"data row1 col1\" >China</td>\n",
              "      <td id=\"T_dded7_row1_col2\" class=\"data row1 col2\" >12791553</td>\n",
              "      <td id=\"T_dded7_row1_col3\" class=\"data row1 col3\" >13.20%</td>\n",
              "      <td id=\"T_dded7_row1_col4\" class=\"data row1 col4\" >138.700000</td>\n",
              "      <td id=\"T_dded7_row1_col5\" class=\"data row1 col5\" >5.420000</td>\n",
              "      <td id=\"T_dded7_row1_col6\" class=\"data row1 col6\" >1.430000</td>\n",
              "      <td id=\"T_dded7_row1_col7\" class=\"data row1 col7\" >302.870000</td>\n",
              "    </tr>\n",
              "    <tr>\n",
              "      <td id=\"T_dded7_row2_col0\" class=\"data row2 col0\" >3</td>\n",
              "      <td id=\"T_dded7_row2_col1\" class=\"data row2 col1\" >India</td>\n",
              "      <td id=\"T_dded7_row2_col2\" class=\"data row2 col2\" >4443000</td>\n",
              "      <td id=\"T_dded7_row2_col3\" class=\"data row2 col3\" >4.60%</td>\n",
              "      <td id=\"T_dded7_row2_col4\" class=\"data row2 col4\" >51.400000</td>\n",
              "      <td id=\"T_dded7_row2_col5\" class=\"data row2 col5\" >5.050000</td>\n",
              "      <td id=\"T_dded7_row2_col6\" class=\"data row2 col6\" >1.330000</td>\n",
              "      <td id=\"T_dded7_row2_col7\" class=\"data row2 col7\" >281.930000</td>\n",
              "    </tr>\n",
              "    <tr>\n",
              "      <td id=\"T_dded7_row3_col0\" class=\"data row3 col0\" >4</td>\n",
              "      <td id=\"T_dded7_row3_col1\" class=\"data row3 col1\" >Japan</td>\n",
              "      <td id=\"T_dded7_row3_col2\" class=\"data row3 col2\" >4012877</td>\n",
              "      <td id=\"T_dded7_row3_col3\" class=\"data row3 col3\" >4.10%</td>\n",
              "      <td id=\"T_dded7_row3_col4\" class=\"data row3 col4\" >481.500000</td>\n",
              "      <td id=\"T_dded7_row3_col5\" class=\"data row3 col5\" >4.690000</td>\n",
              "      <td id=\"T_dded7_row3_col6\" class=\"data row3 col6\" >1.240000</td>\n",
              "      <td id=\"T_dded7_row3_col7\" class=\"data row3 col7\" >262.050000</td>\n",
              "    </tr>\n",
              "    <tr>\n",
              "      <td id=\"T_dded7_row4_col0\" class=\"data row4 col0\" >5</td>\n",
              "      <td id=\"T_dded7_row4_col1\" class=\"data row4 col1\" >Russia</td>\n",
              "      <td id=\"T_dded7_row4_col2\" class=\"data row4 col2\" >3631287</td>\n",
              "      <td id=\"T_dded7_row4_col3\" class=\"data row4 col3\" >3.70%</td>\n",
              "      <td id=\"T_dded7_row4_col4\" class=\"data row4 col4\" >383.200000</td>\n",
              "      <td id=\"T_dded7_row4_col5\" class=\"data row4 col5\" >3.410000</td>\n",
              "      <td id=\"T_dded7_row4_col6\" class=\"data row4 col6\" >0.900000</td>\n",
              "      <td id=\"T_dded7_row4_col7\" class=\"data row4 col7\" >190.560000</td>\n",
              "    </tr>\n",
              "  </tbody>\n",
              "</table>\n"
            ]
          },
          "metadata": {},
          "execution_count": 11
        }
      ],
      "source": [
        "#Print first 5 rows of the dataset\n",
        "df.head().style.background_gradient(cmap='Reds').set_properties(**{'font-family': 'Segoe UI'}).hide_index()\n"
      ]
    },
    {
      "cell_type": "code",
      "execution_count": null,
      "id": "6c7ce121",
      "metadata": {
        "execution": {
          "iopub.execute_input": "2022-07-19T06:47:20.897159Z",
          "iopub.status.busy": "2022-07-19T06:47:20.896469Z",
          "iopub.status.idle": "2022-07-19T06:47:20.902666Z",
          "shell.execute_reply": "2022-07-19T06:47:20.901455Z"
        },
        "papermill": {
          "duration": 0.031265,
          "end_time": "2022-07-19T06:47:20.904917",
          "exception": false,
          "start_time": "2022-07-19T06:47:20.873652",
          "status": "completed"
        },
        "tags": [],
        "colab": {
          "base_uri": "https://localhost:8080/"
        },
        "id": "6c7ce121",
        "outputId": "a12a4d26-e8c7-4f11-c5f2-cdc95641126d"
      },
      "outputs": [
        {
          "output_type": "execute_result",
          "data": {
            "text/plain": [
              "Index(['#', 'Country', 'Daily Oil Consumption (Barrels)', 'World Share',\n",
              "       'Yearly Gallons Per Capita', 'Price Per Gallon (USD)',\n",
              "       'Price Per Liter (USD)', 'Price Per Liter (PKR)'],\n",
              "      dtype='object')"
            ]
          },
          "metadata": {},
          "execution_count": 12
        }
      ],
      "source": [
        "#Print list of columns\n",
        "df.columns"
      ]
    },
    {
      "cell_type": "markdown",
      "id": "7f81edaf",
      "metadata": {
        "papermill": {
          "duration": 0.02146,
          "end_time": "2022-07-19T06:47:20.949155",
          "exception": false,
          "start_time": "2022-07-19T06:47:20.927695",
          "status": "completed"
        },
        "tags": [],
        "id": "7f81edaf"
      },
      "source": [
        "We can drop first column, it only contains serial numbers. It will not have significant effect on modeling or visualization."
      ]
    },
    {
      "cell_type": "code",
      "execution_count": null,
      "id": "9c18a8f4",
      "metadata": {
        "execution": {
          "iopub.execute_input": "2022-07-19T06:47:20.994576Z",
          "iopub.status.busy": "2022-07-19T06:47:20.993841Z",
          "iopub.status.idle": "2022-07-19T06:47:20.999104Z",
          "shell.execute_reply": "2022-07-19T06:47:20.998298Z"
        },
        "papermill": {
          "duration": 0.030731,
          "end_time": "2022-07-19T06:47:21.001519",
          "exception": false,
          "start_time": "2022-07-19T06:47:20.970788",
          "status": "completed"
        },
        "tags": [],
        "id": "9c18a8f4"
      },
      "outputs": [],
      "source": [
        "#drop column # \n",
        "df.drop('#',inplace =True , axis=1)"
      ]
    },
    {
      "cell_type": "code",
      "execution_count": null,
      "id": "98b5bd4a",
      "metadata": {
        "execution": {
          "iopub.execute_input": "2022-07-19T06:47:21.056304Z",
          "iopub.status.busy": "2022-07-19T06:47:21.055598Z",
          "iopub.status.idle": "2022-07-19T06:47:21.082612Z",
          "shell.execute_reply": "2022-07-19T06:47:21.081696Z"
        },
        "papermill": {
          "duration": 0.057274,
          "end_time": "2022-07-19T06:47:21.084855",
          "exception": false,
          "start_time": "2022-07-19T06:47:21.027581",
          "status": "completed"
        },
        "tags": [],
        "colab": {
          "base_uri": "https://localhost:8080/",
          "height": 206
        },
        "id": "98b5bd4a",
        "outputId": "dfa04a52-7e19-4e03-f20b-e28f3cb3bdb6"
      },
      "outputs": [
        {
          "output_type": "execute_result",
          "data": {
            "text/plain": [
              "<pandas.io.formats.style.Styler at 0x7f0e7cdae390>"
            ],
            "text/html": [
              "<style type=\"text/css\">\n",
              "#T_687c5_row0_col0, #T_687c5_row0_col2, #T_687c5_row1_col0, #T_687c5_row1_col2, #T_687c5_row2_col0, #T_687c5_row2_col2, #T_687c5_row3_col0, #T_687c5_row3_col2, #T_687c5_row4_col0, #T_687c5_row4_col2 {\n",
              "  font-family: Segoe UI;\n",
              "}\n",
              "#T_687c5_row0_col1, #T_687c5_row0_col3, #T_687c5_row1_col4, #T_687c5_row1_col5, #T_687c5_row1_col6 {\n",
              "  background-color: #67000d;\n",
              "  color: #f1f1f1;\n",
              "  font-family: Segoe UI;\n",
              "}\n",
              "#T_687c5_row0_col4, #T_687c5_row0_col6 {\n",
              "  background-color: #9f0e14;\n",
              "  color: #f1f1f1;\n",
              "  font-family: Segoe UI;\n",
              "}\n",
              "#T_687c5_row0_col5 {\n",
              "  background-color: #9d0d14;\n",
              "  color: #f1f1f1;\n",
              "  font-family: Segoe UI;\n",
              "}\n",
              "#T_687c5_row1_col1 {\n",
              "  background-color: #f44f39;\n",
              "  color: #f1f1f1;\n",
              "  font-family: Segoe UI;\n",
              "}\n",
              "#T_687c5_row1_col3 {\n",
              "  background-color: #fee5d8;\n",
              "  color: #000000;\n",
              "  font-family: Segoe UI;\n",
              "}\n",
              "#T_687c5_row2_col1 {\n",
              "  background-color: #ffede5;\n",
              "  color: #000000;\n",
              "  font-family: Segoe UI;\n",
              "}\n",
              "#T_687c5_row2_col3, #T_687c5_row4_col1, #T_687c5_row4_col4, #T_687c5_row4_col5, #T_687c5_row4_col6 {\n",
              "  background-color: #fff5f0;\n",
              "  color: #000000;\n",
              "  font-family: Segoe UI;\n",
              "}\n",
              "#T_687c5_row2_col4, #T_687c5_row2_col6 {\n",
              "  background-color: #b71319;\n",
              "  color: #f1f1f1;\n",
              "  font-family: Segoe UI;\n",
              "}\n",
              "#T_687c5_row2_col5 {\n",
              "  background-color: #b81419;\n",
              "  color: #f1f1f1;\n",
              "  font-family: Segoe UI;\n",
              "}\n",
              "#T_687c5_row3_col1 {\n",
              "  background-color: #fff1ea;\n",
              "  color: #000000;\n",
              "  font-family: Segoe UI;\n",
              "}\n",
              "#T_687c5_row3_col3 {\n",
              "  background-color: #fb6e4e;\n",
              "  color: #f1f1f1;\n",
              "  font-family: Segoe UI;\n",
              "}\n",
              "#T_687c5_row3_col4 {\n",
              "  background-color: #eb372a;\n",
              "  color: #f1f1f1;\n",
              "  font-family: Segoe UI;\n",
              "}\n",
              "#T_687c5_row3_col5 {\n",
              "  background-color: #ea362a;\n",
              "  color: #f1f1f1;\n",
              "  font-family: Segoe UI;\n",
              "}\n",
              "#T_687c5_row3_col6 {\n",
              "  background-color: #ec382b;\n",
              "  color: #f1f1f1;\n",
              "  font-family: Segoe UI;\n",
              "}\n",
              "#T_687c5_row4_col3 {\n",
              "  background-color: #fc9272;\n",
              "  color: #000000;\n",
              "  font-family: Segoe UI;\n",
              "}\n",
              "</style>\n",
              "<table id=\"T_687c5_\" class=\"dataframe\">\n",
              "  <thead>\n",
              "    <tr>\n",
              "      <th class=\"col_heading level0 col0\" >Country</th>\n",
              "      <th class=\"col_heading level0 col1\" >Daily Oil Consumption (Barrels)</th>\n",
              "      <th class=\"col_heading level0 col2\" >World Share</th>\n",
              "      <th class=\"col_heading level0 col3\" >Yearly Gallons Per Capita</th>\n",
              "      <th class=\"col_heading level0 col4\" >Price Per Gallon (USD)</th>\n",
              "      <th class=\"col_heading level0 col5\" >Price Per Liter (USD)</th>\n",
              "      <th class=\"col_heading level0 col6\" >Price Per Liter (PKR)</th>\n",
              "    </tr>\n",
              "  </thead>\n",
              "  <tbody>\n",
              "    <tr>\n",
              "      <td id=\"T_687c5_row0_col0\" class=\"data row0 col0\" >United States</td>\n",
              "      <td id=\"T_687c5_row0_col1\" class=\"data row0 col1\" >19687287</td>\n",
              "      <td id=\"T_687c5_row0_col2\" class=\"data row0 col2\" >20.30%</td>\n",
              "      <td id=\"T_687c5_row0_col3\" class=\"data row0 col3\" >934.300000</td>\n",
              "      <td id=\"T_687c5_row0_col4\" class=\"data row0 col4\" >5.190000</td>\n",
              "      <td id=\"T_687c5_row0_col5\" class=\"data row0 col5\" >1.370000</td>\n",
              "      <td id=\"T_687c5_row0_col6\" class=\"data row0 col6\" >289.970000</td>\n",
              "    </tr>\n",
              "    <tr>\n",
              "      <td id=\"T_687c5_row1_col0\" class=\"data row1 col0\" >China</td>\n",
              "      <td id=\"T_687c5_row1_col1\" class=\"data row1 col1\" >12791553</td>\n",
              "      <td id=\"T_687c5_row1_col2\" class=\"data row1 col2\" >13.20%</td>\n",
              "      <td id=\"T_687c5_row1_col3\" class=\"data row1 col3\" >138.700000</td>\n",
              "      <td id=\"T_687c5_row1_col4\" class=\"data row1 col4\" >5.420000</td>\n",
              "      <td id=\"T_687c5_row1_col5\" class=\"data row1 col5\" >1.430000</td>\n",
              "      <td id=\"T_687c5_row1_col6\" class=\"data row1 col6\" >302.870000</td>\n",
              "    </tr>\n",
              "    <tr>\n",
              "      <td id=\"T_687c5_row2_col0\" class=\"data row2 col0\" >India</td>\n",
              "      <td id=\"T_687c5_row2_col1\" class=\"data row2 col1\" >4443000</td>\n",
              "      <td id=\"T_687c5_row2_col2\" class=\"data row2 col2\" >4.60%</td>\n",
              "      <td id=\"T_687c5_row2_col3\" class=\"data row2 col3\" >51.400000</td>\n",
              "      <td id=\"T_687c5_row2_col4\" class=\"data row2 col4\" >5.050000</td>\n",
              "      <td id=\"T_687c5_row2_col5\" class=\"data row2 col5\" >1.330000</td>\n",
              "      <td id=\"T_687c5_row2_col6\" class=\"data row2 col6\" >281.930000</td>\n",
              "    </tr>\n",
              "    <tr>\n",
              "      <td id=\"T_687c5_row3_col0\" class=\"data row3 col0\" >Japan</td>\n",
              "      <td id=\"T_687c5_row3_col1\" class=\"data row3 col1\" >4012877</td>\n",
              "      <td id=\"T_687c5_row3_col2\" class=\"data row3 col2\" >4.10%</td>\n",
              "      <td id=\"T_687c5_row3_col3\" class=\"data row3 col3\" >481.500000</td>\n",
              "      <td id=\"T_687c5_row3_col4\" class=\"data row3 col4\" >4.690000</td>\n",
              "      <td id=\"T_687c5_row3_col5\" class=\"data row3 col5\" >1.240000</td>\n",
              "      <td id=\"T_687c5_row3_col6\" class=\"data row3 col6\" >262.050000</td>\n",
              "    </tr>\n",
              "    <tr>\n",
              "      <td id=\"T_687c5_row4_col0\" class=\"data row4 col0\" >Russia</td>\n",
              "      <td id=\"T_687c5_row4_col1\" class=\"data row4 col1\" >3631287</td>\n",
              "      <td id=\"T_687c5_row4_col2\" class=\"data row4 col2\" >3.70%</td>\n",
              "      <td id=\"T_687c5_row4_col3\" class=\"data row4 col3\" >383.200000</td>\n",
              "      <td id=\"T_687c5_row4_col4\" class=\"data row4 col4\" >3.410000</td>\n",
              "      <td id=\"T_687c5_row4_col5\" class=\"data row4 col5\" >0.900000</td>\n",
              "      <td id=\"T_687c5_row4_col6\" class=\"data row4 col6\" >190.560000</td>\n",
              "    </tr>\n",
              "  </tbody>\n",
              "</table>\n"
            ]
          },
          "metadata": {},
          "execution_count": 14
        }
      ],
      "source": [
        "#Print the updated dataset after droping the column #\n",
        "df.head().style.background_gradient(cmap='Reds').set_properties(**{'font-family': 'Segoe UI'}).hide_index()\n",
        "\n"
      ]
    },
    {
      "cell_type": "markdown",
      "id": "02515faf",
      "metadata": {
        "papermill": {
          "duration": 0.021561,
          "end_time": "2022-07-19T06:47:21.128163",
          "exception": false,
          "start_time": "2022-07-19T06:47:21.106602",
          "status": "completed"
        },
        "tags": [],
        "id": "02515faf"
      },
      "source": [
        "Rename column **World Share** to **World Share %**"
      ]
    },
    {
      "cell_type": "code",
      "execution_count": null,
      "id": "6e231673",
      "metadata": {
        "execution": {
          "iopub.execute_input": "2022-07-19T06:47:21.175390Z",
          "iopub.status.busy": "2022-07-19T06:47:21.174699Z",
          "iopub.status.idle": "2022-07-19T06:47:21.179888Z",
          "shell.execute_reply": "2022-07-19T06:47:21.178941Z"
        },
        "papermill": {
          "duration": 0.032005,
          "end_time": "2022-07-19T06:47:21.182232",
          "exception": false,
          "start_time": "2022-07-19T06:47:21.150227",
          "status": "completed"
        },
        "tags": [],
        "id": "6e231673"
      },
      "outputs": [],
      "source": [
        "#rename the title World Share to World Share %. datatype of this column is str , so we need to change it to float, and remove the % symbol. The % symbol in title will give the information the this column contains percentages.\n",
        "df.rename(columns={'World Share': 'World Share %'},inplace=True)"
      ]
    },
    {
      "cell_type": "code",
      "execution_count": null,
      "id": "f6e23f8c",
      "metadata": {
        "execution": {
          "iopub.execute_input": "2022-07-19T06:47:21.229806Z",
          "iopub.status.busy": "2022-07-19T06:47:21.229117Z",
          "iopub.status.idle": "2022-07-19T06:47:21.255565Z",
          "shell.execute_reply": "2022-07-19T06:47:21.254775Z"
        },
        "papermill": {
          "duration": 0.052884,
          "end_time": "2022-07-19T06:47:21.257819",
          "exception": false,
          "start_time": "2022-07-19T06:47:21.204935",
          "status": "completed"
        },
        "tags": [],
        "colab": {
          "base_uri": "https://localhost:8080/",
          "height": 206
        },
        "id": "f6e23f8c",
        "outputId": "17eb059e-6761-4b52-f328-7ee54b4340a1"
      },
      "outputs": [
        {
          "output_type": "execute_result",
          "data": {
            "text/plain": [
              "<pandas.io.formats.style.Styler at 0x7f0e7ccabb10>"
            ],
            "text/html": [
              "<style type=\"text/css\">\n",
              "#T_138ea_row0_col0, #T_138ea_row0_col2, #T_138ea_row1_col0, #T_138ea_row1_col2, #T_138ea_row2_col0, #T_138ea_row2_col2, #T_138ea_row3_col0, #T_138ea_row3_col2, #T_138ea_row4_col0, #T_138ea_row4_col2 {\n",
              "  font-family: Segoe UI;\n",
              "}\n",
              "#T_138ea_row0_col1, #T_138ea_row0_col3, #T_138ea_row1_col4, #T_138ea_row1_col5, #T_138ea_row1_col6 {\n",
              "  background-color: #67000d;\n",
              "  color: #f1f1f1;\n",
              "  font-family: Segoe UI;\n",
              "}\n",
              "#T_138ea_row0_col4, #T_138ea_row0_col6 {\n",
              "  background-color: #9f0e14;\n",
              "  color: #f1f1f1;\n",
              "  font-family: Segoe UI;\n",
              "}\n",
              "#T_138ea_row0_col5 {\n",
              "  background-color: #9d0d14;\n",
              "  color: #f1f1f1;\n",
              "  font-family: Segoe UI;\n",
              "}\n",
              "#T_138ea_row1_col1 {\n",
              "  background-color: #f44f39;\n",
              "  color: #f1f1f1;\n",
              "  font-family: Segoe UI;\n",
              "}\n",
              "#T_138ea_row1_col3 {\n",
              "  background-color: #fee5d8;\n",
              "  color: #000000;\n",
              "  font-family: Segoe UI;\n",
              "}\n",
              "#T_138ea_row2_col1 {\n",
              "  background-color: #ffede5;\n",
              "  color: #000000;\n",
              "  font-family: Segoe UI;\n",
              "}\n",
              "#T_138ea_row2_col3, #T_138ea_row4_col1, #T_138ea_row4_col4, #T_138ea_row4_col5, #T_138ea_row4_col6 {\n",
              "  background-color: #fff5f0;\n",
              "  color: #000000;\n",
              "  font-family: Segoe UI;\n",
              "}\n",
              "#T_138ea_row2_col4, #T_138ea_row2_col6 {\n",
              "  background-color: #b71319;\n",
              "  color: #f1f1f1;\n",
              "  font-family: Segoe UI;\n",
              "}\n",
              "#T_138ea_row2_col5 {\n",
              "  background-color: #b81419;\n",
              "  color: #f1f1f1;\n",
              "  font-family: Segoe UI;\n",
              "}\n",
              "#T_138ea_row3_col1 {\n",
              "  background-color: #fff1ea;\n",
              "  color: #000000;\n",
              "  font-family: Segoe UI;\n",
              "}\n",
              "#T_138ea_row3_col3 {\n",
              "  background-color: #fb6e4e;\n",
              "  color: #f1f1f1;\n",
              "  font-family: Segoe UI;\n",
              "}\n",
              "#T_138ea_row3_col4 {\n",
              "  background-color: #eb372a;\n",
              "  color: #f1f1f1;\n",
              "  font-family: Segoe UI;\n",
              "}\n",
              "#T_138ea_row3_col5 {\n",
              "  background-color: #ea362a;\n",
              "  color: #f1f1f1;\n",
              "  font-family: Segoe UI;\n",
              "}\n",
              "#T_138ea_row3_col6 {\n",
              "  background-color: #ec382b;\n",
              "  color: #f1f1f1;\n",
              "  font-family: Segoe UI;\n",
              "}\n",
              "#T_138ea_row4_col3 {\n",
              "  background-color: #fc9272;\n",
              "  color: #000000;\n",
              "  font-family: Segoe UI;\n",
              "}\n",
              "</style>\n",
              "<table id=\"T_138ea_\" class=\"dataframe\">\n",
              "  <thead>\n",
              "    <tr>\n",
              "      <th class=\"col_heading level0 col0\" >Country</th>\n",
              "      <th class=\"col_heading level0 col1\" >Daily Oil Consumption (Barrels)</th>\n",
              "      <th class=\"col_heading level0 col2\" >World Share %</th>\n",
              "      <th class=\"col_heading level0 col3\" >Yearly Gallons Per Capita</th>\n",
              "      <th class=\"col_heading level0 col4\" >Price Per Gallon (USD)</th>\n",
              "      <th class=\"col_heading level0 col5\" >Price Per Liter (USD)</th>\n",
              "      <th class=\"col_heading level0 col6\" >Price Per Liter (PKR)</th>\n",
              "    </tr>\n",
              "  </thead>\n",
              "  <tbody>\n",
              "    <tr>\n",
              "      <td id=\"T_138ea_row0_col0\" class=\"data row0 col0\" >United States</td>\n",
              "      <td id=\"T_138ea_row0_col1\" class=\"data row0 col1\" >19687287</td>\n",
              "      <td id=\"T_138ea_row0_col2\" class=\"data row0 col2\" >20.30%</td>\n",
              "      <td id=\"T_138ea_row0_col3\" class=\"data row0 col3\" >934.300000</td>\n",
              "      <td id=\"T_138ea_row0_col4\" class=\"data row0 col4\" >5.190000</td>\n",
              "      <td id=\"T_138ea_row0_col5\" class=\"data row0 col5\" >1.370000</td>\n",
              "      <td id=\"T_138ea_row0_col6\" class=\"data row0 col6\" >289.970000</td>\n",
              "    </tr>\n",
              "    <tr>\n",
              "      <td id=\"T_138ea_row1_col0\" class=\"data row1 col0\" >China</td>\n",
              "      <td id=\"T_138ea_row1_col1\" class=\"data row1 col1\" >12791553</td>\n",
              "      <td id=\"T_138ea_row1_col2\" class=\"data row1 col2\" >13.20%</td>\n",
              "      <td id=\"T_138ea_row1_col3\" class=\"data row1 col3\" >138.700000</td>\n",
              "      <td id=\"T_138ea_row1_col4\" class=\"data row1 col4\" >5.420000</td>\n",
              "      <td id=\"T_138ea_row1_col5\" class=\"data row1 col5\" >1.430000</td>\n",
              "      <td id=\"T_138ea_row1_col6\" class=\"data row1 col6\" >302.870000</td>\n",
              "    </tr>\n",
              "    <tr>\n",
              "      <td id=\"T_138ea_row2_col0\" class=\"data row2 col0\" >India</td>\n",
              "      <td id=\"T_138ea_row2_col1\" class=\"data row2 col1\" >4443000</td>\n",
              "      <td id=\"T_138ea_row2_col2\" class=\"data row2 col2\" >4.60%</td>\n",
              "      <td id=\"T_138ea_row2_col3\" class=\"data row2 col3\" >51.400000</td>\n",
              "      <td id=\"T_138ea_row2_col4\" class=\"data row2 col4\" >5.050000</td>\n",
              "      <td id=\"T_138ea_row2_col5\" class=\"data row2 col5\" >1.330000</td>\n",
              "      <td id=\"T_138ea_row2_col6\" class=\"data row2 col6\" >281.930000</td>\n",
              "    </tr>\n",
              "    <tr>\n",
              "      <td id=\"T_138ea_row3_col0\" class=\"data row3 col0\" >Japan</td>\n",
              "      <td id=\"T_138ea_row3_col1\" class=\"data row3 col1\" >4012877</td>\n",
              "      <td id=\"T_138ea_row3_col2\" class=\"data row3 col2\" >4.10%</td>\n",
              "      <td id=\"T_138ea_row3_col3\" class=\"data row3 col3\" >481.500000</td>\n",
              "      <td id=\"T_138ea_row3_col4\" class=\"data row3 col4\" >4.690000</td>\n",
              "      <td id=\"T_138ea_row3_col5\" class=\"data row3 col5\" >1.240000</td>\n",
              "      <td id=\"T_138ea_row3_col6\" class=\"data row3 col6\" >262.050000</td>\n",
              "    </tr>\n",
              "    <tr>\n",
              "      <td id=\"T_138ea_row4_col0\" class=\"data row4 col0\" >Russia</td>\n",
              "      <td id=\"T_138ea_row4_col1\" class=\"data row4 col1\" >3631287</td>\n",
              "      <td id=\"T_138ea_row4_col2\" class=\"data row4 col2\" >3.70%</td>\n",
              "      <td id=\"T_138ea_row4_col3\" class=\"data row4 col3\" >383.200000</td>\n",
              "      <td id=\"T_138ea_row4_col4\" class=\"data row4 col4\" >3.410000</td>\n",
              "      <td id=\"T_138ea_row4_col5\" class=\"data row4 col5\" >0.900000</td>\n",
              "      <td id=\"T_138ea_row4_col6\" class=\"data row4 col6\" >190.560000</td>\n",
              "    </tr>\n",
              "  </tbody>\n",
              "</table>\n"
            ]
          },
          "metadata": {},
          "execution_count": 16
        }
      ],
      "source": [
        "#Print updated dataset after renaming attribute World Share to World Share %\n",
        "df.head().style.background_gradient(cmap='Reds').set_properties(**{'font-family': 'Segoe UI'}).hide_index()"
      ]
    },
    {
      "cell_type": "markdown",
      "id": "89e76dc9",
      "metadata": {
        "papermill": {
          "duration": 0.021947,
          "end_time": "2022-07-19T06:47:21.302223",
          "exception": false,
          "start_time": "2022-07-19T06:47:21.280276",
          "status": "completed"
        },
        "tags": [],
        "id": "89e76dc9"
      },
      "source": [
        "Convert the data type of **World share** column to **float64**"
      ]
    },
    {
      "cell_type": "markdown",
      "id": "92510b29",
      "metadata": {
        "papermill": {
          "duration": 0.021607,
          "end_time": "2022-07-19T06:47:21.346269",
          "exception": false,
          "start_time": "2022-07-19T06:47:21.324662",
          "status": "completed"
        },
        "tags": [],
        "id": "92510b29"
      },
      "source": [
        "Step 1: Remove the symbol of % from each value"
      ]
    },
    {
      "cell_type": "code",
      "execution_count": null,
      "id": "050ad511",
      "metadata": {
        "execution": {
          "iopub.execute_input": "2022-07-19T06:47:21.392103Z",
          "iopub.status.busy": "2022-07-19T06:47:21.391390Z",
          "iopub.status.idle": "2022-07-19T06:47:21.397080Z",
          "shell.execute_reply": "2022-07-19T06:47:21.395926Z"
        },
        "papermill": {
          "duration": 0.03138,
          "end_time": "2022-07-19T06:47:21.399458",
          "exception": false,
          "start_time": "2022-07-19T06:47:21.368078",
          "status": "completed"
        },
        "tags": [],
        "id": "050ad511"
      },
      "outputs": [],
      "source": [
        "# Strip % form each value as we need convert it to float from str data type\n",
        "df['World Share %']=df['World Share %'].str.rstrip('%')"
      ]
    },
    {
      "cell_type": "markdown",
      "id": "c703f3ae",
      "metadata": {
        "papermill": {
          "duration": 0.021591,
          "end_time": "2022-07-19T06:47:21.443045",
          "exception": false,
          "start_time": "2022-07-19T06:47:21.421454",
          "status": "completed"
        },
        "tags": [],
        "id": "c703f3ae"
      },
      "source": [
        "Step 2: Convert data type from str to float"
      ]
    },
    {
      "cell_type": "code",
      "execution_count": null,
      "id": "f9a273e2",
      "metadata": {
        "execution": {
          "iopub.execute_input": "2022-07-19T06:47:21.489364Z",
          "iopub.status.busy": "2022-07-19T06:47:21.488779Z",
          "iopub.status.idle": "2022-07-19T06:47:21.493593Z",
          "shell.execute_reply": "2022-07-19T06:47:21.492681Z"
        },
        "papermill": {
          "duration": 0.030745,
          "end_time": "2022-07-19T06:47:21.495806",
          "exception": false,
          "start_time": "2022-07-19T06:47:21.465061",
          "status": "completed"
        },
        "tags": [],
        "id": "f9a273e2"
      },
      "outputs": [],
      "source": [
        "#Covert data type from str to float\n",
        "df['World Share %']=df['World Share %'].astype(float)"
      ]
    },
    {
      "cell_type": "markdown",
      "id": "8d0ebc52",
      "metadata": {
        "papermill": {
          "duration": 0.022213,
          "end_time": "2022-07-19T06:47:21.540412",
          "exception": false,
          "start_time": "2022-07-19T06:47:21.518199",
          "status": "completed"
        },
        "tags": [],
        "id": "8d0ebc52"
      },
      "source": [
        "Check the total of all percentages"
      ]
    },
    {
      "cell_type": "code",
      "execution_count": null,
      "id": "1696c18f",
      "metadata": {
        "execution": {
          "iopub.execute_input": "2022-07-19T06:47:21.585843Z",
          "iopub.status.busy": "2022-07-19T06:47:21.585445Z",
          "iopub.status.idle": "2022-07-19T06:47:21.591695Z",
          "shell.execute_reply": "2022-07-19T06:47:21.590853Z"
        },
        "papermill": {
          "duration": 0.031582,
          "end_time": "2022-07-19T06:47:21.593862",
          "exception": false,
          "start_time": "2022-07-19T06:47:21.562280",
          "status": "completed"
        },
        "tags": [],
        "colab": {
          "base_uri": "https://localhost:8080/"
        },
        "id": "1696c18f",
        "outputId": "ca4332f7-e0d2-4df3-c832-234dcd484114"
      },
      "outputs": [
        {
          "output_type": "execute_result",
          "data": {
            "text/plain": [
              "99.60999999999999"
            ]
          },
          "metadata": {},
          "execution_count": 19
        }
      ],
      "source": [
        "#Summation of all values in coulmn World Share %\n",
        "df['World Share %'].sum()"
      ]
    },
    {
      "cell_type": "markdown",
      "id": "00c72651",
      "metadata": {
        "papermill": {
          "duration": 0.021764,
          "end_time": "2022-07-19T06:47:21.637535",
          "exception": false,
          "start_time": "2022-07-19T06:47:21.615771",
          "status": "completed"
        },
        "tags": [],
        "id": "00c72651"
      },
      "source": [
        "The summation of all values is not eqauls to zero, because rounding of has changed very small values to zero."
      ]
    },
    {
      "cell_type": "markdown",
      "id": "6285e990",
      "metadata": {
        "papermill": {
          "duration": 0.022027,
          "end_time": "2022-07-19T06:47:21.681387",
          "exception": false,
          "start_time": "2022-07-19T06:47:21.659360",
          "status": "completed"
        },
        "tags": [],
        "id": "6285e990"
      },
      "source": [
        "The **World share %** is not exactly accurate therefore we recalculate the World share percentage\n"
      ]
    },
    {
      "cell_type": "code",
      "execution_count": null,
      "id": "d5550f24",
      "metadata": {
        "execution": {
          "iopub.execute_input": "2022-07-19T06:47:21.728179Z",
          "iopub.status.busy": "2022-07-19T06:47:21.727390Z",
          "iopub.status.idle": "2022-07-19T06:47:21.734210Z",
          "shell.execute_reply": "2022-07-19T06:47:21.733227Z"
        },
        "papermill": {
          "duration": 0.033391,
          "end_time": "2022-07-19T06:47:21.736794",
          "exception": false,
          "start_time": "2022-07-19T06:47:21.703403",
          "status": "completed"
        },
        "tags": [],
        "id": "d5550f24"
      },
      "outputs": [],
      "source": [
        "#The World share % is not accurate therefore we recalculate the World share.\n",
        "#Each value from 'Daily Oil Consumption (Barrels)' divided by summation of Daily Oil Consumption (Barrels) multiply by 100.\n",
        "Total_Consumption=df['Daily Oil Consumption (Barrels)'].sum()\n",
        "df['World Share %']=(df['Daily Oil Consumption (Barrels)']/Total_Consumption)*100"
      ]
    },
    {
      "cell_type": "code",
      "execution_count": null,
      "id": "fec3f1d1",
      "metadata": {
        "execution": {
          "iopub.execute_input": "2022-07-19T06:47:21.784362Z",
          "iopub.status.busy": "2022-07-19T06:47:21.783578Z",
          "iopub.status.idle": "2022-07-19T06:47:21.813367Z",
          "shell.execute_reply": "2022-07-19T06:47:21.812256Z"
        },
        "papermill": {
          "duration": 0.055655,
          "end_time": "2022-07-19T06:47:21.815804",
          "exception": false,
          "start_time": "2022-07-19T06:47:21.760149",
          "status": "completed"
        },
        "tags": [],
        "colab": {
          "base_uri": "https://localhost:8080/",
          "height": 206
        },
        "id": "fec3f1d1",
        "outputId": "afc7368b-6738-45f9-e7aa-43f8590ba5a7"
      },
      "outputs": [
        {
          "output_type": "execute_result",
          "data": {
            "text/plain": [
              "<pandas.io.formats.style.Styler at 0x7f0e7ccb4e50>"
            ],
            "text/html": [
              "<style type=\"text/css\">\n",
              "#T_6f6f3_row0_col0, #T_6f6f3_row1_col0, #T_6f6f3_row2_col0, #T_6f6f3_row3_col0, #T_6f6f3_row4_col0 {\n",
              "  font-family: Segoe UI;\n",
              "}\n",
              "#T_6f6f3_row0_col1, #T_6f6f3_row0_col2, #T_6f6f3_row0_col3, #T_6f6f3_row1_col4, #T_6f6f3_row1_col5, #T_6f6f3_row1_col6 {\n",
              "  background-color: #67000d;\n",
              "  color: #f1f1f1;\n",
              "  font-family: Segoe UI;\n",
              "}\n",
              "#T_6f6f3_row0_col4, #T_6f6f3_row0_col6 {\n",
              "  background-color: #9f0e14;\n",
              "  color: #f1f1f1;\n",
              "  font-family: Segoe UI;\n",
              "}\n",
              "#T_6f6f3_row0_col5 {\n",
              "  background-color: #9d0d14;\n",
              "  color: #f1f1f1;\n",
              "  font-family: Segoe UI;\n",
              "}\n",
              "#T_6f6f3_row1_col1, #T_6f6f3_row1_col2 {\n",
              "  background-color: #f44f39;\n",
              "  color: #f1f1f1;\n",
              "  font-family: Segoe UI;\n",
              "}\n",
              "#T_6f6f3_row1_col3 {\n",
              "  background-color: #fee5d8;\n",
              "  color: #000000;\n",
              "  font-family: Segoe UI;\n",
              "}\n",
              "#T_6f6f3_row2_col1, #T_6f6f3_row2_col2 {\n",
              "  background-color: #ffede5;\n",
              "  color: #000000;\n",
              "  font-family: Segoe UI;\n",
              "}\n",
              "#T_6f6f3_row2_col3, #T_6f6f3_row4_col1, #T_6f6f3_row4_col2, #T_6f6f3_row4_col4, #T_6f6f3_row4_col5, #T_6f6f3_row4_col6 {\n",
              "  background-color: #fff5f0;\n",
              "  color: #000000;\n",
              "  font-family: Segoe UI;\n",
              "}\n",
              "#T_6f6f3_row2_col4, #T_6f6f3_row2_col6 {\n",
              "  background-color: #b71319;\n",
              "  color: #f1f1f1;\n",
              "  font-family: Segoe UI;\n",
              "}\n",
              "#T_6f6f3_row2_col5 {\n",
              "  background-color: #b81419;\n",
              "  color: #f1f1f1;\n",
              "  font-family: Segoe UI;\n",
              "}\n",
              "#T_6f6f3_row3_col1, #T_6f6f3_row3_col2 {\n",
              "  background-color: #fff1ea;\n",
              "  color: #000000;\n",
              "  font-family: Segoe UI;\n",
              "}\n",
              "#T_6f6f3_row3_col3 {\n",
              "  background-color: #fb6e4e;\n",
              "  color: #f1f1f1;\n",
              "  font-family: Segoe UI;\n",
              "}\n",
              "#T_6f6f3_row3_col4 {\n",
              "  background-color: #eb372a;\n",
              "  color: #f1f1f1;\n",
              "  font-family: Segoe UI;\n",
              "}\n",
              "#T_6f6f3_row3_col5 {\n",
              "  background-color: #ea362a;\n",
              "  color: #f1f1f1;\n",
              "  font-family: Segoe UI;\n",
              "}\n",
              "#T_6f6f3_row3_col6 {\n",
              "  background-color: #ec382b;\n",
              "  color: #f1f1f1;\n",
              "  font-family: Segoe UI;\n",
              "}\n",
              "#T_6f6f3_row4_col3 {\n",
              "  background-color: #fc9272;\n",
              "  color: #000000;\n",
              "  font-family: Segoe UI;\n",
              "}\n",
              "</style>\n",
              "<table id=\"T_6f6f3_\" class=\"dataframe\">\n",
              "  <thead>\n",
              "    <tr>\n",
              "      <th class=\"col_heading level0 col0\" >Country</th>\n",
              "      <th class=\"col_heading level0 col1\" >Daily Oil Consumption (Barrels)</th>\n",
              "      <th class=\"col_heading level0 col2\" >World Share %</th>\n",
              "      <th class=\"col_heading level0 col3\" >Yearly Gallons Per Capita</th>\n",
              "      <th class=\"col_heading level0 col4\" >Price Per Gallon (USD)</th>\n",
              "      <th class=\"col_heading level0 col5\" >Price Per Liter (USD)</th>\n",
              "      <th class=\"col_heading level0 col6\" >Price Per Liter (PKR)</th>\n",
              "    </tr>\n",
              "  </thead>\n",
              "  <tbody>\n",
              "    <tr>\n",
              "      <td id=\"T_6f6f3_row0_col0\" class=\"data row0 col0\" >United States</td>\n",
              "      <td id=\"T_6f6f3_row0_col1\" class=\"data row0 col1\" >19687287</td>\n",
              "      <td id=\"T_6f6f3_row0_col2\" class=\"data row0 col2\" >20.385127</td>\n",
              "      <td id=\"T_6f6f3_row0_col3\" class=\"data row0 col3\" >934.300000</td>\n",
              "      <td id=\"T_6f6f3_row0_col4\" class=\"data row0 col4\" >5.190000</td>\n",
              "      <td id=\"T_6f6f3_row0_col5\" class=\"data row0 col5\" >1.370000</td>\n",
              "      <td id=\"T_6f6f3_row0_col6\" class=\"data row0 col6\" >289.970000</td>\n",
              "    </tr>\n",
              "    <tr>\n",
              "      <td id=\"T_6f6f3_row1_col0\" class=\"data row1 col0\" >China</td>\n",
              "      <td id=\"T_6f6f3_row1_col1\" class=\"data row1 col1\" >12791553</td>\n",
              "      <td id=\"T_6f6f3_row1_col2\" class=\"data row1 col2\" >13.244965</td>\n",
              "      <td id=\"T_6f6f3_row1_col3\" class=\"data row1 col3\" >138.700000</td>\n",
              "      <td id=\"T_6f6f3_row1_col4\" class=\"data row1 col4\" >5.420000</td>\n",
              "      <td id=\"T_6f6f3_row1_col5\" class=\"data row1 col5\" >1.430000</td>\n",
              "      <td id=\"T_6f6f3_row1_col6\" class=\"data row1 col6\" >302.870000</td>\n",
              "    </tr>\n",
              "    <tr>\n",
              "      <td id=\"T_6f6f3_row2_col0\" class=\"data row2 col0\" >India</td>\n",
              "      <td id=\"T_6f6f3_row2_col1\" class=\"data row2 col1\" >4443000</td>\n",
              "      <td id=\"T_6f6f3_row2_col2\" class=\"data row2 col2\" >4.600487</td>\n",
              "      <td id=\"T_6f6f3_row2_col3\" class=\"data row2 col3\" >51.400000</td>\n",
              "      <td id=\"T_6f6f3_row2_col4\" class=\"data row2 col4\" >5.050000</td>\n",
              "      <td id=\"T_6f6f3_row2_col5\" class=\"data row2 col5\" >1.330000</td>\n",
              "      <td id=\"T_6f6f3_row2_col6\" class=\"data row2 col6\" >281.930000</td>\n",
              "    </tr>\n",
              "    <tr>\n",
              "      <td id=\"T_6f6f3_row3_col0\" class=\"data row3 col0\" >Japan</td>\n",
              "      <td id=\"T_6f6f3_row3_col1\" class=\"data row3 col1\" >4012877</td>\n",
              "      <td id=\"T_6f6f3_row3_col2\" class=\"data row3 col2\" >4.155118</td>\n",
              "      <td id=\"T_6f6f3_row3_col3\" class=\"data row3 col3\" >481.500000</td>\n",
              "      <td id=\"T_6f6f3_row3_col4\" class=\"data row3 col4\" >4.690000</td>\n",
              "      <td id=\"T_6f6f3_row3_col5\" class=\"data row3 col5\" >1.240000</td>\n",
              "      <td id=\"T_6f6f3_row3_col6\" class=\"data row3 col6\" >262.050000</td>\n",
              "    </tr>\n",
              "    <tr>\n",
              "      <td id=\"T_6f6f3_row4_col0\" class=\"data row4 col0\" >Russia</td>\n",
              "      <td id=\"T_6f6f3_row4_col1\" class=\"data row4 col1\" >3631287</td>\n",
              "      <td id=\"T_6f6f3_row4_col2\" class=\"data row4 col2\" >3.760002</td>\n",
              "      <td id=\"T_6f6f3_row4_col3\" class=\"data row4 col3\" >383.200000</td>\n",
              "      <td id=\"T_6f6f3_row4_col4\" class=\"data row4 col4\" >3.410000</td>\n",
              "      <td id=\"T_6f6f3_row4_col5\" class=\"data row4 col5\" >0.900000</td>\n",
              "      <td id=\"T_6f6f3_row4_col6\" class=\"data row4 col6\" >190.560000</td>\n",
              "    </tr>\n",
              "  </tbody>\n",
              "</table>\n"
            ]
          },
          "metadata": {},
          "execution_count": 21
        }
      ],
      "source": [
        "# Print updated dataset with correct accuarate percentages in World Share 5 column\n",
        "df.head().style.background_gradient(cmap='Reds').set_properties(**{'font-family': 'Segoe UI'}).hide_index()"
      ]
    },
    {
      "cell_type": "markdown",
      "id": "af85be08",
      "metadata": {
        "papermill": {
          "duration": 0.021914,
          "end_time": "2022-07-19T06:47:21.859875",
          "exception": false,
          "start_time": "2022-07-19T06:47:21.837961",
          "status": "completed"
        },
        "tags": [],
        "id": "af85be08"
      },
      "source": [
        "Check for any null cells"
      ]
    },
    {
      "cell_type": "code",
      "execution_count": null,
      "id": "e77343f1",
      "metadata": {
        "execution": {
          "iopub.execute_input": "2022-07-19T06:47:21.907830Z",
          "iopub.status.busy": "2022-07-19T06:47:21.907056Z",
          "iopub.status.idle": "2022-07-19T06:47:21.916893Z",
          "shell.execute_reply": "2022-07-19T06:47:21.915844Z"
        },
        "papermill": {
          "duration": 0.035717,
          "end_time": "2022-07-19T06:47:21.919158",
          "exception": false,
          "start_time": "2022-07-19T06:47:21.883441",
          "status": "completed"
        },
        "tags": [],
        "colab": {
          "base_uri": "https://localhost:8080/"
        },
        "id": "e77343f1",
        "outputId": "4f1dcf34-4b42-4fd9-87fd-3faa76ddf0d8"
      },
      "outputs": [
        {
          "output_type": "execute_result",
          "data": {
            "text/plain": [
              "Country                            0\n",
              "Daily Oil Consumption (Barrels)    0\n",
              "World Share %                      0\n",
              "Yearly Gallons Per Capita          0\n",
              "Price Per Gallon (USD)             0\n",
              "Price Per Liter (USD)              0\n",
              "Price Per Liter (PKR)              0\n",
              "dtype: int64"
            ]
          },
          "metadata": {},
          "execution_count": 22
        }
      ],
      "source": [
        "#print count of all null cells from each column\n",
        "df.isnull().sum()"
      ]
    },
    {
      "cell_type": "raw",
      "id": "d9f7fbbf",
      "metadata": {
        "papermill": {
          "duration": 0.023237,
          "end_time": "2022-07-19T06:47:21.966105",
          "exception": false,
          "start_time": "2022-07-19T06:47:21.942868",
          "status": "completed"
        },
        "tags": [],
        "id": "d9f7fbbf"
      },
      "source": [
        "There are no null cells , therefore it is not required to fill any data or drop any rows or columns."
      ]
    },
    {
      "cell_type": "markdown",
      "id": "53fffd07",
      "metadata": {
        "papermill": {
          "duration": 0.022083,
          "end_time": "2022-07-19T06:47:22.010773",
          "exception": false,
          "start_time": "2022-07-19T06:47:21.988690",
          "status": "completed"
        },
        "tags": [],
        "id": "53fffd07"
      },
      "source": [
        "# 4.Data Exploration"
      ]
    },
    {
      "cell_type": "markdown",
      "id": "dd2fa04f",
      "metadata": {
        "execution": {
          "iopub.execute_input": "2022-06-23T09:48:02.353872Z",
          "iopub.status.busy": "2022-06-23T09:48:02.352832Z",
          "iopub.status.idle": "2022-06-23T09:48:02.358922Z",
          "shell.execute_reply": "2022-06-23T09:48:02.357955Z",
          "shell.execute_reply.started": "2022-06-23T09:48:02.35383Z"
        },
        "papermill": {
          "duration": 0.022147,
          "end_time": "2022-07-19T06:47:22.055398",
          "exception": false,
          "start_time": "2022-07-19T06:47:22.033251",
          "status": "completed"
        },
        "tags": [],
        "id": "dd2fa04f"
      },
      "source": [
        "Statistical details of the dataset"
      ]
    },
    {
      "cell_type": "code",
      "execution_count": null,
      "id": "78b08f04",
      "metadata": {
        "execution": {
          "iopub.execute_input": "2022-07-19T06:47:22.101898Z",
          "iopub.status.busy": "2022-07-19T06:47:22.101507Z",
          "iopub.status.idle": "2022-07-19T06:47:22.152234Z",
          "shell.execute_reply": "2022-07-19T06:47:22.151133Z"
        },
        "papermill": {
          "duration": 0.076839,
          "end_time": "2022-07-19T06:47:22.154622",
          "exception": false,
          "start_time": "2022-07-19T06:47:22.077783",
          "status": "completed"
        },
        "tags": [],
        "colab": {
          "base_uri": "https://localhost:8080/",
          "height": 394
        },
        "id": "78b08f04",
        "outputId": "83f3e703-e93b-41bf-a4da-d874064626c3"
      },
      "outputs": [
        {
          "output_type": "execute_result",
          "data": {
            "text/plain": [
              "<pandas.io.formats.style.Styler at 0x7f0e7ce394d0>"
            ],
            "text/html": [
              "<style type=\"text/css\">\n",
              "#T_136d8_row0_col0, #T_136d8_row1_col0, #T_136d8_row2_col0, #T_136d8_row3_col0, #T_136d8_row4_col0, #T_136d8_row5_col0, #T_136d8_row6_col0, #T_136d8_row7_col0, #T_136d8_row8_col0, #T_136d8_row9_col0, #T_136d8_row10_col0 {\n",
              "  font-family: Segoe UI;\n",
              "}\n",
              "#T_136d8_row0_col1, #T_136d8_row4_col2, #T_136d8_row6_col1, #T_136d8_row6_col2, #T_136d8_row6_col3, #T_136d8_row6_col4, #T_136d8_row6_col5, #T_136d8_row6_col6, #T_136d8_row7_col1, #T_136d8_row7_col2, #T_136d8_row8_col1, #T_136d8_row8_col2, #T_136d8_row9_col2 {\n",
              "  background-color: #3b4cc0;\n",
              "  color: #f1f1f1;\n",
              "  font-family: Segoe UI;\n",
              "}\n",
              "#T_136d8_row0_col2, #T_136d8_row0_col4, #T_136d8_row0_col5, #T_136d8_row10_col1, #T_136d8_row10_col3, #T_136d8_row10_col6 {\n",
              "  background-color: #b40426;\n",
              "  color: #f1f1f1;\n",
              "  font-family: Segoe UI;\n",
              "}\n",
              "#T_136d8_row0_col3, #T_136d8_row8_col3 {\n",
              "  background-color: #4961d2;\n",
              "  color: #f1f1f1;\n",
              "  font-family: Segoe UI;\n",
              "}\n",
              "#T_136d8_row0_col6 {\n",
              "  background-color: #4b64d5;\n",
              "  color: #f1f1f1;\n",
              "  font-family: Segoe UI;\n",
              "}\n",
              "#T_136d8_row1_col1, #T_136d8_row1_col2, #T_136d8_row1_col3, #T_136d8_row1_col4, #T_136d8_row1_col5, #T_136d8_row1_col6, #T_136d8_row2_col1, #T_136d8_row2_col2, #T_136d8_row2_col3, #T_136d8_row2_col4, #T_136d8_row2_col5, #T_136d8_row2_col6, #T_136d8_row3_col1, #T_136d8_row3_col2, #T_136d8_row3_col3, #T_136d8_row3_col4, #T_136d8_row3_col5, #T_136d8_row3_col6 {\n",
              "  background-color: #000000;\n",
              "  color: #f1f1f1;\n",
              "  font-family: Segoe UI;\n",
              "}\n",
              "#T_136d8_row4_col1, #T_136d8_row5_col4 {\n",
              "  background-color: #4257c9;\n",
              "  color: #f1f1f1;\n",
              "  font-family: Segoe UI;\n",
              "}\n",
              "#T_136d8_row4_col3 {\n",
              "  background-color: #5572df;\n",
              "  color: #f1f1f1;\n",
              "  font-family: Segoe UI;\n",
              "}\n",
              "#T_136d8_row4_col4, #T_136d8_row8_col4 {\n",
              "  background-color: #4358cb;\n",
              "  color: #f1f1f1;\n",
              "  font-family: Segoe UI;\n",
              "}\n",
              "#T_136d8_row4_col5, #T_136d8_row5_col2, #T_136d8_row9_col5 {\n",
              "  background-color: #3d50c3;\n",
              "  color: #f1f1f1;\n",
              "  font-family: Segoe UI;\n",
              "}\n",
              "#T_136d8_row4_col6 {\n",
              "  background-color: #5a78e4;\n",
              "  color: #f1f1f1;\n",
              "  font-family: Segoe UI;\n",
              "}\n",
              "#T_136d8_row5_col1, #T_136d8_row8_col6 {\n",
              "  background-color: #5875e1;\n",
              "  color: #f1f1f1;\n",
              "  font-family: Segoe UI;\n",
              "}\n",
              "#T_136d8_row5_col3 {\n",
              "  background-color: #5f7fe8;\n",
              "  color: #f1f1f1;\n",
              "  font-family: Segoe UI;\n",
              "}\n",
              "#T_136d8_row5_col5, #T_136d8_row7_col5, #T_136d8_row8_col5 {\n",
              "  background-color: #3c4ec2;\n",
              "  color: #f1f1f1;\n",
              "  font-family: Segoe UI;\n",
              "}\n",
              "#T_136d8_row5_col6, #T_136d8_row10_col5 {\n",
              "  background-color: #536edd;\n",
              "  color: #f1f1f1;\n",
              "  font-family: Segoe UI;\n",
              "}\n",
              "#T_136d8_row7_col3, #T_136d8_row9_col1 {\n",
              "  background-color: #3e51c5;\n",
              "  color: #f1f1f1;\n",
              "  font-family: Segoe UI;\n",
              "}\n",
              "#T_136d8_row7_col4 {\n",
              "  background-color: #4055c8;\n",
              "  color: #f1f1f1;\n",
              "  font-family: Segoe UI;\n",
              "}\n",
              "#T_136d8_row7_col6 {\n",
              "  background-color: #516ddb;\n",
              "  color: #f1f1f1;\n",
              "  font-family: Segoe UI;\n",
              "}\n",
              "#T_136d8_row9_col3 {\n",
              "  background-color: #5e7de7;\n",
              "  color: #f1f1f1;\n",
              "  font-family: Segoe UI;\n",
              "}\n",
              "#T_136d8_row9_col4 {\n",
              "  background-color: #455cce;\n",
              "  color: #f1f1f1;\n",
              "  font-family: Segoe UI;\n",
              "}\n",
              "#T_136d8_row9_col6 {\n",
              "  background-color: #6180e9;\n",
              "  color: #f1f1f1;\n",
              "  font-family: Segoe UI;\n",
              "}\n",
              "#T_136d8_row10_col2 {\n",
              "  background-color: #5d7ce6;\n",
              "  color: #f1f1f1;\n",
              "  font-family: Segoe UI;\n",
              "}\n",
              "#T_136d8_row10_col4 {\n",
              "  background-color: #9fbfff;\n",
              "  color: #000000;\n",
              "  font-family: Segoe UI;\n",
              "}\n",
              "</style>\n",
              "<table id=\"T_136d8_\" class=\"dataframe\">\n",
              "  <thead>\n",
              "    <tr>\n",
              "      <th class=\"col_heading level0 col0\" >Country</th>\n",
              "      <th class=\"col_heading level0 col1\" >Daily Oil Consumption (Barrels)</th>\n",
              "      <th class=\"col_heading level0 col2\" >World Share %</th>\n",
              "      <th class=\"col_heading level0 col3\" >Yearly Gallons Per Capita</th>\n",
              "      <th class=\"col_heading level0 col4\" >Price Per Gallon (USD)</th>\n",
              "      <th class=\"col_heading level0 col5\" >Price Per Liter (USD)</th>\n",
              "      <th class=\"col_heading level0 col6\" >Price Per Liter (PKR)</th>\n",
              "    </tr>\n",
              "  </thead>\n",
              "  <tbody>\n",
              "    <tr>\n",
              "      <td id=\"T_136d8_row0_col0\" class=\"data row0 col0\" >181</td>\n",
              "      <td id=\"T_136d8_row0_col1\" class=\"data row0 col1\" >181.000000</td>\n",
              "      <td id=\"T_136d8_row0_col2\" class=\"data row0 col2\" >181.000000</td>\n",
              "      <td id=\"T_136d8_row0_col3\" class=\"data row0 col3\" >181.000000</td>\n",
              "      <td id=\"T_136d8_row0_col4\" class=\"data row0 col4\" >181.000000</td>\n",
              "      <td id=\"T_136d8_row0_col5\" class=\"data row0 col5\" >181.000000</td>\n",
              "      <td id=\"T_136d8_row0_col6\" class=\"data row0 col6\" >181.000000</td>\n",
              "    </tr>\n",
              "    <tr>\n",
              "      <td id=\"T_136d8_row1_col0\" class=\"data row1 col0\" >181</td>\n",
              "      <td id=\"T_136d8_row1_col1\" class=\"data row1 col1\" >nan</td>\n",
              "      <td id=\"T_136d8_row1_col2\" class=\"data row1 col2\" >nan</td>\n",
              "      <td id=\"T_136d8_row1_col3\" class=\"data row1 col3\" >nan</td>\n",
              "      <td id=\"T_136d8_row1_col4\" class=\"data row1 col4\" >nan</td>\n",
              "      <td id=\"T_136d8_row1_col5\" class=\"data row1 col5\" >nan</td>\n",
              "      <td id=\"T_136d8_row1_col6\" class=\"data row1 col6\" >nan</td>\n",
              "    </tr>\n",
              "    <tr>\n",
              "      <td id=\"T_136d8_row2_col0\" class=\"data row2 col0\" >United States</td>\n",
              "      <td id=\"T_136d8_row2_col1\" class=\"data row2 col1\" >nan</td>\n",
              "      <td id=\"T_136d8_row2_col2\" class=\"data row2 col2\" >nan</td>\n",
              "      <td id=\"T_136d8_row2_col3\" class=\"data row2 col3\" >nan</td>\n",
              "      <td id=\"T_136d8_row2_col4\" class=\"data row2 col4\" >nan</td>\n",
              "      <td id=\"T_136d8_row2_col5\" class=\"data row2 col5\" >nan</td>\n",
              "      <td id=\"T_136d8_row2_col6\" class=\"data row2 col6\" >nan</td>\n",
              "    </tr>\n",
              "    <tr>\n",
              "      <td id=\"T_136d8_row3_col0\" class=\"data row3 col0\" >1</td>\n",
              "      <td id=\"T_136d8_row3_col1\" class=\"data row3 col1\" >nan</td>\n",
              "      <td id=\"T_136d8_row3_col2\" class=\"data row3 col2\" >nan</td>\n",
              "      <td id=\"T_136d8_row3_col3\" class=\"data row3 col3\" >nan</td>\n",
              "      <td id=\"T_136d8_row3_col4\" class=\"data row3 col4\" >nan</td>\n",
              "      <td id=\"T_136d8_row3_col5\" class=\"data row3 col5\" >nan</td>\n",
              "      <td id=\"T_136d8_row3_col6\" class=\"data row3 col6\" >nan</td>\n",
              "    </tr>\n",
              "    <tr>\n",
              "      <td id=\"T_136d8_row4_col0\" class=\"data row4 col0\" >nan</td>\n",
              "      <td id=\"T_136d8_row4_col1\" class=\"data row4 col1\" >533573.049724</td>\n",
              "      <td id=\"T_136d8_row4_col2\" class=\"data row4 col2\" >0.552486</td>\n",
              "      <td id=\"T_136d8_row4_col3\" class=\"data row4 col3\" >332.006630</td>\n",
              "      <td id=\"T_136d8_row4_col4\" class=\"data row4 col4\" >5.695691</td>\n",
              "      <td id=\"T_136d8_row4_col5\" class=\"data row4 col5\" >1.505138</td>\n",
              "      <td id=\"T_136d8_row4_col6\" class=\"data row4 col6\" >318.219227</td>\n",
              "    </tr>\n",
              "    <tr>\n",
              "      <td id=\"T_136d8_row5_col0\" class=\"data row5 col0\" >nan</td>\n",
              "      <td id=\"T_136d8_row5_col1\" class=\"data row5 col1\" >1858067.102260</td>\n",
              "      <td id=\"T_136d8_row5_col2\" class=\"data row5 col2\" >1.923929</td>\n",
              "      <td id=\"T_136d8_row5_col3\" class=\"data row5 col3\" >436.558735</td>\n",
              "      <td id=\"T_136d8_row5_col4\" class=\"data row5 col4\" >4.370484</td>\n",
              "      <td id=\"T_136d8_row5_col5\" class=\"data row5 col5\" >1.154575</td>\n",
              "      <td id=\"T_136d8_row5_col6\" class=\"data row5 col6\" >244.192081</td>\n",
              "    </tr>\n",
              "    <tr>\n",
              "      <td id=\"T_136d8_row6_col0\" class=\"data row6 col0\" >nan</td>\n",
              "      <td id=\"T_136d8_row6_col1\" class=\"data row6 col1\" >51.000000</td>\n",
              "      <td id=\"T_136d8_row6_col2\" class=\"data row6 col2\" >0.000053</td>\n",
              "      <td id=\"T_136d8_row6_col3\" class=\"data row6 col3\" >2.200000</td>\n",
              "      <td id=\"T_136d8_row6_col4\" class=\"data row6 col4\" >0.080000</td>\n",
              "      <td id=\"T_136d8_row6_col5\" class=\"data row6 col5\" >0.020000</td>\n",
              "      <td id=\"T_136d8_row6_col6\" class=\"data row6 col6\" >4.650000</td>\n",
              "    </tr>\n",
              "    <tr>\n",
              "      <td id=\"T_136d8_row7_col0\" class=\"data row7 col0\" >nan</td>\n",
              "      <td id=\"T_136d8_row7_col1\" class=\"data row7 col1\" >20036.000000</td>\n",
              "      <td id=\"T_136d8_row7_col2\" class=\"data row7 col2\" >0.020746</td>\n",
              "      <td id=\"T_136d8_row7_col3\" class=\"data row7 col3\" >53.900000</td>\n",
              "      <td id=\"T_136d8_row7_col4\" class=\"data row7 col4\" >4.150000</td>\n",
              "      <td id=\"T_136d8_row7_col5\" class=\"data row7 col5\" >1.100000</td>\n",
              "      <td id=\"T_136d8_row7_col6\" class=\"data row7 col6\" >232.020000</td>\n",
              "    </tr>\n",
              "    <tr>\n",
              "      <td id=\"T_136d8_row8_col0\" class=\"data row8 col0\" >nan</td>\n",
              "      <td id=\"T_136d8_row8_col1\" class=\"data row8 col1\" >61612.000000</td>\n",
              "      <td id=\"T_136d8_row8_col2\" class=\"data row8 col2\" >0.063796</td>\n",
              "      <td id=\"T_136d8_row8_col3\" class=\"data row8 col3\" >180.200000</td>\n",
              "      <td id=\"T_136d8_row8_col4\" class=\"data row8 col4\" >5.280000</td>\n",
              "      <td id=\"T_136d8_row8_col5\" class=\"data row8 col5\" >1.400000</td>\n",
              "      <td id=\"T_136d8_row8_col6\" class=\"data row8 col6\" >295.040000</td>\n",
              "    </tr>\n",
              "    <tr>\n",
              "      <td id=\"T_136d8_row9_col0\" class=\"data row9 col0\" >nan</td>\n",
              "      <td id=\"T_136d8_row9_col1\" class=\"data row9 col1\" >262352.000000</td>\n",
              "      <td id=\"T_136d8_row9_col2\" class=\"data row9 col2\" >0.271651</td>\n",
              "      <td id=\"T_136d8_row9_col3\" class=\"data row9 col3\" >424.600000</td>\n",
              "      <td id=\"T_136d8_row9_col4\" class=\"data row9 col4\" >6.760000</td>\n",
              "      <td id=\"T_136d8_row9_col5\" class=\"data row9 col5\" >1.790000</td>\n",
              "      <td id=\"T_136d8_row9_col6\" class=\"data row9 col6\" >377.740000</td>\n",
              "    </tr>\n",
              "    <tr>\n",
              "      <td id=\"T_136d8_row10_col0\" class=\"data row10 col0\" >nan</td>\n",
              "      <td id=\"T_136d8_row10_col1\" class=\"data row10 col1\" >19687287.000000</td>\n",
              "      <td id=\"T_136d8_row10_col2\" class=\"data row10 col2\" >20.385127</td>\n",
              "      <td id=\"T_136d8_row10_col3\" class=\"data row10 col3\" >3679.500000</td>\n",
              "      <td id=\"T_136d8_row10_col4\" class=\"data row10 col4\" >54.890000</td>\n",
              "      <td id=\"T_136d8_row10_col5\" class=\"data row10 col5\" >14.500000</td>\n",
              "      <td id=\"T_136d8_row10_col6\" class=\"data row10 col6\" >3066.750000</td>\n",
              "    </tr>\n",
              "  </tbody>\n",
              "</table>\n"
            ]
          },
          "metadata": {},
          "execution_count": 23
        }
      ],
      "source": [
        "#print describtion of the dataset which gives us statisitcal overview of the dataset.\n",
        "df.describe(include='all').style.background_gradient(cmap='coolwarm').set_properties(**{'font-family': 'Segoe UI'}).hide_index()"
      ]
    },
    {
      "cell_type": "markdown",
      "id": "09e68c31",
      "metadata": {
        "papermill": {
          "duration": 0.022778,
          "end_time": "2022-07-19T06:47:22.200618",
          "exception": false,
          "start_time": "2022-07-19T06:47:22.177840",
          "status": "completed"
        },
        "tags": [],
        "id": "09e68c31"
      },
      "source": [
        "**Total number of countries in the dataset is 181.**\n",
        "\n",
        "**Highest price of petrol is 14.5 USD / 3066.75 PKR.**\n",
        "\n",
        "**Lowest price of petrol is 0.02 USD / 4.65 PKR.**\n",
        "\n",
        "**Average price of petrol is 1.51 USD / 318.22 PKR.**"
      ]
    },
    {
      "cell_type": "code",
      "execution_count": null,
      "id": "dc2d4e69",
      "metadata": {
        "execution": {
          "iopub.execute_input": "2022-07-19T06:47:22.251740Z",
          "iopub.status.busy": "2022-07-19T06:47:22.250810Z",
          "iopub.status.idle": "2022-07-19T06:47:22.258056Z",
          "shell.execute_reply": "2022-07-19T06:47:22.256838Z"
        },
        "papermill": {
          "duration": 0.035478,
          "end_time": "2022-07-19T06:47:22.260342",
          "exception": false,
          "start_time": "2022-07-19T06:47:22.224864",
          "status": "completed"
        },
        "tags": [],
        "colab": {
          "base_uri": "https://localhost:8080/"
        },
        "id": "dc2d4e69",
        "outputId": "a826ab6f-2b7f-4fec-8af4-76de4de9f22a"
      },
      "outputs": [
        {
          "output_type": "execute_result",
          "data": {
            "text/plain": [
              "Index(['Country', 'Daily Oil Consumption (Barrels)', 'World Share %',\n",
              "       'Yearly Gallons Per Capita', 'Price Per Gallon (USD)',\n",
              "       'Price Per Liter (USD)', 'Price Per Liter (PKR)'],\n",
              "      dtype='object')"
            ]
          },
          "metadata": {},
          "execution_count": 24
        }
      ],
      "source": [
        "df.columns"
      ]
    },
    {
      "cell_type": "code",
      "execution_count": null,
      "id": "295f3fc8",
      "metadata": {
        "execution": {
          "iopub.execute_input": "2022-07-19T06:47:22.310652Z",
          "iopub.status.busy": "2022-07-19T06:47:22.310233Z",
          "iopub.status.idle": "2022-07-19T06:47:22.330922Z",
          "shell.execute_reply": "2022-07-19T06:47:22.329337Z"
        },
        "papermill": {
          "duration": 0.051834,
          "end_time": "2022-07-19T06:47:22.335334",
          "exception": false,
          "start_time": "2022-07-19T06:47:22.283500",
          "status": "completed"
        },
        "tags": [],
        "colab": {
          "base_uri": "https://localhost:8080/"
        },
        "id": "295f3fc8",
        "outputId": "e4d9010e-cab3-42d6-dfff-b465bf057681"
      },
      "outputs": [
        {
          "output_type": "stream",
          "name": "stdout",
          "text": [
            "Country with lowest Daily Oil Consumption (Barrels): 51\n",
            "180    Niue\n",
            "Name: Country, dtype: object\n",
            "\n",
            "\n",
            "Country with lowest World Share % : 5.280775630384307e-05\n",
            "180    Niue\n",
            "Name: Country, dtype: object\n",
            "\n",
            "\n",
            "Country with lowest Yearly Gallons Per Capita : 2.2\n",
            "170    Burundi\n",
            "Name: Country, dtype: object\n",
            "\n",
            "\n",
            "Country with lowest Price Per Gallon (USD) : 0.08\n",
            "32    Venezuela\n",
            "Name: Country, dtype: object\n",
            "\n",
            "\n",
            "Country with lowest Price Per Liter (USD) : 0.02\n",
            "32    Venezuela\n",
            "Name: Country, dtype: object\n"
          ]
        }
      ],
      "source": [
        "print('Country with lowest Daily Oil Consumption (Barrels):',df['Daily Oil Consumption (Barrels)'].min())\n",
        "print(df[df['Daily Oil Consumption (Barrels)']==df['Daily Oil Consumption (Barrels)'].min()]['Country'])\n",
        "\n",
        "print('\\n\\nCountry with lowest World Share % :',df['World Share %'].min())\n",
        "print(df[df['World Share %']==df['World Share %'].min()]['Country'])\n",
        "\n",
        "print('\\n\\nCountry with lowest Yearly Gallons Per Capita :',df['Yearly Gallons Per Capita'].min())\n",
        "print(df[df['Yearly Gallons Per Capita']==df['Yearly Gallons Per Capita'].min()]['Country'])\n",
        "\n",
        "print('\\n\\nCountry with lowest Price Per Gallon (USD) :',df['Price Per Gallon (USD)'].min())\n",
        "print(df[df['Price Per Gallon (USD)']==df['Price Per Gallon (USD)'].min()]['Country'])\n",
        "\n",
        "print('\\n\\nCountry with lowest Price Per Liter (USD) :',df['Price Per Liter (USD)'].min())\n",
        "print(df[df['Price Per Liter (USD)']==df['Price Per Liter (USD)'].min()]['Country'])"
      ]
    },
    {
      "cell_type": "code",
      "execution_count": null,
      "id": "7cf29375",
      "metadata": {
        "execution": {
          "iopub.execute_input": "2022-07-19T06:47:22.385764Z",
          "iopub.status.busy": "2022-07-19T06:47:22.384463Z",
          "iopub.status.idle": "2022-07-19T06:47:22.403363Z",
          "shell.execute_reply": "2022-07-19T06:47:22.401945Z"
        },
        "papermill": {
          "duration": 0.046524,
          "end_time": "2022-07-19T06:47:22.406160",
          "exception": false,
          "start_time": "2022-07-19T06:47:22.359636",
          "status": "completed"
        },
        "tags": [],
        "colab": {
          "base_uri": "https://localhost:8080/"
        },
        "id": "7cf29375",
        "outputId": "d982f6f0-9d71-49a2-d0fe-f94618d3f0b9"
      },
      "outputs": [
        {
          "output_type": "stream",
          "name": "stdout",
          "text": [
            "Country with highest Daily Oil Consumption (Barrels): 19687287\n",
            "0    United States\n",
            "Name: Country, dtype: object\n",
            "\n",
            "\n",
            "Country with highest World Share % : 20.385126552545447\n",
            "0    United States\n",
            "Name: Country, dtype: object\n",
            "\n",
            "\n",
            "Country with highest Yearly Gallons Per Capita : 3679.5\n",
            "15    Singapore\n",
            "Name: Country, dtype: object\n",
            "\n",
            "\n",
            "Country with highest Price Per Gallon (USD) : 54.89\n",
            "139    North Korea\n",
            "Name: Country, dtype: object\n",
            "\n",
            "\n",
            "Country with highest Price Per Liter (USD) : 14.5\n",
            "139    North Korea\n",
            "Name: Country, dtype: object\n"
          ]
        }
      ],
      "source": [
        "print('Country with highest Daily Oil Consumption (Barrels):',df['Daily Oil Consumption (Barrels)'].max())\n",
        "print(df[df['Daily Oil Consumption (Barrels)']==df['Daily Oil Consumption (Barrels)'].max()]['Country'])\n",
        "\n",
        "print('\\n\\nCountry with highest World Share % :',df['World Share %'].max())\n",
        "print(df[df['World Share %']==df['World Share %'].max()]['Country'])\n",
        "\n",
        "print('\\n\\nCountry with highest Yearly Gallons Per Capita :',df['Yearly Gallons Per Capita'].max())\n",
        "print(df[df['Yearly Gallons Per Capita']==df['Yearly Gallons Per Capita'].max()]['Country'])\n",
        "\n",
        "print('\\n\\nCountry with highest Price Per Gallon (USD) :',df['Price Per Gallon (USD)'].max())\n",
        "print(df[df['Price Per Gallon (USD)']==df['Price Per Gallon (USD)'].max()]['Country'])\n",
        "\n",
        "print('\\n\\nCountry with highest Price Per Liter (USD) :',df['Price Per Liter (USD)'].max())\n",
        "print(df[df['Price Per Liter (USD)']==df['Price Per Liter (USD)'].max()]['Country'])"
      ]
    },
    {
      "cell_type": "markdown",
      "id": "02a57f5b",
      "metadata": {
        "papermill": {
          "duration": 0.02308,
          "end_time": "2022-07-19T06:47:22.452693",
          "exception": false,
          "start_time": "2022-07-19T06:47:22.429613",
          "status": "completed"
        },
        "tags": [],
        "id": "02a57f5b"
      },
      "source": [
        "# 5.Feather Engineering"
      ]
    },
    {
      "cell_type": "markdown",
      "id": "293a08a7",
      "metadata": {
        "papermill": {
          "duration": 0.023612,
          "end_time": "2022-07-19T06:47:22.501489",
          "exception": false,
          "start_time": "2022-07-19T06:47:22.477877",
          "status": "completed"
        },
        "tags": [],
        "id": "293a08a7"
      },
      "source": [
        "Check the correlation between columns"
      ]
    },
    {
      "cell_type": "code",
      "execution_count": null,
      "id": "69162d1e",
      "metadata": {
        "execution": {
          "iopub.execute_input": "2022-07-19T06:47:22.551361Z",
          "iopub.status.busy": "2022-07-19T06:47:22.550670Z",
          "iopub.status.idle": "2022-07-19T06:47:22.583738Z",
          "shell.execute_reply": "2022-07-19T06:47:22.582834Z"
        },
        "papermill": {
          "duration": 0.060919,
          "end_time": "2022-07-19T06:47:22.585822",
          "exception": false,
          "start_time": "2022-07-19T06:47:22.524903",
          "status": "completed"
        },
        "tags": [],
        "colab": {
          "base_uri": "https://localhost:8080/",
          "height": 237
        },
        "id": "69162d1e",
        "outputId": "adba5db1-0821-48e3-e7bd-1b4eb2edc9ff"
      },
      "outputs": [
        {
          "output_type": "execute_result",
          "data": {
            "text/plain": [
              "<pandas.io.formats.style.Styler at 0x7f0e7cc6fb90>"
            ],
            "text/html": [
              "<style type=\"text/css\">\n",
              "#T_4b1cc_row0_col0, #T_4b1cc_row0_col1, #T_4b1cc_row1_col0, #T_4b1cc_row1_col1, #T_4b1cc_row2_col2, #T_4b1cc_row3_col3, #T_4b1cc_row3_col4, #T_4b1cc_row3_col5, #T_4b1cc_row4_col3, #T_4b1cc_row4_col4, #T_4b1cc_row4_col5, #T_4b1cc_row5_col3, #T_4b1cc_row5_col4, #T_4b1cc_row5_col5 {\n",
              "  background-color: #67000d;\n",
              "  color: #f1f1f1;\n",
              "  font-family: Segoe UI;\n",
              "}\n",
              "#T_4b1cc_row0_col2, #T_4b1cc_row1_col2 {\n",
              "  background-color: #fee5d9;\n",
              "  color: #000000;\n",
              "  font-family: Segoe UI;\n",
              "}\n",
              "#T_4b1cc_row0_col3, #T_4b1cc_row0_col4, #T_4b1cc_row0_col5, #T_4b1cc_row1_col3, #T_4b1cc_row1_col4, #T_4b1cc_row1_col5, #T_4b1cc_row3_col0, #T_4b1cc_row3_col1, #T_4b1cc_row3_col2, #T_4b1cc_row4_col0, #T_4b1cc_row4_col1, #T_4b1cc_row4_col2, #T_4b1cc_row5_col0, #T_4b1cc_row5_col1, #T_4b1cc_row5_col2 {\n",
              "  background-color: #fff5f0;\n",
              "  color: #000000;\n",
              "  font-family: Segoe UI;\n",
              "}\n",
              "#T_4b1cc_row2_col0, #T_4b1cc_row2_col1 {\n",
              "  background-color: #fdd2bf;\n",
              "  color: #000000;\n",
              "  font-family: Segoe UI;\n",
              "}\n",
              "#T_4b1cc_row2_col3, #T_4b1cc_row2_col4, #T_4b1cc_row2_col5 {\n",
              "  background-color: #fee7dc;\n",
              "  color: #000000;\n",
              "  font-family: Segoe UI;\n",
              "}\n",
              "</style>\n",
              "<table id=\"T_4b1cc_\" class=\"dataframe\">\n",
              "  <thead>\n",
              "    <tr>\n",
              "      <th class=\"col_heading level0 col0\" >Daily Oil Consumption (Barrels)</th>\n",
              "      <th class=\"col_heading level0 col1\" >World Share %</th>\n",
              "      <th class=\"col_heading level0 col2\" >Yearly Gallons Per Capita</th>\n",
              "      <th class=\"col_heading level0 col3\" >Price Per Gallon (USD)</th>\n",
              "      <th class=\"col_heading level0 col4\" >Price Per Liter (USD)</th>\n",
              "      <th class=\"col_heading level0 col5\" >Price Per Liter (PKR)</th>\n",
              "    </tr>\n",
              "  </thead>\n",
              "  <tbody>\n",
              "    <tr>\n",
              "      <td id=\"T_4b1cc_row0_col0\" class=\"data row0 col0\" >1.000000</td>\n",
              "      <td id=\"T_4b1cc_row0_col1\" class=\"data row0 col1\" >1.000000</td>\n",
              "      <td id=\"T_4b1cc_row0_col2\" class=\"data row0 col2\" >0.149248</td>\n",
              "      <td id=\"T_4b1cc_row0_col3\" class=\"data row0 col3\" >-0.029965</td>\n",
              "      <td id=\"T_4b1cc_row0_col4\" class=\"data row0 col4\" >-0.030106</td>\n",
              "      <td id=\"T_4b1cc_row0_col5\" class=\"data row0 col5\" >-0.029938</td>\n",
              "    </tr>\n",
              "    <tr>\n",
              "      <td id=\"T_4b1cc_row1_col0\" class=\"data row1 col0\" >1.000000</td>\n",
              "      <td id=\"T_4b1cc_row1_col1\" class=\"data row1 col1\" >1.000000</td>\n",
              "      <td id=\"T_4b1cc_row1_col2\" class=\"data row1 col2\" >0.149248</td>\n",
              "      <td id=\"T_4b1cc_row1_col3\" class=\"data row1 col3\" >-0.029965</td>\n",
              "      <td id=\"T_4b1cc_row1_col4\" class=\"data row1 col4\" >-0.030106</td>\n",
              "      <td id=\"T_4b1cc_row1_col5\" class=\"data row1 col5\" >-0.029938</td>\n",
              "    </tr>\n",
              "    <tr>\n",
              "      <td id=\"T_4b1cc_row2_col0\" class=\"data row2 col0\" >0.149248</td>\n",
              "      <td id=\"T_4b1cc_row2_col1\" class=\"data row2 col1\" >0.149248</td>\n",
              "      <td id=\"T_4b1cc_row2_col2\" class=\"data row2 col2\" >1.000000</td>\n",
              "      <td id=\"T_4b1cc_row2_col3\" class=\"data row2 col3\" >0.057293</td>\n",
              "      <td id=\"T_4b1cc_row2_col4\" class=\"data row2 col4\" >0.057471</td>\n",
              "      <td id=\"T_4b1cc_row2_col5\" class=\"data row2 col5\" >0.057368</td>\n",
              "    </tr>\n",
              "    <tr>\n",
              "      <td id=\"T_4b1cc_row3_col0\" class=\"data row3 col0\" >-0.029965</td>\n",
              "      <td id=\"T_4b1cc_row3_col1\" class=\"data row3 col1\" >-0.029965</td>\n",
              "      <td id=\"T_4b1cc_row3_col2\" class=\"data row3 col2\" >0.057293</td>\n",
              "      <td id=\"T_4b1cc_row3_col3\" class=\"data row3 col3\" >1.000000</td>\n",
              "      <td id=\"T_4b1cc_row3_col4\" class=\"data row3 col4\" >0.999997</td>\n",
              "      <td id=\"T_4b1cc_row3_col5\" class=\"data row3 col5\" >1.000000</td>\n",
              "    </tr>\n",
              "    <tr>\n",
              "      <td id=\"T_4b1cc_row4_col0\" class=\"data row4 col0\" >-0.030106</td>\n",
              "      <td id=\"T_4b1cc_row4_col1\" class=\"data row4 col1\" >-0.030106</td>\n",
              "      <td id=\"T_4b1cc_row4_col2\" class=\"data row4 col2\" >0.057471</td>\n",
              "      <td id=\"T_4b1cc_row4_col3\" class=\"data row4 col3\" >0.999997</td>\n",
              "      <td id=\"T_4b1cc_row4_col4\" class=\"data row4 col4\" >1.000000</td>\n",
              "      <td id=\"T_4b1cc_row4_col5\" class=\"data row4 col5\" >0.999997</td>\n",
              "    </tr>\n",
              "    <tr>\n",
              "      <td id=\"T_4b1cc_row5_col0\" class=\"data row5 col0\" >-0.029938</td>\n",
              "      <td id=\"T_4b1cc_row5_col1\" class=\"data row5 col1\" >-0.029938</td>\n",
              "      <td id=\"T_4b1cc_row5_col2\" class=\"data row5 col2\" >0.057368</td>\n",
              "      <td id=\"T_4b1cc_row5_col3\" class=\"data row5 col3\" >1.000000</td>\n",
              "      <td id=\"T_4b1cc_row5_col4\" class=\"data row5 col4\" >0.999997</td>\n",
              "      <td id=\"T_4b1cc_row5_col5\" class=\"data row5 col5\" >1.000000</td>\n",
              "    </tr>\n",
              "  </tbody>\n",
              "</table>\n"
            ]
          },
          "metadata": {},
          "execution_count": 27
        }
      ],
      "source": [
        "df.corr().style.background_gradient(cmap='Reds').set_properties(**{'font-family': 'Segoe UI'}).hide_index()"
      ]
    },
    {
      "cell_type": "markdown",
      "id": "381f3af8",
      "metadata": {
        "papermill": {
          "duration": 0.023456,
          "end_time": "2022-07-19T06:47:22.634009",
          "exception": false,
          "start_time": "2022-07-19T06:47:22.610553",
          "status": "completed"
        },
        "tags": [],
        "id": "381f3af8"
      },
      "source": [
        "Plot heatmap of correlation between columns "
      ]
    },
    {
      "cell_type": "code",
      "execution_count": null,
      "id": "2c074355",
      "metadata": {
        "execution": {
          "iopub.execute_input": "2022-07-19T06:47:22.683696Z",
          "iopub.status.busy": "2022-07-19T06:47:22.682964Z",
          "iopub.status.idle": "2022-07-19T06:47:23.148887Z",
          "shell.execute_reply": "2022-07-19T06:47:23.147559Z"
        },
        "papermill": {
          "duration": 0.494035,
          "end_time": "2022-07-19T06:47:23.151674",
          "exception": false,
          "start_time": "2022-07-19T06:47:22.657639",
          "status": "completed"
        },
        "tags": [],
        "colab": {
          "base_uri": "https://localhost:8080/",
          "height": 722
        },
        "id": "2c074355",
        "outputId": "b5a6b069-7747-49f1-d2bc-0c4a76b15297"
      },
      "outputs": [
        {
          "output_type": "execute_result",
          "data": {
            "text/plain": [
              "<matplotlib.axes._subplots.AxesSubplot at 0x7f0e7cc0b6d0>"
            ]
          },
          "metadata": {},
          "execution_count": 28
        },
        {
          "output_type": "display_data",
          "data": {
            "text/plain": [
              "<Figure size 1440x864 with 2 Axes>"
            ],
            "image/png": "[encoded data removed]"
          },
          "metadata": {
            "needs_background": "light"
          }
        }
      ],
      "source": [
        "plt.figure(figsize=(20,12))\n",
        "sns.heatmap(df.corr(),annot=True,cmap='coolwarm')\n"
      ]
    },
    {
      "cell_type": "code",
      "execution_count": null,
      "id": "02c1779c",
      "metadata": {
        "execution": {
          "iopub.execute_input": "2022-07-19T06:47:23.211740Z",
          "iopub.status.busy": "2022-07-19T06:47:23.211346Z",
          "iopub.status.idle": "2022-07-19T06:47:31.080623Z",
          "shell.execute_reply": "2022-07-19T06:47:31.079819Z"
        },
        "papermill": {
          "duration": 7.908114,
          "end_time": "2022-07-19T06:47:31.084398",
          "exception": false,
          "start_time": "2022-07-19T06:47:23.176284",
          "status": "completed"
        },
        "tags": [],
        "colab": {
          "base_uri": "https://localhost:8080/",
          "height": 1000
        },
        "id": "02c1779c",
        "outputId": "71de2600-f676-4e5e-eecb-d52c35411146"
      },
      "outputs": [
        {
          "output_type": "execute_result",
          "data": {
            "text/plain": [
              "<seaborn.axisgrid.PairGrid at 0x7f0e7a2e7190>"
            ]
          },
          "metadata": {},
          "execution_count": 29
        },
        {
          "output_type": "display_data",
          "data": {
            "text/plain": [
              "<Figure size 1080x1080 with 42 Axes>"
            ],
            "image/png": "[encoded data removed]"
          },
          "metadata": {
            "needs_background": "light"
          }
        }
      ],
      "source": [
        "sns.pairplot(df)"
      ]
    },
    {
      "cell_type": "markdown",
      "id": "55038fdc",
      "metadata": {
        "papermill": {
          "duration": 0.025853,
          "end_time": "2022-07-19T06:47:31.137558",
          "exception": false,
          "start_time": "2022-07-19T06:47:31.111705",
          "status": "completed"
        },
        "tags": [],
        "id": "55038fdc"
      },
      "source": [
        "# 6.Predictive Model"
      ]
    },
    {
      "cell_type": "markdown",
      "id": "3f715a5b",
      "metadata": {
        "papermill": {
          "duration": 0.025613,
          "end_time": "2022-07-19T06:47:31.189051",
          "exception": false,
          "start_time": "2022-07-19T06:47:31.163438",
          "status": "completed"
        },
        "tags": [],
        "id": "3f715a5b"
      },
      "source": [
        "Linear Regression Model"
      ]
    },
    {
      "cell_type": "code",
      "execution_count": null,
      "id": "9dfad416",
      "metadata": {
        "execution": {
          "iopub.execute_input": "2022-07-19T06:47:31.247429Z",
          "iopub.status.busy": "2022-07-19T06:47:31.246972Z",
          "iopub.status.idle": "2022-07-19T06:47:31.460323Z",
          "shell.execute_reply": "2022-07-19T06:47:31.459034Z"
        },
        "papermill": {
          "duration": 0.246963,
          "end_time": "2022-07-19T06:47:31.463153",
          "exception": false,
          "start_time": "2022-07-19T06:47:31.216190",
          "status": "completed"
        },
        "tags": [],
        "id": "9dfad416"
      },
      "outputs": [],
      "source": [
        "from sklearn.model_selection import train_test_split"
      ]
    },
    {
      "cell_type": "code",
      "execution_count": null,
      "id": "6a4151c7",
      "metadata": {
        "execution": {
          "iopub.execute_input": "2022-07-19T06:47:31.516878Z",
          "iopub.status.busy": "2022-07-19T06:47:31.516495Z",
          "iopub.status.idle": "2022-07-19T06:47:31.522983Z",
          "shell.execute_reply": "2022-07-19T06:47:31.522191Z"
        },
        "papermill": {
          "duration": 0.035811,
          "end_time": "2022-07-19T06:47:31.524989",
          "exception": false,
          "start_time": "2022-07-19T06:47:31.489178",
          "status": "completed"
        },
        "tags": [],
        "colab": {
          "base_uri": "https://localhost:8080/"
        },
        "id": "6a4151c7",
        "outputId": "13534795-c0e2-4401-85d3-eb472e0fb9f7"
      },
      "outputs": [
        {
          "output_type": "execute_result",
          "data": {
            "text/plain": [
              "Index(['Country', 'Daily Oil Consumption (Barrels)', 'World Share %',\n",
              "       'Yearly Gallons Per Capita', 'Price Per Gallon (USD)',\n",
              "       'Price Per Liter (USD)', 'Price Per Liter (PKR)'],\n",
              "      dtype='object')"
            ]
          },
          "metadata": {},
          "execution_count": 31
        }
      ],
      "source": [
        "df.columns"
      ]
    },
    {
      "cell_type": "code",
      "execution_count": null,
      "id": "0a591eb4",
      "metadata": {
        "execution": {
          "iopub.execute_input": "2022-07-19T06:47:31.578936Z",
          "iopub.status.busy": "2022-07-19T06:47:31.578553Z",
          "iopub.status.idle": "2022-07-19T06:47:31.584038Z",
          "shell.execute_reply": "2022-07-19T06:47:31.582932Z"
        },
        "papermill": {
          "duration": 0.035283,
          "end_time": "2022-07-19T06:47:31.586333",
          "exception": false,
          "start_time": "2022-07-19T06:47:31.551050",
          "status": "completed"
        },
        "tags": [],
        "id": "0a591eb4"
      },
      "outputs": [],
      "source": [
        "X=df[['Daily Oil Consumption (Barrels)', 'World Share %','Yearly Gallons Per Capita']]"
      ]
    },
    {
      "cell_type": "code",
      "execution_count": null,
      "id": "6a55cb4f",
      "metadata": {
        "execution": {
          "iopub.execute_input": "2022-07-19T06:47:31.641474Z",
          "iopub.status.busy": "2022-07-19T06:47:31.640690Z",
          "iopub.status.idle": "2022-07-19T06:47:31.645338Z",
          "shell.execute_reply": "2022-07-19T06:47:31.644400Z"
        },
        "papermill": {
          "duration": 0.034933,
          "end_time": "2022-07-19T06:47:31.647630",
          "exception": false,
          "start_time": "2022-07-19T06:47:31.612697",
          "status": "completed"
        },
        "tags": [],
        "id": "6a55cb4f"
      },
      "outputs": [],
      "source": [
        "y=df['Price Per Liter (USD)']"
      ]
    },
    {
      "cell_type": "code",
      "execution_count": null,
      "id": "fc55d58a",
      "metadata": {
        "execution": {
          "iopub.execute_input": "2022-07-19T06:47:31.702493Z",
          "iopub.status.busy": "2022-07-19T06:47:31.701745Z",
          "iopub.status.idle": "2022-07-19T06:47:31.708463Z",
          "shell.execute_reply": "2022-07-19T06:47:31.707367Z"
        },
        "papermill": {
          "duration": 0.037171,
          "end_time": "2022-07-19T06:47:31.711094",
          "exception": false,
          "start_time": "2022-07-19T06:47:31.673923",
          "status": "completed"
        },
        "tags": [],
        "id": "fc55d58a"
      },
      "outputs": [],
      "source": [
        "X_train, X_test, y_train, y_test = train_test_split(X, y, test_size=0.30, random_state=101)"
      ]
    },
    {
      "cell_type": "code",
      "execution_count": null,
      "id": "681aaf04",
      "metadata": {
        "execution": {
          "iopub.execute_input": "2022-07-19T06:47:31.766458Z",
          "iopub.status.busy": "2022-07-19T06:47:31.765144Z",
          "iopub.status.idle": "2022-07-19T06:47:31.851080Z",
          "shell.execute_reply": "2022-07-19T06:47:31.849762Z"
        },
        "papermill": {
          "duration": 0.1164,
          "end_time": "2022-07-19T06:47:31.853890",
          "exception": false,
          "start_time": "2022-07-19T06:47:31.737490",
          "status": "completed"
        },
        "tags": [],
        "id": "681aaf04"
      },
      "outputs": [],
      "source": [
        "from sklearn.linear_model import LinearRegression"
      ]
    },
    {
      "cell_type": "code",
      "execution_count": null,
      "id": "98d5aefa",
      "metadata": {
        "execution": {
          "iopub.execute_input": "2022-07-19T06:47:31.908769Z",
          "iopub.status.busy": "2022-07-19T06:47:31.907635Z",
          "iopub.status.idle": "2022-07-19T06:47:31.913070Z",
          "shell.execute_reply": "2022-07-19T06:47:31.911957Z"
        },
        "papermill": {
          "duration": 0.035377,
          "end_time": "2022-07-19T06:47:31.915513",
          "exception": false,
          "start_time": "2022-07-19T06:47:31.880136",
          "status": "completed"
        },
        "tags": [],
        "id": "98d5aefa"
      },
      "outputs": [],
      "source": [
        "lm=LinearRegression()"
      ]
    },
    {
      "cell_type": "code",
      "execution_count": null,
      "id": "a6edc443",
      "metadata": {
        "execution": {
          "iopub.execute_input": "2022-07-19T06:47:31.970513Z",
          "iopub.status.busy": "2022-07-19T06:47:31.970063Z",
          "iopub.status.idle": "2022-07-19T06:47:31.998934Z",
          "shell.execute_reply": "2022-07-19T06:47:31.997996Z"
        },
        "papermill": {
          "duration": 0.059283,
          "end_time": "2022-07-19T06:47:32.001340",
          "exception": false,
          "start_time": "2022-07-19T06:47:31.942057",
          "status": "completed"
        },
        "tags": [],
        "colab": {
          "base_uri": "https://localhost:8080/"
        },
        "id": "a6edc443",
        "outputId": "bb27f464-357a-4dc5-a8d5-351404f90892"
      },
      "outputs": [
        {
          "output_type": "execute_result",
          "data": {
            "text/plain": [
              "LinearRegression()"
            ]
          },
          "metadata": {},
          "execution_count": 37
        }
      ],
      "source": [
        "lm.fit(X_train,y_train)"
      ]
    },
    {
      "cell_type": "code",
      "execution_count": null,
      "id": "7f707ea7",
      "metadata": {
        "execution": {
          "iopub.execute_input": "2022-07-19T06:47:32.058434Z",
          "iopub.status.busy": "2022-07-19T06:47:32.057978Z",
          "iopub.status.idle": "2022-07-19T06:47:32.064925Z",
          "shell.execute_reply": "2022-07-19T06:47:32.063767Z"
        },
        "papermill": {
          "duration": 0.038499,
          "end_time": "2022-07-19T06:47:32.067219",
          "exception": false,
          "start_time": "2022-07-19T06:47:32.028720",
          "status": "completed"
        },
        "tags": [],
        "id": "7f707ea7"
      },
      "outputs": [],
      "source": [
        "prediction=lm.predict(X_test)"
      ]
    },
    {
      "cell_type": "code",
      "execution_count": null,
      "id": "5269d223",
      "metadata": {
        "execution": {
          "iopub.execute_input": "2022-07-19T06:47:32.122545Z",
          "iopub.status.busy": "2022-07-19T06:47:32.121832Z",
          "iopub.status.idle": "2022-07-19T06:47:32.128396Z",
          "shell.execute_reply": "2022-07-19T06:47:32.127585Z"
        },
        "papermill": {
          "duration": 0.036985,
          "end_time": "2022-07-19T06:47:32.130641",
          "exception": false,
          "start_time": "2022-07-19T06:47:32.093656",
          "status": "completed"
        },
        "tags": [],
        "colab": {
          "base_uri": "https://localhost:8080/"
        },
        "id": "5269d223",
        "outputId": "ea4324da-fcf7-44a2-bc0b-80fdf612022b"
      },
      "outputs": [
        {
          "output_type": "execute_result",
          "data": {
            "text/plain": [
              "array([1.58220459, 1.57266744, 1.5655135 , 1.58683872, 1.57437611,\n",
              "       1.55860294, 1.58565174, 1.57071522, 1.5609909 , 1.56893812,\n",
              "       1.57887591, 1.57071642, 1.56420916, 1.57130424, 1.57041781,\n",
              "       1.58959164, 1.52804316, 1.57048563, 1.59255329, 1.55647386,\n",
              "       1.5766591 , 1.57669893, 1.58027034, 1.57761475, 1.56067498,\n",
              "       1.57500385, 1.56842377, 1.53708368, 1.56981383, 1.57402647,\n",
              "       1.56936327, 1.56862712, 1.56912157, 1.58395174, 1.5918918 ,\n",
              "       1.56449972, 1.46449096, 1.65683291, 1.15701823, 1.58387052,\n",
              "       1.5726062 , 1.5923424 , 1.56909252, 1.57876898, 1.55638506,\n",
              "       1.57163921, 1.61328958, 1.60768089, 1.56977286, 1.57009144,\n",
              "       1.57159357, 1.57345553, 1.57507097, 1.57001883, 1.56714264])"
            ]
          },
          "metadata": {},
          "execution_count": 39
        }
      ],
      "source": [
        "prediction"
      ]
    },
    {
      "cell_type": "code",
      "execution_count": null,
      "id": "68191955",
      "metadata": {
        "execution": {
          "iopub.execute_input": "2022-07-19T06:47:32.187462Z",
          "iopub.status.busy": "2022-07-19T06:47:32.186707Z",
          "iopub.status.idle": "2022-07-19T06:47:32.380572Z",
          "shell.execute_reply": "2022-07-19T06:47:32.379446Z"
        },
        "papermill": {
          "duration": 0.225166,
          "end_time": "2022-07-19T06:47:32.383376",
          "exception": false,
          "start_time": "2022-07-19T06:47:32.158210",
          "status": "completed"
        },
        "tags": [],
        "colab": {
          "base_uri": "https://localhost:8080/",
          "height": 283
        },
        "id": "68191955",
        "outputId": "1c6f5fb4-de2b-4f90-aefd-39b1891db676"
      },
      "outputs": [
        {
          "output_type": "execute_result",
          "data": {
            "text/plain": [
              "<matplotlib.collections.PathCollection at 0x7f0e7651ea10>"
            ]
          },
          "metadata": {},
          "execution_count": 40
        },
        {
          "output_type": "display_data",
          "data": {
            "text/plain": [
              "<Figure size 432x288 with 1 Axes>"
            ],
            "image/png": "[encoded data removed]"
          },
          "metadata": {
            "needs_background": "light"
          }
        }
      ],
      "source": [
        "plt.scatter(prediction,y_test)"
      ]
    },
    {
      "cell_type": "code",
      "execution_count": null,
      "id": "ee3cf022",
      "metadata": {
        "execution": {
          "iopub.execute_input": "2022-07-19T06:47:32.440223Z",
          "iopub.status.busy": "2022-07-19T06:47:32.439848Z",
          "iopub.status.idle": "2022-07-19T06:47:32.898003Z",
          "shell.execute_reply": "2022-07-19T06:47:32.897050Z"
        },
        "papermill": {
          "duration": 0.489797,
          "end_time": "2022-07-19T06:47:32.900548",
          "exception": false,
          "start_time": "2022-07-19T06:47:32.410751",
          "status": "completed"
        },
        "tags": [],
        "colab": {
          "base_uri": "https://localhost:8080/",
          "height": 732
        },
        "id": "ee3cf022",
        "outputId": "c24573a1-e019-4342-d9d6-48a9f835ce29"
      },
      "outputs": [
        {
          "output_type": "execute_result",
          "data": {
            "text/plain": [
              "<matplotlib.axes._subplots.AxesSubplot at 0x7f0e764dbb90>"
            ]
          },
          "metadata": {},
          "execution_count": 41
        },
        {
          "output_type": "display_data",
          "data": {
            "text/plain": [
              "<Figure size 1440x864 with 1 Axes>"
            ],
            "image/png": "[encoded data removed]"
          },
          "metadata": {
            "needs_background": "light"
          }
        }
      ],
      "source": [
        "plt.figure(figsize=(20,12))\n",
        "sns.histplot(y_test-prediction,bins=100)"
      ]
    },
    {
      "cell_type": "code",
      "execution_count": null,
      "id": "ee4e39ce",
      "metadata": {
        "execution": {
          "iopub.execute_input": "2022-07-19T06:47:32.961495Z",
          "iopub.status.busy": "2022-07-19T06:47:32.960730Z",
          "iopub.status.idle": "2022-07-19T06:47:32.967739Z",
          "shell.execute_reply": "2022-07-19T06:47:32.966891Z"
        },
        "papermill": {
          "duration": 0.040155,
          "end_time": "2022-07-19T06:47:32.970093",
          "exception": false,
          "start_time": "2022-07-19T06:47:32.929938",
          "status": "completed"
        },
        "tags": [],
        "id": "ee4e39ce"
      },
      "outputs": [],
      "source": [
        "accu_sc=round(lm.score(X_train,y_train)*100,2)"
      ]
    },
    {
      "cell_type": "code",
      "execution_count": null,
      "id": "b2c19d8a",
      "metadata": {
        "execution": {
          "iopub.execute_input": "2022-07-19T06:47:33.029998Z",
          "iopub.status.busy": "2022-07-19T06:47:33.028945Z",
          "iopub.status.idle": "2022-07-19T06:47:33.035053Z",
          "shell.execute_reply": "2022-07-19T06:47:33.033775Z"
        },
        "papermill": {
          "duration": 0.041594,
          "end_time": "2022-07-19T06:47:33.039259",
          "exception": false,
          "start_time": "2022-07-19T06:47:32.997665",
          "status": "completed"
        },
        "tags": [],
        "colab": {
          "base_uri": "https://localhost:8080/"
        },
        "id": "b2c19d8a",
        "outputId": "4aae6e38-df8d-4bf3-a23e-266e432b51f7"
      },
      "outputs": [
        {
          "output_type": "stream",
          "name": "stdout",
          "text": [
            "Confidenace score is: 0.21\n"
          ]
        }
      ],
      "source": [
        "print('Confidenace score is:' , accu_sc)"
      ]
    },
    {
      "cell_type": "code",
      "execution_count": null,
      "id": "578cc3a3",
      "metadata": {
        "execution": {
          "iopub.execute_input": "2022-07-19T06:47:33.097411Z",
          "iopub.status.busy": "2022-07-19T06:47:33.096442Z",
          "iopub.status.idle": "2022-07-19T06:47:33.101307Z",
          "shell.execute_reply": "2022-07-19T06:47:33.100412Z"
        },
        "papermill": {
          "duration": 0.036115,
          "end_time": "2022-07-19T06:47:33.103694",
          "exception": false,
          "start_time": "2022-07-19T06:47:33.067579",
          "status": "completed"
        },
        "tags": [],
        "id": "578cc3a3"
      },
      "outputs": [],
      "source": [
        "from sklearn import metrics"
      ]
    },
    {
      "cell_type": "code",
      "execution_count": null,
      "id": "5d9ce3df",
      "metadata": {
        "execution": {
          "iopub.execute_input": "2022-07-19T06:47:33.162997Z",
          "iopub.status.busy": "2022-07-19T06:47:33.162176Z",
          "iopub.status.idle": "2022-07-19T06:47:33.168737Z",
          "shell.execute_reply": "2022-07-19T06:47:33.167554Z"
        },
        "papermill": {
          "duration": 0.039207,
          "end_time": "2022-07-19T06:47:33.170995",
          "exception": false,
          "start_time": "2022-07-19T06:47:33.131788",
          "status": "completed"
        },
        "tags": [],
        "colab": {
          "base_uri": "https://localhost:8080/"
        },
        "id": "5d9ce3df",
        "outputId": "3058116b-7244-4ad1-98a3-5a18c855268b"
      },
      "outputs": [
        {
          "output_type": "stream",
          "name": "stdout",
          "text": [
            "Mean Absoulte Error : 0.5088108687101557\n"
          ]
        }
      ],
      "source": [
        "print('Mean Absoulte Error :',metrics.mean_absolute_error(prediction,y_test))"
      ]
    },
    {
      "cell_type": "code",
      "execution_count": null,
      "id": "3ad05dfd",
      "metadata": {
        "execution": {
          "iopub.execute_input": "2022-07-19T06:47:33.228375Z",
          "iopub.status.busy": "2022-07-19T06:47:33.227685Z",
          "iopub.status.idle": "2022-07-19T06:47:33.233927Z",
          "shell.execute_reply": "2022-07-19T06:47:33.232416Z"
        },
        "papermill": {
          "duration": 0.037664,
          "end_time": "2022-07-19T06:47:33.236215",
          "exception": false,
          "start_time": "2022-07-19T06:47:33.198551",
          "status": "completed"
        },
        "tags": [],
        "colab": {
          "base_uri": "https://localhost:8080/"
        },
        "id": "3ad05dfd",
        "outputId": "720dcc12-7b57-4811-b812-a3f33e9829aa"
      },
      "outputs": [
        {
          "output_type": "stream",
          "name": "stdout",
          "text": [
            "Mean Squared Error : 0.423975914704211\n"
          ]
        }
      ],
      "source": [
        "print('Mean Squared Error :',metrics.mean_squared_error(prediction,y_test))"
      ]
    },
    {
      "cell_type": "code",
      "execution_count": null,
      "id": "6bbcd51a",
      "metadata": {
        "execution": {
          "iopub.execute_input": "2022-07-19T06:47:33.295405Z",
          "iopub.status.busy": "2022-07-19T06:47:33.294750Z",
          "iopub.status.idle": "2022-07-19T06:47:33.301627Z",
          "shell.execute_reply": "2022-07-19T06:47:33.300394Z"
        },
        "papermill": {
          "duration": 0.038745,
          "end_time": "2022-07-19T06:47:33.304095",
          "exception": false,
          "start_time": "2022-07-19T06:47:33.265350",
          "status": "completed"
        },
        "tags": [],
        "colab": {
          "base_uri": "https://localhost:8080/"
        },
        "id": "6bbcd51a",
        "outputId": "0b14221c-4099-4806-f796-155d6085dd58"
      },
      "outputs": [
        {
          "output_type": "stream",
          "name": "stdout",
          "text": [
            "Root Mean Square Error : 0.6511343292318498\n"
          ]
        }
      ],
      "source": [
        "print('Root Mean Square Error :',np.sqrt(metrics.mean_squared_error(prediction,y_test)))"
      ]
    },
    {
      "cell_type": "markdown",
      "id": "c1d06084",
      "metadata": {
        "papermill": {
          "duration": 0.028487,
          "end_time": "2022-07-19T06:47:33.361427",
          "exception": false,
          "start_time": "2022-07-19T06:47:33.332940",
          "status": "completed"
        },
        "tags": [],
        "id": "c1d06084"
      },
      "source": [
        "# 7.Data Visualization"
      ]
    },
    {
      "cell_type": "code",
      "execution_count": null,
      "id": "30e84133",
      "metadata": {
        "execution": {
          "iopub.execute_input": "2022-07-19T06:47:33.419223Z",
          "iopub.status.busy": "2022-07-19T06:47:33.418797Z",
          "iopub.status.idle": "2022-07-19T06:47:34.541012Z",
          "shell.execute_reply": "2022-07-19T06:47:34.539718Z"
        },
        "papermill": {
          "duration": 1.154329,
          "end_time": "2022-07-19T06:47:34.543677",
          "exception": false,
          "start_time": "2022-07-19T06:47:33.389348",
          "status": "completed"
        },
        "tags": [],
        "colab": {
          "base_uri": "https://localhost:8080/",
          "height": 617
        },
        "id": "30e84133",
        "outputId": "a6b7ae00-0a4a-4964-9894-541304c1c3c6"
      },
      "outputs": [
        {
          "output_type": "display_data",
          "data": {
            "text/html": [
              "<html>\n",
              "<head><meta charset=\"utf-8\" /></head>\n",
              "<body>\n",
              "    <div>            <script src=\"https://cdnjs.cloudflare.com/ajax/libs/mathjax/2.7.5/MathJax.js?config=TeX-AMS-MML_SVG\"></script><script type=\"text/javascript\">if (window.MathJax) {MathJax.Hub.Config({SVG: {font: \"STIX-Web\"}});}</script>                <script type=\"text/javascript\">window.PlotlyConfig = {MathJaxConfig: 'local'};</script>\n",
              "        <script src=\"https://cdn.plot.ly/plotly-2.8.3.min.js\"></script>                <div id=\"d998e7e3-b363-4923-b9f3-6933855cb983\" class=\"plotly-graph-div\" style=\"height:600px; width:800px;\"></div>            <script type=\"text/javascript\">                                    window.PLOTLYENV=window.PLOTLYENV || {};                                    if (document.getElementById(\"d998e7e3-b363-4923-b9f3-6933855cb983\")) {                    Plotly.newPlot(                        \"d998e7e3-b363-4923-b9f3-6933855cb983\",                        [{\"alignmentgroup\":\"True\",\"hovertemplate\":\"variable=%{x}<br>value=%{y}<extra></extra>\",\"legendgroup\":\"\",\"marker\":{\"color\":\"#1F77B4\"},\"name\":\"\",\"notched\":false,\"offsetgroup\":\"\",\"orientation\":\"v\",\"showlegend\":false,\"x\":[\"Price Per Liter (USD)\",\"Price Per Liter (USD)\",\"Price Per Liter (USD)\",\"Price Per Liter (USD)\",\"Price Per Liter (USD)\",\"Price Per Liter (USD)\",\"Price Per Liter (USD)\",\"Price Per Liter (USD)\",\"Price Per Liter (USD)\",\"Price Per Liter (USD)\",\"Price Per Liter (USD)\",\"Price Per Liter (USD)\",\"Price Per Liter (USD)\",\"Price Per Liter (USD)\",\"Price Per Liter (USD)\",\"Price Per Liter (USD)\",\"Price Per Liter (USD)\",\"Price Per Liter (USD)\",\"Price Per Liter (USD)\",\"Price Per Liter (USD)\",\"Price Per Liter (USD)\",\"Price Per Liter (USD)\",\"Price Per Liter (USD)\",\"Price Per Liter (USD)\",\"Price Per Liter (USD)\",\"Price Per Liter (USD)\",\"Price Per Liter (USD)\",\"Price Per Liter (USD)\",\"Price Per Liter (USD)\",\"Price Per Liter (USD)\",\"Price Per Liter (USD)\",\"Price Per Liter (USD)\",\"Price Per Liter (USD)\",\"Price Per Liter (USD)\",\"Price Per Liter (USD)\",\"Price Per Liter (USD)\",\"Price Per Liter (USD)\",\"Price Per Liter (USD)\",\"Price Per Liter (USD)\",\"Price Per Liter (USD)\",\"Price Per Liter (USD)\",\"Price Per Liter (USD)\",\"Price Per Liter (USD)\",\"Price Per Liter (USD)\",\"Price Per Liter (USD)\",\"Price Per Liter (USD)\",\"Price Per Liter (USD)\",\"Price Per Liter (USD)\",\"Price Per Liter (USD)\",\"Price Per Liter (USD)\",\"Price Per Liter (USD)\",\"Price Per Liter (USD)\",\"Price Per Liter (USD)\",\"Price Per Liter (USD)\",\"Price Per Liter (USD)\",\"Price Per Liter (USD)\",\"Price Per Liter (USD)\",\"Price Per Liter (USD)\",\"Price Per Liter (USD)\",\"Price Per Liter (USD)\",\"Price Per Liter (USD)\",\"Price Per Liter (USD)\",\"Price Per Liter (USD)\",\"Price Per Liter (USD)\",\"Price Per Liter (USD)\",\"Price Per Liter (USD)\",\"Price Per Liter (USD)\",\"Price Per Liter (USD)\",\"Price Per Liter (USD)\",\"Price Per Liter (USD)\",\"Price Per Liter (USD)\",\"Price Per Liter (USD)\",\"Price Per Liter (USD)\",\"Price Per Liter (USD)\",\"Price Per Liter (USD)\",\"Price Per Liter (USD)\",\"Price Per Liter (USD)\",\"Price Per Liter (USD)\",\"Price Per Liter (USD)\",\"Price Per Liter (USD)\",\"Price Per Liter (USD)\",\"Price Per Liter (USD)\",\"Price Per Liter (USD)\",\"Price Per Liter (USD)\",\"Price Per Liter (USD)\",\"Price Per Liter (USD)\",\"Price Per Liter (USD)\",\"Price Per Liter (USD)\",\"Price Per Liter (USD)\",\"Price Per Liter (USD)\",\"Price Per Liter (USD)\",\"Price Per Liter (USD)\",\"Price Per Liter (USD)\",\"Price Per Liter (USD)\",\"Price Per Liter (USD)\",\"Price Per Liter (USD)\",\"Price Per Liter (USD)\",\"Price Per Liter (USD)\",\"Price Per Liter (USD)\",\"Price Per Liter (USD)\",\"Price Per Liter (USD)\",\"Price Per Liter (USD)\",\"Price Per Liter (USD)\",\"Price Per Liter (USD)\",\"Price Per Liter (USD)\",\"Price Per Liter (USD)\",\"Price Per Liter (USD)\",\"Price Per Liter (USD)\",\"Price Per Liter (USD)\",\"Price Per Liter (USD)\",\"Price Per Liter (USD)\",\"Price Per Liter (USD)\",\"Price Per Liter (USD)\",\"Price Per Liter (USD)\",\"Price Per Liter (USD)\",\"Price Per Liter (USD)\",\"Price Per Liter (USD)\",\"Price Per Liter (USD)\",\"Price Per Liter (USD)\",\"Price Per Liter (USD)\",\"Price Per Liter (USD)\",\"Price Per Liter (USD)\",\"Price Per Liter (USD)\",\"Price Per Liter (USD)\",\"Price Per Liter (USD)\",\"Price Per Liter (USD)\",\"Price Per Liter (USD)\",\"Price Per Liter (USD)\",\"Price Per Liter (USD)\",\"Price Per Liter (USD)\",\"Price Per Liter (USD)\",\"Price Per Liter (USD)\",\"Price Per Liter (USD)\",\"Price Per Liter (USD)\",\"Price Per Liter (USD)\",\"Price Per Liter (USD)\",\"Price Per Liter (USD)\",\"Price Per Liter (USD)\",\"Price Per Liter (USD)\",\"Price Per Liter (USD)\",\"Price Per Liter (USD)\",\"Price Per Liter (USD)\",\"Price Per Liter (USD)\",\"Price Per Liter (USD)\",\"Price Per Liter (USD)\",\"Price Per Liter (USD)\",\"Price Per Liter (USD)\",\"Price Per Liter (USD)\",\"Price Per Liter (USD)\",\"Price Per Liter (USD)\",\"Price Per Liter (USD)\",\"Price Per Liter (USD)\",\"Price Per Liter (USD)\",\"Price Per Liter (USD)\",\"Price Per Liter (USD)\",\"Price Per Liter (USD)\",\"Price Per Liter (USD)\",\"Price Per Liter (USD)\",\"Price Per Liter (USD)\",\"Price Per Liter (USD)\",\"Price Per Liter (USD)\",\"Price Per Liter (USD)\",\"Price Per Liter (USD)\",\"Price Per Liter (USD)\",\"Price Per Liter (USD)\",\"Price Per Liter (USD)\",\"Price Per Liter (USD)\",\"Price Per Liter (USD)\",\"Price Per Liter (USD)\",\"Price Per Liter (USD)\",\"Price Per Liter (USD)\",\"Price Per Liter (USD)\",\"Price Per Liter (USD)\",\"Price Per Liter (USD)\",\"Price Per Liter (USD)\",\"Price Per Liter (USD)\",\"Price Per Liter (USD)\",\"Price Per Liter (USD)\",\"Price Per Liter (USD)\",\"Price Per Liter (USD)\",\"Price Per Liter (USD)\"],\"x0\":\" \",\"xaxis\":\"x\",\"y\":[1.37,1.43,1.33,1.24,0.9,0.62,1.42,1.61,1.79,2.02,1.15,0.05,2.19,1.18,2.22,2.3,1.51,2.12,2.21,1.38,1.6,1.04,2.47,0.52,0.51,1.1,1.48,1.05,0.46,2.21,1.03,1.8,0.02,1.42,0.42,1.55,0.6,0.31,1.39,3.0,0.34,1.7,1.68,1.65,1.17,0.48,2.51,2.13,2.3,1.82,1.26,2.01,2.0,1.43,2.26,0.43,2.19,2.65,2.1,2.07,0.03,2.07,2.64,1.45,2.7,0.62,0.58,0.95,1.26,1.36,1.27,0.37,1.26,0.29,0.76,1.66,1.41,1.72,0.71,1.43,0.59,1.36,0.54,1.29,1.98,0.71,1.76,1.28,1.91,0.53,2.14,0.52,1.45,0.99,2.09,1.55,1.68,2.02,1.14,1.62,1.86,1.18,1.4,0.9,1.42,1.53,1.4,1.42,1.3,1.04,0.83,2.19,1.55,1.37,0.96,0.96,1.73,1.33,1.51,2.21,1.68,2.11,1.27,1.62,1.75,1.14,0.58,1.22,1.48,1.17,1.57,1.23,1.13,1.88,0.97,1.71,2.16,1.36,2.6,14.5,1.02,1.91,1.78,1.04,1.43,1.39,0.22,0.84,1.22,1.13,0.95,2.18,1.27,1.3,1.61,1.82,1.71,1.42,1.37,1.35,1.26,0.8,1.81,1.5,1.66,1.76,1.33,1.18,2.39,1.22,1.34,1.36,1.26,0.95,1.3,4.28,2.19,1.08,1.21,1.46,3.02],\"y0\":\" \",\"yaxis\":\"y\",\"type\":\"box\"}],                        {\"template\":{\"data\":{\"barpolar\":[{\"marker\":{\"line\":{\"color\":\"white\",\"width\":0.5},\"pattern\":{\"fillmode\":\"overlay\",\"size\":10,\"solidity\":0.2}},\"type\":\"barpolar\"}],\"bar\":[{\"error_x\":{\"color\":\"rgb(36,36,36)\"},\"error_y\":{\"color\":\"rgb(36,36,36)\"},\"marker\":{\"line\":{\"color\":\"white\",\"width\":0.5},\"pattern\":{\"fillmode\":\"overlay\",\"size\":10,\"solidity\":0.2}},\"type\":\"bar\"}],\"carpet\":[{\"aaxis\":{\"endlinecolor\":\"rgb(36,36,36)\",\"gridcolor\":\"white\",\"linecolor\":\"white\",\"minorgridcolor\":\"white\",\"startlinecolor\":\"rgb(36,36,36)\"},\"baxis\":{\"endlinecolor\":\"rgb(36,36,36)\",\"gridcolor\":\"white\",\"linecolor\":\"white\",\"minorgridcolor\":\"white\",\"startlinecolor\":\"rgb(36,36,36)\"},\"type\":\"carpet\"}],\"choropleth\":[{\"colorbar\":{\"outlinewidth\":1,\"tickcolor\":\"rgb(36,36,36)\",\"ticks\":\"outside\"},\"type\":\"choropleth\"}],\"contourcarpet\":[{\"colorbar\":{\"outlinewidth\":1,\"tickcolor\":\"rgb(36,36,36)\",\"ticks\":\"outside\"},\"type\":\"contourcarpet\"}],\"contour\":[{\"colorbar\":{\"outlinewidth\":1,\"tickcolor\":\"rgb(36,36,36)\",\"ticks\":\"outside\"},\"colorscale\":[[0.0,\"#440154\"],[0.1111111111111111,\"#482878\"],[0.2222222222222222,\"#3e4989\"],[0.3333333333333333,\"#31688e\"],[0.4444444444444444,\"#26828e\"],[0.5555555555555556,\"#1f9e89\"],[0.6666666666666666,\"#35b779\"],[0.7777777777777778,\"#6ece58\"],[0.8888888888888888,\"#b5de2b\"],[1.0,\"#fde725\"]],\"type\":\"contour\"}],\"heatmapgl\":[{\"colorbar\":{\"outlinewidth\":1,\"tickcolor\":\"rgb(36,36,36)\",\"ticks\":\"outside\"},\"colorscale\":[[0.0,\"#440154\"],[0.1111111111111111,\"#482878\"],[0.2222222222222222,\"#3e4989\"],[0.3333333333333333,\"#31688e\"],[0.4444444444444444,\"#26828e\"],[0.5555555555555556,\"#1f9e89\"],[0.6666666666666666,\"#35b779\"],[0.7777777777777778,\"#6ece58\"],[0.8888888888888888,\"#b5de2b\"],[1.0,\"#fde725\"]],\"type\":\"heatmapgl\"}],\"heatmap\":[{\"colorbar\":{\"outlinewidth\":1,\"tickcolor\":\"rgb(36,36,36)\",\"ticks\":\"outside\"},\"colorscale\":[[0.0,\"#440154\"],[0.1111111111111111,\"#482878\"],[0.2222222222222222,\"#3e4989\"],[0.3333333333333333,\"#31688e\"],[0.4444444444444444,\"#26828e\"],[0.5555555555555556,\"#1f9e89\"],[0.6666666666666666,\"#35b779\"],[0.7777777777777778,\"#6ece58\"],[0.8888888888888888,\"#b5de2b\"],[1.0,\"#fde725\"]],\"type\":\"heatmap\"}],\"histogram2dcontour\":[{\"colorbar\":{\"outlinewidth\":1,\"tickcolor\":\"rgb(36,36,36)\",\"ticks\":\"outside\"},\"colorscale\":[[0.0,\"#440154\"],[0.1111111111111111,\"#482878\"],[0.2222222222222222,\"#3e4989\"],[0.3333333333333333,\"#31688e\"],[0.4444444444444444,\"#26828e\"],[0.5555555555555556,\"#1f9e89\"],[0.6666666666666666,\"#35b779\"],[0.7777777777777778,\"#6ece58\"],[0.8888888888888888,\"#b5de2b\"],[1.0,\"#fde725\"]],\"type\":\"histogram2dcontour\"}],\"histogram2d\":[{\"colorbar\":{\"outlinewidth\":1,\"tickcolor\":\"rgb(36,36,36)\",\"ticks\":\"outside\"},\"colorscale\":[[0.0,\"#440154\"],[0.1111111111111111,\"#482878\"],[0.2222222222222222,\"#3e4989\"],[0.3333333333333333,\"#31688e\"],[0.4444444444444444,\"#26828e\"],[0.5555555555555556,\"#1f9e89\"],[0.6666666666666666,\"#35b779\"],[0.7777777777777778,\"#6ece58\"],[0.8888888888888888,\"#b5de2b\"],[1.0,\"#fde725\"]],\"type\":\"histogram2d\"}],\"histogram\":[{\"marker\":{\"line\":{\"color\":\"white\",\"width\":0.6}},\"type\":\"histogram\"}],\"mesh3d\":[{\"colorbar\":{\"outlinewidth\":1,\"tickcolor\":\"rgb(36,36,36)\",\"ticks\":\"outside\"},\"type\":\"mesh3d\"}],\"parcoords\":[{\"line\":{\"colorbar\":{\"outlinewidth\":1,\"tickcolor\":\"rgb(36,36,36)\",\"ticks\":\"outside\"}},\"type\":\"parcoords\"}],\"pie\":[{\"automargin\":true,\"type\":\"pie\"}],\"scatter3d\":[{\"line\":{\"colorbar\":{\"outlinewidth\":1,\"tickcolor\":\"rgb(36,36,36)\",\"ticks\":\"outside\"}},\"marker\":{\"colorbar\":{\"outlinewidth\":1,\"tickcolor\":\"rgb(36,36,36)\",\"ticks\":\"outside\"}},\"type\":\"scatter3d\"}],\"scattercarpet\":[{\"marker\":{\"colorbar\":{\"outlinewidth\":1,\"tickcolor\":\"rgb(36,36,36)\",\"ticks\":\"outside\"}},\"type\":\"scattercarpet\"}],\"scattergeo\":[{\"marker\":{\"colorbar\":{\"outlinewidth\":1,\"tickcolor\":\"rgb(36,36,36)\",\"ticks\":\"outside\"}},\"type\":\"scattergeo\"}],\"scattergl\":[{\"marker\":{\"colorbar\":{\"outlinewidth\":1,\"tickcolor\":\"rgb(36,36,36)\",\"ticks\":\"outside\"}},\"type\":\"scattergl\"}],\"scattermapbox\":[{\"marker\":{\"colorbar\":{\"outlinewidth\":1,\"tickcolor\":\"rgb(36,36,36)\",\"ticks\":\"outside\"}},\"type\":\"scattermapbox\"}],\"scatterpolargl\":[{\"marker\":{\"colorbar\":{\"outlinewidth\":1,\"tickcolor\":\"rgb(36,36,36)\",\"ticks\":\"outside\"}},\"type\":\"scatterpolargl\"}],\"scatterpolar\":[{\"marker\":{\"colorbar\":{\"outlinewidth\":1,\"tickcolor\":\"rgb(36,36,36)\",\"ticks\":\"outside\"}},\"type\":\"scatterpolar\"}],\"scatter\":[{\"marker\":{\"colorbar\":{\"outlinewidth\":1,\"tickcolor\":\"rgb(36,36,36)\",\"ticks\":\"outside\"}},\"type\":\"scatter\"}],\"scatterternary\":[{\"marker\":{\"colorbar\":{\"outlinewidth\":1,\"tickcolor\":\"rgb(36,36,36)\",\"ticks\":\"outside\"}},\"type\":\"scatterternary\"}],\"surface\":[{\"colorbar\":{\"outlinewidth\":1,\"tickcolor\":\"rgb(36,36,36)\",\"ticks\":\"outside\"},\"colorscale\":[[0.0,\"#440154\"],[0.1111111111111111,\"#482878\"],[0.2222222222222222,\"#3e4989\"],[0.3333333333333333,\"#31688e\"],[0.4444444444444444,\"#26828e\"],[0.5555555555555556,\"#1f9e89\"],[0.6666666666666666,\"#35b779\"],[0.7777777777777778,\"#6ece58\"],[0.8888888888888888,\"#b5de2b\"],[1.0,\"#fde725\"]],\"type\":\"surface\"}],\"table\":[{\"cells\":{\"fill\":{\"color\":\"rgb(237,237,237)\"},\"line\":{\"color\":\"white\"}},\"header\":{\"fill\":{\"color\":\"rgb(217,217,217)\"},\"line\":{\"color\":\"white\"}},\"type\":\"table\"}]},\"layout\":{\"annotationdefaults\":{\"arrowhead\":0,\"arrowwidth\":1},\"autotypenumbers\":\"strict\",\"coloraxis\":{\"colorbar\":{\"outlinewidth\":1,\"tickcolor\":\"rgb(36,36,36)\",\"ticks\":\"outside\"}},\"colorscale\":{\"diverging\":[[0.0,\"rgb(103,0,31)\"],[0.1,\"rgb(178,24,43)\"],[0.2,\"rgb(214,96,77)\"],[0.3,\"rgb(244,165,130)\"],[0.4,\"rgb(253,219,199)\"],[0.5,\"rgb(247,247,247)\"],[0.6,\"rgb(209,229,240)\"],[0.7,\"rgb(146,197,222)\"],[0.8,\"rgb(67,147,195)\"],[0.9,\"rgb(33,102,172)\"],[1.0,\"rgb(5,48,97)\"]],\"sequential\":[[0.0,\"#440154\"],[0.1111111111111111,\"#482878\"],[0.2222222222222222,\"#3e4989\"],[0.3333333333333333,\"#31688e\"],[0.4444444444444444,\"#26828e\"],[0.5555555555555556,\"#1f9e89\"],[0.6666666666666666,\"#35b779\"],[0.7777777777777778,\"#6ece58\"],[0.8888888888888888,\"#b5de2b\"],[1.0,\"#fde725\"]],\"sequentialminus\":[[0.0,\"#440154\"],[0.1111111111111111,\"#482878\"],[0.2222222222222222,\"#3e4989\"],[0.3333333333333333,\"#31688e\"],[0.4444444444444444,\"#26828e\"],[0.5555555555555556,\"#1f9e89\"],[0.6666666666666666,\"#35b779\"],[0.7777777777777778,\"#6ece58\"],[0.8888888888888888,\"#b5de2b\"],[1.0,\"#fde725\"]]},\"colorway\":[\"#1F77B4\",\"#FF7F0E\",\"#2CA02C\",\"#D62728\",\"#9467BD\",\"#8C564B\",\"#E377C2\",\"#7F7F7F\",\"#BCBD22\",\"#17BECF\"],\"font\":{\"color\":\"rgb(36,36,36)\"},\"geo\":{\"bgcolor\":\"white\",\"lakecolor\":\"white\",\"landcolor\":\"white\",\"showlakes\":true,\"showland\":true,\"subunitcolor\":\"white\"},\"hoverlabel\":{\"align\":\"left\"},\"hovermode\":\"closest\",\"mapbox\":{\"style\":\"light\"},\"paper_bgcolor\":\"white\",\"plot_bgcolor\":\"white\",\"polar\":{\"angularaxis\":{\"gridcolor\":\"rgb(232,232,232)\",\"linecolor\":\"rgb(36,36,36)\",\"showgrid\":false,\"showline\":true,\"ticks\":\"outside\"},\"bgcolor\":\"white\",\"radialaxis\":{\"gridcolor\":\"rgb(232,232,232)\",\"linecolor\":\"rgb(36,36,36)\",\"showgrid\":false,\"showline\":true,\"ticks\":\"outside\"}},\"scene\":{\"xaxis\":{\"backgroundcolor\":\"white\",\"gridcolor\":\"rgb(232,232,232)\",\"gridwidth\":2,\"linecolor\":\"rgb(36,36,36)\",\"showbackground\":true,\"showgrid\":false,\"showline\":true,\"ticks\":\"outside\",\"zeroline\":false,\"zerolinecolor\":\"rgb(36,36,36)\"},\"yaxis\":{\"backgroundcolor\":\"white\",\"gridcolor\":\"rgb(232,232,232)\",\"gridwidth\":2,\"linecolor\":\"rgb(36,36,36)\",\"showbackground\":true,\"showgrid\":false,\"showline\":true,\"ticks\":\"outside\",\"zeroline\":false,\"zerolinecolor\":\"rgb(36,36,36)\"},\"zaxis\":{\"backgroundcolor\":\"white\",\"gridcolor\":\"rgb(232,232,232)\",\"gridwidth\":2,\"linecolor\":\"rgb(36,36,36)\",\"showbackground\":true,\"showgrid\":false,\"showline\":true,\"ticks\":\"outside\",\"zeroline\":false,\"zerolinecolor\":\"rgb(36,36,36)\"}},\"shapedefaults\":{\"fillcolor\":\"black\",\"line\":{\"width\":0},\"opacity\":0.3},\"ternary\":{\"aaxis\":{\"gridcolor\":\"rgb(232,232,232)\",\"linecolor\":\"rgb(36,36,36)\",\"showgrid\":false,\"showline\":true,\"ticks\":\"outside\"},\"baxis\":{\"gridcolor\":\"rgb(232,232,232)\",\"linecolor\":\"rgb(36,36,36)\",\"showgrid\":false,\"showline\":true,\"ticks\":\"outside\"},\"bgcolor\":\"white\",\"caxis\":{\"gridcolor\":\"rgb(232,232,232)\",\"linecolor\":\"rgb(36,36,36)\",\"showgrid\":false,\"showline\":true,\"ticks\":\"outside\"}},\"title\":{\"x\":0.05},\"xaxis\":{\"automargin\":true,\"gridcolor\":\"rgb(232,232,232)\",\"linecolor\":\"rgb(36,36,36)\",\"showgrid\":false,\"showline\":true,\"ticks\":\"outside\",\"title\":{\"standoff\":15},\"zeroline\":false,\"zerolinecolor\":\"rgb(36,36,36)\"},\"yaxis\":{\"automargin\":true,\"gridcolor\":\"rgb(232,232,232)\",\"linecolor\":\"rgb(36,36,36)\",\"showgrid\":false,\"showline\":true,\"ticks\":\"outside\",\"title\":{\"standoff\":15},\"zeroline\":false,\"zerolinecolor\":\"rgb(36,36,36)\"}}},\"xaxis\":{\"anchor\":\"y\",\"domain\":[0.0,1.0],\"title\":{\"text\":\"variable\"}},\"yaxis\":{\"anchor\":\"x\",\"domain\":[0.0,1.0],\"title\":{\"text\":\"value\"}},\"legend\":{\"tracegroupgap\":0},\"margin\":{\"t\":60},\"boxmode\":\"group\",\"height\":600,\"width\":800,\"title\":{\"text\":\"Box plot of Price Per Liter (USD) of petrol world wide\",\"x\":0.5}},                        {\"responsive\": true}                    ).then(function(){\n",
              "                            \n",
              "var gd = document.getElementById('d998e7e3-b363-4923-b9f3-6933855cb983');\n",
              "var x = new MutationObserver(function (mutations, observer) {{\n",
              "        var display = window.getComputedStyle(gd).display;\n",
              "        if (!display || display === 'none') {{\n",
              "            console.log([gd, 'removed!']);\n",
              "            Plotly.purge(gd);\n",
              "            observer.disconnect();\n",
              "        }}\n",
              "}});\n",
              "\n",
              "// Listen for the removal of the full notebook cells\n",
              "var notebookContainer = gd.closest('#notebook-container');\n",
              "if (notebookContainer) {{\n",
              "    x.observe(notebookContainer, {childList: true});\n",
              "}}\n",
              "\n",
              "// Listen for the clearing of the current output cell\n",
              "var outputEl = gd.closest('.output');\n",
              "if (outputEl) {{\n",
              "    x.observe(outputEl, {childList: true});\n",
              "}}\n",
              "\n",
              "                        })                };                            </script>        </div>\n",
              "</body>\n",
              "</html>"
            ]
          },
          "metadata": {}
        }
      ],
      "source": [
        "#plt.figure(figsize=(18,12))\n",
        "#sns.boxplot(df['Price Per Liter (USD)'])\n",
        "\n",
        "fig=px.box(df['Price Per Liter (USD)'],height=600,width=800,template='simple_white')\n",
        "fig.update_layout(title={'text':'Box plot of Price Per Liter (USD) of petrol world wide'},title_x=0.5)\n",
        "fig.show()"
      ]
    },
    {
      "cell_type": "code",
      "execution_count": null,
      "id": "4465baeb",
      "metadata": {
        "execution": {
          "iopub.execute_input": "2022-07-19T06:47:34.607929Z",
          "iopub.status.busy": "2022-07-19T06:47:34.607532Z",
          "iopub.status.idle": "2022-07-19T06:47:34.917828Z",
          "shell.execute_reply": "2022-07-19T06:47:34.916462Z"
        },
        "papermill": {
          "duration": 0.348255,
          "end_time": "2022-07-19T06:47:34.920773",
          "exception": false,
          "start_time": "2022-07-19T06:47:34.572518",
          "status": "completed"
        },
        "tags": [],
        "colab": {
          "base_uri": "https://localhost:8080/",
          "height": 517
        },
        "id": "4465baeb",
        "outputId": "43d7c7c4-127e-4b44-c4ba-074b729d9a76"
      },
      "outputs": [
        {
          "output_type": "display_data",
          "data": {
            "text/html": [
              "<html>\n",
              "<head><meta charset=\"utf-8\" /></head>\n",
              "<body>\n",
              "    <div>            <script src=\"https://cdnjs.cloudflare.com/ajax/libs/mathjax/2.7.5/MathJax.js?config=TeX-AMS-MML_SVG\"></script><script type=\"text/javascript\">if (window.MathJax) {MathJax.Hub.Config({SVG: {font: \"STIX-Web\"}});}</script>                <script type=\"text/javascript\">window.PlotlyConfig = {MathJaxConfig: 'local'};</script>\n",
              "        <script src=\"https://cdn.plot.ly/plotly-2.8.3.min.js\"></script>                <div id=\"6ecd9bd3-101e-436f-992a-cb50830d3e29\" class=\"plotly-graph-div\" style=\"height:500px; width:800px;\"></div>            <script type=\"text/javascript\">                                    window.PLOTLYENV=window.PLOTLYENV || {};                                    if (document.getElementById(\"6ecd9bd3-101e-436f-992a-cb50830d3e29\")) {                    Plotly.newPlot(                        \"6ecd9bd3-101e-436f-992a-cb50830d3e29\",                        [{\"alignmentgroup\":\"True\",\"bingroup\":\"x\",\"hovertemplate\":\"Price Per Liter (USD)=%{x}<br>count=%{y}<extra></extra>\",\"legendgroup\":\"\",\"marker\":{\"color\":\"#1F77B4\",\"pattern\":{\"shape\":\"\"}},\"name\":\"\",\"nbinsx\":100,\"offsetgroup\":\"\",\"orientation\":\"v\",\"showlegend\":false,\"x\":[1.37,1.43,1.33,1.24,0.9,0.62,1.42,1.61,1.79,2.02,1.15,0.05,2.19,1.18,2.22,2.3,1.51,2.12,2.21,1.38,1.6,1.04,2.47,0.52,0.51,1.1,1.48,1.05,0.46,2.21,1.03,1.8,0.02,1.42,0.42,1.55,0.6,0.31,1.39,3.0,0.34,1.7,1.68,1.65,1.17,0.48,2.51,2.13,2.3,1.82,1.26,2.01,2.0,1.43,2.26,0.43,2.19,2.65,2.1,2.07,0.03,2.07,2.64,1.45,2.7,0.62,0.58,0.95,1.26,1.36,1.27,0.37,1.26,0.29,0.76,1.66,1.41,1.72,0.71,1.43,0.59,1.36,0.54,1.29,1.98,0.71,1.76,1.28,1.91,0.53,2.14,0.52,1.45,0.99,2.09,1.55,1.68,2.02,1.14,1.62,1.86,1.18,1.4,0.9,1.42,1.53,1.4,1.42,1.3,1.04,0.83,2.19,1.55,1.37,0.96,0.96,1.73,1.33,1.51,2.21,1.68,2.11,1.27,1.62,1.75,1.14,0.58,1.22,1.48,1.17,1.57,1.23,1.13,1.88,0.97,1.71,2.16,1.36,2.6,14.5,1.02,1.91,1.78,1.04,1.43,1.39,0.22,0.84,1.22,1.13,0.95,2.18,1.27,1.3,1.61,1.82,1.71,1.42,1.37,1.35,1.26,0.8,1.81,1.5,1.66,1.76,1.33,1.18,2.39,1.22,1.34,1.36,1.26,0.95,1.3,4.28,2.19,1.08,1.21,1.46,3.02],\"xaxis\":\"x\",\"yaxis\":\"y\",\"type\":\"histogram\"}],                        {\"template\":{\"data\":{\"barpolar\":[{\"marker\":{\"line\":{\"color\":\"white\",\"width\":0.5},\"pattern\":{\"fillmode\":\"overlay\",\"size\":10,\"solidity\":0.2}},\"type\":\"barpolar\"}],\"bar\":[{\"error_x\":{\"color\":\"rgb(36,36,36)\"},\"error_y\":{\"color\":\"rgb(36,36,36)\"},\"marker\":{\"line\":{\"color\":\"white\",\"width\":0.5},\"pattern\":{\"fillmode\":\"overlay\",\"size\":10,\"solidity\":0.2}},\"type\":\"bar\"}],\"carpet\":[{\"aaxis\":{\"endlinecolor\":\"rgb(36,36,36)\",\"gridcolor\":\"white\",\"linecolor\":\"white\",\"minorgridcolor\":\"white\",\"startlinecolor\":\"rgb(36,36,36)\"},\"baxis\":{\"endlinecolor\":\"rgb(36,36,36)\",\"gridcolor\":\"white\",\"linecolor\":\"white\",\"minorgridcolor\":\"white\",\"startlinecolor\":\"rgb(36,36,36)\"},\"type\":\"carpet\"}],\"choropleth\":[{\"colorbar\":{\"outlinewidth\":1,\"tickcolor\":\"rgb(36,36,36)\",\"ticks\":\"outside\"},\"type\":\"choropleth\"}],\"contourcarpet\":[{\"colorbar\":{\"outlinewidth\":1,\"tickcolor\":\"rgb(36,36,36)\",\"ticks\":\"outside\"},\"type\":\"contourcarpet\"}],\"contour\":[{\"colorbar\":{\"outlinewidth\":1,\"tickcolor\":\"rgb(36,36,36)\",\"ticks\":\"outside\"},\"colorscale\":[[0.0,\"#440154\"],[0.1111111111111111,\"#482878\"],[0.2222222222222222,\"#3e4989\"],[0.3333333333333333,\"#31688e\"],[0.4444444444444444,\"#26828e\"],[0.5555555555555556,\"#1f9e89\"],[0.6666666666666666,\"#35b779\"],[0.7777777777777778,\"#6ece58\"],[0.8888888888888888,\"#b5de2b\"],[1.0,\"#fde725\"]],\"type\":\"contour\"}],\"heatmapgl\":[{\"colorbar\":{\"outlinewidth\":1,\"tickcolor\":\"rgb(36,36,36)\",\"ticks\":\"outside\"},\"colorscale\":[[0.0,\"#440154\"],[0.1111111111111111,\"#482878\"],[0.2222222222222222,\"#3e4989\"],[0.3333333333333333,\"#31688e\"],[0.4444444444444444,\"#26828e\"],[0.5555555555555556,\"#1f9e89\"],[0.6666666666666666,\"#35b779\"],[0.7777777777777778,\"#6ece58\"],[0.8888888888888888,\"#b5de2b\"],[1.0,\"#fde725\"]],\"type\":\"heatmapgl\"}],\"heatmap\":[{\"colorbar\":{\"outlinewidth\":1,\"tickcolor\":\"rgb(36,36,36)\",\"ticks\":\"outside\"},\"colorscale\":[[0.0,\"#440154\"],[0.1111111111111111,\"#482878\"],[0.2222222222222222,\"#3e4989\"],[0.3333333333333333,\"#31688e\"],[0.4444444444444444,\"#26828e\"],[0.5555555555555556,\"#1f9e89\"],[0.6666666666666666,\"#35b779\"],[0.7777777777777778,\"#6ece58\"],[0.8888888888888888,\"#b5de2b\"],[1.0,\"#fde725\"]],\"type\":\"heatmap\"}],\"histogram2dcontour\":[{\"colorbar\":{\"outlinewidth\":1,\"tickcolor\":\"rgb(36,36,36)\",\"ticks\":\"outside\"},\"colorscale\":[[0.0,\"#440154\"],[0.1111111111111111,\"#482878\"],[0.2222222222222222,\"#3e4989\"],[0.3333333333333333,\"#31688e\"],[0.4444444444444444,\"#26828e\"],[0.5555555555555556,\"#1f9e89\"],[0.6666666666666666,\"#35b779\"],[0.7777777777777778,\"#6ece58\"],[0.8888888888888888,\"#b5de2b\"],[1.0,\"#fde725\"]],\"type\":\"histogram2dcontour\"}],\"histogram2d\":[{\"colorbar\":{\"outlinewidth\":1,\"tickcolor\":\"rgb(36,36,36)\",\"ticks\":\"outside\"},\"colorscale\":[[0.0,\"#440154\"],[0.1111111111111111,\"#482878\"],[0.2222222222222222,\"#3e4989\"],[0.3333333333333333,\"#31688e\"],[0.4444444444444444,\"#26828e\"],[0.5555555555555556,\"#1f9e89\"],[0.6666666666666666,\"#35b779\"],[0.7777777777777778,\"#6ece58\"],[0.8888888888888888,\"#b5de2b\"],[1.0,\"#fde725\"]],\"type\":\"histogram2d\"}],\"histogram\":[{\"marker\":{\"line\":{\"color\":\"white\",\"width\":0.6}},\"type\":\"histogram\"}],\"mesh3d\":[{\"colorbar\":{\"outlinewidth\":1,\"tickcolor\":\"rgb(36,36,36)\",\"ticks\":\"outside\"},\"type\":\"mesh3d\"}],\"parcoords\":[{\"line\":{\"colorbar\":{\"outlinewidth\":1,\"tickcolor\":\"rgb(36,36,36)\",\"ticks\":\"outside\"}},\"type\":\"parcoords\"}],\"pie\":[{\"automargin\":true,\"type\":\"pie\"}],\"scatter3d\":[{\"line\":{\"colorbar\":{\"outlinewidth\":1,\"tickcolor\":\"rgb(36,36,36)\",\"ticks\":\"outside\"}},\"marker\":{\"colorbar\":{\"outlinewidth\":1,\"tickcolor\":\"rgb(36,36,36)\",\"ticks\":\"outside\"}},\"type\":\"scatter3d\"}],\"scattercarpet\":[{\"marker\":{\"colorbar\":{\"outlinewidth\":1,\"tickcolor\":\"rgb(36,36,36)\",\"ticks\":\"outside\"}},\"type\":\"scattercarpet\"}],\"scattergeo\":[{\"marker\":{\"colorbar\":{\"outlinewidth\":1,\"tickcolor\":\"rgb(36,36,36)\",\"ticks\":\"outside\"}},\"type\":\"scattergeo\"}],\"scattergl\":[{\"marker\":{\"colorbar\":{\"outlinewidth\":1,\"tickcolor\":\"rgb(36,36,36)\",\"ticks\":\"outside\"}},\"type\":\"scattergl\"}],\"scattermapbox\":[{\"marker\":{\"colorbar\":{\"outlinewidth\":1,\"tickcolor\":\"rgb(36,36,36)\",\"ticks\":\"outside\"}},\"type\":\"scattermapbox\"}],\"scatterpolargl\":[{\"marker\":{\"colorbar\":{\"outlinewidth\":1,\"tickcolor\":\"rgb(36,36,36)\",\"ticks\":\"outside\"}},\"type\":\"scatterpolargl\"}],\"scatterpolar\":[{\"marker\":{\"colorbar\":{\"outlinewidth\":1,\"tickcolor\":\"rgb(36,36,36)\",\"ticks\":\"outside\"}},\"type\":\"scatterpolar\"}],\"scatter\":[{\"marker\":{\"colorbar\":{\"outlinewidth\":1,\"tickcolor\":\"rgb(36,36,36)\",\"ticks\":\"outside\"}},\"type\":\"scatter\"}],\"scatterternary\":[{\"marker\":{\"colorbar\":{\"outlinewidth\":1,\"tickcolor\":\"rgb(36,36,36)\",\"ticks\":\"outside\"}},\"type\":\"scatterternary\"}],\"surface\":[{\"colorbar\":{\"outlinewidth\":1,\"tickcolor\":\"rgb(36,36,36)\",\"ticks\":\"outside\"},\"colorscale\":[[0.0,\"#440154\"],[0.1111111111111111,\"#482878\"],[0.2222222222222222,\"#3e4989\"],[0.3333333333333333,\"#31688e\"],[0.4444444444444444,\"#26828e\"],[0.5555555555555556,\"#1f9e89\"],[0.6666666666666666,\"#35b779\"],[0.7777777777777778,\"#6ece58\"],[0.8888888888888888,\"#b5de2b\"],[1.0,\"#fde725\"]],\"type\":\"surface\"}],\"table\":[{\"cells\":{\"fill\":{\"color\":\"rgb(237,237,237)\"},\"line\":{\"color\":\"white\"}},\"header\":{\"fill\":{\"color\":\"rgb(217,217,217)\"},\"line\":{\"color\":\"white\"}},\"type\":\"table\"}]},\"layout\":{\"annotationdefaults\":{\"arrowhead\":0,\"arrowwidth\":1},\"autotypenumbers\":\"strict\",\"coloraxis\":{\"colorbar\":{\"outlinewidth\":1,\"tickcolor\":\"rgb(36,36,36)\",\"ticks\":\"outside\"}},\"colorscale\":{\"diverging\":[[0.0,\"rgb(103,0,31)\"],[0.1,\"rgb(178,24,43)\"],[0.2,\"rgb(214,96,77)\"],[0.3,\"rgb(244,165,130)\"],[0.4,\"rgb(253,219,199)\"],[0.5,\"rgb(247,247,247)\"],[0.6,\"rgb(209,229,240)\"],[0.7,\"rgb(146,197,222)\"],[0.8,\"rgb(67,147,195)\"],[0.9,\"rgb(33,102,172)\"],[1.0,\"rgb(5,48,97)\"]],\"sequential\":[[0.0,\"#440154\"],[0.1111111111111111,\"#482878\"],[0.2222222222222222,\"#3e4989\"],[0.3333333333333333,\"#31688e\"],[0.4444444444444444,\"#26828e\"],[0.5555555555555556,\"#1f9e89\"],[0.6666666666666666,\"#35b779\"],[0.7777777777777778,\"#6ece58\"],[0.8888888888888888,\"#b5de2b\"],[1.0,\"#fde725\"]],\"sequentialminus\":[[0.0,\"#440154\"],[0.1111111111111111,\"#482878\"],[0.2222222222222222,\"#3e4989\"],[0.3333333333333333,\"#31688e\"],[0.4444444444444444,\"#26828e\"],[0.5555555555555556,\"#1f9e89\"],[0.6666666666666666,\"#35b779\"],[0.7777777777777778,\"#6ece58\"],[0.8888888888888888,\"#b5de2b\"],[1.0,\"#fde725\"]]},\"colorway\":[\"#1F77B4\",\"#FF7F0E\",\"#2CA02C\",\"#D62728\",\"#9467BD\",\"#8C564B\",\"#E377C2\",\"#7F7F7F\",\"#BCBD22\",\"#17BECF\"],\"font\":{\"color\":\"rgb(36,36,36)\"},\"geo\":{\"bgcolor\":\"white\",\"lakecolor\":\"white\",\"landcolor\":\"white\",\"showlakes\":true,\"showland\":true,\"subunitcolor\":\"white\"},\"hoverlabel\":{\"align\":\"left\"},\"hovermode\":\"closest\",\"mapbox\":{\"style\":\"light\"},\"paper_bgcolor\":\"white\",\"plot_bgcolor\":\"white\",\"polar\":{\"angularaxis\":{\"gridcolor\":\"rgb(232,232,232)\",\"linecolor\":\"rgb(36,36,36)\",\"showgrid\":false,\"showline\":true,\"ticks\":\"outside\"},\"bgcolor\":\"white\",\"radialaxis\":{\"gridcolor\":\"rgb(232,232,232)\",\"linecolor\":\"rgb(36,36,36)\",\"showgrid\":false,\"showline\":true,\"ticks\":\"outside\"}},\"scene\":{\"xaxis\":{\"backgroundcolor\":\"white\",\"gridcolor\":\"rgb(232,232,232)\",\"gridwidth\":2,\"linecolor\":\"rgb(36,36,36)\",\"showbackground\":true,\"showgrid\":false,\"showline\":true,\"ticks\":\"outside\",\"zeroline\":false,\"zerolinecolor\":\"rgb(36,36,36)\"},\"yaxis\":{\"backgroundcolor\":\"white\",\"gridcolor\":\"rgb(232,232,232)\",\"gridwidth\":2,\"linecolor\":\"rgb(36,36,36)\",\"showbackground\":true,\"showgrid\":false,\"showline\":true,\"ticks\":\"outside\",\"zeroline\":false,\"zerolinecolor\":\"rgb(36,36,36)\"},\"zaxis\":{\"backgroundcolor\":\"white\",\"gridcolor\":\"rgb(232,232,232)\",\"gridwidth\":2,\"linecolor\":\"rgb(36,36,36)\",\"showbackground\":true,\"showgrid\":false,\"showline\":true,\"ticks\":\"outside\",\"zeroline\":false,\"zerolinecolor\":\"rgb(36,36,36)\"}},\"shapedefaults\":{\"fillcolor\":\"black\",\"line\":{\"width\":0},\"opacity\":0.3},\"ternary\":{\"aaxis\":{\"gridcolor\":\"rgb(232,232,232)\",\"linecolor\":\"rgb(36,36,36)\",\"showgrid\":false,\"showline\":true,\"ticks\":\"outside\"},\"baxis\":{\"gridcolor\":\"rgb(232,232,232)\",\"linecolor\":\"rgb(36,36,36)\",\"showgrid\":false,\"showline\":true,\"ticks\":\"outside\"},\"bgcolor\":\"white\",\"caxis\":{\"gridcolor\":\"rgb(232,232,232)\",\"linecolor\":\"rgb(36,36,36)\",\"showgrid\":false,\"showline\":true,\"ticks\":\"outside\"}},\"title\":{\"x\":0.05},\"xaxis\":{\"automargin\":true,\"gridcolor\":\"rgb(232,232,232)\",\"linecolor\":\"rgb(36,36,36)\",\"showgrid\":false,\"showline\":true,\"ticks\":\"outside\",\"title\":{\"standoff\":15},\"zeroline\":false,\"zerolinecolor\":\"rgb(36,36,36)\"},\"yaxis\":{\"automargin\":true,\"gridcolor\":\"rgb(232,232,232)\",\"linecolor\":\"rgb(36,36,36)\",\"showgrid\":false,\"showline\":true,\"ticks\":\"outside\",\"title\":{\"standoff\":15},\"zeroline\":false,\"zerolinecolor\":\"rgb(36,36,36)\"}}},\"xaxis\":{\"anchor\":\"y\",\"domain\":[0.0,1.0],\"title\":{\"text\":\"Price Per Liter (USD)\"}},\"yaxis\":{\"anchor\":\"x\",\"domain\":[0.0,1.0],\"title\":{\"text\":\"count\"}},\"legend\":{\"tracegroupgap\":0},\"margin\":{\"t\":60},\"barmode\":\"relative\",\"height\":500,\"width\":800,\"title\":{\"text\":\"Histogram of Price Per Liter (USD) of petrol world wide\",\"x\":0.5}},                        {\"responsive\": true}                    ).then(function(){\n",
              "                            \n",
              "var gd = document.getElementById('6ecd9bd3-101e-436f-992a-cb50830d3e29');\n",
              "var x = new MutationObserver(function (mutations, observer) {{\n",
              "        var display = window.getComputedStyle(gd).display;\n",
              "        if (!display || display === 'none') {{\n",
              "            console.log([gd, 'removed!']);\n",
              "            Plotly.purge(gd);\n",
              "            observer.disconnect();\n",
              "        }}\n",
              "}});\n",
              "\n",
              "// Listen for the removal of the full notebook cells\n",
              "var notebookContainer = gd.closest('#notebook-container');\n",
              "if (notebookContainer) {{\n",
              "    x.observe(notebookContainer, {childList: true});\n",
              "}}\n",
              "\n",
              "// Listen for the clearing of the current output cell\n",
              "var outputEl = gd.closest('.output');\n",
              "if (outputEl) {{\n",
              "    x.observe(outputEl, {childList: true});\n",
              "}}\n",
              "\n",
              "                        })                };                            </script>        </div>\n",
              "</body>\n",
              "</html>"
            ]
          },
          "metadata": {}
        }
      ],
      "source": [
        "fig=px.histogram(df,x='Price Per Liter (USD)',nbins=100,template='simple_white',height=500,width=800)\n",
        "fig.update_layout(title={'text':'Histogram of Price Per Liter (USD) of petrol world wide'},title_x=0.5)\n",
        "fig.show()"
      ]
    },
    {
      "cell_type": "code",
      "execution_count": null,
      "id": "8dd24c2b",
      "metadata": {
        "execution": {
          "iopub.execute_input": "2022-07-19T06:47:34.984447Z",
          "iopub.status.busy": "2022-07-19T06:47:34.983014Z",
          "iopub.status.idle": "2022-07-19T06:47:35.014268Z",
          "shell.execute_reply": "2022-07-19T06:47:35.013094Z"
        },
        "papermill": {
          "duration": 0.065527,
          "end_time": "2022-07-19T06:47:35.016927",
          "exception": false,
          "start_time": "2022-07-19T06:47:34.951400",
          "status": "completed"
        },
        "tags": [],
        "colab": {
          "base_uri": "https://localhost:8080/",
          "height": 363
        },
        "id": "8dd24c2b",
        "outputId": "8f82aacb-a62a-40b5-b80c-d4836cf3ef37"
      },
      "outputs": [
        {
          "output_type": "execute_result",
          "data": {
            "text/plain": [
              "         Country  Daily Oil Consumption (Barrels)  World Share %  \\\n",
              "0  United States                         19687287      20.385127   \n",
              "1          China                         12791553      13.244965   \n",
              "2          India                          4443000       4.600487   \n",
              "3          Japan                          4012877       4.155118   \n",
              "4         Russia                          3631287       3.760002   \n",
              "5   Saudi Arabia                          3302000       3.419043   \n",
              "6         Brazil                          2984000       3.089771   \n",
              "7    South Korea                          2605440       2.697793   \n",
              "8         Canada                          2486301       2.574431   \n",
              "9        Germany                          2383393       2.467875   \n",
              "\n",
              "   Yearly Gallons Per Capita  Price Per Gallon (USD)  Price Per Liter (USD)  \\\n",
              "0                      934.3                    5.19                   1.37   \n",
              "1                      138.7                    5.42                   1.43   \n",
              "2                       51.4                    5.05                   1.33   \n",
              "3                      481.5                    4.69                   1.24   \n",
              "4                      383.2                    3.41                   0.90   \n",
              "5                     1560.2                    2.35                   0.62   \n",
              "6                      221.9                    5.36                   1.42   \n",
              "7                      783.4                    6.09                   1.61   \n",
              "8                     1047.6                    6.76                   1.79   \n",
              "9                      444.5                    7.65                   2.02   \n",
              "\n",
              "   Price Per Liter (PKR)  \n",
              "0                 289.97  \n",
              "1                 302.87  \n",
              "2                 281.93  \n",
              "3                 262.05  \n",
              "4                 190.56  \n",
              "5                 131.34  \n",
              "6                 299.27  \n",
              "7                 340.52  \n",
              "8                 377.74  \n",
              "9                 427.44  "
            ],
            "text/html": [
              "\n",
              "  <div id=\"df-a84d300c-f91d-42e2-b6c0-60a99af7f997\">\n",
              "    <div class=\"colab-df-container\">\n",
              "      <div>\n",
              "<style scoped>\n",
              "    .dataframe tbody tr th:only-of-type {\n",
              "        vertical-align: middle;\n",
              "    }\n",
              "\n",
              "    .dataframe tbody tr th {\n",
              "        vertical-align: top;\n",
              "    }\n",
              "\n",
              "    .dataframe thead th {\n",
              "        text-align: right;\n",
              "    }\n",
              "</style>\n",
              "<table border=\"1\" class=\"dataframe\">\n",
              "  <thead>\n",
              "    <tr style=\"text-align: right;\">\n",
              "      <th></th>\n",
              "      <th>Country</th>\n",
              "      <th>Daily Oil Consumption (Barrels)</th>\n",
              "      <th>World Share %</th>\n",
              "      <th>Yearly Gallons Per Capita</th>\n",
              "      <th>Price Per Gallon (USD)</th>\n",
              "      <th>Price Per Liter (USD)</th>\n",
              "      <th>Price Per Liter (PKR)</th>\n",
              "    </tr>\n",
              "  </thead>\n",
              "  <tbody>\n",
              "    <tr>\n",
              "      <th>0</th>\n",
              "      <td>United States</td>\n",
              "      <td>19687287</td>\n",
              "      <td>20.385127</td>\n",
              "      <td>934.3</td>\n",
              "      <td>5.19</td>\n",
              "      <td>1.37</td>\n",
              "      <td>289.97</td>\n",
              "    </tr>\n",
              "    <tr>\n",
              "      <th>1</th>\n",
              "      <td>China</td>\n",
              "      <td>12791553</td>\n",
              "      <td>13.244965</td>\n",
              "      <td>138.7</td>\n",
              "      <td>5.42</td>\n",
              "      <td>1.43</td>\n",
              "      <td>302.87</td>\n",
              "    </tr>\n",
              "    <tr>\n",
              "      <th>2</th>\n",
              "      <td>India</td>\n",
              "      <td>4443000</td>\n",
              "      <td>4.600487</td>\n",
              "      <td>51.4</td>\n",
              "      <td>5.05</td>\n",
              "      <td>1.33</td>\n",
              "      <td>281.93</td>\n",
              "    </tr>\n",
              "    <tr>\n",
              "      <th>3</th>\n",
              "      <td>Japan</td>\n",
              "      <td>4012877</td>\n",
              "      <td>4.155118</td>\n",
              "      <td>481.5</td>\n",
              "      <td>4.69</td>\n",
              "      <td>1.24</td>\n",
              "      <td>262.05</td>\n",
              "    </tr>\n",
              "    <tr>\n",
              "      <th>4</th>\n",
              "      <td>Russia</td>\n",
              "      <td>3631287</td>\n",
              "      <td>3.760002</td>\n",
              "      <td>383.2</td>\n",
              "      <td>3.41</td>\n",
              "      <td>0.90</td>\n",
              "      <td>190.56</td>\n",
              "    </tr>\n",
              "    <tr>\n",
              "      <th>5</th>\n",
              "      <td>Saudi Arabia</td>\n",
              "      <td>3302000</td>\n",
              "      <td>3.419043</td>\n",
              "      <td>1560.2</td>\n",
              "      <td>2.35</td>\n",
              "      <td>0.62</td>\n",
              "      <td>131.34</td>\n",
              "    </tr>\n",
              "    <tr>\n",
              "      <th>6</th>\n",
              "      <td>Brazil</td>\n",
              "      <td>2984000</td>\n",
              "      <td>3.089771</td>\n",
              "      <td>221.9</td>\n",
              "      <td>5.36</td>\n",
              "      <td>1.42</td>\n",
              "      <td>299.27</td>\n",
              "    </tr>\n",
              "    <tr>\n",
              "      <th>7</th>\n",
              "      <td>South Korea</td>\n",
              "      <td>2605440</td>\n",
              "      <td>2.697793</td>\n",
              "      <td>783.4</td>\n",
              "      <td>6.09</td>\n",
              "      <td>1.61</td>\n",
              "      <td>340.52</td>\n",
              "    </tr>\n",
              "    <tr>\n",
              "      <th>8</th>\n",
              "      <td>Canada</td>\n",
              "      <td>2486301</td>\n",
              "      <td>2.574431</td>\n",
              "      <td>1047.6</td>\n",
              "      <td>6.76</td>\n",
              "      <td>1.79</td>\n",
              "      <td>377.74</td>\n",
              "    </tr>\n",
              "    <tr>\n",
              "      <th>9</th>\n",
              "      <td>Germany</td>\n",
              "      <td>2383393</td>\n",
              "      <td>2.467875</td>\n",
              "      <td>444.5</td>\n",
              "      <td>7.65</td>\n",
              "      <td>2.02</td>\n",
              "      <td>427.44</td>\n",
              "    </tr>\n",
              "  </tbody>\n",
              "</table>\n",
              "</div>\n",
              "      <button class=\"colab-df-convert\" onclick=\"convertToInteractive('df-a84d300c-f91d-42e2-b6c0-60a99af7f997')\"\n",
              "              title=\"Convert this dataframe to an interactive table.\"\n",
              "              style=\"display:none;\">\n",
              "        \n",
              "  <svg xmlns=\"http://www.w3.org/2000/svg\" height=\"24px\"viewBox=\"0 0 24 24\"\n",
              "       width=\"24px\">\n",
              "    <path d=\"M0 0h24v24H0V0z\" fill=\"none\"/>\n",
              "    <path d=\"M18.56 5.44l.94 2.06.94-2.06 2.06-.94-2.06-.94-.94-2.06-.94 2.06-2.06.94zm-11 1L8.5 8.5l.94-2.06 2.06-.94-2.06-.94L8.5 2.5l-.94 2.06-2.06.94zm10 10l.94 2.06.94-2.06 2.06-.94-2.06-.94-.94-2.06-.94 2.06-2.06.94z\"/><path d=\"M17.41 7.96l-1.37-1.37c-.4-.4-.92-.59-1.43-.59-.52 0-1.04.2-1.43.59L10.3 9.45l-7.72 7.72c-.78.78-.78 2.05 0 2.83L4 21.41c.39.39.9.59 1.41.59.51 0 1.02-.2 1.41-.59l7.78-7.78 2.81-2.81c.8-.78.8-2.07 0-2.86zM5.41 20L4 18.59l7.72-7.72 1.47 1.35L5.41 20z\"/>\n",
              "  </svg>\n",
              "      </button>\n",
              "      \n",
              "  <style>\n",
              "    .colab-df-container {\n",
              "      display:flex;\n",
              "      flex-wrap:wrap;\n",
              "      gap: 12px;\n",
              "    }\n",
              "\n",
              "    .colab-df-convert {\n",
              "      background-color: #E8F0FE;\n",
              "      border: none;\n",
              "      border-radius: 50%;\n",
              "      cursor: pointer;\n",
              "      display: none;\n",
              "      fill: #1967D2;\n",
              "      height: 32px;\n",
              "      padding: 0 0 0 0;\n",
              "      width: 32px;\n",
              "    }\n",
              "\n",
              "    .colab-df-convert:hover {\n",
              "      background-color: #E2EBFA;\n",
              "      box-shadow: 0px 1px 2px rgba(60, 64, 67, 0.3), 0px 1px 3px 1px rgba(60, 64, 67, 0.15);\n",
              "      fill: #174EA6;\n",
              "    }\n",
              "\n",
              "    [theme=dark] .colab-df-convert {\n",
              "      background-color: #3B4455;\n",
              "      fill: #D2E3FC;\n",
              "    }\n",
              "\n",
              "    [theme=dark] .colab-df-convert:hover {\n",
              "      background-color: #434B5C;\n",
              "      box-shadow: 0px 1px 3px 1px rgba(0, 0, 0, 0.15);\n",
              "      filter: drop-shadow(0px 1px 2px rgba(0, 0, 0, 0.3));\n",
              "      fill: #FFFFFF;\n",
              "    }\n",
              "  </style>\n",
              "\n",
              "      <script>\n",
              "        const buttonEl =\n",
              "          document.querySelector('#df-a84d300c-f91d-42e2-b6c0-60a99af7f997 button.colab-df-convert');\n",
              "        buttonEl.style.display =\n",
              "          google.colab.kernel.accessAllowed ? 'block' : 'none';\n",
              "\n",
              "        async function convertToInteractive(key) {\n",
              "          const element = document.querySelector('#df-a84d300c-f91d-42e2-b6c0-60a99af7f997');\n",
              "          const dataTable =\n",
              "            await google.colab.kernel.invokeFunction('convertToInteractive',\n",
              "                                                     [key], {});\n",
              "          if (!dataTable) return;\n",
              "\n",
              "          const docLinkHtml = 'Like what you see? Visit the ' +\n",
              "            '<a target=\"_blank\" href=https://colab.research.google.com/notebooks/data_table.ipynb>data table notebook</a>'\n",
              "            + ' to learn more about interactive tables.';\n",
              "          element.innerHTML = '';\n",
              "          dataTable['output_type'] = 'display_data';\n",
              "          await google.colab.output.renderOutput(dataTable, element);\n",
              "          const docLink = document.createElement('div');\n",
              "          docLink.innerHTML = docLinkHtml;\n",
              "          element.appendChild(docLink);\n",
              "        }\n",
              "      </script>\n",
              "    </div>\n",
              "  </div>\n",
              "  "
            ]
          },
          "metadata": {},
          "execution_count": 50
        }
      ],
      "source": [
        "top_10_countries = df.nlargest(10, 'Daily Oil Consumption (Barrels)')\n",
        "top_10_countries.head(10)"
      ]
    },
    {
      "cell_type": "code",
      "execution_count": null,
      "id": "97af8e3c",
      "metadata": {
        "execution": {
          "iopub.execute_input": "2022-07-19T06:47:35.086288Z",
          "iopub.status.busy": "2022-07-19T06:47:35.085304Z",
          "iopub.status.idle": "2022-07-19T06:47:35.181496Z",
          "shell.execute_reply": "2022-07-19T06:47:35.180372Z"
        },
        "papermill": {
          "duration": 0.131497,
          "end_time": "2022-07-19T06:47:35.184665",
          "exception": false,
          "start_time": "2022-07-19T06:47:35.053168",
          "status": "completed"
        },
        "tags": [],
        "colab": {
          "base_uri": "https://localhost:8080/",
          "height": 317
        },
        "id": "97af8e3c",
        "outputId": "6e2d3808-5d22-435b-f8da-3646b39a5ea5"
      },
      "outputs": [
        {
          "output_type": "display_data",
          "data": {
            "text/html": [
              "<html>\n",
              "<head><meta charset=\"utf-8\" /></head>\n",
              "<body>\n",
              "    <div>            <script src=\"https://cdnjs.cloudflare.com/ajax/libs/mathjax/2.7.5/MathJax.js?config=TeX-AMS-MML_SVG\"></script><script type=\"text/javascript\">if (window.MathJax) {MathJax.Hub.Config({SVG: {font: \"STIX-Web\"}});}</script>                <script type=\"text/javascript\">window.PlotlyConfig = {MathJaxConfig: 'local'};</script>\n",
              "        <script src=\"https://cdn.plot.ly/plotly-2.8.3.min.js\"></script>                <div id=\"4d785181-6f72-448d-bd0a-70a24ec70c9e\" class=\"plotly-graph-div\" style=\"height:300px; width:800px;\"></div>            <script type=\"text/javascript\">                                    window.PLOTLYENV=window.PLOTLYENV || {};                                    if (document.getElementById(\"4d785181-6f72-448d-bd0a-70a24ec70c9e\")) {                    Plotly.newPlot(                        \"4d785181-6f72-448d-bd0a-70a24ec70c9e\",                        [{\"alignmentgroup\":\"True\",\"hovertemplate\":\"Daily Oil Consumption (Barrels)=%{x}<br>Country=%{y}<extra></extra>\",\"legendgroup\":\"\",\"marker\":{\"color\":\"#1F77B4\",\"pattern\":{\"shape\":\"\"}},\"name\":\"\",\"offsetgroup\":\"\",\"orientation\":\"h\",\"showlegend\":false,\"textposition\":\"auto\",\"x\":[19687287,12791553,4443000,4012877,3631287,3302000,2984000,2605440,2486301,2383393],\"xaxis\":\"x\",\"y\":[\"United States\",\"China\",\"India\",\"Japan\",\"Russia\",\"Saudi Arabia\",\"Brazil\",\"South Korea\",\"Canada\",\"Germany\"],\"yaxis\":\"y\",\"type\":\"bar\"}],                        {\"template\":{\"data\":{\"barpolar\":[{\"marker\":{\"line\":{\"color\":\"white\",\"width\":0.5},\"pattern\":{\"fillmode\":\"overlay\",\"size\":10,\"solidity\":0.2}},\"type\":\"barpolar\"}],\"bar\":[{\"error_x\":{\"color\":\"rgb(36,36,36)\"},\"error_y\":{\"color\":\"rgb(36,36,36)\"},\"marker\":{\"line\":{\"color\":\"white\",\"width\":0.5},\"pattern\":{\"fillmode\":\"overlay\",\"size\":10,\"solidity\":0.2}},\"type\":\"bar\"}],\"carpet\":[{\"aaxis\":{\"endlinecolor\":\"rgb(36,36,36)\",\"gridcolor\":\"white\",\"linecolor\":\"white\",\"minorgridcolor\":\"white\",\"startlinecolor\":\"rgb(36,36,36)\"},\"baxis\":{\"endlinecolor\":\"rgb(36,36,36)\",\"gridcolor\":\"white\",\"linecolor\":\"white\",\"minorgridcolor\":\"white\",\"startlinecolor\":\"rgb(36,36,36)\"},\"type\":\"carpet\"}],\"choropleth\":[{\"colorbar\":{\"outlinewidth\":1,\"tickcolor\":\"rgb(36,36,36)\",\"ticks\":\"outside\"},\"type\":\"choropleth\"}],\"contourcarpet\":[{\"colorbar\":{\"outlinewidth\":1,\"tickcolor\":\"rgb(36,36,36)\",\"ticks\":\"outside\"},\"type\":\"contourcarpet\"}],\"contour\":[{\"colorbar\":{\"outlinewidth\":1,\"tickcolor\":\"rgb(36,36,36)\",\"ticks\":\"outside\"},\"colorscale\":[[0.0,\"#440154\"],[0.1111111111111111,\"#482878\"],[0.2222222222222222,\"#3e4989\"],[0.3333333333333333,\"#31688e\"],[0.4444444444444444,\"#26828e\"],[0.5555555555555556,\"#1f9e89\"],[0.6666666666666666,\"#35b779\"],[0.7777777777777778,\"#6ece58\"],[0.8888888888888888,\"#b5de2b\"],[1.0,\"#fde725\"]],\"type\":\"contour\"}],\"heatmapgl\":[{\"colorbar\":{\"outlinewidth\":1,\"tickcolor\":\"rgb(36,36,36)\",\"ticks\":\"outside\"},\"colorscale\":[[0.0,\"#440154\"],[0.1111111111111111,\"#482878\"],[0.2222222222222222,\"#3e4989\"],[0.3333333333333333,\"#31688e\"],[0.4444444444444444,\"#26828e\"],[0.5555555555555556,\"#1f9e89\"],[0.6666666666666666,\"#35b779\"],[0.7777777777777778,\"#6ece58\"],[0.8888888888888888,\"#b5de2b\"],[1.0,\"#fde725\"]],\"type\":\"heatmapgl\"}],\"heatmap\":[{\"colorbar\":{\"outlinewidth\":1,\"tickcolor\":\"rgb(36,36,36)\",\"ticks\":\"outside\"},\"colorscale\":[[0.0,\"#440154\"],[0.1111111111111111,\"#482878\"],[0.2222222222222222,\"#3e4989\"],[0.3333333333333333,\"#31688e\"],[0.4444444444444444,\"#26828e\"],[0.5555555555555556,\"#1f9e89\"],[0.6666666666666666,\"#35b779\"],[0.7777777777777778,\"#6ece58\"],[0.8888888888888888,\"#b5de2b\"],[1.0,\"#fde725\"]],\"type\":\"heatmap\"}],\"histogram2dcontour\":[{\"colorbar\":{\"outlinewidth\":1,\"tickcolor\":\"rgb(36,36,36)\",\"ticks\":\"outside\"},\"colorscale\":[[0.0,\"#440154\"],[0.1111111111111111,\"#482878\"],[0.2222222222222222,\"#3e4989\"],[0.3333333333333333,\"#31688e\"],[0.4444444444444444,\"#26828e\"],[0.5555555555555556,\"#1f9e89\"],[0.6666666666666666,\"#35b779\"],[0.7777777777777778,\"#6ece58\"],[0.8888888888888888,\"#b5de2b\"],[1.0,\"#fde725\"]],\"type\":\"histogram2dcontour\"}],\"histogram2d\":[{\"colorbar\":{\"outlinewidth\":1,\"tickcolor\":\"rgb(36,36,36)\",\"ticks\":\"outside\"},\"colorscale\":[[0.0,\"#440154\"],[0.1111111111111111,\"#482878\"],[0.2222222222222222,\"#3e4989\"],[0.3333333333333333,\"#31688e\"],[0.4444444444444444,\"#26828e\"],[0.5555555555555556,\"#1f9e89\"],[0.6666666666666666,\"#35b779\"],[0.7777777777777778,\"#6ece58\"],[0.8888888888888888,\"#b5de2b\"],[1.0,\"#fde725\"]],\"type\":\"histogram2d\"}],\"histogram\":[{\"marker\":{\"line\":{\"color\":\"white\",\"width\":0.6}},\"type\":\"histogram\"}],\"mesh3d\":[{\"colorbar\":{\"outlinewidth\":1,\"tickcolor\":\"rgb(36,36,36)\",\"ticks\":\"outside\"},\"type\":\"mesh3d\"}],\"parcoords\":[{\"line\":{\"colorbar\":{\"outlinewidth\":1,\"tickcolor\":\"rgb(36,36,36)\",\"ticks\":\"outside\"}},\"type\":\"parcoords\"}],\"pie\":[{\"automargin\":true,\"type\":\"pie\"}],\"scatter3d\":[{\"line\":{\"colorbar\":{\"outlinewidth\":1,\"tickcolor\":\"rgb(36,36,36)\",\"ticks\":\"outside\"}},\"marker\":{\"colorbar\":{\"outlinewidth\":1,\"tickcolor\":\"rgb(36,36,36)\",\"ticks\":\"outside\"}},\"type\":\"scatter3d\"}],\"scattercarpet\":[{\"marker\":{\"colorbar\":{\"outlinewidth\":1,\"tickcolor\":\"rgb(36,36,36)\",\"ticks\":\"outside\"}},\"type\":\"scattercarpet\"}],\"scattergeo\":[{\"marker\":{\"colorbar\":{\"outlinewidth\":1,\"tickcolor\":\"rgb(36,36,36)\",\"ticks\":\"outside\"}},\"type\":\"scattergeo\"}],\"scattergl\":[{\"marker\":{\"colorbar\":{\"outlinewidth\":1,\"tickcolor\":\"rgb(36,36,36)\",\"ticks\":\"outside\"}},\"type\":\"scattergl\"}],\"scattermapbox\":[{\"marker\":{\"colorbar\":{\"outlinewidth\":1,\"tickcolor\":\"rgb(36,36,36)\",\"ticks\":\"outside\"}},\"type\":\"scattermapbox\"}],\"scatterpolargl\":[{\"marker\":{\"colorbar\":{\"outlinewidth\":1,\"tickcolor\":\"rgb(36,36,36)\",\"ticks\":\"outside\"}},\"type\":\"scatterpolargl\"}],\"scatterpolar\":[{\"marker\":{\"colorbar\":{\"outlinewidth\":1,\"tickcolor\":\"rgb(36,36,36)\",\"ticks\":\"outside\"}},\"type\":\"scatterpolar\"}],\"scatter\":[{\"marker\":{\"colorbar\":{\"outlinewidth\":1,\"tickcolor\":\"rgb(36,36,36)\",\"ticks\":\"outside\"}},\"type\":\"scatter\"}],\"scatterternary\":[{\"marker\":{\"colorbar\":{\"outlinewidth\":1,\"tickcolor\":\"rgb(36,36,36)\",\"ticks\":\"outside\"}},\"type\":\"scatterternary\"}],\"surface\":[{\"colorbar\":{\"outlinewidth\":1,\"tickcolor\":\"rgb(36,36,36)\",\"ticks\":\"outside\"},\"colorscale\":[[0.0,\"#440154\"],[0.1111111111111111,\"#482878\"],[0.2222222222222222,\"#3e4989\"],[0.3333333333333333,\"#31688e\"],[0.4444444444444444,\"#26828e\"],[0.5555555555555556,\"#1f9e89\"],[0.6666666666666666,\"#35b779\"],[0.7777777777777778,\"#6ece58\"],[0.8888888888888888,\"#b5de2b\"],[1.0,\"#fde725\"]],\"type\":\"surface\"}],\"table\":[{\"cells\":{\"fill\":{\"color\":\"rgb(237,237,237)\"},\"line\":{\"color\":\"white\"}},\"header\":{\"fill\":{\"color\":\"rgb(217,217,217)\"},\"line\":{\"color\":\"white\"}},\"type\":\"table\"}]},\"layout\":{\"annotationdefaults\":{\"arrowhead\":0,\"arrowwidth\":1},\"autotypenumbers\":\"strict\",\"coloraxis\":{\"colorbar\":{\"outlinewidth\":1,\"tickcolor\":\"rgb(36,36,36)\",\"ticks\":\"outside\"}},\"colorscale\":{\"diverging\":[[0.0,\"rgb(103,0,31)\"],[0.1,\"rgb(178,24,43)\"],[0.2,\"rgb(214,96,77)\"],[0.3,\"rgb(244,165,130)\"],[0.4,\"rgb(253,219,199)\"],[0.5,\"rgb(247,247,247)\"],[0.6,\"rgb(209,229,240)\"],[0.7,\"rgb(146,197,222)\"],[0.8,\"rgb(67,147,195)\"],[0.9,\"rgb(33,102,172)\"],[1.0,\"rgb(5,48,97)\"]],\"sequential\":[[0.0,\"#440154\"],[0.1111111111111111,\"#482878\"],[0.2222222222222222,\"#3e4989\"],[0.3333333333333333,\"#31688e\"],[0.4444444444444444,\"#26828e\"],[0.5555555555555556,\"#1f9e89\"],[0.6666666666666666,\"#35b779\"],[0.7777777777777778,\"#6ece58\"],[0.8888888888888888,\"#b5de2b\"],[1.0,\"#fde725\"]],\"sequentialminus\":[[0.0,\"#440154\"],[0.1111111111111111,\"#482878\"],[0.2222222222222222,\"#3e4989\"],[0.3333333333333333,\"#31688e\"],[0.4444444444444444,\"#26828e\"],[0.5555555555555556,\"#1f9e89\"],[0.6666666666666666,\"#35b779\"],[0.7777777777777778,\"#6ece58\"],[0.8888888888888888,\"#b5de2b\"],[1.0,\"#fde725\"]]},\"colorway\":[\"#1F77B4\",\"#FF7F0E\",\"#2CA02C\",\"#D62728\",\"#9467BD\",\"#8C564B\",\"#E377C2\",\"#7F7F7F\",\"#BCBD22\",\"#17BECF\"],\"font\":{\"color\":\"rgb(36,36,36)\"},\"geo\":{\"bgcolor\":\"white\",\"lakecolor\":\"white\",\"landcolor\":\"white\",\"showlakes\":true,\"showland\":true,\"subunitcolor\":\"white\"},\"hoverlabel\":{\"align\":\"left\"},\"hovermode\":\"closest\",\"mapbox\":{\"style\":\"light\"},\"paper_bgcolor\":\"white\",\"plot_bgcolor\":\"white\",\"polar\":{\"angularaxis\":{\"gridcolor\":\"rgb(232,232,232)\",\"linecolor\":\"rgb(36,36,36)\",\"showgrid\":false,\"showline\":true,\"ticks\":\"outside\"},\"bgcolor\":\"white\",\"radialaxis\":{\"gridcolor\":\"rgb(232,232,232)\",\"linecolor\":\"rgb(36,36,36)\",\"showgrid\":false,\"showline\":true,\"ticks\":\"outside\"}},\"scene\":{\"xaxis\":{\"backgroundcolor\":\"white\",\"gridcolor\":\"rgb(232,232,232)\",\"gridwidth\":2,\"linecolor\":\"rgb(36,36,36)\",\"showbackground\":true,\"showgrid\":false,\"showline\":true,\"ticks\":\"outside\",\"zeroline\":false,\"zerolinecolor\":\"rgb(36,36,36)\"},\"yaxis\":{\"backgroundcolor\":\"white\",\"gridcolor\":\"rgb(232,232,232)\",\"gridwidth\":2,\"linecolor\":\"rgb(36,36,36)\",\"showbackground\":true,\"showgrid\":false,\"showline\":true,\"ticks\":\"outside\",\"zeroline\":false,\"zerolinecolor\":\"rgb(36,36,36)\"},\"zaxis\":{\"backgroundcolor\":\"white\",\"gridcolor\":\"rgb(232,232,232)\",\"gridwidth\":2,\"linecolor\":\"rgb(36,36,36)\",\"showbackground\":true,\"showgrid\":false,\"showline\":true,\"ticks\":\"outside\",\"zeroline\":false,\"zerolinecolor\":\"rgb(36,36,36)\"}},\"shapedefaults\":{\"fillcolor\":\"black\",\"line\":{\"width\":0},\"opacity\":0.3},\"ternary\":{\"aaxis\":{\"gridcolor\":\"rgb(232,232,232)\",\"linecolor\":\"rgb(36,36,36)\",\"showgrid\":false,\"showline\":true,\"ticks\":\"outside\"},\"baxis\":{\"gridcolor\":\"rgb(232,232,232)\",\"linecolor\":\"rgb(36,36,36)\",\"showgrid\":false,\"showline\":true,\"ticks\":\"outside\"},\"bgcolor\":\"white\",\"caxis\":{\"gridcolor\":\"rgb(232,232,232)\",\"linecolor\":\"rgb(36,36,36)\",\"showgrid\":false,\"showline\":true,\"ticks\":\"outside\"}},\"title\":{\"x\":0.05},\"xaxis\":{\"automargin\":true,\"gridcolor\":\"rgb(232,232,232)\",\"linecolor\":\"rgb(36,36,36)\",\"showgrid\":false,\"showline\":true,\"ticks\":\"outside\",\"title\":{\"standoff\":15},\"zeroline\":false,\"zerolinecolor\":\"rgb(36,36,36)\"},\"yaxis\":{\"automargin\":true,\"gridcolor\":\"rgb(232,232,232)\",\"linecolor\":\"rgb(36,36,36)\",\"showgrid\":false,\"showline\":true,\"ticks\":\"outside\",\"title\":{\"standoff\":15},\"zeroline\":false,\"zerolinecolor\":\"rgb(36,36,36)\"}}},\"xaxis\":{\"anchor\":\"y\",\"domain\":[0.0,1.0],\"title\":{\"text\":\"Daily Oil Consumption (Barrels)\"}},\"yaxis\":{\"anchor\":\"x\",\"domain\":[0.0,1.0],\"title\":{\"text\":\"Country\"}},\"legend\":{\"tracegroupgap\":0},\"margin\":{\"t\":60},\"barmode\":\"relative\",\"height\":300,\"width\":800,\"title\":{\"text\":\"Daily Oil Consumption (Barrels) - Top 10 Countries\",\"x\":0.5}},                        {\"responsive\": true}                    ).then(function(){\n",
              "                            \n",
              "var gd = document.getElementById('4d785181-6f72-448d-bd0a-70a24ec70c9e');\n",
              "var x = new MutationObserver(function (mutations, observer) {{\n",
              "        var display = window.getComputedStyle(gd).display;\n",
              "        if (!display || display === 'none') {{\n",
              "            console.log([gd, 'removed!']);\n",
              "            Plotly.purge(gd);\n",
              "            observer.disconnect();\n",
              "        }}\n",
              "}});\n",
              "\n",
              "// Listen for the removal of the full notebook cells\n",
              "var notebookContainer = gd.closest('#notebook-container');\n",
              "if (notebookContainer) {{\n",
              "    x.observe(notebookContainer, {childList: true});\n",
              "}}\n",
              "\n",
              "// Listen for the clearing of the current output cell\n",
              "var outputEl = gd.closest('.output');\n",
              "if (outputEl) {{\n",
              "    x.observe(outputEl, {childList: true});\n",
              "}}\n",
              "\n",
              "                        })                };                            </script>        </div>\n",
              "</body>\n",
              "</html>"
            ]
          },
          "metadata": {}
        }
      ],
      "source": [
        "fig=px.bar(top_10_countries, x='Daily Oil Consumption (Barrels)',y='Country',height=300,width=800,template='simple_white')\n",
        "fig.update_layout(title={'text':'Daily Oil Consumption (Barrels) - Top 10 Countries'},title_x=0.5)\n",
        "fig.show()"
      ]
    },
    {
      "cell_type": "code",
      "execution_count": null,
      "id": "125f07cf",
      "metadata": {
        "execution": {
          "iopub.execute_input": "2022-07-19T06:47:35.253874Z",
          "iopub.status.busy": "2022-07-19T06:47:35.252805Z",
          "iopub.status.idle": "2022-07-19T06:47:35.329256Z",
          "shell.execute_reply": "2022-07-19T06:47:35.327832Z"
        },
        "papermill": {
          "duration": 0.111466,
          "end_time": "2022-07-19T06:47:35.332359",
          "exception": false,
          "start_time": "2022-07-19T06:47:35.220893",
          "status": "completed"
        },
        "tags": [],
        "colab": {
          "base_uri": "https://localhost:8080/",
          "height": 317
        },
        "id": "125f07cf",
        "outputId": "ae03a974-73c9-437c-9d55-8c548611e649"
      },
      "outputs": [
        {
          "output_type": "display_data",
          "data": {
            "text/html": [
              "<html>\n",
              "<head><meta charset=\"utf-8\" /></head>\n",
              "<body>\n",
              "    <div>            <script src=\"https://cdnjs.cloudflare.com/ajax/libs/mathjax/2.7.5/MathJax.js?config=TeX-AMS-MML_SVG\"></script><script type=\"text/javascript\">if (window.MathJax) {MathJax.Hub.Config({SVG: {font: \"STIX-Web\"}});}</script>                <script type=\"text/javascript\">window.PlotlyConfig = {MathJaxConfig: 'local'};</script>\n",
              "        <script src=\"https://cdn.plot.ly/plotly-2.8.3.min.js\"></script>                <div id=\"148653a5-0de1-4c03-b551-53b810b30d58\" class=\"plotly-graph-div\" style=\"height:300px; width:800px;\"></div>            <script type=\"text/javascript\">                                    window.PLOTLYENV=window.PLOTLYENV || {};                                    if (document.getElementById(\"148653a5-0de1-4c03-b551-53b810b30d58\")) {                    Plotly.newPlot(                        \"148653a5-0de1-4c03-b551-53b810b30d58\",                        [{\"alignmentgroup\":\"True\",\"hovertemplate\":\"World Share %=%{x}<br>Country=%{y}<extra></extra>\",\"legendgroup\":\"\",\"marker\":{\"color\":\"#1F77B4\",\"pattern\":{\"shape\":\"\"}},\"name\":\"\",\"offsetgroup\":\"\",\"orientation\":\"h\",\"showlegend\":false,\"textposition\":\"auto\",\"x\":[20.385126552545447,13.244964971993975,4.600487475646564,4.155118248888174,3.760002332653204,3.4190433591233296,3.089771466875838,2.697792952633037,2.5744309275686534,2.4678752298095183],\"xaxis\":\"x\",\"y\":[\"United States\",\"China\",\"India\",\"Japan\",\"Russia\",\"Saudi Arabia\",\"Brazil\",\"South Korea\",\"Canada\",\"Germany\"],\"yaxis\":\"y\",\"type\":\"bar\"}],                        {\"template\":{\"data\":{\"barpolar\":[{\"marker\":{\"line\":{\"color\":\"white\",\"width\":0.5},\"pattern\":{\"fillmode\":\"overlay\",\"size\":10,\"solidity\":0.2}},\"type\":\"barpolar\"}],\"bar\":[{\"error_x\":{\"color\":\"rgb(36,36,36)\"},\"error_y\":{\"color\":\"rgb(36,36,36)\"},\"marker\":{\"line\":{\"color\":\"white\",\"width\":0.5},\"pattern\":{\"fillmode\":\"overlay\",\"size\":10,\"solidity\":0.2}},\"type\":\"bar\"}],\"carpet\":[{\"aaxis\":{\"endlinecolor\":\"rgb(36,36,36)\",\"gridcolor\":\"white\",\"linecolor\":\"white\",\"minorgridcolor\":\"white\",\"startlinecolor\":\"rgb(36,36,36)\"},\"baxis\":{\"endlinecolor\":\"rgb(36,36,36)\",\"gridcolor\":\"white\",\"linecolor\":\"white\",\"minorgridcolor\":\"white\",\"startlinecolor\":\"rgb(36,36,36)\"},\"type\":\"carpet\"}],\"choropleth\":[{\"colorbar\":{\"outlinewidth\":1,\"tickcolor\":\"rgb(36,36,36)\",\"ticks\":\"outside\"},\"type\":\"choropleth\"}],\"contourcarpet\":[{\"colorbar\":{\"outlinewidth\":1,\"tickcolor\":\"rgb(36,36,36)\",\"ticks\":\"outside\"},\"type\":\"contourcarpet\"}],\"contour\":[{\"colorbar\":{\"outlinewidth\":1,\"tickcolor\":\"rgb(36,36,36)\",\"ticks\":\"outside\"},\"colorscale\":[[0.0,\"#440154\"],[0.1111111111111111,\"#482878\"],[0.2222222222222222,\"#3e4989\"],[0.3333333333333333,\"#31688e\"],[0.4444444444444444,\"#26828e\"],[0.5555555555555556,\"#1f9e89\"],[0.6666666666666666,\"#35b779\"],[0.7777777777777778,\"#6ece58\"],[0.8888888888888888,\"#b5de2b\"],[1.0,\"#fde725\"]],\"type\":\"contour\"}],\"heatmapgl\":[{\"colorbar\":{\"outlinewidth\":1,\"tickcolor\":\"rgb(36,36,36)\",\"ticks\":\"outside\"},\"colorscale\":[[0.0,\"#440154\"],[0.1111111111111111,\"#482878\"],[0.2222222222222222,\"#3e4989\"],[0.3333333333333333,\"#31688e\"],[0.4444444444444444,\"#26828e\"],[0.5555555555555556,\"#1f9e89\"],[0.6666666666666666,\"#35b779\"],[0.7777777777777778,\"#6ece58\"],[0.8888888888888888,\"#b5de2b\"],[1.0,\"#fde725\"]],\"type\":\"heatmapgl\"}],\"heatmap\":[{\"colorbar\":{\"outlinewidth\":1,\"tickcolor\":\"rgb(36,36,36)\",\"ticks\":\"outside\"},\"colorscale\":[[0.0,\"#440154\"],[0.1111111111111111,\"#482878\"],[0.2222222222222222,\"#3e4989\"],[0.3333333333333333,\"#31688e\"],[0.4444444444444444,\"#26828e\"],[0.5555555555555556,\"#1f9e89\"],[0.6666666666666666,\"#35b779\"],[0.7777777777777778,\"#6ece58\"],[0.8888888888888888,\"#b5de2b\"],[1.0,\"#fde725\"]],\"type\":\"heatmap\"}],\"histogram2dcontour\":[{\"colorbar\":{\"outlinewidth\":1,\"tickcolor\":\"rgb(36,36,36)\",\"ticks\":\"outside\"},\"colorscale\":[[0.0,\"#440154\"],[0.1111111111111111,\"#482878\"],[0.2222222222222222,\"#3e4989\"],[0.3333333333333333,\"#31688e\"],[0.4444444444444444,\"#26828e\"],[0.5555555555555556,\"#1f9e89\"],[0.6666666666666666,\"#35b779\"],[0.7777777777777778,\"#6ece58\"],[0.8888888888888888,\"#b5de2b\"],[1.0,\"#fde725\"]],\"type\":\"histogram2dcontour\"}],\"histogram2d\":[{\"colorbar\":{\"outlinewidth\":1,\"tickcolor\":\"rgb(36,36,36)\",\"ticks\":\"outside\"},\"colorscale\":[[0.0,\"#440154\"],[0.1111111111111111,\"#482878\"],[0.2222222222222222,\"#3e4989\"],[0.3333333333333333,\"#31688e\"],[0.4444444444444444,\"#26828e\"],[0.5555555555555556,\"#1f9e89\"],[0.6666666666666666,\"#35b779\"],[0.7777777777777778,\"#6ece58\"],[0.8888888888888888,\"#b5de2b\"],[1.0,\"#fde725\"]],\"type\":\"histogram2d\"}],\"histogram\":[{\"marker\":{\"line\":{\"color\":\"white\",\"width\":0.6}},\"type\":\"histogram\"}],\"mesh3d\":[{\"colorbar\":{\"outlinewidth\":1,\"tickcolor\":\"rgb(36,36,36)\",\"ticks\":\"outside\"},\"type\":\"mesh3d\"}],\"parcoords\":[{\"line\":{\"colorbar\":{\"outlinewidth\":1,\"tickcolor\":\"rgb(36,36,36)\",\"ticks\":\"outside\"}},\"type\":\"parcoords\"}],\"pie\":[{\"automargin\":true,\"type\":\"pie\"}],\"scatter3d\":[{\"line\":{\"colorbar\":{\"outlinewidth\":1,\"tickcolor\":\"rgb(36,36,36)\",\"ticks\":\"outside\"}},\"marker\":{\"colorbar\":{\"outlinewidth\":1,\"tickcolor\":\"rgb(36,36,36)\",\"ticks\":\"outside\"}},\"type\":\"scatter3d\"}],\"scattercarpet\":[{\"marker\":{\"colorbar\":{\"outlinewidth\":1,\"tickcolor\":\"rgb(36,36,36)\",\"ticks\":\"outside\"}},\"type\":\"scattercarpet\"}],\"scattergeo\":[{\"marker\":{\"colorbar\":{\"outlinewidth\":1,\"tickcolor\":\"rgb(36,36,36)\",\"ticks\":\"outside\"}},\"type\":\"scattergeo\"}],\"scattergl\":[{\"marker\":{\"colorbar\":{\"outlinewidth\":1,\"tickcolor\":\"rgb(36,36,36)\",\"ticks\":\"outside\"}},\"type\":\"scattergl\"}],\"scattermapbox\":[{\"marker\":{\"colorbar\":{\"outlinewidth\":1,\"tickcolor\":\"rgb(36,36,36)\",\"ticks\":\"outside\"}},\"type\":\"scattermapbox\"}],\"scatterpolargl\":[{\"marker\":{\"colorbar\":{\"outlinewidth\":1,\"tickcolor\":\"rgb(36,36,36)\",\"ticks\":\"outside\"}},\"type\":\"scatterpolargl\"}],\"scatterpolar\":[{\"marker\":{\"colorbar\":{\"outlinewidth\":1,\"tickcolor\":\"rgb(36,36,36)\",\"ticks\":\"outside\"}},\"type\":\"scatterpolar\"}],\"scatter\":[{\"marker\":{\"colorbar\":{\"outlinewidth\":1,\"tickcolor\":\"rgb(36,36,36)\",\"ticks\":\"outside\"}},\"type\":\"scatter\"}],\"scatterternary\":[{\"marker\":{\"colorbar\":{\"outlinewidth\":1,\"tickcolor\":\"rgb(36,36,36)\",\"ticks\":\"outside\"}},\"type\":\"scatterternary\"}],\"surface\":[{\"colorbar\":{\"outlinewidth\":1,\"tickcolor\":\"rgb(36,36,36)\",\"ticks\":\"outside\"},\"colorscale\":[[0.0,\"#440154\"],[0.1111111111111111,\"#482878\"],[0.2222222222222222,\"#3e4989\"],[0.3333333333333333,\"#31688e\"],[0.4444444444444444,\"#26828e\"],[0.5555555555555556,\"#1f9e89\"],[0.6666666666666666,\"#35b779\"],[0.7777777777777778,\"#6ece58\"],[0.8888888888888888,\"#b5de2b\"],[1.0,\"#fde725\"]],\"type\":\"surface\"}],\"table\":[{\"cells\":{\"fill\":{\"color\":\"rgb(237,237,237)\"},\"line\":{\"color\":\"white\"}},\"header\":{\"fill\":{\"color\":\"rgb(217,217,217)\"},\"line\":{\"color\":\"white\"}},\"type\":\"table\"}]},\"layout\":{\"annotationdefaults\":{\"arrowhead\":0,\"arrowwidth\":1},\"autotypenumbers\":\"strict\",\"coloraxis\":{\"colorbar\":{\"outlinewidth\":1,\"tickcolor\":\"rgb(36,36,36)\",\"ticks\":\"outside\"}},\"colorscale\":{\"diverging\":[[0.0,\"rgb(103,0,31)\"],[0.1,\"rgb(178,24,43)\"],[0.2,\"rgb(214,96,77)\"],[0.3,\"rgb(244,165,130)\"],[0.4,\"rgb(253,219,199)\"],[0.5,\"rgb(247,247,247)\"],[0.6,\"rgb(209,229,240)\"],[0.7,\"rgb(146,197,222)\"],[0.8,\"rgb(67,147,195)\"],[0.9,\"rgb(33,102,172)\"],[1.0,\"rgb(5,48,97)\"]],\"sequential\":[[0.0,\"#440154\"],[0.1111111111111111,\"#482878\"],[0.2222222222222222,\"#3e4989\"],[0.3333333333333333,\"#31688e\"],[0.4444444444444444,\"#26828e\"],[0.5555555555555556,\"#1f9e89\"],[0.6666666666666666,\"#35b779\"],[0.7777777777777778,\"#6ece58\"],[0.8888888888888888,\"#b5de2b\"],[1.0,\"#fde725\"]],\"sequentialminus\":[[0.0,\"#440154\"],[0.1111111111111111,\"#482878\"],[0.2222222222222222,\"#3e4989\"],[0.3333333333333333,\"#31688e\"],[0.4444444444444444,\"#26828e\"],[0.5555555555555556,\"#1f9e89\"],[0.6666666666666666,\"#35b779\"],[0.7777777777777778,\"#6ece58\"],[0.8888888888888888,\"#b5de2b\"],[1.0,\"#fde725\"]]},\"colorway\":[\"#1F77B4\",\"#FF7F0E\",\"#2CA02C\",\"#D62728\",\"#9467BD\",\"#8C564B\",\"#E377C2\",\"#7F7F7F\",\"#BCBD22\",\"#17BECF\"],\"font\":{\"color\":\"rgb(36,36,36)\"},\"geo\":{\"bgcolor\":\"white\",\"lakecolor\":\"white\",\"landcolor\":\"white\",\"showlakes\":true,\"showland\":true,\"subunitcolor\":\"white\"},\"hoverlabel\":{\"align\":\"left\"},\"hovermode\":\"closest\",\"mapbox\":{\"style\":\"light\"},\"paper_bgcolor\":\"white\",\"plot_bgcolor\":\"white\",\"polar\":{\"angularaxis\":{\"gridcolor\":\"rgb(232,232,232)\",\"linecolor\":\"rgb(36,36,36)\",\"showgrid\":false,\"showline\":true,\"ticks\":\"outside\"},\"bgcolor\":\"white\",\"radialaxis\":{\"gridcolor\":\"rgb(232,232,232)\",\"linecolor\":\"rgb(36,36,36)\",\"showgrid\":false,\"showline\":true,\"ticks\":\"outside\"}},\"scene\":{\"xaxis\":{\"backgroundcolor\":\"white\",\"gridcolor\":\"rgb(232,232,232)\",\"gridwidth\":2,\"linecolor\":\"rgb(36,36,36)\",\"showbackground\":true,\"showgrid\":false,\"showline\":true,\"ticks\":\"outside\",\"zeroline\":false,\"zerolinecolor\":\"rgb(36,36,36)\"},\"yaxis\":{\"backgroundcolor\":\"white\",\"gridcolor\":\"rgb(232,232,232)\",\"gridwidth\":2,\"linecolor\":\"rgb(36,36,36)\",\"showbackground\":true,\"showgrid\":false,\"showline\":true,\"ticks\":\"outside\",\"zeroline\":false,\"zerolinecolor\":\"rgb(36,36,36)\"},\"zaxis\":{\"backgroundcolor\":\"white\",\"gridcolor\":\"rgb(232,232,232)\",\"gridwidth\":2,\"linecolor\":\"rgb(36,36,36)\",\"showbackground\":true,\"showgrid\":false,\"showline\":true,\"ticks\":\"outside\",\"zeroline\":false,\"zerolinecolor\":\"rgb(36,36,36)\"}},\"shapedefaults\":{\"fillcolor\":\"black\",\"line\":{\"width\":0},\"opacity\":0.3},\"ternary\":{\"aaxis\":{\"gridcolor\":\"rgb(232,232,232)\",\"linecolor\":\"rgb(36,36,36)\",\"showgrid\":false,\"showline\":true,\"ticks\":\"outside\"},\"baxis\":{\"gridcolor\":\"rgb(232,232,232)\",\"linecolor\":\"rgb(36,36,36)\",\"showgrid\":false,\"showline\":true,\"ticks\":\"outside\"},\"bgcolor\":\"white\",\"caxis\":{\"gridcolor\":\"rgb(232,232,232)\",\"linecolor\":\"rgb(36,36,36)\",\"showgrid\":false,\"showline\":true,\"ticks\":\"outside\"}},\"title\":{\"x\":0.05},\"xaxis\":{\"automargin\":true,\"gridcolor\":\"rgb(232,232,232)\",\"linecolor\":\"rgb(36,36,36)\",\"showgrid\":false,\"showline\":true,\"ticks\":\"outside\",\"title\":{\"standoff\":15},\"zeroline\":false,\"zerolinecolor\":\"rgb(36,36,36)\"},\"yaxis\":{\"automargin\":true,\"gridcolor\":\"rgb(232,232,232)\",\"linecolor\":\"rgb(36,36,36)\",\"showgrid\":false,\"showline\":true,\"ticks\":\"outside\",\"title\":{\"standoff\":15},\"zeroline\":false,\"zerolinecolor\":\"rgb(36,36,36)\"}}},\"xaxis\":{\"anchor\":\"y\",\"domain\":[0.0,1.0],\"title\":{\"text\":\"World Share %\"}},\"yaxis\":{\"anchor\":\"x\",\"domain\":[0.0,1.0],\"title\":{\"text\":\"Country\"}},\"legend\":{\"tracegroupgap\":0},\"margin\":{\"t\":60},\"barmode\":\"relative\",\"height\":300,\"width\":800,\"title\":{\"text\":\"World Share % of petrol - Top 10 Countries\",\"x\":0.5}},                        {\"responsive\": true}                    ).then(function(){\n",
              "                            \n",
              "var gd = document.getElementById('148653a5-0de1-4c03-b551-53b810b30d58');\n",
              "var x = new MutationObserver(function (mutations, observer) {{\n",
              "        var display = window.getComputedStyle(gd).display;\n",
              "        if (!display || display === 'none') {{\n",
              "            console.log([gd, 'removed!']);\n",
              "            Plotly.purge(gd);\n",
              "            observer.disconnect();\n",
              "        }}\n",
              "}});\n",
              "\n",
              "// Listen for the removal of the full notebook cells\n",
              "var notebookContainer = gd.closest('#notebook-container');\n",
              "if (notebookContainer) {{\n",
              "    x.observe(notebookContainer, {childList: true});\n",
              "}}\n",
              "\n",
              "// Listen for the clearing of the current output cell\n",
              "var outputEl = gd.closest('.output');\n",
              "if (outputEl) {{\n",
              "    x.observe(outputEl, {childList: true});\n",
              "}}\n",
              "\n",
              "                        })                };                            </script>        </div>\n",
              "</body>\n",
              "</html>"
            ]
          },
          "metadata": {}
        }
      ],
      "source": [
        "top_10_countries = df.nlargest(10, 'World Share %')\n",
        "fig=px.bar(top_10_countries, x='World Share %',y='Country',height=300,width=800,template='simple_white')\n",
        "fig.update_layout(title={'text':'World Share % of petrol - Top 10 Countries'},title_x=0.5)\n",
        "fig.show()"
      ]
    },
    {
      "cell_type": "code",
      "execution_count": null,
      "id": "f4ba6dbd",
      "metadata": {
        "execution": {
          "iopub.execute_input": "2022-07-19T06:47:35.400230Z",
          "iopub.status.busy": "2022-07-19T06:47:35.399206Z",
          "iopub.status.idle": "2022-07-19T06:47:35.479907Z",
          "shell.execute_reply": "2022-07-19T06:47:35.478644Z"
        },
        "papermill": {
          "duration": 0.115557,
          "end_time": "2022-07-19T06:47:35.482497",
          "exception": false,
          "start_time": "2022-07-19T06:47:35.366940",
          "status": "completed"
        },
        "tags": [],
        "colab": {
          "base_uri": "https://localhost:8080/",
          "height": 317
        },
        "id": "f4ba6dbd",
        "outputId": "dd4d7a98-38fb-41ef-bc91-910cd392f68b"
      },
      "outputs": [
        {
          "output_type": "display_data",
          "data": {
            "text/html": [
              "<html>\n",
              "<head><meta charset=\"utf-8\" /></head>\n",
              "<body>\n",
              "    <div>            <script src=\"https://cdnjs.cloudflare.com/ajax/libs/mathjax/2.7.5/MathJax.js?config=TeX-AMS-MML_SVG\"></script><script type=\"text/javascript\">if (window.MathJax) {MathJax.Hub.Config({SVG: {font: \"STIX-Web\"}});}</script>                <script type=\"text/javascript\">window.PlotlyConfig = {MathJaxConfig: 'local'};</script>\n",
              "        <script src=\"https://cdn.plot.ly/plotly-2.8.3.min.js\"></script>                <div id=\"99186b23-01d5-4630-804f-24e20759419d\" class=\"plotly-graph-div\" style=\"height:300px; width:800px;\"></div>            <script type=\"text/javascript\">                                    window.PLOTLYENV=window.PLOTLYENV || {};                                    if (document.getElementById(\"99186b23-01d5-4630-804f-24e20759419d\")) {                    Plotly.newPlot(                        \"99186b23-01d5-4630-804f-24e20759419d\",                        [{\"alignmentgroup\":\"True\",\"hovertemplate\":\"Yearly Gallons Per Capita=%{x}<br>Country=%{y}<extra></extra>\",\"legendgroup\":\"\",\"marker\":{\"color\":\"#1F77B4\",\"pattern\":{\"shape\":\"\"}},\"name\":\"\",\"offsetgroup\":\"\",\"orientation\":\"h\",\"showlegend\":false,\"textposition\":\"auto\",\"x\":[3679.5,1705.1,1652.2,1560.2,1487.2,1467.3,1390.9,1231.1,1169.4,1169.1],\"xaxis\":\"x\",\"y\":[\"Singapore\",\"Saint Pierre & Miquelon\",\"Malta\",\"Saudi Arabia\",\"Luxembourg\",\"United Arab Emirates\",\"Kuwait\",\"Montserrat\",\"Aruba\",\"Seychelles\"],\"yaxis\":\"y\",\"type\":\"bar\"}],                        {\"template\":{\"data\":{\"barpolar\":[{\"marker\":{\"line\":{\"color\":\"white\",\"width\":0.5},\"pattern\":{\"fillmode\":\"overlay\",\"size\":10,\"solidity\":0.2}},\"type\":\"barpolar\"}],\"bar\":[{\"error_x\":{\"color\":\"rgb(36,36,36)\"},\"error_y\":{\"color\":\"rgb(36,36,36)\"},\"marker\":{\"line\":{\"color\":\"white\",\"width\":0.5},\"pattern\":{\"fillmode\":\"overlay\",\"size\":10,\"solidity\":0.2}},\"type\":\"bar\"}],\"carpet\":[{\"aaxis\":{\"endlinecolor\":\"rgb(36,36,36)\",\"gridcolor\":\"white\",\"linecolor\":\"white\",\"minorgridcolor\":\"white\",\"startlinecolor\":\"rgb(36,36,36)\"},\"baxis\":{\"endlinecolor\":\"rgb(36,36,36)\",\"gridcolor\":\"white\",\"linecolor\":\"white\",\"minorgridcolor\":\"white\",\"startlinecolor\":\"rgb(36,36,36)\"},\"type\":\"carpet\"}],\"choropleth\":[{\"colorbar\":{\"outlinewidth\":1,\"tickcolor\":\"rgb(36,36,36)\",\"ticks\":\"outside\"},\"type\":\"choropleth\"}],\"contourcarpet\":[{\"colorbar\":{\"outlinewidth\":1,\"tickcolor\":\"rgb(36,36,36)\",\"ticks\":\"outside\"},\"type\":\"contourcarpet\"}],\"contour\":[{\"colorbar\":{\"outlinewidth\":1,\"tickcolor\":\"rgb(36,36,36)\",\"ticks\":\"outside\"},\"colorscale\":[[0.0,\"#440154\"],[0.1111111111111111,\"#482878\"],[0.2222222222222222,\"#3e4989\"],[0.3333333333333333,\"#31688e\"],[0.4444444444444444,\"#26828e\"],[0.5555555555555556,\"#1f9e89\"],[0.6666666666666666,\"#35b779\"],[0.7777777777777778,\"#6ece58\"],[0.8888888888888888,\"#b5de2b\"],[1.0,\"#fde725\"]],\"type\":\"contour\"}],\"heatmapgl\":[{\"colorbar\":{\"outlinewidth\":1,\"tickcolor\":\"rgb(36,36,36)\",\"ticks\":\"outside\"},\"colorscale\":[[0.0,\"#440154\"],[0.1111111111111111,\"#482878\"],[0.2222222222222222,\"#3e4989\"],[0.3333333333333333,\"#31688e\"],[0.4444444444444444,\"#26828e\"],[0.5555555555555556,\"#1f9e89\"],[0.6666666666666666,\"#35b779\"],[0.7777777777777778,\"#6ece58\"],[0.8888888888888888,\"#b5de2b\"],[1.0,\"#fde725\"]],\"type\":\"heatmapgl\"}],\"heatmap\":[{\"colorbar\":{\"outlinewidth\":1,\"tickcolor\":\"rgb(36,36,36)\",\"ticks\":\"outside\"},\"colorscale\":[[0.0,\"#440154\"],[0.1111111111111111,\"#482878\"],[0.2222222222222222,\"#3e4989\"],[0.3333333333333333,\"#31688e\"],[0.4444444444444444,\"#26828e\"],[0.5555555555555556,\"#1f9e89\"],[0.6666666666666666,\"#35b779\"],[0.7777777777777778,\"#6ece58\"],[0.8888888888888888,\"#b5de2b\"],[1.0,\"#fde725\"]],\"type\":\"heatmap\"}],\"histogram2dcontour\":[{\"colorbar\":{\"outlinewidth\":1,\"tickcolor\":\"rgb(36,36,36)\",\"ticks\":\"outside\"},\"colorscale\":[[0.0,\"#440154\"],[0.1111111111111111,\"#482878\"],[0.2222222222222222,\"#3e4989\"],[0.3333333333333333,\"#31688e\"],[0.4444444444444444,\"#26828e\"],[0.5555555555555556,\"#1f9e89\"],[0.6666666666666666,\"#35b779\"],[0.7777777777777778,\"#6ece58\"],[0.8888888888888888,\"#b5de2b\"],[1.0,\"#fde725\"]],\"type\":\"histogram2dcontour\"}],\"histogram2d\":[{\"colorbar\":{\"outlinewidth\":1,\"tickcolor\":\"rgb(36,36,36)\",\"ticks\":\"outside\"},\"colorscale\":[[0.0,\"#440154\"],[0.1111111111111111,\"#482878\"],[0.2222222222222222,\"#3e4989\"],[0.3333333333333333,\"#31688e\"],[0.4444444444444444,\"#26828e\"],[0.5555555555555556,\"#1f9e89\"],[0.6666666666666666,\"#35b779\"],[0.7777777777777778,\"#6ece58\"],[0.8888888888888888,\"#b5de2b\"],[1.0,\"#fde725\"]],\"type\":\"histogram2d\"}],\"histogram\":[{\"marker\":{\"line\":{\"color\":\"white\",\"width\":0.6}},\"type\":\"histogram\"}],\"mesh3d\":[{\"colorbar\":{\"outlinewidth\":1,\"tickcolor\":\"rgb(36,36,36)\",\"ticks\":\"outside\"},\"type\":\"mesh3d\"}],\"parcoords\":[{\"line\":{\"colorbar\":{\"outlinewidth\":1,\"tickcolor\":\"rgb(36,36,36)\",\"ticks\":\"outside\"}},\"type\":\"parcoords\"}],\"pie\":[{\"automargin\":true,\"type\":\"pie\"}],\"scatter3d\":[{\"line\":{\"colorbar\":{\"outlinewidth\":1,\"tickcolor\":\"rgb(36,36,36)\",\"ticks\":\"outside\"}},\"marker\":{\"colorbar\":{\"outlinewidth\":1,\"tickcolor\":\"rgb(36,36,36)\",\"ticks\":\"outside\"}},\"type\":\"scatter3d\"}],\"scattercarpet\":[{\"marker\":{\"colorbar\":{\"outlinewidth\":1,\"tickcolor\":\"rgb(36,36,36)\",\"ticks\":\"outside\"}},\"type\":\"scattercarpet\"}],\"scattergeo\":[{\"marker\":{\"colorbar\":{\"outlinewidth\":1,\"tickcolor\":\"rgb(36,36,36)\",\"ticks\":\"outside\"}},\"type\":\"scattergeo\"}],\"scattergl\":[{\"marker\":{\"colorbar\":{\"outlinewidth\":1,\"tickcolor\":\"rgb(36,36,36)\",\"ticks\":\"outside\"}},\"type\":\"scattergl\"}],\"scattermapbox\":[{\"marker\":{\"colorbar\":{\"outlinewidth\":1,\"tickcolor\":\"rgb(36,36,36)\",\"ticks\":\"outside\"}},\"type\":\"scattermapbox\"}],\"scatterpolargl\":[{\"marker\":{\"colorbar\":{\"outlinewidth\":1,\"tickcolor\":\"rgb(36,36,36)\",\"ticks\":\"outside\"}},\"type\":\"scatterpolargl\"}],\"scatterpolar\":[{\"marker\":{\"colorbar\":{\"outlinewidth\":1,\"tickcolor\":\"rgb(36,36,36)\",\"ticks\":\"outside\"}},\"type\":\"scatterpolar\"}],\"scatter\":[{\"marker\":{\"colorbar\":{\"outlinewidth\":1,\"tickcolor\":\"rgb(36,36,36)\",\"ticks\":\"outside\"}},\"type\":\"scatter\"}],\"scatterternary\":[{\"marker\":{\"colorbar\":{\"outlinewidth\":1,\"tickcolor\":\"rgb(36,36,36)\",\"ticks\":\"outside\"}},\"type\":\"scatterternary\"}],\"surface\":[{\"colorbar\":{\"outlinewidth\":1,\"tickcolor\":\"rgb(36,36,36)\",\"ticks\":\"outside\"},\"colorscale\":[[0.0,\"#440154\"],[0.1111111111111111,\"#482878\"],[0.2222222222222222,\"#3e4989\"],[0.3333333333333333,\"#31688e\"],[0.4444444444444444,\"#26828e\"],[0.5555555555555556,\"#1f9e89\"],[0.6666666666666666,\"#35b779\"],[0.7777777777777778,\"#6ece58\"],[0.8888888888888888,\"#b5de2b\"],[1.0,\"#fde725\"]],\"type\":\"surface\"}],\"table\":[{\"cells\":{\"fill\":{\"color\":\"rgb(237,237,237)\"},\"line\":{\"color\":\"white\"}},\"header\":{\"fill\":{\"color\":\"rgb(217,217,217)\"},\"line\":{\"color\":\"white\"}},\"type\":\"table\"}]},\"layout\":{\"annotationdefaults\":{\"arrowhead\":0,\"arrowwidth\":1},\"autotypenumbers\":\"strict\",\"coloraxis\":{\"colorbar\":{\"outlinewidth\":1,\"tickcolor\":\"rgb(36,36,36)\",\"ticks\":\"outside\"}},\"colorscale\":{\"diverging\":[[0.0,\"rgb(103,0,31)\"],[0.1,\"rgb(178,24,43)\"],[0.2,\"rgb(214,96,77)\"],[0.3,\"rgb(244,165,130)\"],[0.4,\"rgb(253,219,199)\"],[0.5,\"rgb(247,247,247)\"],[0.6,\"rgb(209,229,240)\"],[0.7,\"rgb(146,197,222)\"],[0.8,\"rgb(67,147,195)\"],[0.9,\"rgb(33,102,172)\"],[1.0,\"rgb(5,48,97)\"]],\"sequential\":[[0.0,\"#440154\"],[0.1111111111111111,\"#482878\"],[0.2222222222222222,\"#3e4989\"],[0.3333333333333333,\"#31688e\"],[0.4444444444444444,\"#26828e\"],[0.5555555555555556,\"#1f9e89\"],[0.6666666666666666,\"#35b779\"],[0.7777777777777778,\"#6ece58\"],[0.8888888888888888,\"#b5de2b\"],[1.0,\"#fde725\"]],\"sequentialminus\":[[0.0,\"#440154\"],[0.1111111111111111,\"#482878\"],[0.2222222222222222,\"#3e4989\"],[0.3333333333333333,\"#31688e\"],[0.4444444444444444,\"#26828e\"],[0.5555555555555556,\"#1f9e89\"],[0.6666666666666666,\"#35b779\"],[0.7777777777777778,\"#6ece58\"],[0.8888888888888888,\"#b5de2b\"],[1.0,\"#fde725\"]]},\"colorway\":[\"#1F77B4\",\"#FF7F0E\",\"#2CA02C\",\"#D62728\",\"#9467BD\",\"#8C564B\",\"#E377C2\",\"#7F7F7F\",\"#BCBD22\",\"#17BECF\"],\"font\":{\"color\":\"rgb(36,36,36)\"},\"geo\":{\"bgcolor\":\"white\",\"lakecolor\":\"white\",\"landcolor\":\"white\",\"showlakes\":true,\"showland\":true,\"subunitcolor\":\"white\"},\"hoverlabel\":{\"align\":\"left\"},\"hovermode\":\"closest\",\"mapbox\":{\"style\":\"light\"},\"paper_bgcolor\":\"white\",\"plot_bgcolor\":\"white\",\"polar\":{\"angularaxis\":{\"gridcolor\":\"rgb(232,232,232)\",\"linecolor\":\"rgb(36,36,36)\",\"showgrid\":false,\"showline\":true,\"ticks\":\"outside\"},\"bgcolor\":\"white\",\"radialaxis\":{\"gridcolor\":\"rgb(232,232,232)\",\"linecolor\":\"rgb(36,36,36)\",\"showgrid\":false,\"showline\":true,\"ticks\":\"outside\"}},\"scene\":{\"xaxis\":{\"backgroundcolor\":\"white\",\"gridcolor\":\"rgb(232,232,232)\",\"gridwidth\":2,\"linecolor\":\"rgb(36,36,36)\",\"showbackground\":true,\"showgrid\":false,\"showline\":true,\"ticks\":\"outside\",\"zeroline\":false,\"zerolinecolor\":\"rgb(36,36,36)\"},\"yaxis\":{\"backgroundcolor\":\"white\",\"gridcolor\":\"rgb(232,232,232)\",\"gridwidth\":2,\"linecolor\":\"rgb(36,36,36)\",\"showbackground\":true,\"showgrid\":false,\"showline\":true,\"ticks\":\"outside\",\"zeroline\":false,\"zerolinecolor\":\"rgb(36,36,36)\"},\"zaxis\":{\"backgroundcolor\":\"white\",\"gridcolor\":\"rgb(232,232,232)\",\"gridwidth\":2,\"linecolor\":\"rgb(36,36,36)\",\"showbackground\":true,\"showgrid\":false,\"showline\":true,\"ticks\":\"outside\",\"zeroline\":false,\"zerolinecolor\":\"rgb(36,36,36)\"}},\"shapedefaults\":{\"fillcolor\":\"black\",\"line\":{\"width\":0},\"opacity\":0.3},\"ternary\":{\"aaxis\":{\"gridcolor\":\"rgb(232,232,232)\",\"linecolor\":\"rgb(36,36,36)\",\"showgrid\":false,\"showline\":true,\"ticks\":\"outside\"},\"baxis\":{\"gridcolor\":\"rgb(232,232,232)\",\"linecolor\":\"rgb(36,36,36)\",\"showgrid\":false,\"showline\":true,\"ticks\":\"outside\"},\"bgcolor\":\"white\",\"caxis\":{\"gridcolor\":\"rgb(232,232,232)\",\"linecolor\":\"rgb(36,36,36)\",\"showgrid\":false,\"showline\":true,\"ticks\":\"outside\"}},\"title\":{\"x\":0.05},\"xaxis\":{\"automargin\":true,\"gridcolor\":\"rgb(232,232,232)\",\"linecolor\":\"rgb(36,36,36)\",\"showgrid\":false,\"showline\":true,\"ticks\":\"outside\",\"title\":{\"standoff\":15},\"zeroline\":false,\"zerolinecolor\":\"rgb(36,36,36)\"},\"yaxis\":{\"automargin\":true,\"gridcolor\":\"rgb(232,232,232)\",\"linecolor\":\"rgb(36,36,36)\",\"showgrid\":false,\"showline\":true,\"ticks\":\"outside\",\"title\":{\"standoff\":15},\"zeroline\":false,\"zerolinecolor\":\"rgb(36,36,36)\"}}},\"xaxis\":{\"anchor\":\"y\",\"domain\":[0.0,1.0],\"title\":{\"text\":\"Yearly Gallons Per Capita\"}},\"yaxis\":{\"anchor\":\"x\",\"domain\":[0.0,1.0],\"title\":{\"text\":\"Country\"}},\"legend\":{\"tracegroupgap\":0},\"margin\":{\"t\":60},\"barmode\":\"relative\",\"height\":300,\"width\":800,\"title\":{\"text\":\"Yearly Gallons Per Capita - Top 10 Countries\",\"x\":0.5}},                        {\"responsive\": true}                    ).then(function(){\n",
              "                            \n",
              "var gd = document.getElementById('99186b23-01d5-4630-804f-24e20759419d');\n",
              "var x = new MutationObserver(function (mutations, observer) {{\n",
              "        var display = window.getComputedStyle(gd).display;\n",
              "        if (!display || display === 'none') {{\n",
              "            console.log([gd, 'removed!']);\n",
              "            Plotly.purge(gd);\n",
              "            observer.disconnect();\n",
              "        }}\n",
              "}});\n",
              "\n",
              "// Listen for the removal of the full notebook cells\n",
              "var notebookContainer = gd.closest('#notebook-container');\n",
              "if (notebookContainer) {{\n",
              "    x.observe(notebookContainer, {childList: true});\n",
              "}}\n",
              "\n",
              "// Listen for the clearing of the current output cell\n",
              "var outputEl = gd.closest('.output');\n",
              "if (outputEl) {{\n",
              "    x.observe(outputEl, {childList: true});\n",
              "}}\n",
              "\n",
              "                        })                };                            </script>        </div>\n",
              "</body>\n",
              "</html>"
            ]
          },
          "metadata": {}
        }
      ],
      "source": [
        "top_10_countries = df.nlargest(10, 'Yearly Gallons Per Capita')\n",
        "fig=px.bar(top_10_countries, x='Yearly Gallons Per Capita',y='Country',height=300,width=800,template='simple_white')\n",
        "fig.update_layout(title={'text':'Yearly Gallons Per Capita - Top 10 Countries'},title_x=0.5)\n",
        "fig.show()"
      ]
    },
    {
      "cell_type": "code",
      "execution_count": null,
      "id": "0f5230d5",
      "metadata": {
        "execution": {
          "iopub.execute_input": "2022-07-19T06:47:35.545336Z",
          "iopub.status.busy": "2022-07-19T06:47:35.544945Z",
          "iopub.status.idle": "2022-07-19T06:47:35.612542Z",
          "shell.execute_reply": "2022-07-19T06:47:35.611534Z"
        },
        "papermill": {
          "duration": 0.102153,
          "end_time": "2022-07-19T06:47:35.615577",
          "exception": false,
          "start_time": "2022-07-19T06:47:35.513424",
          "status": "completed"
        },
        "tags": [],
        "colab": {
          "base_uri": "https://localhost:8080/",
          "height": 317
        },
        "id": "0f5230d5",
        "outputId": "99442fcd-c9df-43ec-9e4e-1696615a05d5"
      },
      "outputs": [
        {
          "output_type": "display_data",
          "data": {
            "text/html": [
              "<html>\n",
              "<head><meta charset=\"utf-8\" /></head>\n",
              "<body>\n",
              "    <div>            <script src=\"https://cdnjs.cloudflare.com/ajax/libs/mathjax/2.7.5/MathJax.js?config=TeX-AMS-MML_SVG\"></script><script type=\"text/javascript\">if (window.MathJax) {MathJax.Hub.Config({SVG: {font: \"STIX-Web\"}});}</script>                <script type=\"text/javascript\">window.PlotlyConfig = {MathJaxConfig: 'local'};</script>\n",
              "        <script src=\"https://cdn.plot.ly/plotly-2.8.3.min.js\"></script>                <div id=\"aac5fd3e-9ba5-4fe9-9eee-57d11d112d32\" class=\"plotly-graph-div\" style=\"height:300px; width:800px;\"></div>            <script type=\"text/javascript\">                                    window.PLOTLYENV=window.PLOTLYENV || {};                                    if (document.getElementById(\"aac5fd3e-9ba5-4fe9-9eee-57d11d112d32\")) {                    Plotly.newPlot(                        \"aac5fd3e-9ba5-4fe9-9eee-57d11d112d32\",                        [{\"alignmentgroup\":\"True\",\"hovertemplate\":\"Price Per Liter (USD)=%{x}<br>Country=%{y}<extra></extra>\",\"legendgroup\":\"\",\"marker\":{\"color\":\"#1F77B4\",\"pattern\":{\"shape\":\"\"}},\"name\":\"\",\"offsetgroup\":\"\",\"orientation\":\"h\",\"showlegend\":false,\"textposition\":\"auto\",\"x\":[14.5,4.28,3.02,3.0,2.7,2.65,2.64,2.6,2.51,2.47],\"xaxis\":\"x\",\"y\":[\"North Korea\",\"Tonga\",\"Niue\",\"Hong Kong\",\"Norway\",\"Denmark\",\"Finland\",\"Iceland\",\"Greece\",\"Netherlands\"],\"yaxis\":\"y\",\"type\":\"bar\"}],                        {\"template\":{\"data\":{\"barpolar\":[{\"marker\":{\"line\":{\"color\":\"white\",\"width\":0.5},\"pattern\":{\"fillmode\":\"overlay\",\"size\":10,\"solidity\":0.2}},\"type\":\"barpolar\"}],\"bar\":[{\"error_x\":{\"color\":\"rgb(36,36,36)\"},\"error_y\":{\"color\":\"rgb(36,36,36)\"},\"marker\":{\"line\":{\"color\":\"white\",\"width\":0.5},\"pattern\":{\"fillmode\":\"overlay\",\"size\":10,\"solidity\":0.2}},\"type\":\"bar\"}],\"carpet\":[{\"aaxis\":{\"endlinecolor\":\"rgb(36,36,36)\",\"gridcolor\":\"white\",\"linecolor\":\"white\",\"minorgridcolor\":\"white\",\"startlinecolor\":\"rgb(36,36,36)\"},\"baxis\":{\"endlinecolor\":\"rgb(36,36,36)\",\"gridcolor\":\"white\",\"linecolor\":\"white\",\"minorgridcolor\":\"white\",\"startlinecolor\":\"rgb(36,36,36)\"},\"type\":\"carpet\"}],\"choropleth\":[{\"colorbar\":{\"outlinewidth\":1,\"tickcolor\":\"rgb(36,36,36)\",\"ticks\":\"outside\"},\"type\":\"choropleth\"}],\"contourcarpet\":[{\"colorbar\":{\"outlinewidth\":1,\"tickcolor\":\"rgb(36,36,36)\",\"ticks\":\"outside\"},\"type\":\"contourcarpet\"}],\"contour\":[{\"colorbar\":{\"outlinewidth\":1,\"tickcolor\":\"rgb(36,36,36)\",\"ticks\":\"outside\"},\"colorscale\":[[0.0,\"#440154\"],[0.1111111111111111,\"#482878\"],[0.2222222222222222,\"#3e4989\"],[0.3333333333333333,\"#31688e\"],[0.4444444444444444,\"#26828e\"],[0.5555555555555556,\"#1f9e89\"],[0.6666666666666666,\"#35b779\"],[0.7777777777777778,\"#6ece58\"],[0.8888888888888888,\"#b5de2b\"],[1.0,\"#fde725\"]],\"type\":\"contour\"}],\"heatmapgl\":[{\"colorbar\":{\"outlinewidth\":1,\"tickcolor\":\"rgb(36,36,36)\",\"ticks\":\"outside\"},\"colorscale\":[[0.0,\"#440154\"],[0.1111111111111111,\"#482878\"],[0.2222222222222222,\"#3e4989\"],[0.3333333333333333,\"#31688e\"],[0.4444444444444444,\"#26828e\"],[0.5555555555555556,\"#1f9e89\"],[0.6666666666666666,\"#35b779\"],[0.7777777777777778,\"#6ece58\"],[0.8888888888888888,\"#b5de2b\"],[1.0,\"#fde725\"]],\"type\":\"heatmapgl\"}],\"heatmap\":[{\"colorbar\":{\"outlinewidth\":1,\"tickcolor\":\"rgb(36,36,36)\",\"ticks\":\"outside\"},\"colorscale\":[[0.0,\"#440154\"],[0.1111111111111111,\"#482878\"],[0.2222222222222222,\"#3e4989\"],[0.3333333333333333,\"#31688e\"],[0.4444444444444444,\"#26828e\"],[0.5555555555555556,\"#1f9e89\"],[0.6666666666666666,\"#35b779\"],[0.7777777777777778,\"#6ece58\"],[0.8888888888888888,\"#b5de2b\"],[1.0,\"#fde725\"]],\"type\":\"heatmap\"}],\"histogram2dcontour\":[{\"colorbar\":{\"outlinewidth\":1,\"tickcolor\":\"rgb(36,36,36)\",\"ticks\":\"outside\"},\"colorscale\":[[0.0,\"#440154\"],[0.1111111111111111,\"#482878\"],[0.2222222222222222,\"#3e4989\"],[0.3333333333333333,\"#31688e\"],[0.4444444444444444,\"#26828e\"],[0.5555555555555556,\"#1f9e89\"],[0.6666666666666666,\"#35b779\"],[0.7777777777777778,\"#6ece58\"],[0.8888888888888888,\"#b5de2b\"],[1.0,\"#fde725\"]],\"type\":\"histogram2dcontour\"}],\"histogram2d\":[{\"colorbar\":{\"outlinewidth\":1,\"tickcolor\":\"rgb(36,36,36)\",\"ticks\":\"outside\"},\"colorscale\":[[0.0,\"#440154\"],[0.1111111111111111,\"#482878\"],[0.2222222222222222,\"#3e4989\"],[0.3333333333333333,\"#31688e\"],[0.4444444444444444,\"#26828e\"],[0.5555555555555556,\"#1f9e89\"],[0.6666666666666666,\"#35b779\"],[0.7777777777777778,\"#6ece58\"],[0.8888888888888888,\"#b5de2b\"],[1.0,\"#fde725\"]],\"type\":\"histogram2d\"}],\"histogram\":[{\"marker\":{\"line\":{\"color\":\"white\",\"width\":0.6}},\"type\":\"histogram\"}],\"mesh3d\":[{\"colorbar\":{\"outlinewidth\":1,\"tickcolor\":\"rgb(36,36,36)\",\"ticks\":\"outside\"},\"type\":\"mesh3d\"}],\"parcoords\":[{\"line\":{\"colorbar\":{\"outlinewidth\":1,\"tickcolor\":\"rgb(36,36,36)\",\"ticks\":\"outside\"}},\"type\":\"parcoords\"}],\"pie\":[{\"automargin\":true,\"type\":\"pie\"}],\"scatter3d\":[{\"line\":{\"colorbar\":{\"outlinewidth\":1,\"tickcolor\":\"rgb(36,36,36)\",\"ticks\":\"outside\"}},\"marker\":{\"colorbar\":{\"outlinewidth\":1,\"tickcolor\":\"rgb(36,36,36)\",\"ticks\":\"outside\"}},\"type\":\"scatter3d\"}],\"scattercarpet\":[{\"marker\":{\"colorbar\":{\"outlinewidth\":1,\"tickcolor\":\"rgb(36,36,36)\",\"ticks\":\"outside\"}},\"type\":\"scattercarpet\"}],\"scattergeo\":[{\"marker\":{\"colorbar\":{\"outlinewidth\":1,\"tickcolor\":\"rgb(36,36,36)\",\"ticks\":\"outside\"}},\"type\":\"scattergeo\"}],\"scattergl\":[{\"marker\":{\"colorbar\":{\"outlinewidth\":1,\"tickcolor\":\"rgb(36,36,36)\",\"ticks\":\"outside\"}},\"type\":\"scattergl\"}],\"scattermapbox\":[{\"marker\":{\"colorbar\":{\"outlinewidth\":1,\"tickcolor\":\"rgb(36,36,36)\",\"ticks\":\"outside\"}},\"type\":\"scattermapbox\"}],\"scatterpolargl\":[{\"marker\":{\"colorbar\":{\"outlinewidth\":1,\"tickcolor\":\"rgb(36,36,36)\",\"ticks\":\"outside\"}},\"type\":\"scatterpolargl\"}],\"scatterpolar\":[{\"marker\":{\"colorbar\":{\"outlinewidth\":1,\"tickcolor\":\"rgb(36,36,36)\",\"ticks\":\"outside\"}},\"type\":\"scatterpolar\"}],\"scatter\":[{\"marker\":{\"colorbar\":{\"outlinewidth\":1,\"tickcolor\":\"rgb(36,36,36)\",\"ticks\":\"outside\"}},\"type\":\"scatter\"}],\"scatterternary\":[{\"marker\":{\"colorbar\":{\"outlinewidth\":1,\"tickcolor\":\"rgb(36,36,36)\",\"ticks\":\"outside\"}},\"type\":\"scatterternary\"}],\"surface\":[{\"colorbar\":{\"outlinewidth\":1,\"tickcolor\":\"rgb(36,36,36)\",\"ticks\":\"outside\"},\"colorscale\":[[0.0,\"#440154\"],[0.1111111111111111,\"#482878\"],[0.2222222222222222,\"#3e4989\"],[0.3333333333333333,\"#31688e\"],[0.4444444444444444,\"#26828e\"],[0.5555555555555556,\"#1f9e89\"],[0.6666666666666666,\"#35b779\"],[0.7777777777777778,\"#6ece58\"],[0.8888888888888888,\"#b5de2b\"],[1.0,\"#fde725\"]],\"type\":\"surface\"}],\"table\":[{\"cells\":{\"fill\":{\"color\":\"rgb(237,237,237)\"},\"line\":{\"color\":\"white\"}},\"header\":{\"fill\":{\"color\":\"rgb(217,217,217)\"},\"line\":{\"color\":\"white\"}},\"type\":\"table\"}]},\"layout\":{\"annotationdefaults\":{\"arrowhead\":0,\"arrowwidth\":1},\"autotypenumbers\":\"strict\",\"coloraxis\":{\"colorbar\":{\"outlinewidth\":1,\"tickcolor\":\"rgb(36,36,36)\",\"ticks\":\"outside\"}},\"colorscale\":{\"diverging\":[[0.0,\"rgb(103,0,31)\"],[0.1,\"rgb(178,24,43)\"],[0.2,\"rgb(214,96,77)\"],[0.3,\"rgb(244,165,130)\"],[0.4,\"rgb(253,219,199)\"],[0.5,\"rgb(247,247,247)\"],[0.6,\"rgb(209,229,240)\"],[0.7,\"rgb(146,197,222)\"],[0.8,\"rgb(67,147,195)\"],[0.9,\"rgb(33,102,172)\"],[1.0,\"rgb(5,48,97)\"]],\"sequential\":[[0.0,\"#440154\"],[0.1111111111111111,\"#482878\"],[0.2222222222222222,\"#3e4989\"],[0.3333333333333333,\"#31688e\"],[0.4444444444444444,\"#26828e\"],[0.5555555555555556,\"#1f9e89\"],[0.6666666666666666,\"#35b779\"],[0.7777777777777778,\"#6ece58\"],[0.8888888888888888,\"#b5de2b\"],[1.0,\"#fde725\"]],\"sequentialminus\":[[0.0,\"#440154\"],[0.1111111111111111,\"#482878\"],[0.2222222222222222,\"#3e4989\"],[0.3333333333333333,\"#31688e\"],[0.4444444444444444,\"#26828e\"],[0.5555555555555556,\"#1f9e89\"],[0.6666666666666666,\"#35b779\"],[0.7777777777777778,\"#6ece58\"],[0.8888888888888888,\"#b5de2b\"],[1.0,\"#fde725\"]]},\"colorway\":[\"#1F77B4\",\"#FF7F0E\",\"#2CA02C\",\"#D62728\",\"#9467BD\",\"#8C564B\",\"#E377C2\",\"#7F7F7F\",\"#BCBD22\",\"#17BECF\"],\"font\":{\"color\":\"rgb(36,36,36)\"},\"geo\":{\"bgcolor\":\"white\",\"lakecolor\":\"white\",\"landcolor\":\"white\",\"showlakes\":true,\"showland\":true,\"subunitcolor\":\"white\"},\"hoverlabel\":{\"align\":\"left\"},\"hovermode\":\"closest\",\"mapbox\":{\"style\":\"light\"},\"paper_bgcolor\":\"white\",\"plot_bgcolor\":\"white\",\"polar\":{\"angularaxis\":{\"gridcolor\":\"rgb(232,232,232)\",\"linecolor\":\"rgb(36,36,36)\",\"showgrid\":false,\"showline\":true,\"ticks\":\"outside\"},\"bgcolor\":\"white\",\"radialaxis\":{\"gridcolor\":\"rgb(232,232,232)\",\"linecolor\":\"rgb(36,36,36)\",\"showgrid\":false,\"showline\":true,\"ticks\":\"outside\"}},\"scene\":{\"xaxis\":{\"backgroundcolor\":\"white\",\"gridcolor\":\"rgb(232,232,232)\",\"gridwidth\":2,\"linecolor\":\"rgb(36,36,36)\",\"showbackground\":true,\"showgrid\":false,\"showline\":true,\"ticks\":\"outside\",\"zeroline\":false,\"zerolinecolor\":\"rgb(36,36,36)\"},\"yaxis\":{\"backgroundcolor\":\"white\",\"gridcolor\":\"rgb(232,232,232)\",\"gridwidth\":2,\"linecolor\":\"rgb(36,36,36)\",\"showbackground\":true,\"showgrid\":false,\"showline\":true,\"ticks\":\"outside\",\"zeroline\":false,\"zerolinecolor\":\"rgb(36,36,36)\"},\"zaxis\":{\"backgroundcolor\":\"white\",\"gridcolor\":\"rgb(232,232,232)\",\"gridwidth\":2,\"linecolor\":\"rgb(36,36,36)\",\"showbackground\":true,\"showgrid\":false,\"showline\":true,\"ticks\":\"outside\",\"zeroline\":false,\"zerolinecolor\":\"rgb(36,36,36)\"}},\"shapedefaults\":{\"fillcolor\":\"black\",\"line\":{\"width\":0},\"opacity\":0.3},\"ternary\":{\"aaxis\":{\"gridcolor\":\"rgb(232,232,232)\",\"linecolor\":\"rgb(36,36,36)\",\"showgrid\":false,\"showline\":true,\"ticks\":\"outside\"},\"baxis\":{\"gridcolor\":\"rgb(232,232,232)\",\"linecolor\":\"rgb(36,36,36)\",\"showgrid\":false,\"showline\":true,\"ticks\":\"outside\"},\"bgcolor\":\"white\",\"caxis\":{\"gridcolor\":\"rgb(232,232,232)\",\"linecolor\":\"rgb(36,36,36)\",\"showgrid\":false,\"showline\":true,\"ticks\":\"outside\"}},\"title\":{\"x\":0.05},\"xaxis\":{\"automargin\":true,\"gridcolor\":\"rgb(232,232,232)\",\"linecolor\":\"rgb(36,36,36)\",\"showgrid\":false,\"showline\":true,\"ticks\":\"outside\",\"title\":{\"standoff\":15},\"zeroline\":false,\"zerolinecolor\":\"rgb(36,36,36)\"},\"yaxis\":{\"automargin\":true,\"gridcolor\":\"rgb(232,232,232)\",\"linecolor\":\"rgb(36,36,36)\",\"showgrid\":false,\"showline\":true,\"ticks\":\"outside\",\"title\":{\"standoff\":15},\"zeroline\":false,\"zerolinecolor\":\"rgb(36,36,36)\"}}},\"xaxis\":{\"anchor\":\"y\",\"domain\":[0.0,1.0],\"title\":{\"text\":\"Price Per Liter (USD)\"}},\"yaxis\":{\"anchor\":\"x\",\"domain\":[0.0,1.0],\"title\":{\"text\":\"Country\"}},\"legend\":{\"tracegroupgap\":0},\"margin\":{\"t\":60},\"barmode\":\"relative\",\"height\":300,\"width\":800,\"title\":{\"text\":\"Bar plot of Price Per Liter (USD) of petrol\",\"x\":0.5}},                        {\"responsive\": true}                    ).then(function(){\n",
              "                            \n",
              "var gd = document.getElementById('aac5fd3e-9ba5-4fe9-9eee-57d11d112d32');\n",
              "var x = new MutationObserver(function (mutations, observer) {{\n",
              "        var display = window.getComputedStyle(gd).display;\n",
              "        if (!display || display === 'none') {{\n",
              "            console.log([gd, 'removed!']);\n",
              "            Plotly.purge(gd);\n",
              "            observer.disconnect();\n",
              "        }}\n",
              "}});\n",
              "\n",
              "// Listen for the removal of the full notebook cells\n",
              "var notebookContainer = gd.closest('#notebook-container');\n",
              "if (notebookContainer) {{\n",
              "    x.observe(notebookContainer, {childList: true});\n",
              "}}\n",
              "\n",
              "// Listen for the clearing of the current output cell\n",
              "var outputEl = gd.closest('.output');\n",
              "if (outputEl) {{\n",
              "    x.observe(outputEl, {childList: true});\n",
              "}}\n",
              "\n",
              "                        })                };                            </script>        </div>\n",
              "</body>\n",
              "</html>"
            ]
          },
          "metadata": {}
        }
      ],
      "source": [
        "top_10_countries = df.nlargest(10, 'Price Per Liter (USD)')\n",
        "fig=px.bar(top_10_countries, x='Price Per Liter (USD)',y='Country',height=300,width=800,template='simple_white')\n",
        "fig.update_layout(title={'text':'Bar plot of Price Per Liter (USD) of petrol'},title_x=0.5)\n",
        "fig.show()"
      ]
    },
    {
      "cell_type": "code",
      "execution_count": null,
      "id": "d35f7704",
      "metadata": {
        "execution": {
          "iopub.execute_input": "2022-07-19T06:47:35.681898Z",
          "iopub.status.busy": "2022-07-19T06:47:35.681541Z",
          "iopub.status.idle": "2022-07-19T06:47:35.690285Z",
          "shell.execute_reply": "2022-07-19T06:47:35.688649Z"
        },
        "papermill": {
          "duration": 0.044795,
          "end_time": "2022-07-19T06:47:35.694626",
          "exception": false,
          "start_time": "2022-07-19T06:47:35.649831",
          "status": "completed"
        },
        "tags": [],
        "id": "d35f7704"
      },
      "outputs": [],
      "source": [
        "df_Pak=df[df['Country']=='Pakistan']\n",
        "df_Ind=df[df['Country']=='India']\n",
        "df_Ban=df[df['Country']=='Bangladesh']\n"
      ]
    },
    {
      "cell_type": "code",
      "execution_count": null,
      "id": "ba1afe40",
      "metadata": {
        "execution": {
          "iopub.execute_input": "2022-07-19T06:47:35.758146Z",
          "iopub.status.busy": "2022-07-19T06:47:35.757331Z",
          "iopub.status.idle": "2022-07-19T06:47:35.763844Z",
          "shell.execute_reply": "2022-07-19T06:47:35.762917Z"
        },
        "papermill": {
          "duration": 0.040601,
          "end_time": "2022-07-19T06:47:35.766471",
          "exception": false,
          "start_time": "2022-07-19T06:47:35.725870",
          "status": "completed"
        },
        "tags": [],
        "id": "ba1afe40"
      },
      "outputs": [],
      "source": [
        "df_Com=pd.concat([df_Pak,df_Ind,df_Ban])"
      ]
    },
    {
      "cell_type": "code",
      "execution_count": null,
      "id": "81971cbb",
      "metadata": {
        "execution": {
          "iopub.execute_input": "2022-07-19T06:47:35.829438Z",
          "iopub.status.busy": "2022-07-19T06:47:35.829019Z",
          "iopub.status.idle": "2022-07-19T06:47:35.922908Z",
          "shell.execute_reply": "2022-07-19T06:47:35.921727Z"
        },
        "papermill": {
          "duration": 0.1279,
          "end_time": "2022-07-19T06:47:35.925461",
          "exception": false,
          "start_time": "2022-07-19T06:47:35.797561",
          "status": "completed"
        },
        "tags": [],
        "colab": {
          "base_uri": "https://localhost:8080/",
          "height": 317
        },
        "id": "81971cbb",
        "outputId": "0fc34e9e-f096-47e8-8278-b25bdb00bbee"
      },
      "outputs": [
        {
          "output_type": "display_data",
          "data": {
            "text/html": [
              "<html>\n",
              "<head><meta charset=\"utf-8\" /></head>\n",
              "<body>\n",
              "    <div>            <script src=\"https://cdnjs.cloudflare.com/ajax/libs/mathjax/2.7.5/MathJax.js?config=TeX-AMS-MML_SVG\"></script><script type=\"text/javascript\">if (window.MathJax) {MathJax.Hub.Config({SVG: {font: \"STIX-Web\"}});}</script>                <script type=\"text/javascript\">window.PlotlyConfig = {MathJaxConfig: 'local'};</script>\n",
              "        <script src=\"https://cdn.plot.ly/plotly-2.8.3.min.js\"></script>                <div id=\"31ef9062-f888-4b88-b83c-6e21d4fda2e4\" class=\"plotly-graph-div\" style=\"height:300px; width:800px;\"></div>            <script type=\"text/javascript\">                                    window.PLOTLYENV=window.PLOTLYENV || {};                                    if (document.getElementById(\"31ef9062-f888-4b88-b83c-6e21d4fda2e4\")) {                    Plotly.newPlot(                        \"31ef9062-f888-4b88-b83c-6e21d4fda2e4\",                        [{\"alignmentgroup\":\"True\",\"hovertemplate\":\"Country=%{y}<br>Daily Oil Consumption (Barrels)=%{x}<extra></extra>\",\"legendgroup\":\"Pakistan\",\"marker\":{\"color\":\"lightgreen\",\"pattern\":{\"shape\":\"\"}},\"name\":\"Pakistan\",\"offsetgroup\":\"Pakistan\",\"orientation\":\"h\",\"showlegend\":true,\"textposition\":\"auto\",\"x\":[556000],\"xaxis\":\"x\",\"y\":[\"Pakistan\"],\"yaxis\":\"y\",\"type\":\"bar\"},{\"alignmentgroup\":\"True\",\"hovertemplate\":\"Country=%{y}<br>Daily Oil Consumption (Barrels)=%{x}<extra></extra>\",\"legendgroup\":\"India\",\"marker\":{\"color\":\"lightblue\",\"pattern\":{\"shape\":\"\"}},\"name\":\"India\",\"offsetgroup\":\"India\",\"orientation\":\"h\",\"showlegend\":true,\"textposition\":\"auto\",\"x\":[4443000],\"xaxis\":\"x\",\"y\":[\"India\"],\"yaxis\":\"y\",\"type\":\"bar\"},{\"alignmentgroup\":\"True\",\"hovertemplate\":\"Country=%{y}<br>Daily Oil Consumption (Barrels)=%{x}<extra></extra>\",\"legendgroup\":\"Bangladesh\",\"marker\":{\"color\":\"pink\",\"pattern\":{\"shape\":\"\"}},\"name\":\"Bangladesh\",\"offsetgroup\":\"Bangladesh\",\"orientation\":\"h\",\"showlegend\":true,\"textposition\":\"auto\",\"x\":[113000],\"xaxis\":\"x\",\"y\":[\"Bangladesh\"],\"yaxis\":\"y\",\"type\":\"bar\"}],                        {\"template\":{\"data\":{\"barpolar\":[{\"marker\":{\"line\":{\"color\":\"white\",\"width\":0.5},\"pattern\":{\"fillmode\":\"overlay\",\"size\":10,\"solidity\":0.2}},\"type\":\"barpolar\"}],\"bar\":[{\"error_x\":{\"color\":\"rgb(36,36,36)\"},\"error_y\":{\"color\":\"rgb(36,36,36)\"},\"marker\":{\"line\":{\"color\":\"white\",\"width\":0.5},\"pattern\":{\"fillmode\":\"overlay\",\"size\":10,\"solidity\":0.2}},\"type\":\"bar\"}],\"carpet\":[{\"aaxis\":{\"endlinecolor\":\"rgb(36,36,36)\",\"gridcolor\":\"white\",\"linecolor\":\"white\",\"minorgridcolor\":\"white\",\"startlinecolor\":\"rgb(36,36,36)\"},\"baxis\":{\"endlinecolor\":\"rgb(36,36,36)\",\"gridcolor\":\"white\",\"linecolor\":\"white\",\"minorgridcolor\":\"white\",\"startlinecolor\":\"rgb(36,36,36)\"},\"type\":\"carpet\"}],\"choropleth\":[{\"colorbar\":{\"outlinewidth\":1,\"tickcolor\":\"rgb(36,36,36)\",\"ticks\":\"outside\"},\"type\":\"choropleth\"}],\"contourcarpet\":[{\"colorbar\":{\"outlinewidth\":1,\"tickcolor\":\"rgb(36,36,36)\",\"ticks\":\"outside\"},\"type\":\"contourcarpet\"}],\"contour\":[{\"colorbar\":{\"outlinewidth\":1,\"tickcolor\":\"rgb(36,36,36)\",\"ticks\":\"outside\"},\"colorscale\":[[0.0,\"#440154\"],[0.1111111111111111,\"#482878\"],[0.2222222222222222,\"#3e4989\"],[0.3333333333333333,\"#31688e\"],[0.4444444444444444,\"#26828e\"],[0.5555555555555556,\"#1f9e89\"],[0.6666666666666666,\"#35b779\"],[0.7777777777777778,\"#6ece58\"],[0.8888888888888888,\"#b5de2b\"],[1.0,\"#fde725\"]],\"type\":\"contour\"}],\"heatmapgl\":[{\"colorbar\":{\"outlinewidth\":1,\"tickcolor\":\"rgb(36,36,36)\",\"ticks\":\"outside\"},\"colorscale\":[[0.0,\"#440154\"],[0.1111111111111111,\"#482878\"],[0.2222222222222222,\"#3e4989\"],[0.3333333333333333,\"#31688e\"],[0.4444444444444444,\"#26828e\"],[0.5555555555555556,\"#1f9e89\"],[0.6666666666666666,\"#35b779\"],[0.7777777777777778,\"#6ece58\"],[0.8888888888888888,\"#b5de2b\"],[1.0,\"#fde725\"]],\"type\":\"heatmapgl\"}],\"heatmap\":[{\"colorbar\":{\"outlinewidth\":1,\"tickcolor\":\"rgb(36,36,36)\",\"ticks\":\"outside\"},\"colorscale\":[[0.0,\"#440154\"],[0.1111111111111111,\"#482878\"],[0.2222222222222222,\"#3e4989\"],[0.3333333333333333,\"#31688e\"],[0.4444444444444444,\"#26828e\"],[0.5555555555555556,\"#1f9e89\"],[0.6666666666666666,\"#35b779\"],[0.7777777777777778,\"#6ece58\"],[0.8888888888888888,\"#b5de2b\"],[1.0,\"#fde725\"]],\"type\":\"heatmap\"}],\"histogram2dcontour\":[{\"colorbar\":{\"outlinewidth\":1,\"tickcolor\":\"rgb(36,36,36)\",\"ticks\":\"outside\"},\"colorscale\":[[0.0,\"#440154\"],[0.1111111111111111,\"#482878\"],[0.2222222222222222,\"#3e4989\"],[0.3333333333333333,\"#31688e\"],[0.4444444444444444,\"#26828e\"],[0.5555555555555556,\"#1f9e89\"],[0.6666666666666666,\"#35b779\"],[0.7777777777777778,\"#6ece58\"],[0.8888888888888888,\"#b5de2b\"],[1.0,\"#fde725\"]],\"type\":\"histogram2dcontour\"}],\"histogram2d\":[{\"colorbar\":{\"outlinewidth\":1,\"tickcolor\":\"rgb(36,36,36)\",\"ticks\":\"outside\"},\"colorscale\":[[0.0,\"#440154\"],[0.1111111111111111,\"#482878\"],[0.2222222222222222,\"#3e4989\"],[0.3333333333333333,\"#31688e\"],[0.4444444444444444,\"#26828e\"],[0.5555555555555556,\"#1f9e89\"],[0.6666666666666666,\"#35b779\"],[0.7777777777777778,\"#6ece58\"],[0.8888888888888888,\"#b5de2b\"],[1.0,\"#fde725\"]],\"type\":\"histogram2d\"}],\"histogram\":[{\"marker\":{\"line\":{\"color\":\"white\",\"width\":0.6}},\"type\":\"histogram\"}],\"mesh3d\":[{\"colorbar\":{\"outlinewidth\":1,\"tickcolor\":\"rgb(36,36,36)\",\"ticks\":\"outside\"},\"type\":\"mesh3d\"}],\"parcoords\":[{\"line\":{\"colorbar\":{\"outlinewidth\":1,\"tickcolor\":\"rgb(36,36,36)\",\"ticks\":\"outside\"}},\"type\":\"parcoords\"}],\"pie\":[{\"automargin\":true,\"type\":\"pie\"}],\"scatter3d\":[{\"line\":{\"colorbar\":{\"outlinewidth\":1,\"tickcolor\":\"rgb(36,36,36)\",\"ticks\":\"outside\"}},\"marker\":{\"colorbar\":{\"outlinewidth\":1,\"tickcolor\":\"rgb(36,36,36)\",\"ticks\":\"outside\"}},\"type\":\"scatter3d\"}],\"scattercarpet\":[{\"marker\":{\"colorbar\":{\"outlinewidth\":1,\"tickcolor\":\"rgb(36,36,36)\",\"ticks\":\"outside\"}},\"type\":\"scattercarpet\"}],\"scattergeo\":[{\"marker\":{\"colorbar\":{\"outlinewidth\":1,\"tickcolor\":\"rgb(36,36,36)\",\"ticks\":\"outside\"}},\"type\":\"scattergeo\"}],\"scattergl\":[{\"marker\":{\"colorbar\":{\"outlinewidth\":1,\"tickcolor\":\"rgb(36,36,36)\",\"ticks\":\"outside\"}},\"type\":\"scattergl\"}],\"scattermapbox\":[{\"marker\":{\"colorbar\":{\"outlinewidth\":1,\"tickcolor\":\"rgb(36,36,36)\",\"ticks\":\"outside\"}},\"type\":\"scattermapbox\"}],\"scatterpolargl\":[{\"marker\":{\"colorbar\":{\"outlinewidth\":1,\"tickcolor\":\"rgb(36,36,36)\",\"ticks\":\"outside\"}},\"type\":\"scatterpolargl\"}],\"scatterpolar\":[{\"marker\":{\"colorbar\":{\"outlinewidth\":1,\"tickcolor\":\"rgb(36,36,36)\",\"ticks\":\"outside\"}},\"type\":\"scatterpolar\"}],\"scatter\":[{\"marker\":{\"colorbar\":{\"outlinewidth\":1,\"tickcolor\":\"rgb(36,36,36)\",\"ticks\":\"outside\"}},\"type\":\"scatter\"}],\"scatterternary\":[{\"marker\":{\"colorbar\":{\"outlinewidth\":1,\"tickcolor\":\"rgb(36,36,36)\",\"ticks\":\"outside\"}},\"type\":\"scatterternary\"}],\"surface\":[{\"colorbar\":{\"outlinewidth\":1,\"tickcolor\":\"rgb(36,36,36)\",\"ticks\":\"outside\"},\"colorscale\":[[0.0,\"#440154\"],[0.1111111111111111,\"#482878\"],[0.2222222222222222,\"#3e4989\"],[0.3333333333333333,\"#31688e\"],[0.4444444444444444,\"#26828e\"],[0.5555555555555556,\"#1f9e89\"],[0.6666666666666666,\"#35b779\"],[0.7777777777777778,\"#6ece58\"],[0.8888888888888888,\"#b5de2b\"],[1.0,\"#fde725\"]],\"type\":\"surface\"}],\"table\":[{\"cells\":{\"fill\":{\"color\":\"rgb(237,237,237)\"},\"line\":{\"color\":\"white\"}},\"header\":{\"fill\":{\"color\":\"rgb(217,217,217)\"},\"line\":{\"color\":\"white\"}},\"type\":\"table\"}]},\"layout\":{\"annotationdefaults\":{\"arrowhead\":0,\"arrowwidth\":1},\"autotypenumbers\":\"strict\",\"coloraxis\":{\"colorbar\":{\"outlinewidth\":1,\"tickcolor\":\"rgb(36,36,36)\",\"ticks\":\"outside\"}},\"colorscale\":{\"diverging\":[[0.0,\"rgb(103,0,31)\"],[0.1,\"rgb(178,24,43)\"],[0.2,\"rgb(214,96,77)\"],[0.3,\"rgb(244,165,130)\"],[0.4,\"rgb(253,219,199)\"],[0.5,\"rgb(247,247,247)\"],[0.6,\"rgb(209,229,240)\"],[0.7,\"rgb(146,197,222)\"],[0.8,\"rgb(67,147,195)\"],[0.9,\"rgb(33,102,172)\"],[1.0,\"rgb(5,48,97)\"]],\"sequential\":[[0.0,\"#440154\"],[0.1111111111111111,\"#482878\"],[0.2222222222222222,\"#3e4989\"],[0.3333333333333333,\"#31688e\"],[0.4444444444444444,\"#26828e\"],[0.5555555555555556,\"#1f9e89\"],[0.6666666666666666,\"#35b779\"],[0.7777777777777778,\"#6ece58\"],[0.8888888888888888,\"#b5de2b\"],[1.0,\"#fde725\"]],\"sequentialminus\":[[0.0,\"#440154\"],[0.1111111111111111,\"#482878\"],[0.2222222222222222,\"#3e4989\"],[0.3333333333333333,\"#31688e\"],[0.4444444444444444,\"#26828e\"],[0.5555555555555556,\"#1f9e89\"],[0.6666666666666666,\"#35b779\"],[0.7777777777777778,\"#6ece58\"],[0.8888888888888888,\"#b5de2b\"],[1.0,\"#fde725\"]]},\"colorway\":[\"#1F77B4\",\"#FF7F0E\",\"#2CA02C\",\"#D62728\",\"#9467BD\",\"#8C564B\",\"#E377C2\",\"#7F7F7F\",\"#BCBD22\",\"#17BECF\"],\"font\":{\"color\":\"rgb(36,36,36)\"},\"geo\":{\"bgcolor\":\"white\",\"lakecolor\":\"white\",\"landcolor\":\"white\",\"showlakes\":true,\"showland\":true,\"subunitcolor\":\"white\"},\"hoverlabel\":{\"align\":\"left\"},\"hovermode\":\"closest\",\"mapbox\":{\"style\":\"light\"},\"paper_bgcolor\":\"white\",\"plot_bgcolor\":\"white\",\"polar\":{\"angularaxis\":{\"gridcolor\":\"rgb(232,232,232)\",\"linecolor\":\"rgb(36,36,36)\",\"showgrid\":false,\"showline\":true,\"ticks\":\"outside\"},\"bgcolor\":\"white\",\"radialaxis\":{\"gridcolor\":\"rgb(232,232,232)\",\"linecolor\":\"rgb(36,36,36)\",\"showgrid\":false,\"showline\":true,\"ticks\":\"outside\"}},\"scene\":{\"xaxis\":{\"backgroundcolor\":\"white\",\"gridcolor\":\"rgb(232,232,232)\",\"gridwidth\":2,\"linecolor\":\"rgb(36,36,36)\",\"showbackground\":true,\"showgrid\":false,\"showline\":true,\"ticks\":\"outside\",\"zeroline\":false,\"zerolinecolor\":\"rgb(36,36,36)\"},\"yaxis\":{\"backgroundcolor\":\"white\",\"gridcolor\":\"rgb(232,232,232)\",\"gridwidth\":2,\"linecolor\":\"rgb(36,36,36)\",\"showbackground\":true,\"showgrid\":false,\"showline\":true,\"ticks\":\"outside\",\"zeroline\":false,\"zerolinecolor\":\"rgb(36,36,36)\"},\"zaxis\":{\"backgroundcolor\":\"white\",\"gridcolor\":\"rgb(232,232,232)\",\"gridwidth\":2,\"linecolor\":\"rgb(36,36,36)\",\"showbackground\":true,\"showgrid\":false,\"showline\":true,\"ticks\":\"outside\",\"zeroline\":false,\"zerolinecolor\":\"rgb(36,36,36)\"}},\"shapedefaults\":{\"fillcolor\":\"black\",\"line\":{\"width\":0},\"opacity\":0.3},\"ternary\":{\"aaxis\":{\"gridcolor\":\"rgb(232,232,232)\",\"linecolor\":\"rgb(36,36,36)\",\"showgrid\":false,\"showline\":true,\"ticks\":\"outside\"},\"baxis\":{\"gridcolor\":\"rgb(232,232,232)\",\"linecolor\":\"rgb(36,36,36)\",\"showgrid\":false,\"showline\":true,\"ticks\":\"outside\"},\"bgcolor\":\"white\",\"caxis\":{\"gridcolor\":\"rgb(232,232,232)\",\"linecolor\":\"rgb(36,36,36)\",\"showgrid\":false,\"showline\":true,\"ticks\":\"outside\"}},\"title\":{\"x\":0.05},\"xaxis\":{\"automargin\":true,\"gridcolor\":\"rgb(232,232,232)\",\"linecolor\":\"rgb(36,36,36)\",\"showgrid\":false,\"showline\":true,\"ticks\":\"outside\",\"title\":{\"standoff\":15},\"zeroline\":false,\"zerolinecolor\":\"rgb(36,36,36)\"},\"yaxis\":{\"automargin\":true,\"gridcolor\":\"rgb(232,232,232)\",\"linecolor\":\"rgb(36,36,36)\",\"showgrid\":false,\"showline\":true,\"ticks\":\"outside\",\"title\":{\"standoff\":15},\"zeroline\":false,\"zerolinecolor\":\"rgb(36,36,36)\"}}},\"xaxis\":{\"anchor\":\"y\",\"domain\":[0.0,1.0],\"title\":{\"text\":\"Daily Oil Consumption (Barrels)\"}},\"yaxis\":{\"anchor\":\"x\",\"domain\":[0.0,1.0],\"title\":{\"text\":\"Country\"},\"categoryorder\":\"array\",\"categoryarray\":[\"Bangladesh\",\"India\",\"Pakistan\"]},\"legend\":{\"title\":{\"text\":\"Country\"},\"tracegroupgap\":0},\"margin\":{\"t\":60},\"barmode\":\"relative\",\"height\":300,\"width\":800,\"title\":{\"text\":\"Daily Oil Consumption (Barrels)\",\"x\":0.5}},                        {\"responsive\": true}                    ).then(function(){\n",
              "                            \n",
              "var gd = document.getElementById('31ef9062-f888-4b88-b83c-6e21d4fda2e4');\n",
              "var x = new MutationObserver(function (mutations, observer) {{\n",
              "        var display = window.getComputedStyle(gd).display;\n",
              "        if (!display || display === 'none') {{\n",
              "            console.log([gd, 'removed!']);\n",
              "            Plotly.purge(gd);\n",
              "            observer.disconnect();\n",
              "        }}\n",
              "}});\n",
              "\n",
              "// Listen for the removal of the full notebook cells\n",
              "var notebookContainer = gd.closest('#notebook-container');\n",
              "if (notebookContainer) {{\n",
              "    x.observe(notebookContainer, {childList: true});\n",
              "}}\n",
              "\n",
              "// Listen for the clearing of the current output cell\n",
              "var outputEl = gd.closest('.output');\n",
              "if (outputEl) {{\n",
              "    x.observe(outputEl, {childList: true});\n",
              "}}\n",
              "\n",
              "                        })                };                            </script>        </div>\n",
              "</body>\n",
              "</html>"
            ]
          },
          "metadata": {}
        }
      ],
      "source": [
        "fig=px.bar(df_Com, x='Daily Oil Consumption (Barrels)',y='Country',color='Country',color_discrete_sequence=['lightgreen','lightblue','pink'],height=300,width=800,template='simple_white')\n",
        "fig.update_layout(title={'text':'Daily Oil Consumption (Barrels)'},title_x=0.5)\n",
        "fig.show()"
      ]
    },
    {
      "cell_type": "code",
      "execution_count": null,
      "id": "d6602799",
      "metadata": {
        "execution": {
          "iopub.execute_input": "2022-07-19T06:47:35.988685Z",
          "iopub.status.busy": "2022-07-19T06:47:35.988272Z",
          "iopub.status.idle": "2022-07-19T06:47:36.069144Z",
          "shell.execute_reply": "2022-07-19T06:47:36.068298Z"
        },
        "papermill": {
          "duration": 0.114743,
          "end_time": "2022-07-19T06:47:36.071403",
          "exception": false,
          "start_time": "2022-07-19T06:47:35.956660",
          "status": "completed"
        },
        "tags": [],
        "colab": {
          "base_uri": "https://localhost:8080/",
          "height": 317
        },
        "id": "d6602799",
        "outputId": "9cef607c-9150-4274-cde6-4642ca8aa905"
      },
      "outputs": [
        {
          "output_type": "display_data",
          "data": {
            "text/html": [
              "<html>\n",
              "<head><meta charset=\"utf-8\" /></head>\n",
              "<body>\n",
              "    <div>            <script src=\"https://cdnjs.cloudflare.com/ajax/libs/mathjax/2.7.5/MathJax.js?config=TeX-AMS-MML_SVG\"></script><script type=\"text/javascript\">if (window.MathJax) {MathJax.Hub.Config({SVG: {font: \"STIX-Web\"}});}</script>                <script type=\"text/javascript\">window.PlotlyConfig = {MathJaxConfig: 'local'};</script>\n",
              "        <script src=\"https://cdn.plot.ly/plotly-2.8.3.min.js\"></script>                <div id=\"e18d1714-f26e-4fe5-9f38-4b234c58089f\" class=\"plotly-graph-div\" style=\"height:300px; width:800px;\"></div>            <script type=\"text/javascript\">                                    window.PLOTLYENV=window.PLOTLYENV || {};                                    if (document.getElementById(\"e18d1714-f26e-4fe5-9f38-4b234c58089f\")) {                    Plotly.newPlot(                        \"e18d1714-f26e-4fe5-9f38-4b234c58089f\",                        [{\"alignmentgroup\":\"True\",\"hovertemplate\":\"Country=%{y}<br>World Share %=%{x}<extra></extra>\",\"legendgroup\":\"Pakistan\",\"marker\":{\"color\":\"lightgreen\",\"pattern\":{\"shape\":\"\"}},\"name\":\"Pakistan\",\"offsetgroup\":\"Pakistan\",\"orientation\":\"h\",\"showlegend\":true,\"textposition\":\"auto\",\"x\":[0.5757080883320932],\"xaxis\":\"x\",\"y\":[\"Pakistan\"],\"yaxis\":\"y\",\"type\":\"bar\"},{\"alignmentgroup\":\"True\",\"hovertemplate\":\"Country=%{y}<br>World Share %=%{x}<extra></extra>\",\"legendgroup\":\"India\",\"marker\":{\"color\":\"lightblue\",\"pattern\":{\"shape\":\"\"}},\"name\":\"India\",\"offsetgroup\":\"India\",\"orientation\":\"h\",\"showlegend\":true,\"textposition\":\"auto\",\"x\":[4.600487475646564],\"xaxis\":\"x\",\"y\":[\"India\"],\"yaxis\":\"y\",\"type\":\"bar\"},{\"alignmentgroup\":\"True\",\"hovertemplate\":\"Country=%{y}<br>World Share %=%{x}<extra></extra>\",\"legendgroup\":\"Bangladesh\",\"marker\":{\"color\":\"pink\",\"pattern\":{\"shape\":\"\"}},\"name\":\"Bangladesh\",\"offsetgroup\":\"Bangladesh\",\"orientation\":\"h\",\"showlegend\":true,\"textposition\":\"auto\",\"x\":[0.11700542083008367],\"xaxis\":\"x\",\"y\":[\"Bangladesh\"],\"yaxis\":\"y\",\"type\":\"bar\"}],                        {\"template\":{\"data\":{\"barpolar\":[{\"marker\":{\"line\":{\"color\":\"white\",\"width\":0.5},\"pattern\":{\"fillmode\":\"overlay\",\"size\":10,\"solidity\":0.2}},\"type\":\"barpolar\"}],\"bar\":[{\"error_x\":{\"color\":\"rgb(36,36,36)\"},\"error_y\":{\"color\":\"rgb(36,36,36)\"},\"marker\":{\"line\":{\"color\":\"white\",\"width\":0.5},\"pattern\":{\"fillmode\":\"overlay\",\"size\":10,\"solidity\":0.2}},\"type\":\"bar\"}],\"carpet\":[{\"aaxis\":{\"endlinecolor\":\"rgb(36,36,36)\",\"gridcolor\":\"white\",\"linecolor\":\"white\",\"minorgridcolor\":\"white\",\"startlinecolor\":\"rgb(36,36,36)\"},\"baxis\":{\"endlinecolor\":\"rgb(36,36,36)\",\"gridcolor\":\"white\",\"linecolor\":\"white\",\"minorgridcolor\":\"white\",\"startlinecolor\":\"rgb(36,36,36)\"},\"type\":\"carpet\"}],\"choropleth\":[{\"colorbar\":{\"outlinewidth\":1,\"tickcolor\":\"rgb(36,36,36)\",\"ticks\":\"outside\"},\"type\":\"choropleth\"}],\"contourcarpet\":[{\"colorbar\":{\"outlinewidth\":1,\"tickcolor\":\"rgb(36,36,36)\",\"ticks\":\"outside\"},\"type\":\"contourcarpet\"}],\"contour\":[{\"colorbar\":{\"outlinewidth\":1,\"tickcolor\":\"rgb(36,36,36)\",\"ticks\":\"outside\"},\"colorscale\":[[0.0,\"#440154\"],[0.1111111111111111,\"#482878\"],[0.2222222222222222,\"#3e4989\"],[0.3333333333333333,\"#31688e\"],[0.4444444444444444,\"#26828e\"],[0.5555555555555556,\"#1f9e89\"],[0.6666666666666666,\"#35b779\"],[0.7777777777777778,\"#6ece58\"],[0.8888888888888888,\"#b5de2b\"],[1.0,\"#fde725\"]],\"type\":\"contour\"}],\"heatmapgl\":[{\"colorbar\":{\"outlinewidth\":1,\"tickcolor\":\"rgb(36,36,36)\",\"ticks\":\"outside\"},\"colorscale\":[[0.0,\"#440154\"],[0.1111111111111111,\"#482878\"],[0.2222222222222222,\"#3e4989\"],[0.3333333333333333,\"#31688e\"],[0.4444444444444444,\"#26828e\"],[0.5555555555555556,\"#1f9e89\"],[0.6666666666666666,\"#35b779\"],[0.7777777777777778,\"#6ece58\"],[0.8888888888888888,\"#b5de2b\"],[1.0,\"#fde725\"]],\"type\":\"heatmapgl\"}],\"heatmap\":[{\"colorbar\":{\"outlinewidth\":1,\"tickcolor\":\"rgb(36,36,36)\",\"ticks\":\"outside\"},\"colorscale\":[[0.0,\"#440154\"],[0.1111111111111111,\"#482878\"],[0.2222222222222222,\"#3e4989\"],[0.3333333333333333,\"#31688e\"],[0.4444444444444444,\"#26828e\"],[0.5555555555555556,\"#1f9e89\"],[0.6666666666666666,\"#35b779\"],[0.7777777777777778,\"#6ece58\"],[0.8888888888888888,\"#b5de2b\"],[1.0,\"#fde725\"]],\"type\":\"heatmap\"}],\"histogram2dcontour\":[{\"colorbar\":{\"outlinewidth\":1,\"tickcolor\":\"rgb(36,36,36)\",\"ticks\":\"outside\"},\"colorscale\":[[0.0,\"#440154\"],[0.1111111111111111,\"#482878\"],[0.2222222222222222,\"#3e4989\"],[0.3333333333333333,\"#31688e\"],[0.4444444444444444,\"#26828e\"],[0.5555555555555556,\"#1f9e89\"],[0.6666666666666666,\"#35b779\"],[0.7777777777777778,\"#6ece58\"],[0.8888888888888888,\"#b5de2b\"],[1.0,\"#fde725\"]],\"type\":\"histogram2dcontour\"}],\"histogram2d\":[{\"colorbar\":{\"outlinewidth\":1,\"tickcolor\":\"rgb(36,36,36)\",\"ticks\":\"outside\"},\"colorscale\":[[0.0,\"#440154\"],[0.1111111111111111,\"#482878\"],[0.2222222222222222,\"#3e4989\"],[0.3333333333333333,\"#31688e\"],[0.4444444444444444,\"#26828e\"],[0.5555555555555556,\"#1f9e89\"],[0.6666666666666666,\"#35b779\"],[0.7777777777777778,\"#6ece58\"],[0.8888888888888888,\"#b5de2b\"],[1.0,\"#fde725\"]],\"type\":\"histogram2d\"}],\"histogram\":[{\"marker\":{\"line\":{\"color\":\"white\",\"width\":0.6}},\"type\":\"histogram\"}],\"mesh3d\":[{\"colorbar\":{\"outlinewidth\":1,\"tickcolor\":\"rgb(36,36,36)\",\"ticks\":\"outside\"},\"type\":\"mesh3d\"}],\"parcoords\":[{\"line\":{\"colorbar\":{\"outlinewidth\":1,\"tickcolor\":\"rgb(36,36,36)\",\"ticks\":\"outside\"}},\"type\":\"parcoords\"}],\"pie\":[{\"automargin\":true,\"type\":\"pie\"}],\"scatter3d\":[{\"line\":{\"colorbar\":{\"outlinewidth\":1,\"tickcolor\":\"rgb(36,36,36)\",\"ticks\":\"outside\"}},\"marker\":{\"colorbar\":{\"outlinewidth\":1,\"tickcolor\":\"rgb(36,36,36)\",\"ticks\":\"outside\"}},\"type\":\"scatter3d\"}],\"scattercarpet\":[{\"marker\":{\"colorbar\":{\"outlinewidth\":1,\"tickcolor\":\"rgb(36,36,36)\",\"ticks\":\"outside\"}},\"type\":\"scattercarpet\"}],\"scattergeo\":[{\"marker\":{\"colorbar\":{\"outlinewidth\":1,\"tickcolor\":\"rgb(36,36,36)\",\"ticks\":\"outside\"}},\"type\":\"scattergeo\"}],\"scattergl\":[{\"marker\":{\"colorbar\":{\"outlinewidth\":1,\"tickcolor\":\"rgb(36,36,36)\",\"ticks\":\"outside\"}},\"type\":\"scattergl\"}],\"scattermapbox\":[{\"marker\":{\"colorbar\":{\"outlinewidth\":1,\"tickcolor\":\"rgb(36,36,36)\",\"ticks\":\"outside\"}},\"type\":\"scattermapbox\"}],\"scatterpolargl\":[{\"marker\":{\"colorbar\":{\"outlinewidth\":1,\"tickcolor\":\"rgb(36,36,36)\",\"ticks\":\"outside\"}},\"type\":\"scatterpolargl\"}],\"scatterpolar\":[{\"marker\":{\"colorbar\":{\"outlinewidth\":1,\"tickcolor\":\"rgb(36,36,36)\",\"ticks\":\"outside\"}},\"type\":\"scatterpolar\"}],\"scatter\":[{\"marker\":{\"colorbar\":{\"outlinewidth\":1,\"tickcolor\":\"rgb(36,36,36)\",\"ticks\":\"outside\"}},\"type\":\"scatter\"}],\"scatterternary\":[{\"marker\":{\"colorbar\":{\"outlinewidth\":1,\"tickcolor\":\"rgb(36,36,36)\",\"ticks\":\"outside\"}},\"type\":\"scatterternary\"}],\"surface\":[{\"colorbar\":{\"outlinewidth\":1,\"tickcolor\":\"rgb(36,36,36)\",\"ticks\":\"outside\"},\"colorscale\":[[0.0,\"#440154\"],[0.1111111111111111,\"#482878\"],[0.2222222222222222,\"#3e4989\"],[0.3333333333333333,\"#31688e\"],[0.4444444444444444,\"#26828e\"],[0.5555555555555556,\"#1f9e89\"],[0.6666666666666666,\"#35b779\"],[0.7777777777777778,\"#6ece58\"],[0.8888888888888888,\"#b5de2b\"],[1.0,\"#fde725\"]],\"type\":\"surface\"}],\"table\":[{\"cells\":{\"fill\":{\"color\":\"rgb(237,237,237)\"},\"line\":{\"color\":\"white\"}},\"header\":{\"fill\":{\"color\":\"rgb(217,217,217)\"},\"line\":{\"color\":\"white\"}},\"type\":\"table\"}]},\"layout\":{\"annotationdefaults\":{\"arrowhead\":0,\"arrowwidth\":1},\"autotypenumbers\":\"strict\",\"coloraxis\":{\"colorbar\":{\"outlinewidth\":1,\"tickcolor\":\"rgb(36,36,36)\",\"ticks\":\"outside\"}},\"colorscale\":{\"diverging\":[[0.0,\"rgb(103,0,31)\"],[0.1,\"rgb(178,24,43)\"],[0.2,\"rgb(214,96,77)\"],[0.3,\"rgb(244,165,130)\"],[0.4,\"rgb(253,219,199)\"],[0.5,\"rgb(247,247,247)\"],[0.6,\"rgb(209,229,240)\"],[0.7,\"rgb(146,197,222)\"],[0.8,\"rgb(67,147,195)\"],[0.9,\"rgb(33,102,172)\"],[1.0,\"rgb(5,48,97)\"]],\"sequential\":[[0.0,\"#440154\"],[0.1111111111111111,\"#482878\"],[0.2222222222222222,\"#3e4989\"],[0.3333333333333333,\"#31688e\"],[0.4444444444444444,\"#26828e\"],[0.5555555555555556,\"#1f9e89\"],[0.6666666666666666,\"#35b779\"],[0.7777777777777778,\"#6ece58\"],[0.8888888888888888,\"#b5de2b\"],[1.0,\"#fde725\"]],\"sequentialminus\":[[0.0,\"#440154\"],[0.1111111111111111,\"#482878\"],[0.2222222222222222,\"#3e4989\"],[0.3333333333333333,\"#31688e\"],[0.4444444444444444,\"#26828e\"],[0.5555555555555556,\"#1f9e89\"],[0.6666666666666666,\"#35b779\"],[0.7777777777777778,\"#6ece58\"],[0.8888888888888888,\"#b5de2b\"],[1.0,\"#fde725\"]]},\"colorway\":[\"#1F77B4\",\"#FF7F0E\",\"#2CA02C\",\"#D62728\",\"#9467BD\",\"#8C564B\",\"#E377C2\",\"#7F7F7F\",\"#BCBD22\",\"#17BECF\"],\"font\":{\"color\":\"rgb(36,36,36)\"},\"geo\":{\"bgcolor\":\"white\",\"lakecolor\":\"white\",\"landcolor\":\"white\",\"showlakes\":true,\"showland\":true,\"subunitcolor\":\"white\"},\"hoverlabel\":{\"align\":\"left\"},\"hovermode\":\"closest\",\"mapbox\":{\"style\":\"light\"},\"paper_bgcolor\":\"white\",\"plot_bgcolor\":\"white\",\"polar\":{\"angularaxis\":{\"gridcolor\":\"rgb(232,232,232)\",\"linecolor\":\"rgb(36,36,36)\",\"showgrid\":false,\"showline\":true,\"ticks\":\"outside\"},\"bgcolor\":\"white\",\"radialaxis\":{\"gridcolor\":\"rgb(232,232,232)\",\"linecolor\":\"rgb(36,36,36)\",\"showgrid\":false,\"showline\":true,\"ticks\":\"outside\"}},\"scene\":{\"xaxis\":{\"backgroundcolor\":\"white\",\"gridcolor\":\"rgb(232,232,232)\",\"gridwidth\":2,\"linecolor\":\"rgb(36,36,36)\",\"showbackground\":true,\"showgrid\":false,\"showline\":true,\"ticks\":\"outside\",\"zeroline\":false,\"zerolinecolor\":\"rgb(36,36,36)\"},\"yaxis\":{\"backgroundcolor\":\"white\",\"gridcolor\":\"rgb(232,232,232)\",\"gridwidth\":2,\"linecolor\":\"rgb(36,36,36)\",\"showbackground\":true,\"showgrid\":false,\"showline\":true,\"ticks\":\"outside\",\"zeroline\":false,\"zerolinecolor\":\"rgb(36,36,36)\"},\"zaxis\":{\"backgroundcolor\":\"white\",\"gridcolor\":\"rgb(232,232,232)\",\"gridwidth\":2,\"linecolor\":\"rgb(36,36,36)\",\"showbackground\":true,\"showgrid\":false,\"showline\":true,\"ticks\":\"outside\",\"zeroline\":false,\"zerolinecolor\":\"rgb(36,36,36)\"}},\"shapedefaults\":{\"fillcolor\":\"black\",\"line\":{\"width\":0},\"opacity\":0.3},\"ternary\":{\"aaxis\":{\"gridcolor\":\"rgb(232,232,232)\",\"linecolor\":\"rgb(36,36,36)\",\"showgrid\":false,\"showline\":true,\"ticks\":\"outside\"},\"baxis\":{\"gridcolor\":\"rgb(232,232,232)\",\"linecolor\":\"rgb(36,36,36)\",\"showgrid\":false,\"showline\":true,\"ticks\":\"outside\"},\"bgcolor\":\"white\",\"caxis\":{\"gridcolor\":\"rgb(232,232,232)\",\"linecolor\":\"rgb(36,36,36)\",\"showgrid\":false,\"showline\":true,\"ticks\":\"outside\"}},\"title\":{\"x\":0.05},\"xaxis\":{\"automargin\":true,\"gridcolor\":\"rgb(232,232,232)\",\"linecolor\":\"rgb(36,36,36)\",\"showgrid\":false,\"showline\":true,\"ticks\":\"outside\",\"title\":{\"standoff\":15},\"zeroline\":false,\"zerolinecolor\":\"rgb(36,36,36)\"},\"yaxis\":{\"automargin\":true,\"gridcolor\":\"rgb(232,232,232)\",\"linecolor\":\"rgb(36,36,36)\",\"showgrid\":false,\"showline\":true,\"ticks\":\"outside\",\"title\":{\"standoff\":15},\"zeroline\":false,\"zerolinecolor\":\"rgb(36,36,36)\"}}},\"xaxis\":{\"anchor\":\"y\",\"domain\":[0.0,1.0],\"title\":{\"text\":\"World Share %\"}},\"yaxis\":{\"anchor\":\"x\",\"domain\":[0.0,1.0],\"title\":{\"text\":\"Country\"},\"categoryorder\":\"array\",\"categoryarray\":[\"Bangladesh\",\"India\",\"Pakistan\"]},\"legend\":{\"title\":{\"text\":\"Country\"},\"tracegroupgap\":0},\"margin\":{\"t\":60},\"barmode\":\"relative\",\"height\":300,\"width\":800,\"title\":{\"text\":\"World Share % of petrol\",\"x\":0.5}},                        {\"responsive\": true}                    ).then(function(){\n",
              "                            \n",
              "var gd = document.getElementById('e18d1714-f26e-4fe5-9f38-4b234c58089f');\n",
              "var x = new MutationObserver(function (mutations, observer) {{\n",
              "        var display = window.getComputedStyle(gd).display;\n",
              "        if (!display || display === 'none') {{\n",
              "            console.log([gd, 'removed!']);\n",
              "            Plotly.purge(gd);\n",
              "            observer.disconnect();\n",
              "        }}\n",
              "}});\n",
              "\n",
              "// Listen for the removal of the full notebook cells\n",
              "var notebookContainer = gd.closest('#notebook-container');\n",
              "if (notebookContainer) {{\n",
              "    x.observe(notebookContainer, {childList: true});\n",
              "}}\n",
              "\n",
              "// Listen for the clearing of the current output cell\n",
              "var outputEl = gd.closest('.output');\n",
              "if (outputEl) {{\n",
              "    x.observe(outputEl, {childList: true});\n",
              "}}\n",
              "\n",
              "                        })                };                            </script>        </div>\n",
              "</body>\n",
              "</html>"
            ]
          },
          "metadata": {}
        }
      ],
      "source": [
        "fig=px.bar(df_Com, x='World Share %',y='Country',color='Country',color_discrete_sequence=['lightgreen','lightblue','pink'], height=300,width=800,template='simple_white')\n",
        "\n",
        "fig.update_layout(title={'text':'World Share % of petrol'},title_x=0.5)\n",
        "fig.show()"
      ]
    },
    {
      "cell_type": "code",
      "execution_count": null,
      "id": "daa9d273",
      "metadata": {
        "execution": {
          "iopub.execute_input": "2022-07-19T06:47:36.136358Z",
          "iopub.status.busy": "2022-07-19T06:47:36.135121Z",
          "iopub.status.idle": "2022-07-19T06:47:36.214774Z",
          "shell.execute_reply": "2022-07-19T06:47:36.213645Z"
        },
        "papermill": {
          "duration": 0.115295,
          "end_time": "2022-07-19T06:47:36.217691",
          "exception": false,
          "start_time": "2022-07-19T06:47:36.102396",
          "status": "completed"
        },
        "tags": [],
        "colab": {
          "base_uri": "https://localhost:8080/",
          "height": 317
        },
        "id": "daa9d273",
        "outputId": "d3b2905c-97a7-4b05-fd6b-5b276367439d"
      },
      "outputs": [
        {
          "output_type": "display_data",
          "data": {
            "text/html": [
              "<html>\n",
              "<head><meta charset=\"utf-8\" /></head>\n",
              "<body>\n",
              "    <div>            <script src=\"https://cdnjs.cloudflare.com/ajax/libs/mathjax/2.7.5/MathJax.js?config=TeX-AMS-MML_SVG\"></script><script type=\"text/javascript\">if (window.MathJax) {MathJax.Hub.Config({SVG: {font: \"STIX-Web\"}});}</script>                <script type=\"text/javascript\">window.PlotlyConfig = {MathJaxConfig: 'local'};</script>\n",
              "        <script src=\"https://cdn.plot.ly/plotly-2.8.3.min.js\"></script>                <div id=\"f6d2d55c-f98d-4d4d-940a-aae464d1e61e\" class=\"plotly-graph-div\" style=\"height:300px; width:800px;\"></div>            <script type=\"text/javascript\">                                    window.PLOTLYENV=window.PLOTLYENV || {};                                    if (document.getElementById(\"f6d2d55c-f98d-4d4d-940a-aae464d1e61e\")) {                    Plotly.newPlot(                        \"f6d2d55c-f98d-4d4d-940a-aae464d1e61e\",                        [{\"alignmentgroup\":\"True\",\"hovertemplate\":\"Country=%{y}<br>Yearly Gallons Per Capita=%{x}<extra></extra>\",\"legendgroup\":\"Pakistan\",\"marker\":{\"color\":\"lightgreen\",\"pattern\":{\"shape\":\"\"}},\"name\":\"Pakistan\",\"offsetgroup\":\"Pakistan\",\"orientation\":\"h\",\"showlegend\":true,\"textposition\":\"auto\",\"x\":[41.9],\"xaxis\":\"x\",\"y\":[\"Pakistan\"],\"yaxis\":\"y\",\"type\":\"bar\"},{\"alignmentgroup\":\"True\",\"hovertemplate\":\"Country=%{y}<br>Yearly Gallons Per Capita=%{x}<extra></extra>\",\"legendgroup\":\"India\",\"marker\":{\"color\":\"lightblue\",\"pattern\":{\"shape\":\"\"}},\"name\":\"India\",\"offsetgroup\":\"India\",\"orientation\":\"h\",\"showlegend\":true,\"textposition\":\"auto\",\"x\":[51.4],\"xaxis\":\"x\",\"y\":[\"India\"],\"yaxis\":\"y\",\"type\":\"bar\"},{\"alignmentgroup\":\"True\",\"hovertemplate\":\"Country=%{y}<br>Yearly Gallons Per Capita=%{x}<extra></extra>\",\"legendgroup\":\"Bangladesh\",\"marker\":{\"color\":\"pink\",\"pattern\":{\"shape\":\"\"}},\"name\":\"Bangladesh\",\"offsetgroup\":\"Bangladesh\",\"orientation\":\"h\",\"showlegend\":true,\"textposition\":\"auto\",\"x\":[11.0],\"xaxis\":\"x\",\"y\":[\"Bangladesh\"],\"yaxis\":\"y\",\"type\":\"bar\"}],                        {\"template\":{\"data\":{\"barpolar\":[{\"marker\":{\"line\":{\"color\":\"white\",\"width\":0.5},\"pattern\":{\"fillmode\":\"overlay\",\"size\":10,\"solidity\":0.2}},\"type\":\"barpolar\"}],\"bar\":[{\"error_x\":{\"color\":\"rgb(36,36,36)\"},\"error_y\":{\"color\":\"rgb(36,36,36)\"},\"marker\":{\"line\":{\"color\":\"white\",\"width\":0.5},\"pattern\":{\"fillmode\":\"overlay\",\"size\":10,\"solidity\":0.2}},\"type\":\"bar\"}],\"carpet\":[{\"aaxis\":{\"endlinecolor\":\"rgb(36,36,36)\",\"gridcolor\":\"white\",\"linecolor\":\"white\",\"minorgridcolor\":\"white\",\"startlinecolor\":\"rgb(36,36,36)\"},\"baxis\":{\"endlinecolor\":\"rgb(36,36,36)\",\"gridcolor\":\"white\",\"linecolor\":\"white\",\"minorgridcolor\":\"white\",\"startlinecolor\":\"rgb(36,36,36)\"},\"type\":\"carpet\"}],\"choropleth\":[{\"colorbar\":{\"outlinewidth\":1,\"tickcolor\":\"rgb(36,36,36)\",\"ticks\":\"outside\"},\"type\":\"choropleth\"}],\"contourcarpet\":[{\"colorbar\":{\"outlinewidth\":1,\"tickcolor\":\"rgb(36,36,36)\",\"ticks\":\"outside\"},\"type\":\"contourcarpet\"}],\"contour\":[{\"colorbar\":{\"outlinewidth\":1,\"tickcolor\":\"rgb(36,36,36)\",\"ticks\":\"outside\"},\"colorscale\":[[0.0,\"#440154\"],[0.1111111111111111,\"#482878\"],[0.2222222222222222,\"#3e4989\"],[0.3333333333333333,\"#31688e\"],[0.4444444444444444,\"#26828e\"],[0.5555555555555556,\"#1f9e89\"],[0.6666666666666666,\"#35b779\"],[0.7777777777777778,\"#6ece58\"],[0.8888888888888888,\"#b5de2b\"],[1.0,\"#fde725\"]],\"type\":\"contour\"}],\"heatmapgl\":[{\"colorbar\":{\"outlinewidth\":1,\"tickcolor\":\"rgb(36,36,36)\",\"ticks\":\"outside\"},\"colorscale\":[[0.0,\"#440154\"],[0.1111111111111111,\"#482878\"],[0.2222222222222222,\"#3e4989\"],[0.3333333333333333,\"#31688e\"],[0.4444444444444444,\"#26828e\"],[0.5555555555555556,\"#1f9e89\"],[0.6666666666666666,\"#35b779\"],[0.7777777777777778,\"#6ece58\"],[0.8888888888888888,\"#b5de2b\"],[1.0,\"#fde725\"]],\"type\":\"heatmapgl\"}],\"heatmap\":[{\"colorbar\":{\"outlinewidth\":1,\"tickcolor\":\"rgb(36,36,36)\",\"ticks\":\"outside\"},\"colorscale\":[[0.0,\"#440154\"],[0.1111111111111111,\"#482878\"],[0.2222222222222222,\"#3e4989\"],[0.3333333333333333,\"#31688e\"],[0.4444444444444444,\"#26828e\"],[0.5555555555555556,\"#1f9e89\"],[0.6666666666666666,\"#35b779\"],[0.7777777777777778,\"#6ece58\"],[0.8888888888888888,\"#b5de2b\"],[1.0,\"#fde725\"]],\"type\":\"heatmap\"}],\"histogram2dcontour\":[{\"colorbar\":{\"outlinewidth\":1,\"tickcolor\":\"rgb(36,36,36)\",\"ticks\":\"outside\"},\"colorscale\":[[0.0,\"#440154\"],[0.1111111111111111,\"#482878\"],[0.2222222222222222,\"#3e4989\"],[0.3333333333333333,\"#31688e\"],[0.4444444444444444,\"#26828e\"],[0.5555555555555556,\"#1f9e89\"],[0.6666666666666666,\"#35b779\"],[0.7777777777777778,\"#6ece58\"],[0.8888888888888888,\"#b5de2b\"],[1.0,\"#fde725\"]],\"type\":\"histogram2dcontour\"}],\"histogram2d\":[{\"colorbar\":{\"outlinewidth\":1,\"tickcolor\":\"rgb(36,36,36)\",\"ticks\":\"outside\"},\"colorscale\":[[0.0,\"#440154\"],[0.1111111111111111,\"#482878\"],[0.2222222222222222,\"#3e4989\"],[0.3333333333333333,\"#31688e\"],[0.4444444444444444,\"#26828e\"],[0.5555555555555556,\"#1f9e89\"],[0.6666666666666666,\"#35b779\"],[0.7777777777777778,\"#6ece58\"],[0.8888888888888888,\"#b5de2b\"],[1.0,\"#fde725\"]],\"type\":\"histogram2d\"}],\"histogram\":[{\"marker\":{\"line\":{\"color\":\"white\",\"width\":0.6}},\"type\":\"histogram\"}],\"mesh3d\":[{\"colorbar\":{\"outlinewidth\":1,\"tickcolor\":\"rgb(36,36,36)\",\"ticks\":\"outside\"},\"type\":\"mesh3d\"}],\"parcoords\":[{\"line\":{\"colorbar\":{\"outlinewidth\":1,\"tickcolor\":\"rgb(36,36,36)\",\"ticks\":\"outside\"}},\"type\":\"parcoords\"}],\"pie\":[{\"automargin\":true,\"type\":\"pie\"}],\"scatter3d\":[{\"line\":{\"colorbar\":{\"outlinewidth\":1,\"tickcolor\":\"rgb(36,36,36)\",\"ticks\":\"outside\"}},\"marker\":{\"colorbar\":{\"outlinewidth\":1,\"tickcolor\":\"rgb(36,36,36)\",\"ticks\":\"outside\"}},\"type\":\"scatter3d\"}],\"scattercarpet\":[{\"marker\":{\"colorbar\":{\"outlinewidth\":1,\"tickcolor\":\"rgb(36,36,36)\",\"ticks\":\"outside\"}},\"type\":\"scattercarpet\"}],\"scattergeo\":[{\"marker\":{\"colorbar\":{\"outlinewidth\":1,\"tickcolor\":\"rgb(36,36,36)\",\"ticks\":\"outside\"}},\"type\":\"scattergeo\"}],\"scattergl\":[{\"marker\":{\"colorbar\":{\"outlinewidth\":1,\"tickcolor\":\"rgb(36,36,36)\",\"ticks\":\"outside\"}},\"type\":\"scattergl\"}],\"scattermapbox\":[{\"marker\":{\"colorbar\":{\"outlinewidth\":1,\"tickcolor\":\"rgb(36,36,36)\",\"ticks\":\"outside\"}},\"type\":\"scattermapbox\"}],\"scatterpolargl\":[{\"marker\":{\"colorbar\":{\"outlinewidth\":1,\"tickcolor\":\"rgb(36,36,36)\",\"ticks\":\"outside\"}},\"type\":\"scatterpolargl\"}],\"scatterpolar\":[{\"marker\":{\"colorbar\":{\"outlinewidth\":1,\"tickcolor\":\"rgb(36,36,36)\",\"ticks\":\"outside\"}},\"type\":\"scatterpolar\"}],\"scatter\":[{\"marker\":{\"colorbar\":{\"outlinewidth\":1,\"tickcolor\":\"rgb(36,36,36)\",\"ticks\":\"outside\"}},\"type\":\"scatter\"}],\"scatterternary\":[{\"marker\":{\"colorbar\":{\"outlinewidth\":1,\"tickcolor\":\"rgb(36,36,36)\",\"ticks\":\"outside\"}},\"type\":\"scatterternary\"}],\"surface\":[{\"colorbar\":{\"outlinewidth\":1,\"tickcolor\":\"rgb(36,36,36)\",\"ticks\":\"outside\"},\"colorscale\":[[0.0,\"#440154\"],[0.1111111111111111,\"#482878\"],[0.2222222222222222,\"#3e4989\"],[0.3333333333333333,\"#31688e\"],[0.4444444444444444,\"#26828e\"],[0.5555555555555556,\"#1f9e89\"],[0.6666666666666666,\"#35b779\"],[0.7777777777777778,\"#6ece58\"],[0.8888888888888888,\"#b5de2b\"],[1.0,\"#fde725\"]],\"type\":\"surface\"}],\"table\":[{\"cells\":{\"fill\":{\"color\":\"rgb(237,237,237)\"},\"line\":{\"color\":\"white\"}},\"header\":{\"fill\":{\"color\":\"rgb(217,217,217)\"},\"line\":{\"color\":\"white\"}},\"type\":\"table\"}]},\"layout\":{\"annotationdefaults\":{\"arrowhead\":0,\"arrowwidth\":1},\"autotypenumbers\":\"strict\",\"coloraxis\":{\"colorbar\":{\"outlinewidth\":1,\"tickcolor\":\"rgb(36,36,36)\",\"ticks\":\"outside\"}},\"colorscale\":{\"diverging\":[[0.0,\"rgb(103,0,31)\"],[0.1,\"rgb(178,24,43)\"],[0.2,\"rgb(214,96,77)\"],[0.3,\"rgb(244,165,130)\"],[0.4,\"rgb(253,219,199)\"],[0.5,\"rgb(247,247,247)\"],[0.6,\"rgb(209,229,240)\"],[0.7,\"rgb(146,197,222)\"],[0.8,\"rgb(67,147,195)\"],[0.9,\"rgb(33,102,172)\"],[1.0,\"rgb(5,48,97)\"]],\"sequential\":[[0.0,\"#440154\"],[0.1111111111111111,\"#482878\"],[0.2222222222222222,\"#3e4989\"],[0.3333333333333333,\"#31688e\"],[0.4444444444444444,\"#26828e\"],[0.5555555555555556,\"#1f9e89\"],[0.6666666666666666,\"#35b779\"],[0.7777777777777778,\"#6ece58\"],[0.8888888888888888,\"#b5de2b\"],[1.0,\"#fde725\"]],\"sequentialminus\":[[0.0,\"#440154\"],[0.1111111111111111,\"#482878\"],[0.2222222222222222,\"#3e4989\"],[0.3333333333333333,\"#31688e\"],[0.4444444444444444,\"#26828e\"],[0.5555555555555556,\"#1f9e89\"],[0.6666666666666666,\"#35b779\"],[0.7777777777777778,\"#6ece58\"],[0.8888888888888888,\"#b5de2b\"],[1.0,\"#fde725\"]]},\"colorway\":[\"#1F77B4\",\"#FF7F0E\",\"#2CA02C\",\"#D62728\",\"#9467BD\",\"#8C564B\",\"#E377C2\",\"#7F7F7F\",\"#BCBD22\",\"#17BECF\"],\"font\":{\"color\":\"rgb(36,36,36)\"},\"geo\":{\"bgcolor\":\"white\",\"lakecolor\":\"white\",\"landcolor\":\"white\",\"showlakes\":true,\"showland\":true,\"subunitcolor\":\"white\"},\"hoverlabel\":{\"align\":\"left\"},\"hovermode\":\"closest\",\"mapbox\":{\"style\":\"light\"},\"paper_bgcolor\":\"white\",\"plot_bgcolor\":\"white\",\"polar\":{\"angularaxis\":{\"gridcolor\":\"rgb(232,232,232)\",\"linecolor\":\"rgb(36,36,36)\",\"showgrid\":false,\"showline\":true,\"ticks\":\"outside\"},\"bgcolor\":\"white\",\"radialaxis\":{\"gridcolor\":\"rgb(232,232,232)\",\"linecolor\":\"rgb(36,36,36)\",\"showgrid\":false,\"showline\":true,\"ticks\":\"outside\"}},\"scene\":{\"xaxis\":{\"backgroundcolor\":\"white\",\"gridcolor\":\"rgb(232,232,232)\",\"gridwidth\":2,\"linecolor\":\"rgb(36,36,36)\",\"showbackground\":true,\"showgrid\":false,\"showline\":true,\"ticks\":\"outside\",\"zeroline\":false,\"zerolinecolor\":\"rgb(36,36,36)\"},\"yaxis\":{\"backgroundcolor\":\"white\",\"gridcolor\":\"rgb(232,232,232)\",\"gridwidth\":2,\"linecolor\":\"rgb(36,36,36)\",\"showbackground\":true,\"showgrid\":false,\"showline\":true,\"ticks\":\"outside\",\"zeroline\":false,\"zerolinecolor\":\"rgb(36,36,36)\"},\"zaxis\":{\"backgroundcolor\":\"white\",\"gridcolor\":\"rgb(232,232,232)\",\"gridwidth\":2,\"linecolor\":\"rgb(36,36,36)\",\"showbackground\":true,\"showgrid\":false,\"showline\":true,\"ticks\":\"outside\",\"zeroline\":false,\"zerolinecolor\":\"rgb(36,36,36)\"}},\"shapedefaults\":{\"fillcolor\":\"black\",\"line\":{\"width\":0},\"opacity\":0.3},\"ternary\":{\"aaxis\":{\"gridcolor\":\"rgb(232,232,232)\",\"linecolor\":\"rgb(36,36,36)\",\"showgrid\":false,\"showline\":true,\"ticks\":\"outside\"},\"baxis\":{\"gridcolor\":\"rgb(232,232,232)\",\"linecolor\":\"rgb(36,36,36)\",\"showgrid\":false,\"showline\":true,\"ticks\":\"outside\"},\"bgcolor\":\"white\",\"caxis\":{\"gridcolor\":\"rgb(232,232,232)\",\"linecolor\":\"rgb(36,36,36)\",\"showgrid\":false,\"showline\":true,\"ticks\":\"outside\"}},\"title\":{\"x\":0.05},\"xaxis\":{\"automargin\":true,\"gridcolor\":\"rgb(232,232,232)\",\"linecolor\":\"rgb(36,36,36)\",\"showgrid\":false,\"showline\":true,\"ticks\":\"outside\",\"title\":{\"standoff\":15},\"zeroline\":false,\"zerolinecolor\":\"rgb(36,36,36)\"},\"yaxis\":{\"automargin\":true,\"gridcolor\":\"rgb(232,232,232)\",\"linecolor\":\"rgb(36,36,36)\",\"showgrid\":false,\"showline\":true,\"ticks\":\"outside\",\"title\":{\"standoff\":15},\"zeroline\":false,\"zerolinecolor\":\"rgb(36,36,36)\"}}},\"xaxis\":{\"anchor\":\"y\",\"domain\":[0.0,1.0],\"title\":{\"text\":\"Yearly Gallons Per Capita\"}},\"yaxis\":{\"anchor\":\"x\",\"domain\":[0.0,1.0],\"title\":{\"text\":\"Country\"},\"categoryorder\":\"array\",\"categoryarray\":[\"Bangladesh\",\"India\",\"Pakistan\"]},\"legend\":{\"title\":{\"text\":\"Country\"},\"tracegroupgap\":0},\"margin\":{\"t\":60},\"barmode\":\"relative\",\"height\":300,\"width\":800,\"title\":{\"text\":\"Yearly Gallons Per Capita\",\"x\":0.5}},                        {\"responsive\": true}                    ).then(function(){\n",
              "                            \n",
              "var gd = document.getElementById('f6d2d55c-f98d-4d4d-940a-aae464d1e61e');\n",
              "var x = new MutationObserver(function (mutations, observer) {{\n",
              "        var display = window.getComputedStyle(gd).display;\n",
              "        if (!display || display === 'none') {{\n",
              "            console.log([gd, 'removed!']);\n",
              "            Plotly.purge(gd);\n",
              "            observer.disconnect();\n",
              "        }}\n",
              "}});\n",
              "\n",
              "// Listen for the removal of the full notebook cells\n",
              "var notebookContainer = gd.closest('#notebook-container');\n",
              "if (notebookContainer) {{\n",
              "    x.observe(notebookContainer, {childList: true});\n",
              "}}\n",
              "\n",
              "// Listen for the clearing of the current output cell\n",
              "var outputEl = gd.closest('.output');\n",
              "if (outputEl) {{\n",
              "    x.observe(outputEl, {childList: true});\n",
              "}}\n",
              "\n",
              "                        })                };                            </script>        </div>\n",
              "</body>\n",
              "</html>"
            ]
          },
          "metadata": {}
        }
      ],
      "source": [
        "fig=px.bar(df_Com, x='Yearly Gallons Per Capita',y='Country',color='Country',color_discrete_sequence=['lightgreen','lightblue','pink'],height=300,width=800,template='simple_white')\n",
        "\n",
        "fig.update_layout(title={'text':'Yearly Gallons Per Capita'},title_x=0.5)\n",
        "fig.show()"
      ]
    },
    {
      "cell_type": "code",
      "execution_count": null,
      "id": "756bd0bf",
      "metadata": {
        "execution": {
          "iopub.execute_input": "2022-07-19T06:47:36.282561Z",
          "iopub.status.busy": "2022-07-19T06:47:36.281772Z",
          "iopub.status.idle": "2022-07-19T06:47:36.363016Z",
          "shell.execute_reply": "2022-07-19T06:47:36.362108Z"
        },
        "papermill": {
          "duration": 0.117347,
          "end_time": "2022-07-19T06:47:36.365546",
          "exception": false,
          "start_time": "2022-07-19T06:47:36.248199",
          "status": "completed"
        },
        "tags": [],
        "colab": {
          "base_uri": "https://localhost:8080/",
          "height": 317
        },
        "id": "756bd0bf",
        "outputId": "2cd41a98-5cd7-45d2-8212-bd41933d021f"
      },
      "outputs": [
        {
          "output_type": "display_data",
          "data": {
            "text/html": [
              "<html>\n",
              "<head><meta charset=\"utf-8\" /></head>\n",
              "<body>\n",
              "    <div>            <script src=\"https://cdnjs.cloudflare.com/ajax/libs/mathjax/2.7.5/MathJax.js?config=TeX-AMS-MML_SVG\"></script><script type=\"text/javascript\">if (window.MathJax) {MathJax.Hub.Config({SVG: {font: \"STIX-Web\"}});}</script>                <script type=\"text/javascript\">window.PlotlyConfig = {MathJaxConfig: 'local'};</script>\n",
              "        <script src=\"https://cdn.plot.ly/plotly-2.8.3.min.js\"></script>                <div id=\"38ebe4a0-f109-4942-a478-d156f54ab005\" class=\"plotly-graph-div\" style=\"height:300px; width:800px;\"></div>            <script type=\"text/javascript\">                                    window.PLOTLYENV=window.PLOTLYENV || {};                                    if (document.getElementById(\"38ebe4a0-f109-4942-a478-d156f54ab005\")) {                    Plotly.newPlot(                        \"38ebe4a0-f109-4942-a478-d156f54ab005\",                        [{\"alignmentgroup\":\"True\",\"hovertemplate\":\"Country=%{y}<br>Price Per Liter (USD)=%{x}<extra></extra>\",\"legendgroup\":\"Pakistan\",\"marker\":{\"color\":\"lightgreen\",\"pattern\":{\"shape\":\"\"}},\"name\":\"Pakistan\",\"offsetgroup\":\"Pakistan\",\"orientation\":\"h\",\"showlegend\":true,\"textposition\":\"auto\",\"x\":[1.03],\"xaxis\":\"x\",\"y\":[\"Pakistan\"],\"yaxis\":\"y\",\"type\":\"bar\"},{\"alignmentgroup\":\"True\",\"hovertemplate\":\"Country=%{y}<br>Price Per Liter (USD)=%{x}<extra></extra>\",\"legendgroup\":\"India\",\"marker\":{\"color\":\"lightblue\",\"pattern\":{\"shape\":\"\"}},\"name\":\"India\",\"offsetgroup\":\"India\",\"orientation\":\"h\",\"showlegend\":true,\"textposition\":\"auto\",\"x\":[1.33],\"xaxis\":\"x\",\"y\":[\"India\"],\"yaxis\":\"y\",\"type\":\"bar\"},{\"alignmentgroup\":\"True\",\"hovertemplate\":\"Country=%{y}<br>Price Per Liter (USD)=%{x}<extra></extra>\",\"legendgroup\":\"Bangladesh\",\"marker\":{\"color\":\"pink\",\"pattern\":{\"shape\":\"\"}},\"name\":\"Bangladesh\",\"offsetgroup\":\"Bangladesh\",\"orientation\":\"h\",\"showlegend\":true,\"textposition\":\"auto\",\"x\":[0.95],\"xaxis\":\"x\",\"y\":[\"Bangladesh\"],\"yaxis\":\"y\",\"type\":\"bar\"}],                        {\"template\":{\"data\":{\"barpolar\":[{\"marker\":{\"line\":{\"color\":\"white\",\"width\":0.5},\"pattern\":{\"fillmode\":\"overlay\",\"size\":10,\"solidity\":0.2}},\"type\":\"barpolar\"}],\"bar\":[{\"error_x\":{\"color\":\"rgb(36,36,36)\"},\"error_y\":{\"color\":\"rgb(36,36,36)\"},\"marker\":{\"line\":{\"color\":\"white\",\"width\":0.5},\"pattern\":{\"fillmode\":\"overlay\",\"size\":10,\"solidity\":0.2}},\"type\":\"bar\"}],\"carpet\":[{\"aaxis\":{\"endlinecolor\":\"rgb(36,36,36)\",\"gridcolor\":\"white\",\"linecolor\":\"white\",\"minorgridcolor\":\"white\",\"startlinecolor\":\"rgb(36,36,36)\"},\"baxis\":{\"endlinecolor\":\"rgb(36,36,36)\",\"gridcolor\":\"white\",\"linecolor\":\"white\",\"minorgridcolor\":\"white\",\"startlinecolor\":\"rgb(36,36,36)\"},\"type\":\"carpet\"}],\"choropleth\":[{\"colorbar\":{\"outlinewidth\":1,\"tickcolor\":\"rgb(36,36,36)\",\"ticks\":\"outside\"},\"type\":\"choropleth\"}],\"contourcarpet\":[{\"colorbar\":{\"outlinewidth\":1,\"tickcolor\":\"rgb(36,36,36)\",\"ticks\":\"outside\"},\"type\":\"contourcarpet\"}],\"contour\":[{\"colorbar\":{\"outlinewidth\":1,\"tickcolor\":\"rgb(36,36,36)\",\"ticks\":\"outside\"},\"colorscale\":[[0.0,\"#440154\"],[0.1111111111111111,\"#482878\"],[0.2222222222222222,\"#3e4989\"],[0.3333333333333333,\"#31688e\"],[0.4444444444444444,\"#26828e\"],[0.5555555555555556,\"#1f9e89\"],[0.6666666666666666,\"#35b779\"],[0.7777777777777778,\"#6ece58\"],[0.8888888888888888,\"#b5de2b\"],[1.0,\"#fde725\"]],\"type\":\"contour\"}],\"heatmapgl\":[{\"colorbar\":{\"outlinewidth\":1,\"tickcolor\":\"rgb(36,36,36)\",\"ticks\":\"outside\"},\"colorscale\":[[0.0,\"#440154\"],[0.1111111111111111,\"#482878\"],[0.2222222222222222,\"#3e4989\"],[0.3333333333333333,\"#31688e\"],[0.4444444444444444,\"#26828e\"],[0.5555555555555556,\"#1f9e89\"],[0.6666666666666666,\"#35b779\"],[0.7777777777777778,\"#6ece58\"],[0.8888888888888888,\"#b5de2b\"],[1.0,\"#fde725\"]],\"type\":\"heatmapgl\"}],\"heatmap\":[{\"colorbar\":{\"outlinewidth\":1,\"tickcolor\":\"rgb(36,36,36)\",\"ticks\":\"outside\"},\"colorscale\":[[0.0,\"#440154\"],[0.1111111111111111,\"#482878\"],[0.2222222222222222,\"#3e4989\"],[0.3333333333333333,\"#31688e\"],[0.4444444444444444,\"#26828e\"],[0.5555555555555556,\"#1f9e89\"],[0.6666666666666666,\"#35b779\"],[0.7777777777777778,\"#6ece58\"],[0.8888888888888888,\"#b5de2b\"],[1.0,\"#fde725\"]],\"type\":\"heatmap\"}],\"histogram2dcontour\":[{\"colorbar\":{\"outlinewidth\":1,\"tickcolor\":\"rgb(36,36,36)\",\"ticks\":\"outside\"},\"colorscale\":[[0.0,\"#440154\"],[0.1111111111111111,\"#482878\"],[0.2222222222222222,\"#3e4989\"],[0.3333333333333333,\"#31688e\"],[0.4444444444444444,\"#26828e\"],[0.5555555555555556,\"#1f9e89\"],[0.6666666666666666,\"#35b779\"],[0.7777777777777778,\"#6ece58\"],[0.8888888888888888,\"#b5de2b\"],[1.0,\"#fde725\"]],\"type\":\"histogram2dcontour\"}],\"histogram2d\":[{\"colorbar\":{\"outlinewidth\":1,\"tickcolor\":\"rgb(36,36,36)\",\"ticks\":\"outside\"},\"colorscale\":[[0.0,\"#440154\"],[0.1111111111111111,\"#482878\"],[0.2222222222222222,\"#3e4989\"],[0.3333333333333333,\"#31688e\"],[0.4444444444444444,\"#26828e\"],[0.5555555555555556,\"#1f9e89\"],[0.6666666666666666,\"#35b779\"],[0.7777777777777778,\"#6ece58\"],[0.8888888888888888,\"#b5de2b\"],[1.0,\"#fde725\"]],\"type\":\"histogram2d\"}],\"histogram\":[{\"marker\":{\"line\":{\"color\":\"white\",\"width\":0.6}},\"type\":\"histogram\"}],\"mesh3d\":[{\"colorbar\":{\"outlinewidth\":1,\"tickcolor\":\"rgb(36,36,36)\",\"ticks\":\"outside\"},\"type\":\"mesh3d\"}],\"parcoords\":[{\"line\":{\"colorbar\":{\"outlinewidth\":1,\"tickcolor\":\"rgb(36,36,36)\",\"ticks\":\"outside\"}},\"type\":\"parcoords\"}],\"pie\":[{\"automargin\":true,\"type\":\"pie\"}],\"scatter3d\":[{\"line\":{\"colorbar\":{\"outlinewidth\":1,\"tickcolor\":\"rgb(36,36,36)\",\"ticks\":\"outside\"}},\"marker\":{\"colorbar\":{\"outlinewidth\":1,\"tickcolor\":\"rgb(36,36,36)\",\"ticks\":\"outside\"}},\"type\":\"scatter3d\"}],\"scattercarpet\":[{\"marker\":{\"colorbar\":{\"outlinewidth\":1,\"tickcolor\":\"rgb(36,36,36)\",\"ticks\":\"outside\"}},\"type\":\"scattercarpet\"}],\"scattergeo\":[{\"marker\":{\"colorbar\":{\"outlinewidth\":1,\"tickcolor\":\"rgb(36,36,36)\",\"ticks\":\"outside\"}},\"type\":\"scattergeo\"}],\"scattergl\":[{\"marker\":{\"colorbar\":{\"outlinewidth\":1,\"tickcolor\":\"rgb(36,36,36)\",\"ticks\":\"outside\"}},\"type\":\"scattergl\"}],\"scattermapbox\":[{\"marker\":{\"colorbar\":{\"outlinewidth\":1,\"tickcolor\":\"rgb(36,36,36)\",\"ticks\":\"outside\"}},\"type\":\"scattermapbox\"}],\"scatterpolargl\":[{\"marker\":{\"colorbar\":{\"outlinewidth\":1,\"tickcolor\":\"rgb(36,36,36)\",\"ticks\":\"outside\"}},\"type\":\"scatterpolargl\"}],\"scatterpolar\":[{\"marker\":{\"colorbar\":{\"outlinewidth\":1,\"tickcolor\":\"rgb(36,36,36)\",\"ticks\":\"outside\"}},\"type\":\"scatterpolar\"}],\"scatter\":[{\"marker\":{\"colorbar\":{\"outlinewidth\":1,\"tickcolor\":\"rgb(36,36,36)\",\"ticks\":\"outside\"}},\"type\":\"scatter\"}],\"scatterternary\":[{\"marker\":{\"colorbar\":{\"outlinewidth\":1,\"tickcolor\":\"rgb(36,36,36)\",\"ticks\":\"outside\"}},\"type\":\"scatterternary\"}],\"surface\":[{\"colorbar\":{\"outlinewidth\":1,\"tickcolor\":\"rgb(36,36,36)\",\"ticks\":\"outside\"},\"colorscale\":[[0.0,\"#440154\"],[0.1111111111111111,\"#482878\"],[0.2222222222222222,\"#3e4989\"],[0.3333333333333333,\"#31688e\"],[0.4444444444444444,\"#26828e\"],[0.5555555555555556,\"#1f9e89\"],[0.6666666666666666,\"#35b779\"],[0.7777777777777778,\"#6ece58\"],[0.8888888888888888,\"#b5de2b\"],[1.0,\"#fde725\"]],\"type\":\"surface\"}],\"table\":[{\"cells\":{\"fill\":{\"color\":\"rgb(237,237,237)\"},\"line\":{\"color\":\"white\"}},\"header\":{\"fill\":{\"color\":\"rgb(217,217,217)\"},\"line\":{\"color\":\"white\"}},\"type\":\"table\"}]},\"layout\":{\"annotationdefaults\":{\"arrowhead\":0,\"arrowwidth\":1},\"autotypenumbers\":\"strict\",\"coloraxis\":{\"colorbar\":{\"outlinewidth\":1,\"tickcolor\":\"rgb(36,36,36)\",\"ticks\":\"outside\"}},\"colorscale\":{\"diverging\":[[0.0,\"rgb(103,0,31)\"],[0.1,\"rgb(178,24,43)\"],[0.2,\"rgb(214,96,77)\"],[0.3,\"rgb(244,165,130)\"],[0.4,\"rgb(253,219,199)\"],[0.5,\"rgb(247,247,247)\"],[0.6,\"rgb(209,229,240)\"],[0.7,\"rgb(146,197,222)\"],[0.8,\"rgb(67,147,195)\"],[0.9,\"rgb(33,102,172)\"],[1.0,\"rgb(5,48,97)\"]],\"sequential\":[[0.0,\"#440154\"],[0.1111111111111111,\"#482878\"],[0.2222222222222222,\"#3e4989\"],[0.3333333333333333,\"#31688e\"],[0.4444444444444444,\"#26828e\"],[0.5555555555555556,\"#1f9e89\"],[0.6666666666666666,\"#35b779\"],[0.7777777777777778,\"#6ece58\"],[0.8888888888888888,\"#b5de2b\"],[1.0,\"#fde725\"]],\"sequentialminus\":[[0.0,\"#440154\"],[0.1111111111111111,\"#482878\"],[0.2222222222222222,\"#3e4989\"],[0.3333333333333333,\"#31688e\"],[0.4444444444444444,\"#26828e\"],[0.5555555555555556,\"#1f9e89\"],[0.6666666666666666,\"#35b779\"],[0.7777777777777778,\"#6ece58\"],[0.8888888888888888,\"#b5de2b\"],[1.0,\"#fde725\"]]},\"colorway\":[\"#1F77B4\",\"#FF7F0E\",\"#2CA02C\",\"#D62728\",\"#9467BD\",\"#8C564B\",\"#E377C2\",\"#7F7F7F\",\"#BCBD22\",\"#17BECF\"],\"font\":{\"color\":\"rgb(36,36,36)\"},\"geo\":{\"bgcolor\":\"white\",\"lakecolor\":\"white\",\"landcolor\":\"white\",\"showlakes\":true,\"showland\":true,\"subunitcolor\":\"white\"},\"hoverlabel\":{\"align\":\"left\"},\"hovermode\":\"closest\",\"mapbox\":{\"style\":\"light\"},\"paper_bgcolor\":\"white\",\"plot_bgcolor\":\"white\",\"polar\":{\"angularaxis\":{\"gridcolor\":\"rgb(232,232,232)\",\"linecolor\":\"rgb(36,36,36)\",\"showgrid\":false,\"showline\":true,\"ticks\":\"outside\"},\"bgcolor\":\"white\",\"radialaxis\":{\"gridcolor\":\"rgb(232,232,232)\",\"linecolor\":\"rgb(36,36,36)\",\"showgrid\":false,\"showline\":true,\"ticks\":\"outside\"}},\"scene\":{\"xaxis\":{\"backgroundcolor\":\"white\",\"gridcolor\":\"rgb(232,232,232)\",\"gridwidth\":2,\"linecolor\":\"rgb(36,36,36)\",\"showbackground\":true,\"showgrid\":false,\"showline\":true,\"ticks\":\"outside\",\"zeroline\":false,\"zerolinecolor\":\"rgb(36,36,36)\"},\"yaxis\":{\"backgroundcolor\":\"white\",\"gridcolor\":\"rgb(232,232,232)\",\"gridwidth\":2,\"linecolor\":\"rgb(36,36,36)\",\"showbackground\":true,\"showgrid\":false,\"showline\":true,\"ticks\":\"outside\",\"zeroline\":false,\"zerolinecolor\":\"rgb(36,36,36)\"},\"zaxis\":{\"backgroundcolor\":\"white\",\"gridcolor\":\"rgb(232,232,232)\",\"gridwidth\":2,\"linecolor\":\"rgb(36,36,36)\",\"showbackground\":true,\"showgrid\":false,\"showline\":true,\"ticks\":\"outside\",\"zeroline\":false,\"zerolinecolor\":\"rgb(36,36,36)\"}},\"shapedefaults\":{\"fillcolor\":\"black\",\"line\":{\"width\":0},\"opacity\":0.3},\"ternary\":{\"aaxis\":{\"gridcolor\":\"rgb(232,232,232)\",\"linecolor\":\"rgb(36,36,36)\",\"showgrid\":false,\"showline\":true,\"ticks\":\"outside\"},\"baxis\":{\"gridcolor\":\"rgb(232,232,232)\",\"linecolor\":\"rgb(36,36,36)\",\"showgrid\":false,\"showline\":true,\"ticks\":\"outside\"},\"bgcolor\":\"white\",\"caxis\":{\"gridcolor\":\"rgb(232,232,232)\",\"linecolor\":\"rgb(36,36,36)\",\"showgrid\":false,\"showline\":true,\"ticks\":\"outside\"}},\"title\":{\"x\":0.05},\"xaxis\":{\"automargin\":true,\"gridcolor\":\"rgb(232,232,232)\",\"linecolor\":\"rgb(36,36,36)\",\"showgrid\":false,\"showline\":true,\"ticks\":\"outside\",\"title\":{\"standoff\":15},\"zeroline\":false,\"zerolinecolor\":\"rgb(36,36,36)\"},\"yaxis\":{\"automargin\":true,\"gridcolor\":\"rgb(232,232,232)\",\"linecolor\":\"rgb(36,36,36)\",\"showgrid\":false,\"showline\":true,\"ticks\":\"outside\",\"title\":{\"standoff\":15},\"zeroline\":false,\"zerolinecolor\":\"rgb(36,36,36)\"}}},\"xaxis\":{\"anchor\":\"y\",\"domain\":[0.0,1.0],\"title\":{\"text\":\"Price Per Liter (USD)\"}},\"yaxis\":{\"anchor\":\"x\",\"domain\":[0.0,1.0],\"title\":{\"text\":\"Country\"},\"categoryorder\":\"array\",\"categoryarray\":[\"Bangladesh\",\"India\",\"Pakistan\"]},\"legend\":{\"title\":{\"text\":\"Country\"},\"tracegroupgap\":0},\"margin\":{\"t\":60},\"barmode\":\"relative\",\"height\":300,\"width\":800,\"title\":{\"text\":\"Bar plot of Price Per Liter (USD) of petrol\",\"x\":0.5}},                        {\"responsive\": true}                    ).then(function(){\n",
              "                            \n",
              "var gd = document.getElementById('38ebe4a0-f109-4942-a478-d156f54ab005');\n",
              "var x = new MutationObserver(function (mutations, observer) {{\n",
              "        var display = window.getComputedStyle(gd).display;\n",
              "        if (!display || display === 'none') {{\n",
              "            console.log([gd, 'removed!']);\n",
              "            Plotly.purge(gd);\n",
              "            observer.disconnect();\n",
              "        }}\n",
              "}});\n",
              "\n",
              "// Listen for the removal of the full notebook cells\n",
              "var notebookContainer = gd.closest('#notebook-container');\n",
              "if (notebookContainer) {{\n",
              "    x.observe(notebookContainer, {childList: true});\n",
              "}}\n",
              "\n",
              "// Listen for the clearing of the current output cell\n",
              "var outputEl = gd.closest('.output');\n",
              "if (outputEl) {{\n",
              "    x.observe(outputEl, {childList: true});\n",
              "}}\n",
              "\n",
              "                        })                };                            </script>        </div>\n",
              "</body>\n",
              "</html>"
            ]
          },
          "metadata": {}
        }
      ],
      "source": [
        "fig=px.bar(df_Com, x='Price Per Liter (USD)',y='Country',color='Country',color_discrete_sequence=['lightgreen','lightblue','pink'],height=300,width=800,template='simple_white')\n",
        "\n",
        "fig.update_layout(title={'text':'Bar plot of Price Per Liter (USD) of petrol'},title_x=0.5)\n",
        "fig.show()"
      ]
    },
    {
      "cell_type": "markdown",
      "id": "0d464ad2",
      "metadata": {
        "papermill": {
          "duration": 0.030377,
          "end_time": "2022-07-19T06:47:36.426803",
          "exception": false,
          "start_time": "2022-07-19T06:47:36.396426",
          "status": "completed"
        },
        "tags": [],
        "id": "0d464ad2"
      },
      "source": [
        "Comparison of Gulf Cooperation Council (GCC) countries "
      ]
    },
    {
      "cell_type": "code",
      "execution_count": null,
      "id": "81806231",
      "metadata": {
        "execution": {
          "iopub.execute_input": "2022-07-19T06:47:36.491857Z",
          "iopub.status.busy": "2022-07-19T06:47:36.491042Z",
          "iopub.status.idle": "2022-07-19T06:47:36.503383Z",
          "shell.execute_reply": "2022-07-19T06:47:36.502468Z"
        },
        "papermill": {
          "duration": 0.047878,
          "end_time": "2022-07-19T06:47:36.505916",
          "exception": false,
          "start_time": "2022-07-19T06:47:36.458038",
          "status": "completed"
        },
        "tags": [],
        "id": "81806231"
      },
      "outputs": [],
      "source": [
        "df_United_Arab_Emirates=df[df['Country']=='United Arab Emirates']\n",
        "df_Bahrain=df[df['Country']=='Bahrain']\n",
        "df_Saudi_Arabia=df[df['Country']=='Saudi Arabia']\n",
        "df_Oman=df[df['Country']=='Oman']\n",
        "df_Qatar=df[df['Country']=='Qatar']\n",
        "df_Kuwait=df[df['Country']=='Kuwait']\n",
        "df_GCC=pd.concat([df_Bahrain,df_Kuwait,df_Qatar,df_Oman,df_Saudi_Arabia,df_United_Arab_Emirates])"
      ]
    },
    {
      "cell_type": "code",
      "execution_count": null,
      "id": "6ae93b91",
      "metadata": {
        "execution": {
          "iopub.execute_input": "2022-07-19T06:47:36.570876Z",
          "iopub.status.busy": "2022-07-19T06:47:36.570499Z",
          "iopub.status.idle": "2022-07-19T06:47:36.666619Z",
          "shell.execute_reply": "2022-07-19T06:47:36.665508Z"
        },
        "papermill": {
          "duration": 0.13193,
          "end_time": "2022-07-19T06:47:36.669001",
          "exception": false,
          "start_time": "2022-07-19T06:47:36.537071",
          "status": "completed"
        },
        "tags": [],
        "colab": {
          "base_uri": "https://localhost:8080/",
          "height": 317
        },
        "id": "6ae93b91",
        "outputId": "a23db2a1-f708-479c-e8d8-c816ad791dea"
      },
      "outputs": [
        {
          "output_type": "display_data",
          "data": {
            "text/html": [
              "<html>\n",
              "<head><meta charset=\"utf-8\" /></head>\n",
              "<body>\n",
              "    <div>            <script src=\"https://cdnjs.cloudflare.com/ajax/libs/mathjax/2.7.5/MathJax.js?config=TeX-AMS-MML_SVG\"></script><script type=\"text/javascript\">if (window.MathJax) {MathJax.Hub.Config({SVG: {font: \"STIX-Web\"}});}</script>                <script type=\"text/javascript\">window.PlotlyConfig = {MathJaxConfig: 'local'};</script>\n",
              "        <script src=\"https://cdn.plot.ly/plotly-2.8.3.min.js\"></script>                <div id=\"5d421c85-45d7-4082-a18f-430dc6a4f8a9\" class=\"plotly-graph-div\" style=\"height:300px; width:800px;\"></div>            <script type=\"text/javascript\">                                    window.PLOTLYENV=window.PLOTLYENV || {};                                    if (document.getElementById(\"5d421c85-45d7-4082-a18f-430dc6a4f8a9\")) {                    Plotly.newPlot(                        \"5d421c85-45d7-4082-a18f-430dc6a4f8a9\",                        [{\"alignmentgroup\":\"True\",\"hovertemplate\":\"Country=%{y}<br>Daily Oil Consumption (Barrels)=%{x}<extra></extra>\",\"legendgroup\":\"Bahrain\",\"marker\":{\"color\":\"rgb(141,211,199)\",\"pattern\":{\"shape\":\"\"}},\"name\":\"Bahrain\",\"offsetgroup\":\"Bahrain\",\"orientation\":\"h\",\"showlegend\":true,\"textposition\":\"auto\",\"x\":[62000],\"xaxis\":\"x\",\"y\":[\"Bahrain\"],\"yaxis\":\"y\",\"type\":\"bar\"},{\"alignmentgroup\":\"True\",\"hovertemplate\":\"Country=%{y}<br>Daily Oil Consumption (Barrels)=%{x}<extra></extra>\",\"legendgroup\":\"Kuwait\",\"marker\":{\"color\":\"rgb(255,255,179)\",\"pattern\":{\"shape\":\"\"}},\"name\":\"Kuwait\",\"offsetgroup\":\"Kuwait\",\"orientation\":\"h\",\"showlegend\":true,\"textposition\":\"auto\",\"x\":[359000],\"xaxis\":\"x\",\"y\":[\"Kuwait\"],\"yaxis\":\"y\",\"type\":\"bar\"},{\"alignmentgroup\":\"True\",\"hovertemplate\":\"Country=%{y}<br>Daily Oil Consumption (Barrels)=%{x}<extra></extra>\",\"legendgroup\":\"Qatar\",\"marker\":{\"color\":\"rgb(190,186,218)\",\"pattern\":{\"shape\":\"\"}},\"name\":\"Qatar\",\"offsetgroup\":\"Qatar\",\"orientation\":\"h\",\"showlegend\":true,\"textposition\":\"auto\",\"x\":[172000],\"xaxis\":\"x\",\"y\":[\"Qatar\"],\"yaxis\":\"y\",\"type\":\"bar\"},{\"alignmentgroup\":\"True\",\"hovertemplate\":\"Country=%{y}<br>Daily Oil Consumption (Barrels)=%{x}<extra></extra>\",\"legendgroup\":\"Oman\",\"marker\":{\"color\":\"rgb(251,128,114)\",\"pattern\":{\"shape\":\"\"}},\"name\":\"Oman\",\"offsetgroup\":\"Oman\",\"orientation\":\"h\",\"showlegend\":true,\"textposition\":\"auto\",\"x\":[183000],\"xaxis\":\"x\",\"y\":[\"Oman\"],\"yaxis\":\"y\",\"type\":\"bar\"},{\"alignmentgroup\":\"True\",\"hovertemplate\":\"Country=%{y}<br>Daily Oil Consumption (Barrels)=%{x}<extra></extra>\",\"legendgroup\":\"Saudi Arabia\",\"marker\":{\"color\":\"rgb(128,177,211)\",\"pattern\":{\"shape\":\"\"}},\"name\":\"Saudi Arabia\",\"offsetgroup\":\"Saudi Arabia\",\"orientation\":\"h\",\"showlegend\":true,\"textposition\":\"auto\",\"x\":[3302000],\"xaxis\":\"x\",\"y\":[\"Saudi Arabia\"],\"yaxis\":\"y\",\"type\":\"bar\"},{\"alignmentgroup\":\"True\",\"hovertemplate\":\"Country=%{y}<br>Daily Oil Consumption (Barrels)=%{x}<extra></extra>\",\"legendgroup\":\"United Arab Emirates\",\"marker\":{\"color\":\"rgb(253,180,98)\",\"pattern\":{\"shape\":\"\"}},\"name\":\"United Arab Emirates\",\"offsetgroup\":\"United Arab Emirates\",\"orientation\":\"h\",\"showlegend\":true,\"textposition\":\"auto\",\"x\":[896000],\"xaxis\":\"x\",\"y\":[\"United Arab Emirates\"],\"yaxis\":\"y\",\"type\":\"bar\"}],                        {\"template\":{\"data\":{\"barpolar\":[{\"marker\":{\"line\":{\"color\":\"white\",\"width\":0.5},\"pattern\":{\"fillmode\":\"overlay\",\"size\":10,\"solidity\":0.2}},\"type\":\"barpolar\"}],\"bar\":[{\"error_x\":{\"color\":\"rgb(36,36,36)\"},\"error_y\":{\"color\":\"rgb(36,36,36)\"},\"marker\":{\"line\":{\"color\":\"white\",\"width\":0.5},\"pattern\":{\"fillmode\":\"overlay\",\"size\":10,\"solidity\":0.2}},\"type\":\"bar\"}],\"carpet\":[{\"aaxis\":{\"endlinecolor\":\"rgb(36,36,36)\",\"gridcolor\":\"white\",\"linecolor\":\"white\",\"minorgridcolor\":\"white\",\"startlinecolor\":\"rgb(36,36,36)\"},\"baxis\":{\"endlinecolor\":\"rgb(36,36,36)\",\"gridcolor\":\"white\",\"linecolor\":\"white\",\"minorgridcolor\":\"white\",\"startlinecolor\":\"rgb(36,36,36)\"},\"type\":\"carpet\"}],\"choropleth\":[{\"colorbar\":{\"outlinewidth\":1,\"tickcolor\":\"rgb(36,36,36)\",\"ticks\":\"outside\"},\"type\":\"choropleth\"}],\"contourcarpet\":[{\"colorbar\":{\"outlinewidth\":1,\"tickcolor\":\"rgb(36,36,36)\",\"ticks\":\"outside\"},\"type\":\"contourcarpet\"}],\"contour\":[{\"colorbar\":{\"outlinewidth\":1,\"tickcolor\":\"rgb(36,36,36)\",\"ticks\":\"outside\"},\"colorscale\":[[0.0,\"#440154\"],[0.1111111111111111,\"#482878\"],[0.2222222222222222,\"#3e4989\"],[0.3333333333333333,\"#31688e\"],[0.4444444444444444,\"#26828e\"],[0.5555555555555556,\"#1f9e89\"],[0.6666666666666666,\"#35b779\"],[0.7777777777777778,\"#6ece58\"],[0.8888888888888888,\"#b5de2b\"],[1.0,\"#fde725\"]],\"type\":\"contour\"}],\"heatmapgl\":[{\"colorbar\":{\"outlinewidth\":1,\"tickcolor\":\"rgb(36,36,36)\",\"ticks\":\"outside\"},\"colorscale\":[[0.0,\"#440154\"],[0.1111111111111111,\"#482878\"],[0.2222222222222222,\"#3e4989\"],[0.3333333333333333,\"#31688e\"],[0.4444444444444444,\"#26828e\"],[0.5555555555555556,\"#1f9e89\"],[0.6666666666666666,\"#35b779\"],[0.7777777777777778,\"#6ece58\"],[0.8888888888888888,\"#b5de2b\"],[1.0,\"#fde725\"]],\"type\":\"heatmapgl\"}],\"heatmap\":[{\"colorbar\":{\"outlinewidth\":1,\"tickcolor\":\"rgb(36,36,36)\",\"ticks\":\"outside\"},\"colorscale\":[[0.0,\"#440154\"],[0.1111111111111111,\"#482878\"],[0.2222222222222222,\"#3e4989\"],[0.3333333333333333,\"#31688e\"],[0.4444444444444444,\"#26828e\"],[0.5555555555555556,\"#1f9e89\"],[0.6666666666666666,\"#35b779\"],[0.7777777777777778,\"#6ece58\"],[0.8888888888888888,\"#b5de2b\"],[1.0,\"#fde725\"]],\"type\":\"heatmap\"}],\"histogram2dcontour\":[{\"colorbar\":{\"outlinewidth\":1,\"tickcolor\":\"rgb(36,36,36)\",\"ticks\":\"outside\"},\"colorscale\":[[0.0,\"#440154\"],[0.1111111111111111,\"#482878\"],[0.2222222222222222,\"#3e4989\"],[0.3333333333333333,\"#31688e\"],[0.4444444444444444,\"#26828e\"],[0.5555555555555556,\"#1f9e89\"],[0.6666666666666666,\"#35b779\"],[0.7777777777777778,\"#6ece58\"],[0.8888888888888888,\"#b5de2b\"],[1.0,\"#fde725\"]],\"type\":\"histogram2dcontour\"}],\"histogram2d\":[{\"colorbar\":{\"outlinewidth\":1,\"tickcolor\":\"rgb(36,36,36)\",\"ticks\":\"outside\"},\"colorscale\":[[0.0,\"#440154\"],[0.1111111111111111,\"#482878\"],[0.2222222222222222,\"#3e4989\"],[0.3333333333333333,\"#31688e\"],[0.4444444444444444,\"#26828e\"],[0.5555555555555556,\"#1f9e89\"],[0.6666666666666666,\"#35b779\"],[0.7777777777777778,\"#6ece58\"],[0.8888888888888888,\"#b5de2b\"],[1.0,\"#fde725\"]],\"type\":\"histogram2d\"}],\"histogram\":[{\"marker\":{\"line\":{\"color\":\"white\",\"width\":0.6}},\"type\":\"histogram\"}],\"mesh3d\":[{\"colorbar\":{\"outlinewidth\":1,\"tickcolor\":\"rgb(36,36,36)\",\"ticks\":\"outside\"},\"type\":\"mesh3d\"}],\"parcoords\":[{\"line\":{\"colorbar\":{\"outlinewidth\":1,\"tickcolor\":\"rgb(36,36,36)\",\"ticks\":\"outside\"}},\"type\":\"parcoords\"}],\"pie\":[{\"automargin\":true,\"type\":\"pie\"}],\"scatter3d\":[{\"line\":{\"colorbar\":{\"outlinewidth\":1,\"tickcolor\":\"rgb(36,36,36)\",\"ticks\":\"outside\"}},\"marker\":{\"colorbar\":{\"outlinewidth\":1,\"tickcolor\":\"rgb(36,36,36)\",\"ticks\":\"outside\"}},\"type\":\"scatter3d\"}],\"scattercarpet\":[{\"marker\":{\"colorbar\":{\"outlinewidth\":1,\"tickcolor\":\"rgb(36,36,36)\",\"ticks\":\"outside\"}},\"type\":\"scattercarpet\"}],\"scattergeo\":[{\"marker\":{\"colorbar\":{\"outlinewidth\":1,\"tickcolor\":\"rgb(36,36,36)\",\"ticks\":\"outside\"}},\"type\":\"scattergeo\"}],\"scattergl\":[{\"marker\":{\"colorbar\":{\"outlinewidth\":1,\"tickcolor\":\"rgb(36,36,36)\",\"ticks\":\"outside\"}},\"type\":\"scattergl\"}],\"scattermapbox\":[{\"marker\":{\"colorbar\":{\"outlinewidth\":1,\"tickcolor\":\"rgb(36,36,36)\",\"ticks\":\"outside\"}},\"type\":\"scattermapbox\"}],\"scatterpolargl\":[{\"marker\":{\"colorbar\":{\"outlinewidth\":1,\"tickcolor\":\"rgb(36,36,36)\",\"ticks\":\"outside\"}},\"type\":\"scatterpolargl\"}],\"scatterpolar\":[{\"marker\":{\"colorbar\":{\"outlinewidth\":1,\"tickcolor\":\"rgb(36,36,36)\",\"ticks\":\"outside\"}},\"type\":\"scatterpolar\"}],\"scatter\":[{\"marker\":{\"colorbar\":{\"outlinewidth\":1,\"tickcolor\":\"rgb(36,36,36)\",\"ticks\":\"outside\"}},\"type\":\"scatter\"}],\"scatterternary\":[{\"marker\":{\"colorbar\":{\"outlinewidth\":1,\"tickcolor\":\"rgb(36,36,36)\",\"ticks\":\"outside\"}},\"type\":\"scatterternary\"}],\"surface\":[{\"colorbar\":{\"outlinewidth\":1,\"tickcolor\":\"rgb(36,36,36)\",\"ticks\":\"outside\"},\"colorscale\":[[0.0,\"#440154\"],[0.1111111111111111,\"#482878\"],[0.2222222222222222,\"#3e4989\"],[0.3333333333333333,\"#31688e\"],[0.4444444444444444,\"#26828e\"],[0.5555555555555556,\"#1f9e89\"],[0.6666666666666666,\"#35b779\"],[0.7777777777777778,\"#6ece58\"],[0.8888888888888888,\"#b5de2b\"],[1.0,\"#fde725\"]],\"type\":\"surface\"}],\"table\":[{\"cells\":{\"fill\":{\"color\":\"rgb(237,237,237)\"},\"line\":{\"color\":\"white\"}},\"header\":{\"fill\":{\"color\":\"rgb(217,217,217)\"},\"line\":{\"color\":\"white\"}},\"type\":\"table\"}]},\"layout\":{\"annotationdefaults\":{\"arrowhead\":0,\"arrowwidth\":1},\"autotypenumbers\":\"strict\",\"coloraxis\":{\"colorbar\":{\"outlinewidth\":1,\"tickcolor\":\"rgb(36,36,36)\",\"ticks\":\"outside\"}},\"colorscale\":{\"diverging\":[[0.0,\"rgb(103,0,31)\"],[0.1,\"rgb(178,24,43)\"],[0.2,\"rgb(214,96,77)\"],[0.3,\"rgb(244,165,130)\"],[0.4,\"rgb(253,219,199)\"],[0.5,\"rgb(247,247,247)\"],[0.6,\"rgb(209,229,240)\"],[0.7,\"rgb(146,197,222)\"],[0.8,\"rgb(67,147,195)\"],[0.9,\"rgb(33,102,172)\"],[1.0,\"rgb(5,48,97)\"]],\"sequential\":[[0.0,\"#440154\"],[0.1111111111111111,\"#482878\"],[0.2222222222222222,\"#3e4989\"],[0.3333333333333333,\"#31688e\"],[0.4444444444444444,\"#26828e\"],[0.5555555555555556,\"#1f9e89\"],[0.6666666666666666,\"#35b779\"],[0.7777777777777778,\"#6ece58\"],[0.8888888888888888,\"#b5de2b\"],[1.0,\"#fde725\"]],\"sequentialminus\":[[0.0,\"#440154\"],[0.1111111111111111,\"#482878\"],[0.2222222222222222,\"#3e4989\"],[0.3333333333333333,\"#31688e\"],[0.4444444444444444,\"#26828e\"],[0.5555555555555556,\"#1f9e89\"],[0.6666666666666666,\"#35b779\"],[0.7777777777777778,\"#6ece58\"],[0.8888888888888888,\"#b5de2b\"],[1.0,\"#fde725\"]]},\"colorway\":[\"#1F77B4\",\"#FF7F0E\",\"#2CA02C\",\"#D62728\",\"#9467BD\",\"#8C564B\",\"#E377C2\",\"#7F7F7F\",\"#BCBD22\",\"#17BECF\"],\"font\":{\"color\":\"rgb(36,36,36)\"},\"geo\":{\"bgcolor\":\"white\",\"lakecolor\":\"white\",\"landcolor\":\"white\",\"showlakes\":true,\"showland\":true,\"subunitcolor\":\"white\"},\"hoverlabel\":{\"align\":\"left\"},\"hovermode\":\"closest\",\"mapbox\":{\"style\":\"light\"},\"paper_bgcolor\":\"white\",\"plot_bgcolor\":\"white\",\"polar\":{\"angularaxis\":{\"gridcolor\":\"rgb(232,232,232)\",\"linecolor\":\"rgb(36,36,36)\",\"showgrid\":false,\"showline\":true,\"ticks\":\"outside\"},\"bgcolor\":\"white\",\"radialaxis\":{\"gridcolor\":\"rgb(232,232,232)\",\"linecolor\":\"rgb(36,36,36)\",\"showgrid\":false,\"showline\":true,\"ticks\":\"outside\"}},\"scene\":{\"xaxis\":{\"backgroundcolor\":\"white\",\"gridcolor\":\"rgb(232,232,232)\",\"gridwidth\":2,\"linecolor\":\"rgb(36,36,36)\",\"showbackground\":true,\"showgrid\":false,\"showline\":true,\"ticks\":\"outside\",\"zeroline\":false,\"zerolinecolor\":\"rgb(36,36,36)\"},\"yaxis\":{\"backgroundcolor\":\"white\",\"gridcolor\":\"rgb(232,232,232)\",\"gridwidth\":2,\"linecolor\":\"rgb(36,36,36)\",\"showbackground\":true,\"showgrid\":false,\"showline\":true,\"ticks\":\"outside\",\"zeroline\":false,\"zerolinecolor\":\"rgb(36,36,36)\"},\"zaxis\":{\"backgroundcolor\":\"white\",\"gridcolor\":\"rgb(232,232,232)\",\"gridwidth\":2,\"linecolor\":\"rgb(36,36,36)\",\"showbackground\":true,\"showgrid\":false,\"showline\":true,\"ticks\":\"outside\",\"zeroline\":false,\"zerolinecolor\":\"rgb(36,36,36)\"}},\"shapedefaults\":{\"fillcolor\":\"black\",\"line\":{\"width\":0},\"opacity\":0.3},\"ternary\":{\"aaxis\":{\"gridcolor\":\"rgb(232,232,232)\",\"linecolor\":\"rgb(36,36,36)\",\"showgrid\":false,\"showline\":true,\"ticks\":\"outside\"},\"baxis\":{\"gridcolor\":\"rgb(232,232,232)\",\"linecolor\":\"rgb(36,36,36)\",\"showgrid\":false,\"showline\":true,\"ticks\":\"outside\"},\"bgcolor\":\"white\",\"caxis\":{\"gridcolor\":\"rgb(232,232,232)\",\"linecolor\":\"rgb(36,36,36)\",\"showgrid\":false,\"showline\":true,\"ticks\":\"outside\"}},\"title\":{\"x\":0.05},\"xaxis\":{\"automargin\":true,\"gridcolor\":\"rgb(232,232,232)\",\"linecolor\":\"rgb(36,36,36)\",\"showgrid\":false,\"showline\":true,\"ticks\":\"outside\",\"title\":{\"standoff\":15},\"zeroline\":false,\"zerolinecolor\":\"rgb(36,36,36)\"},\"yaxis\":{\"automargin\":true,\"gridcolor\":\"rgb(232,232,232)\",\"linecolor\":\"rgb(36,36,36)\",\"showgrid\":false,\"showline\":true,\"ticks\":\"outside\",\"title\":{\"standoff\":15},\"zeroline\":false,\"zerolinecolor\":\"rgb(36,36,36)\"}}},\"xaxis\":{\"anchor\":\"y\",\"domain\":[0.0,1.0],\"title\":{\"text\":\"Daily Oil Consumption (Barrels)\"}},\"yaxis\":{\"anchor\":\"x\",\"domain\":[0.0,1.0],\"title\":{\"text\":\"Country\"},\"categoryorder\":\"array\",\"categoryarray\":[\"United Arab Emirates\",\"Saudi Arabia\",\"Oman\",\"Qatar\",\"Kuwait\",\"Bahrain\"]},\"legend\":{\"title\":{\"text\":\"Country\"},\"tracegroupgap\":0},\"margin\":{\"t\":60},\"barmode\":\"relative\",\"height\":300,\"width\":800,\"title\":{\"text\":\"Daily Oil Consumption (Barrels) - GCC Countries\",\"x\":0.5}},                        {\"responsive\": true}                    ).then(function(){\n",
              "                            \n",
              "var gd = document.getElementById('5d421c85-45d7-4082-a18f-430dc6a4f8a9');\n",
              "var x = new MutationObserver(function (mutations, observer) {{\n",
              "        var display = window.getComputedStyle(gd).display;\n",
              "        if (!display || display === 'none') {{\n",
              "            console.log([gd, 'removed!']);\n",
              "            Plotly.purge(gd);\n",
              "            observer.disconnect();\n",
              "        }}\n",
              "}});\n",
              "\n",
              "// Listen for the removal of the full notebook cells\n",
              "var notebookContainer = gd.closest('#notebook-container');\n",
              "if (notebookContainer) {{\n",
              "    x.observe(notebookContainer, {childList: true});\n",
              "}}\n",
              "\n",
              "// Listen for the clearing of the current output cell\n",
              "var outputEl = gd.closest('.output');\n",
              "if (outputEl) {{\n",
              "    x.observe(outputEl, {childList: true});\n",
              "}}\n",
              "\n",
              "                        })                };                            </script>        </div>\n",
              "</body>\n",
              "</html>"
            ]
          },
          "metadata": {}
        }
      ],
      "source": [
        "fig=px.bar(df_GCC, x='Daily Oil Consumption (Barrels)',y='Country',color='Country',height=300,width=800,template='simple_white',color_discrete_sequence=px.colors.qualitative.Set3)\n",
        "fig.update_layout(title={'text':'Daily Oil Consumption (Barrels) - GCC Countries'},title_x=0.5)\n",
        "fig.show()"
      ]
    },
    {
      "cell_type": "code",
      "execution_count": null,
      "id": "9e70b43f",
      "metadata": {
        "execution": {
          "iopub.execute_input": "2022-07-19T06:47:36.734050Z",
          "iopub.status.busy": "2022-07-19T06:47:36.733675Z",
          "iopub.status.idle": "2022-07-19T06:47:36.828494Z",
          "shell.execute_reply": "2022-07-19T06:47:36.827389Z"
        },
        "papermill": {
          "duration": 0.129866,
          "end_time": "2022-07-19T06:47:36.830943",
          "exception": false,
          "start_time": "2022-07-19T06:47:36.701077",
          "status": "completed"
        },
        "tags": [],
        "colab": {
          "base_uri": "https://localhost:8080/",
          "height": 317
        },
        "id": "9e70b43f",
        "outputId": "614bc3aa-c90b-40f4-fda7-ecaa058a89d6"
      },
      "outputs": [
        {
          "output_type": "display_data",
          "data": {
            "text/html": [
              "<html>\n",
              "<head><meta charset=\"utf-8\" /></head>\n",
              "<body>\n",
              "    <div>            <script src=\"https://cdnjs.cloudflare.com/ajax/libs/mathjax/2.7.5/MathJax.js?config=TeX-AMS-MML_SVG\"></script><script type=\"text/javascript\">if (window.MathJax) {MathJax.Hub.Config({SVG: {font: \"STIX-Web\"}});}</script>                <script type=\"text/javascript\">window.PlotlyConfig = {MathJaxConfig: 'local'};</script>\n",
              "        <script src=\"https://cdn.plot.ly/plotly-2.8.3.min.js\"></script>                <div id=\"986723f2-5904-47bf-bfdc-ba974021f5a3\" class=\"plotly-graph-div\" style=\"height:300px; width:800px;\"></div>            <script type=\"text/javascript\">                                    window.PLOTLYENV=window.PLOTLYENV || {};                                    if (document.getElementById(\"986723f2-5904-47bf-bfdc-ba974021f5a3\")) {                    Plotly.newPlot(                        \"986723f2-5904-47bf-bfdc-ba974021f5a3\",                        [{\"alignmentgroup\":\"True\",\"hovertemplate\":\"Country=%{y}<br>World Share %=%{x}<extra></extra>\",\"legendgroup\":\"Bahrain\",\"marker\":{\"color\":\"rgb(141,211,199)\",\"pattern\":{\"shape\":\"\"}},\"name\":\"Bahrain\",\"offsetgroup\":\"Bahrain\",\"orientation\":\"h\",\"showlegend\":true,\"textposition\":\"auto\",\"x\":[0.0641976645262406],\"xaxis\":\"x\",\"y\":[\"Bahrain\"],\"yaxis\":\"y\",\"type\":\"bar\"},{\"alignmentgroup\":\"True\",\"hovertemplate\":\"Country=%{y}<br>World Share %=%{x}<extra></extra>\",\"legendgroup\":\"Kuwait\",\"marker\":{\"color\":\"rgb(255,255,179)\",\"pattern\":{\"shape\":\"\"}},\"name\":\"Kuwait\",\"offsetgroup\":\"Kuwait\",\"orientation\":\"h\",\"showlegend\":true,\"textposition\":\"auto\",\"x\":[0.3717251865309738],\"xaxis\":\"x\",\"y\":[\"Kuwait\"],\"yaxis\":\"y\",\"type\":\"bar\"},{\"alignmentgroup\":\"True\",\"hovertemplate\":\"Country=%{y}<br>World Share %=%{x}<extra></extra>\",\"legendgroup\":\"Qatar\",\"marker\":{\"color\":\"rgb(190,186,218)\",\"pattern\":{\"shape\":\"\"}},\"name\":\"Qatar\",\"offsetgroup\":\"Qatar\",\"orientation\":\"h\",\"showlegend\":true,\"textposition\":\"auto\",\"x\":[0.17809674675021586],\"xaxis\":\"x\",\"y\":[\"Qatar\"],\"yaxis\":\"y\",\"type\":\"bar\"},{\"alignmentgroup\":\"True\",\"hovertemplate\":\"Country=%{y}<br>World Share %=%{x}<extra></extra>\",\"legendgroup\":\"Oman\",\"marker\":{\"color\":\"rgb(251,128,114)\",\"pattern\":{\"shape\":\"\"}},\"name\":\"Oman\",\"offsetgroup\":\"Oman\",\"orientation\":\"h\",\"showlegend\":true,\"textposition\":\"auto\",\"x\":[0.18948665497261338],\"xaxis\":\"x\",\"y\":[\"Oman\"],\"yaxis\":\"y\",\"type\":\"bar\"},{\"alignmentgroup\":\"True\",\"hovertemplate\":\"Country=%{y}<br>World Share %=%{x}<extra></extra>\",\"legendgroup\":\"Saudi Arabia\",\"marker\":{\"color\":\"rgb(128,177,211)\",\"pattern\":{\"shape\":\"\"}},\"name\":\"Saudi Arabia\",\"offsetgroup\":\"Saudi Arabia\",\"orientation\":\"h\",\"showlegend\":true,\"textposition\":\"auto\",\"x\":[3.4190433591233296],\"xaxis\":\"x\",\"y\":[\"Saudi Arabia\"],\"yaxis\":\"y\",\"type\":\"bar\"},{\"alignmentgroup\":\"True\",\"hovertemplate\":\"Country=%{y}<br>World Share %=%{x}<extra></extra>\",\"legendgroup\":\"United Arab Emirates\",\"marker\":{\"color\":\"rgb(253,180,98)\",\"pattern\":{\"shape\":\"\"}},\"name\":\"United Arab Emirates\",\"offsetgroup\":\"United Arab Emirates\",\"orientation\":\"h\",\"showlegend\":true,\"textposition\":\"auto\",\"x\":[0.9277597970243803],\"xaxis\":\"x\",\"y\":[\"United Arab Emirates\"],\"yaxis\":\"y\",\"type\":\"bar\"}],                        {\"template\":{\"data\":{\"barpolar\":[{\"marker\":{\"line\":{\"color\":\"white\",\"width\":0.5},\"pattern\":{\"fillmode\":\"overlay\",\"size\":10,\"solidity\":0.2}},\"type\":\"barpolar\"}],\"bar\":[{\"error_x\":{\"color\":\"rgb(36,36,36)\"},\"error_y\":{\"color\":\"rgb(36,36,36)\"},\"marker\":{\"line\":{\"color\":\"white\",\"width\":0.5},\"pattern\":{\"fillmode\":\"overlay\",\"size\":10,\"solidity\":0.2}},\"type\":\"bar\"}],\"carpet\":[{\"aaxis\":{\"endlinecolor\":\"rgb(36,36,36)\",\"gridcolor\":\"white\",\"linecolor\":\"white\",\"minorgridcolor\":\"white\",\"startlinecolor\":\"rgb(36,36,36)\"},\"baxis\":{\"endlinecolor\":\"rgb(36,36,36)\",\"gridcolor\":\"white\",\"linecolor\":\"white\",\"minorgridcolor\":\"white\",\"startlinecolor\":\"rgb(36,36,36)\"},\"type\":\"carpet\"}],\"choropleth\":[{\"colorbar\":{\"outlinewidth\":1,\"tickcolor\":\"rgb(36,36,36)\",\"ticks\":\"outside\"},\"type\":\"choropleth\"}],\"contourcarpet\":[{\"colorbar\":{\"outlinewidth\":1,\"tickcolor\":\"rgb(36,36,36)\",\"ticks\":\"outside\"},\"type\":\"contourcarpet\"}],\"contour\":[{\"colorbar\":{\"outlinewidth\":1,\"tickcolor\":\"rgb(36,36,36)\",\"ticks\":\"outside\"},\"colorscale\":[[0.0,\"#440154\"],[0.1111111111111111,\"#482878\"],[0.2222222222222222,\"#3e4989\"],[0.3333333333333333,\"#31688e\"],[0.4444444444444444,\"#26828e\"],[0.5555555555555556,\"#1f9e89\"],[0.6666666666666666,\"#35b779\"],[0.7777777777777778,\"#6ece58\"],[0.8888888888888888,\"#b5de2b\"],[1.0,\"#fde725\"]],\"type\":\"contour\"}],\"heatmapgl\":[{\"colorbar\":{\"outlinewidth\":1,\"tickcolor\":\"rgb(36,36,36)\",\"ticks\":\"outside\"},\"colorscale\":[[0.0,\"#440154\"],[0.1111111111111111,\"#482878\"],[0.2222222222222222,\"#3e4989\"],[0.3333333333333333,\"#31688e\"],[0.4444444444444444,\"#26828e\"],[0.5555555555555556,\"#1f9e89\"],[0.6666666666666666,\"#35b779\"],[0.7777777777777778,\"#6ece58\"],[0.8888888888888888,\"#b5de2b\"],[1.0,\"#fde725\"]],\"type\":\"heatmapgl\"}],\"heatmap\":[{\"colorbar\":{\"outlinewidth\":1,\"tickcolor\":\"rgb(36,36,36)\",\"ticks\":\"outside\"},\"colorscale\":[[0.0,\"#440154\"],[0.1111111111111111,\"#482878\"],[0.2222222222222222,\"#3e4989\"],[0.3333333333333333,\"#31688e\"],[0.4444444444444444,\"#26828e\"],[0.5555555555555556,\"#1f9e89\"],[0.6666666666666666,\"#35b779\"],[0.7777777777777778,\"#6ece58\"],[0.8888888888888888,\"#b5de2b\"],[1.0,\"#fde725\"]],\"type\":\"heatmap\"}],\"histogram2dcontour\":[{\"colorbar\":{\"outlinewidth\":1,\"tickcolor\":\"rgb(36,36,36)\",\"ticks\":\"outside\"},\"colorscale\":[[0.0,\"#440154\"],[0.1111111111111111,\"#482878\"],[0.2222222222222222,\"#3e4989\"],[0.3333333333333333,\"#31688e\"],[0.4444444444444444,\"#26828e\"],[0.5555555555555556,\"#1f9e89\"],[0.6666666666666666,\"#35b779\"],[0.7777777777777778,\"#6ece58\"],[0.8888888888888888,\"#b5de2b\"],[1.0,\"#fde725\"]],\"type\":\"histogram2dcontour\"}],\"histogram2d\":[{\"colorbar\":{\"outlinewidth\":1,\"tickcolor\":\"rgb(36,36,36)\",\"ticks\":\"outside\"},\"colorscale\":[[0.0,\"#440154\"],[0.1111111111111111,\"#482878\"],[0.2222222222222222,\"#3e4989\"],[0.3333333333333333,\"#31688e\"],[0.4444444444444444,\"#26828e\"],[0.5555555555555556,\"#1f9e89\"],[0.6666666666666666,\"#35b779\"],[0.7777777777777778,\"#6ece58\"],[0.8888888888888888,\"#b5de2b\"],[1.0,\"#fde725\"]],\"type\":\"histogram2d\"}],\"histogram\":[{\"marker\":{\"line\":{\"color\":\"white\",\"width\":0.6}},\"type\":\"histogram\"}],\"mesh3d\":[{\"colorbar\":{\"outlinewidth\":1,\"tickcolor\":\"rgb(36,36,36)\",\"ticks\":\"outside\"},\"type\":\"mesh3d\"}],\"parcoords\":[{\"line\":{\"colorbar\":{\"outlinewidth\":1,\"tickcolor\":\"rgb(36,36,36)\",\"ticks\":\"outside\"}},\"type\":\"parcoords\"}],\"pie\":[{\"automargin\":true,\"type\":\"pie\"}],\"scatter3d\":[{\"line\":{\"colorbar\":{\"outlinewidth\":1,\"tickcolor\":\"rgb(36,36,36)\",\"ticks\":\"outside\"}},\"marker\":{\"colorbar\":{\"outlinewidth\":1,\"tickcolor\":\"rgb(36,36,36)\",\"ticks\":\"outside\"}},\"type\":\"scatter3d\"}],\"scattercarpet\":[{\"marker\":{\"colorbar\":{\"outlinewidth\":1,\"tickcolor\":\"rgb(36,36,36)\",\"ticks\":\"outside\"}},\"type\":\"scattercarpet\"}],\"scattergeo\":[{\"marker\":{\"colorbar\":{\"outlinewidth\":1,\"tickcolor\":\"rgb(36,36,36)\",\"ticks\":\"outside\"}},\"type\":\"scattergeo\"}],\"scattergl\":[{\"marker\":{\"colorbar\":{\"outlinewidth\":1,\"tickcolor\":\"rgb(36,36,36)\",\"ticks\":\"outside\"}},\"type\":\"scattergl\"}],\"scattermapbox\":[{\"marker\":{\"colorbar\":{\"outlinewidth\":1,\"tickcolor\":\"rgb(36,36,36)\",\"ticks\":\"outside\"}},\"type\":\"scattermapbox\"}],\"scatterpolargl\":[{\"marker\":{\"colorbar\":{\"outlinewidth\":1,\"tickcolor\":\"rgb(36,36,36)\",\"ticks\":\"outside\"}},\"type\":\"scatterpolargl\"}],\"scatterpolar\":[{\"marker\":{\"colorbar\":{\"outlinewidth\":1,\"tickcolor\":\"rgb(36,36,36)\",\"ticks\":\"outside\"}},\"type\":\"scatterpolar\"}],\"scatter\":[{\"marker\":{\"colorbar\":{\"outlinewidth\":1,\"tickcolor\":\"rgb(36,36,36)\",\"ticks\":\"outside\"}},\"type\":\"scatter\"}],\"scatterternary\":[{\"marker\":{\"colorbar\":{\"outlinewidth\":1,\"tickcolor\":\"rgb(36,36,36)\",\"ticks\":\"outside\"}},\"type\":\"scatterternary\"}],\"surface\":[{\"colorbar\":{\"outlinewidth\":1,\"tickcolor\":\"rgb(36,36,36)\",\"ticks\":\"outside\"},\"colorscale\":[[0.0,\"#440154\"],[0.1111111111111111,\"#482878\"],[0.2222222222222222,\"#3e4989\"],[0.3333333333333333,\"#31688e\"],[0.4444444444444444,\"#26828e\"],[0.5555555555555556,\"#1f9e89\"],[0.6666666666666666,\"#35b779\"],[0.7777777777777778,\"#6ece58\"],[0.8888888888888888,\"#b5de2b\"],[1.0,\"#fde725\"]],\"type\":\"surface\"}],\"table\":[{\"cells\":{\"fill\":{\"color\":\"rgb(237,237,237)\"},\"line\":{\"color\":\"white\"}},\"header\":{\"fill\":{\"color\":\"rgb(217,217,217)\"},\"line\":{\"color\":\"white\"}},\"type\":\"table\"}]},\"layout\":{\"annotationdefaults\":{\"arrowhead\":0,\"arrowwidth\":1},\"autotypenumbers\":\"strict\",\"coloraxis\":{\"colorbar\":{\"outlinewidth\":1,\"tickcolor\":\"rgb(36,36,36)\",\"ticks\":\"outside\"}},\"colorscale\":{\"diverging\":[[0.0,\"rgb(103,0,31)\"],[0.1,\"rgb(178,24,43)\"],[0.2,\"rgb(214,96,77)\"],[0.3,\"rgb(244,165,130)\"],[0.4,\"rgb(253,219,199)\"],[0.5,\"rgb(247,247,247)\"],[0.6,\"rgb(209,229,240)\"],[0.7,\"rgb(146,197,222)\"],[0.8,\"rgb(67,147,195)\"],[0.9,\"rgb(33,102,172)\"],[1.0,\"rgb(5,48,97)\"]],\"sequential\":[[0.0,\"#440154\"],[0.1111111111111111,\"#482878\"],[0.2222222222222222,\"#3e4989\"],[0.3333333333333333,\"#31688e\"],[0.4444444444444444,\"#26828e\"],[0.5555555555555556,\"#1f9e89\"],[0.6666666666666666,\"#35b779\"],[0.7777777777777778,\"#6ece58\"],[0.8888888888888888,\"#b5de2b\"],[1.0,\"#fde725\"]],\"sequentialminus\":[[0.0,\"#440154\"],[0.1111111111111111,\"#482878\"],[0.2222222222222222,\"#3e4989\"],[0.3333333333333333,\"#31688e\"],[0.4444444444444444,\"#26828e\"],[0.5555555555555556,\"#1f9e89\"],[0.6666666666666666,\"#35b779\"],[0.7777777777777778,\"#6ece58\"],[0.8888888888888888,\"#b5de2b\"],[1.0,\"#fde725\"]]},\"colorway\":[\"#1F77B4\",\"#FF7F0E\",\"#2CA02C\",\"#D62728\",\"#9467BD\",\"#8C564B\",\"#E377C2\",\"#7F7F7F\",\"#BCBD22\",\"#17BECF\"],\"font\":{\"color\":\"rgb(36,36,36)\"},\"geo\":{\"bgcolor\":\"white\",\"lakecolor\":\"white\",\"landcolor\":\"white\",\"showlakes\":true,\"showland\":true,\"subunitcolor\":\"white\"},\"hoverlabel\":{\"align\":\"left\"},\"hovermode\":\"closest\",\"mapbox\":{\"style\":\"light\"},\"paper_bgcolor\":\"white\",\"plot_bgcolor\":\"white\",\"polar\":{\"angularaxis\":{\"gridcolor\":\"rgb(232,232,232)\",\"linecolor\":\"rgb(36,36,36)\",\"showgrid\":false,\"showline\":true,\"ticks\":\"outside\"},\"bgcolor\":\"white\",\"radialaxis\":{\"gridcolor\":\"rgb(232,232,232)\",\"linecolor\":\"rgb(36,36,36)\",\"showgrid\":false,\"showline\":true,\"ticks\":\"outside\"}},\"scene\":{\"xaxis\":{\"backgroundcolor\":\"white\",\"gridcolor\":\"rgb(232,232,232)\",\"gridwidth\":2,\"linecolor\":\"rgb(36,36,36)\",\"showbackground\":true,\"showgrid\":false,\"showline\":true,\"ticks\":\"outside\",\"zeroline\":false,\"zerolinecolor\":\"rgb(36,36,36)\"},\"yaxis\":{\"backgroundcolor\":\"white\",\"gridcolor\":\"rgb(232,232,232)\",\"gridwidth\":2,\"linecolor\":\"rgb(36,36,36)\",\"showbackground\":true,\"showgrid\":false,\"showline\":true,\"ticks\":\"outside\",\"zeroline\":false,\"zerolinecolor\":\"rgb(36,36,36)\"},\"zaxis\":{\"backgroundcolor\":\"white\",\"gridcolor\":\"rgb(232,232,232)\",\"gridwidth\":2,\"linecolor\":\"rgb(36,36,36)\",\"showbackground\":true,\"showgrid\":false,\"showline\":true,\"ticks\":\"outside\",\"zeroline\":false,\"zerolinecolor\":\"rgb(36,36,36)\"}},\"shapedefaults\":{\"fillcolor\":\"black\",\"line\":{\"width\":0},\"opacity\":0.3},\"ternary\":{\"aaxis\":{\"gridcolor\":\"rgb(232,232,232)\",\"linecolor\":\"rgb(36,36,36)\",\"showgrid\":false,\"showline\":true,\"ticks\":\"outside\"},\"baxis\":{\"gridcolor\":\"rgb(232,232,232)\",\"linecolor\":\"rgb(36,36,36)\",\"showgrid\":false,\"showline\":true,\"ticks\":\"outside\"},\"bgcolor\":\"white\",\"caxis\":{\"gridcolor\":\"rgb(232,232,232)\",\"linecolor\":\"rgb(36,36,36)\",\"showgrid\":false,\"showline\":true,\"ticks\":\"outside\"}},\"title\":{\"x\":0.05},\"xaxis\":{\"automargin\":true,\"gridcolor\":\"rgb(232,232,232)\",\"linecolor\":\"rgb(36,36,36)\",\"showgrid\":false,\"showline\":true,\"ticks\":\"outside\",\"title\":{\"standoff\":15},\"zeroline\":false,\"zerolinecolor\":\"rgb(36,36,36)\"},\"yaxis\":{\"automargin\":true,\"gridcolor\":\"rgb(232,232,232)\",\"linecolor\":\"rgb(36,36,36)\",\"showgrid\":false,\"showline\":true,\"ticks\":\"outside\",\"title\":{\"standoff\":15},\"zeroline\":false,\"zerolinecolor\":\"rgb(36,36,36)\"}}},\"xaxis\":{\"anchor\":\"y\",\"domain\":[0.0,1.0],\"title\":{\"text\":\"World Share %\"}},\"yaxis\":{\"anchor\":\"x\",\"domain\":[0.0,1.0],\"title\":{\"text\":\"Country\"},\"categoryorder\":\"array\",\"categoryarray\":[\"United Arab Emirates\",\"Saudi Arabia\",\"Oman\",\"Qatar\",\"Kuwait\",\"Bahrain\"]},\"legend\":{\"title\":{\"text\":\"Country\"},\"tracegroupgap\":0},\"margin\":{\"t\":60},\"barmode\":\"relative\",\"height\":300,\"width\":800,\"title\":{\"text\":\"World Share % of petrol - GCC Countries\",\"x\":0.5}},                        {\"responsive\": true}                    ).then(function(){\n",
              "                            \n",
              "var gd = document.getElementById('986723f2-5904-47bf-bfdc-ba974021f5a3');\n",
              "var x = new MutationObserver(function (mutations, observer) {{\n",
              "        var display = window.getComputedStyle(gd).display;\n",
              "        if (!display || display === 'none') {{\n",
              "            console.log([gd, 'removed!']);\n",
              "            Plotly.purge(gd);\n",
              "            observer.disconnect();\n",
              "        }}\n",
              "}});\n",
              "\n",
              "// Listen for the removal of the full notebook cells\n",
              "var notebookContainer = gd.closest('#notebook-container');\n",
              "if (notebookContainer) {{\n",
              "    x.observe(notebookContainer, {childList: true});\n",
              "}}\n",
              "\n",
              "// Listen for the clearing of the current output cell\n",
              "var outputEl = gd.closest('.output');\n",
              "if (outputEl) {{\n",
              "    x.observe(outputEl, {childList: true});\n",
              "}}\n",
              "\n",
              "                        })                };                            </script>        </div>\n",
              "</body>\n",
              "</html>"
            ]
          },
          "metadata": {}
        }
      ],
      "source": [
        "fig=px.bar(df_GCC, x='World Share %',y='Country',color='Country', height=300,width=800,template='simple_white',color_discrete_sequence=px.colors.qualitative.Set3)\n",
        "\n",
        "fig.update_layout(title={'text':'World Share % of petrol - GCC Countries'},title_x=0.5)\n",
        "fig.show()"
      ]
    },
    {
      "cell_type": "code",
      "execution_count": null,
      "id": "8dbc1970",
      "metadata": {
        "execution": {
          "iopub.execute_input": "2022-07-19T06:47:36.895649Z",
          "iopub.status.busy": "2022-07-19T06:47:36.895249Z",
          "iopub.status.idle": "2022-07-19T06:47:36.991901Z",
          "shell.execute_reply": "2022-07-19T06:47:36.990654Z"
        },
        "papermill": {
          "duration": 0.131727,
          "end_time": "2022-07-19T06:47:36.994376",
          "exception": false,
          "start_time": "2022-07-19T06:47:36.862649",
          "status": "completed"
        },
        "tags": [],
        "colab": {
          "base_uri": "https://localhost:8080/",
          "height": 317
        },
        "id": "8dbc1970",
        "outputId": "6c85cb3b-4d5d-4117-8ef8-81a1b5340cb1"
      },
      "outputs": [
        {
          "output_type": "display_data",
          "data": {
            "text/html": [
              "<html>\n",
              "<head><meta charset=\"utf-8\" /></head>\n",
              "<body>\n",
              "    <div>            <script src=\"https://cdnjs.cloudflare.com/ajax/libs/mathjax/2.7.5/MathJax.js?config=TeX-AMS-MML_SVG\"></script><script type=\"text/javascript\">if (window.MathJax) {MathJax.Hub.Config({SVG: {font: \"STIX-Web\"}});}</script>                <script type=\"text/javascript\">window.PlotlyConfig = {MathJaxConfig: 'local'};</script>\n",
              "        <script src=\"https://cdn.plot.ly/plotly-2.8.3.min.js\"></script>                <div id=\"df34ece8-86b1-44ff-8ca6-de90dbad9086\" class=\"plotly-graph-div\" style=\"height:300px; width:800px;\"></div>            <script type=\"text/javascript\">                                    window.PLOTLYENV=window.PLOTLYENV || {};                                    if (document.getElementById(\"df34ece8-86b1-44ff-8ca6-de90dbad9086\")) {                    Plotly.newPlot(                        \"df34ece8-86b1-44ff-8ca6-de90dbad9086\",                        [{\"alignmentgroup\":\"True\",\"hovertemplate\":\"Country=%{y}<br>Yearly Gallons Per Capita=%{x}<extra></extra>\",\"legendgroup\":\"Bahrain\",\"marker\":{\"color\":\"rgb(141,211,199)\",\"pattern\":{\"shape\":\"\"}},\"name\":\"Bahrain\",\"offsetgroup\":\"Bahrain\",\"orientation\":\"h\",\"showlegend\":true,\"textposition\":\"auto\",\"x\":[666.6],\"xaxis\":\"x\",\"y\":[\"Bahrain\"],\"yaxis\":\"y\",\"type\":\"bar\"},{\"alignmentgroup\":\"True\",\"hovertemplate\":\"Country=%{y}<br>Yearly Gallons Per Capita=%{x}<extra></extra>\",\"legendgroup\":\"Kuwait\",\"marker\":{\"color\":\"rgb(255,255,179)\",\"pattern\":{\"shape\":\"\"}},\"name\":\"Kuwait\",\"offsetgroup\":\"Kuwait\",\"orientation\":\"h\",\"showlegend\":true,\"textposition\":\"auto\",\"x\":[1390.9],\"xaxis\":\"x\",\"y\":[\"Kuwait\"],\"yaxis\":\"y\",\"type\":\"bar\"},{\"alignmentgroup\":\"True\",\"hovertemplate\":\"Country=%{y}<br>Yearly Gallons Per Capita=%{x}<extra></extra>\",\"legendgroup\":\"Qatar\",\"marker\":{\"color\":\"rgb(190,186,218)\",\"pattern\":{\"shape\":\"\"}},\"name\":\"Qatar\",\"offsetgroup\":\"Qatar\",\"orientation\":\"h\",\"showlegend\":true,\"textposition\":\"auto\",\"x\":[993.4],\"xaxis\":\"x\",\"y\":[\"Qatar\"],\"yaxis\":\"y\",\"type\":\"bar\"},{\"alignmentgroup\":\"True\",\"hovertemplate\":\"Country=%{y}<br>Yearly Gallons Per Capita=%{x}<extra></extra>\",\"legendgroup\":\"Oman\",\"marker\":{\"color\":\"rgb(251,128,114)\",\"pattern\":{\"shape\":\"\"}},\"name\":\"Oman\",\"offsetgroup\":\"Oman\",\"orientation\":\"h\",\"showlegend\":true,\"textposition\":\"auto\",\"x\":[626.3],\"xaxis\":\"x\",\"y\":[\"Oman\"],\"yaxis\":\"y\",\"type\":\"bar\"},{\"alignmentgroup\":\"True\",\"hovertemplate\":\"Country=%{y}<br>Yearly Gallons Per Capita=%{x}<extra></extra>\",\"legendgroup\":\"Saudi Arabia\",\"marker\":{\"color\":\"rgb(128,177,211)\",\"pattern\":{\"shape\":\"\"}},\"name\":\"Saudi Arabia\",\"offsetgroup\":\"Saudi Arabia\",\"orientation\":\"h\",\"showlegend\":true,\"textposition\":\"auto\",\"x\":[1560.2],\"xaxis\":\"x\",\"y\":[\"Saudi Arabia\"],\"yaxis\":\"y\",\"type\":\"bar\"},{\"alignmentgroup\":\"True\",\"hovertemplate\":\"Country=%{y}<br>Yearly Gallons Per Capita=%{x}<extra></extra>\",\"legendgroup\":\"United Arab Emirates\",\"marker\":{\"color\":\"rgb(253,180,98)\",\"pattern\":{\"shape\":\"\"}},\"name\":\"United Arab Emirates\",\"offsetgroup\":\"United Arab Emirates\",\"orientation\":\"h\",\"showlegend\":true,\"textposition\":\"auto\",\"x\":[1467.3],\"xaxis\":\"x\",\"y\":[\"United Arab Emirates\"],\"yaxis\":\"y\",\"type\":\"bar\"}],                        {\"template\":{\"data\":{\"barpolar\":[{\"marker\":{\"line\":{\"color\":\"white\",\"width\":0.5},\"pattern\":{\"fillmode\":\"overlay\",\"size\":10,\"solidity\":0.2}},\"type\":\"barpolar\"}],\"bar\":[{\"error_x\":{\"color\":\"rgb(36,36,36)\"},\"error_y\":{\"color\":\"rgb(36,36,36)\"},\"marker\":{\"line\":{\"color\":\"white\",\"width\":0.5},\"pattern\":{\"fillmode\":\"overlay\",\"size\":10,\"solidity\":0.2}},\"type\":\"bar\"}],\"carpet\":[{\"aaxis\":{\"endlinecolor\":\"rgb(36,36,36)\",\"gridcolor\":\"white\",\"linecolor\":\"white\",\"minorgridcolor\":\"white\",\"startlinecolor\":\"rgb(36,36,36)\"},\"baxis\":{\"endlinecolor\":\"rgb(36,36,36)\",\"gridcolor\":\"white\",\"linecolor\":\"white\",\"minorgridcolor\":\"white\",\"startlinecolor\":\"rgb(36,36,36)\"},\"type\":\"carpet\"}],\"choropleth\":[{\"colorbar\":{\"outlinewidth\":1,\"tickcolor\":\"rgb(36,36,36)\",\"ticks\":\"outside\"},\"type\":\"choropleth\"}],\"contourcarpet\":[{\"colorbar\":{\"outlinewidth\":1,\"tickcolor\":\"rgb(36,36,36)\",\"ticks\":\"outside\"},\"type\":\"contourcarpet\"}],\"contour\":[{\"colorbar\":{\"outlinewidth\":1,\"tickcolor\":\"rgb(36,36,36)\",\"ticks\":\"outside\"},\"colorscale\":[[0.0,\"#440154\"],[0.1111111111111111,\"#482878\"],[0.2222222222222222,\"#3e4989\"],[0.3333333333333333,\"#31688e\"],[0.4444444444444444,\"#26828e\"],[0.5555555555555556,\"#1f9e89\"],[0.6666666666666666,\"#35b779\"],[0.7777777777777778,\"#6ece58\"],[0.8888888888888888,\"#b5de2b\"],[1.0,\"#fde725\"]],\"type\":\"contour\"}],\"heatmapgl\":[{\"colorbar\":{\"outlinewidth\":1,\"tickcolor\":\"rgb(36,36,36)\",\"ticks\":\"outside\"},\"colorscale\":[[0.0,\"#440154\"],[0.1111111111111111,\"#482878\"],[0.2222222222222222,\"#3e4989\"],[0.3333333333333333,\"#31688e\"],[0.4444444444444444,\"#26828e\"],[0.5555555555555556,\"#1f9e89\"],[0.6666666666666666,\"#35b779\"],[0.7777777777777778,\"#6ece58\"],[0.8888888888888888,\"#b5de2b\"],[1.0,\"#fde725\"]],\"type\":\"heatmapgl\"}],\"heatmap\":[{\"colorbar\":{\"outlinewidth\":1,\"tickcolor\":\"rgb(36,36,36)\",\"ticks\":\"outside\"},\"colorscale\":[[0.0,\"#440154\"],[0.1111111111111111,\"#482878\"],[0.2222222222222222,\"#3e4989\"],[0.3333333333333333,\"#31688e\"],[0.4444444444444444,\"#26828e\"],[0.5555555555555556,\"#1f9e89\"],[0.6666666666666666,\"#35b779\"],[0.7777777777777778,\"#6ece58\"],[0.8888888888888888,\"#b5de2b\"],[1.0,\"#fde725\"]],\"type\":\"heatmap\"}],\"histogram2dcontour\":[{\"colorbar\":{\"outlinewidth\":1,\"tickcolor\":\"rgb(36,36,36)\",\"ticks\":\"outside\"},\"colorscale\":[[0.0,\"#440154\"],[0.1111111111111111,\"#482878\"],[0.2222222222222222,\"#3e4989\"],[0.3333333333333333,\"#31688e\"],[0.4444444444444444,\"#26828e\"],[0.5555555555555556,\"#1f9e89\"],[0.6666666666666666,\"#35b779\"],[0.7777777777777778,\"#6ece58\"],[0.8888888888888888,\"#b5de2b\"],[1.0,\"#fde725\"]],\"type\":\"histogram2dcontour\"}],\"histogram2d\":[{\"colorbar\":{\"outlinewidth\":1,\"tickcolor\":\"rgb(36,36,36)\",\"ticks\":\"outside\"},\"colorscale\":[[0.0,\"#440154\"],[0.1111111111111111,\"#482878\"],[0.2222222222222222,\"#3e4989\"],[0.3333333333333333,\"#31688e\"],[0.4444444444444444,\"#26828e\"],[0.5555555555555556,\"#1f9e89\"],[0.6666666666666666,\"#35b779\"],[0.7777777777777778,\"#6ece58\"],[0.8888888888888888,\"#b5de2b\"],[1.0,\"#fde725\"]],\"type\":\"histogram2d\"}],\"histogram\":[{\"marker\":{\"line\":{\"color\":\"white\",\"width\":0.6}},\"type\":\"histogram\"}],\"mesh3d\":[{\"colorbar\":{\"outlinewidth\":1,\"tickcolor\":\"rgb(36,36,36)\",\"ticks\":\"outside\"},\"type\":\"mesh3d\"}],\"parcoords\":[{\"line\":{\"colorbar\":{\"outlinewidth\":1,\"tickcolor\":\"rgb(36,36,36)\",\"ticks\":\"outside\"}},\"type\":\"parcoords\"}],\"pie\":[{\"automargin\":true,\"type\":\"pie\"}],\"scatter3d\":[{\"line\":{\"colorbar\":{\"outlinewidth\":1,\"tickcolor\":\"rgb(36,36,36)\",\"ticks\":\"outside\"}},\"marker\":{\"colorbar\":{\"outlinewidth\":1,\"tickcolor\":\"rgb(36,36,36)\",\"ticks\":\"outside\"}},\"type\":\"scatter3d\"}],\"scattercarpet\":[{\"marker\":{\"colorbar\":{\"outlinewidth\":1,\"tickcolor\":\"rgb(36,36,36)\",\"ticks\":\"outside\"}},\"type\":\"scattercarpet\"}],\"scattergeo\":[{\"marker\":{\"colorbar\":{\"outlinewidth\":1,\"tickcolor\":\"rgb(36,36,36)\",\"ticks\":\"outside\"}},\"type\":\"scattergeo\"}],\"scattergl\":[{\"marker\":{\"colorbar\":{\"outlinewidth\":1,\"tickcolor\":\"rgb(36,36,36)\",\"ticks\":\"outside\"}},\"type\":\"scattergl\"}],\"scattermapbox\":[{\"marker\":{\"colorbar\":{\"outlinewidth\":1,\"tickcolor\":\"rgb(36,36,36)\",\"ticks\":\"outside\"}},\"type\":\"scattermapbox\"}],\"scatterpolargl\":[{\"marker\":{\"colorbar\":{\"outlinewidth\":1,\"tickcolor\":\"rgb(36,36,36)\",\"ticks\":\"outside\"}},\"type\":\"scatterpolargl\"}],\"scatterpolar\":[{\"marker\":{\"colorbar\":{\"outlinewidth\":1,\"tickcolor\":\"rgb(36,36,36)\",\"ticks\":\"outside\"}},\"type\":\"scatterpolar\"}],\"scatter\":[{\"marker\":{\"colorbar\":{\"outlinewidth\":1,\"tickcolor\":\"rgb(36,36,36)\",\"ticks\":\"outside\"}},\"type\":\"scatter\"}],\"scatterternary\":[{\"marker\":{\"colorbar\":{\"outlinewidth\":1,\"tickcolor\":\"rgb(36,36,36)\",\"ticks\":\"outside\"}},\"type\":\"scatterternary\"}],\"surface\":[{\"colorbar\":{\"outlinewidth\":1,\"tickcolor\":\"rgb(36,36,36)\",\"ticks\":\"outside\"},\"colorscale\":[[0.0,\"#440154\"],[0.1111111111111111,\"#482878\"],[0.2222222222222222,\"#3e4989\"],[0.3333333333333333,\"#31688e\"],[0.4444444444444444,\"#26828e\"],[0.5555555555555556,\"#1f9e89\"],[0.6666666666666666,\"#35b779\"],[0.7777777777777778,\"#6ece58\"],[0.8888888888888888,\"#b5de2b\"],[1.0,\"#fde725\"]],\"type\":\"surface\"}],\"table\":[{\"cells\":{\"fill\":{\"color\":\"rgb(237,237,237)\"},\"line\":{\"color\":\"white\"}},\"header\":{\"fill\":{\"color\":\"rgb(217,217,217)\"},\"line\":{\"color\":\"white\"}},\"type\":\"table\"}]},\"layout\":{\"annotationdefaults\":{\"arrowhead\":0,\"arrowwidth\":1},\"autotypenumbers\":\"strict\",\"coloraxis\":{\"colorbar\":{\"outlinewidth\":1,\"tickcolor\":\"rgb(36,36,36)\",\"ticks\":\"outside\"}},\"colorscale\":{\"diverging\":[[0.0,\"rgb(103,0,31)\"],[0.1,\"rgb(178,24,43)\"],[0.2,\"rgb(214,96,77)\"],[0.3,\"rgb(244,165,130)\"],[0.4,\"rgb(253,219,199)\"],[0.5,\"rgb(247,247,247)\"],[0.6,\"rgb(209,229,240)\"],[0.7,\"rgb(146,197,222)\"],[0.8,\"rgb(67,147,195)\"],[0.9,\"rgb(33,102,172)\"],[1.0,\"rgb(5,48,97)\"]],\"sequential\":[[0.0,\"#440154\"],[0.1111111111111111,\"#482878\"],[0.2222222222222222,\"#3e4989\"],[0.3333333333333333,\"#31688e\"],[0.4444444444444444,\"#26828e\"],[0.5555555555555556,\"#1f9e89\"],[0.6666666666666666,\"#35b779\"],[0.7777777777777778,\"#6ece58\"],[0.8888888888888888,\"#b5de2b\"],[1.0,\"#fde725\"]],\"sequentialminus\":[[0.0,\"#440154\"],[0.1111111111111111,\"#482878\"],[0.2222222222222222,\"#3e4989\"],[0.3333333333333333,\"#31688e\"],[0.4444444444444444,\"#26828e\"],[0.5555555555555556,\"#1f9e89\"],[0.6666666666666666,\"#35b779\"],[0.7777777777777778,\"#6ece58\"],[0.8888888888888888,\"#b5de2b\"],[1.0,\"#fde725\"]]},\"colorway\":[\"#1F77B4\",\"#FF7F0E\",\"#2CA02C\",\"#D62728\",\"#9467BD\",\"#8C564B\",\"#E377C2\",\"#7F7F7F\",\"#BCBD22\",\"#17BECF\"],\"font\":{\"color\":\"rgb(36,36,36)\"},\"geo\":{\"bgcolor\":\"white\",\"lakecolor\":\"white\",\"landcolor\":\"white\",\"showlakes\":true,\"showland\":true,\"subunitcolor\":\"white\"},\"hoverlabel\":{\"align\":\"left\"},\"hovermode\":\"closest\",\"mapbox\":{\"style\":\"light\"},\"paper_bgcolor\":\"white\",\"plot_bgcolor\":\"white\",\"polar\":{\"angularaxis\":{\"gridcolor\":\"rgb(232,232,232)\",\"linecolor\":\"rgb(36,36,36)\",\"showgrid\":false,\"showline\":true,\"ticks\":\"outside\"},\"bgcolor\":\"white\",\"radialaxis\":{\"gridcolor\":\"rgb(232,232,232)\",\"linecolor\":\"rgb(36,36,36)\",\"showgrid\":false,\"showline\":true,\"ticks\":\"outside\"}},\"scene\":{\"xaxis\":{\"backgroundcolor\":\"white\",\"gridcolor\":\"rgb(232,232,232)\",\"gridwidth\":2,\"linecolor\":\"rgb(36,36,36)\",\"showbackground\":true,\"showgrid\":false,\"showline\":true,\"ticks\":\"outside\",\"zeroline\":false,\"zerolinecolor\":\"rgb(36,36,36)\"},\"yaxis\":{\"backgroundcolor\":\"white\",\"gridcolor\":\"rgb(232,232,232)\",\"gridwidth\":2,\"linecolor\":\"rgb(36,36,36)\",\"showbackground\":true,\"showgrid\":false,\"showline\":true,\"ticks\":\"outside\",\"zeroline\":false,\"zerolinecolor\":\"rgb(36,36,36)\"},\"zaxis\":{\"backgroundcolor\":\"white\",\"gridcolor\":\"rgb(232,232,232)\",\"gridwidth\":2,\"linecolor\":\"rgb(36,36,36)\",\"showbackground\":true,\"showgrid\":false,\"showline\":true,\"ticks\":\"outside\",\"zeroline\":false,\"zerolinecolor\":\"rgb(36,36,36)\"}},\"shapedefaults\":{\"fillcolor\":\"black\",\"line\":{\"width\":0},\"opacity\":0.3},\"ternary\":{\"aaxis\":{\"gridcolor\":\"rgb(232,232,232)\",\"linecolor\":\"rgb(36,36,36)\",\"showgrid\":false,\"showline\":true,\"ticks\":\"outside\"},\"baxis\":{\"gridcolor\":\"rgb(232,232,232)\",\"linecolor\":\"rgb(36,36,36)\",\"showgrid\":false,\"showline\":true,\"ticks\":\"outside\"},\"bgcolor\":\"white\",\"caxis\":{\"gridcolor\":\"rgb(232,232,232)\",\"linecolor\":\"rgb(36,36,36)\",\"showgrid\":false,\"showline\":true,\"ticks\":\"outside\"}},\"title\":{\"x\":0.05},\"xaxis\":{\"automargin\":true,\"gridcolor\":\"rgb(232,232,232)\",\"linecolor\":\"rgb(36,36,36)\",\"showgrid\":false,\"showline\":true,\"ticks\":\"outside\",\"title\":{\"standoff\":15},\"zeroline\":false,\"zerolinecolor\":\"rgb(36,36,36)\"},\"yaxis\":{\"automargin\":true,\"gridcolor\":\"rgb(232,232,232)\",\"linecolor\":\"rgb(36,36,36)\",\"showgrid\":false,\"showline\":true,\"ticks\":\"outside\",\"title\":{\"standoff\":15},\"zeroline\":false,\"zerolinecolor\":\"rgb(36,36,36)\"}}},\"xaxis\":{\"anchor\":\"y\",\"domain\":[0.0,1.0],\"title\":{\"text\":\"Yearly Gallons Per Capita\"}},\"yaxis\":{\"anchor\":\"x\",\"domain\":[0.0,1.0],\"title\":{\"text\":\"Country\"},\"categoryorder\":\"array\",\"categoryarray\":[\"United Arab Emirates\",\"Saudi Arabia\",\"Oman\",\"Qatar\",\"Kuwait\",\"Bahrain\"]},\"legend\":{\"title\":{\"text\":\"Country\"},\"tracegroupgap\":0},\"margin\":{\"t\":60},\"barmode\":\"relative\",\"height\":300,\"width\":800,\"title\":{\"text\":\"Yearly Gallons Per Capita - GCC Countries\",\"x\":0.5}},                        {\"responsive\": true}                    ).then(function(){\n",
              "                            \n",
              "var gd = document.getElementById('df34ece8-86b1-44ff-8ca6-de90dbad9086');\n",
              "var x = new MutationObserver(function (mutations, observer) {{\n",
              "        var display = window.getComputedStyle(gd).display;\n",
              "        if (!display || display === 'none') {{\n",
              "            console.log([gd, 'removed!']);\n",
              "            Plotly.purge(gd);\n",
              "            observer.disconnect();\n",
              "        }}\n",
              "}});\n",
              "\n",
              "// Listen for the removal of the full notebook cells\n",
              "var notebookContainer = gd.closest('#notebook-container');\n",
              "if (notebookContainer) {{\n",
              "    x.observe(notebookContainer, {childList: true});\n",
              "}}\n",
              "\n",
              "// Listen for the clearing of the current output cell\n",
              "var outputEl = gd.closest('.output');\n",
              "if (outputEl) {{\n",
              "    x.observe(outputEl, {childList: true});\n",
              "}}\n",
              "\n",
              "                        })                };                            </script>        </div>\n",
              "</body>\n",
              "</html>"
            ]
          },
          "metadata": {}
        }
      ],
      "source": [
        "fig=px.bar(df_GCC, x='Yearly Gallons Per Capita',y='Country',color='Country',height=300,width=800,template='simple_white',color_discrete_sequence=px.colors.qualitative.Set3)\n",
        "\n",
        "fig.update_layout(title={'text':'Yearly Gallons Per Capita - GCC Countries'},title_x=0.5)\n",
        "fig.show()"
      ]
    },
    {
      "cell_type": "code",
      "execution_count": null,
      "id": "c1f0e745",
      "metadata": {
        "execution": {
          "iopub.execute_input": "2022-07-19T06:47:37.059068Z",
          "iopub.status.busy": "2022-07-19T06:47:37.058725Z",
          "iopub.status.idle": "2022-07-19T06:47:37.154017Z",
          "shell.execute_reply": "2022-07-19T06:47:37.152853Z"
        },
        "papermill": {
          "duration": 0.131434,
          "end_time": "2022-07-19T06:47:37.157161",
          "exception": false,
          "start_time": "2022-07-19T06:47:37.025727",
          "status": "completed"
        },
        "tags": [],
        "colab": {
          "base_uri": "https://localhost:8080/",
          "height": 317
        },
        "id": "c1f0e745",
        "outputId": "bc08324b-5f7e-430b-ee5e-f69bfc5cd916"
      },
      "outputs": [
        {
          "output_type": "display_data",
          "data": {
            "text/html": [
              "<html>\n",
              "<head><meta charset=\"utf-8\" /></head>\n",
              "<body>\n",
              "    <div>            <script src=\"https://cdnjs.cloudflare.com/ajax/libs/mathjax/2.7.5/MathJax.js?config=TeX-AMS-MML_SVG\"></script><script type=\"text/javascript\">if (window.MathJax) {MathJax.Hub.Config({SVG: {font: \"STIX-Web\"}});}</script>                <script type=\"text/javascript\">window.PlotlyConfig = {MathJaxConfig: 'local'};</script>\n",
              "        <script src=\"https://cdn.plot.ly/plotly-2.8.3.min.js\"></script>                <div id=\"5fb2c5c8-dd8e-4a8d-8999-e8009923681a\" class=\"plotly-graph-div\" style=\"height:300px; width:800px;\"></div>            <script type=\"text/javascript\">                                    window.PLOTLYENV=window.PLOTLYENV || {};                                    if (document.getElementById(\"5fb2c5c8-dd8e-4a8d-8999-e8009923681a\")) {                    Plotly.newPlot(                        \"5fb2c5c8-dd8e-4a8d-8999-e8009923681a\",                        [{\"alignmentgroup\":\"True\",\"hovertemplate\":\"Country=%{y}<br>Price Per Liter (USD)=%{x}<extra></extra>\",\"legendgroup\":\"Bahrain\",\"marker\":{\"color\":\"rgb(141,211,199)\",\"pattern\":{\"shape\":\"\"}},\"name\":\"Bahrain\",\"offsetgroup\":\"Bahrain\",\"orientation\":\"h\",\"showlegend\":true,\"textposition\":\"auto\",\"x\":[0.53],\"xaxis\":\"x\",\"y\":[\"Bahrain\"],\"yaxis\":\"y\",\"type\":\"bar\"},{\"alignmentgroup\":\"True\",\"hovertemplate\":\"Country=%{y}<br>Price Per Liter (USD)=%{x}<extra></extra>\",\"legendgroup\":\"Kuwait\",\"marker\":{\"color\":\"rgb(255,255,179)\",\"pattern\":{\"shape\":\"\"}},\"name\":\"Kuwait\",\"offsetgroup\":\"Kuwait\",\"orientation\":\"h\",\"showlegend\":true,\"textposition\":\"auto\",\"x\":[0.34],\"xaxis\":\"x\",\"y\":[\"Kuwait\"],\"yaxis\":\"y\",\"type\":\"bar\"},{\"alignmentgroup\":\"True\",\"hovertemplate\":\"Country=%{y}<br>Price Per Liter (USD)=%{x}<extra></extra>\",\"legendgroup\":\"Qatar\",\"marker\":{\"color\":\"rgb(190,186,218)\",\"pattern\":{\"shape\":\"\"}},\"name\":\"Qatar\",\"offsetgroup\":\"Qatar\",\"orientation\":\"h\",\"showlegend\":true,\"textposition\":\"auto\",\"x\":[0.58],\"xaxis\":\"x\",\"y\":[\"Qatar\"],\"yaxis\":\"y\",\"type\":\"bar\"},{\"alignmentgroup\":\"True\",\"hovertemplate\":\"Country=%{y}<br>Price Per Liter (USD)=%{x}<extra></extra>\",\"legendgroup\":\"Oman\",\"marker\":{\"color\":\"rgb(251,128,114)\",\"pattern\":{\"shape\":\"\"}},\"name\":\"Oman\",\"offsetgroup\":\"Oman\",\"orientation\":\"h\",\"showlegend\":true,\"textposition\":\"auto\",\"x\":[0.62],\"xaxis\":\"x\",\"y\":[\"Oman\"],\"yaxis\":\"y\",\"type\":\"bar\"},{\"alignmentgroup\":\"True\",\"hovertemplate\":\"Country=%{y}<br>Price Per Liter (USD)=%{x}<extra></extra>\",\"legendgroup\":\"Saudi Arabia\",\"marker\":{\"color\":\"rgb(128,177,211)\",\"pattern\":{\"shape\":\"\"}},\"name\":\"Saudi Arabia\",\"offsetgroup\":\"Saudi Arabia\",\"orientation\":\"h\",\"showlegend\":true,\"textposition\":\"auto\",\"x\":[0.62],\"xaxis\":\"x\",\"y\":[\"Saudi Arabia\"],\"yaxis\":\"y\",\"type\":\"bar\"},{\"alignmentgroup\":\"True\",\"hovertemplate\":\"Country=%{y}<br>Price Per Liter (USD)=%{x}<extra></extra>\",\"legendgroup\":\"United Arab Emirates\",\"marker\":{\"color\":\"rgb(253,180,98)\",\"pattern\":{\"shape\":\"\"}},\"name\":\"United Arab Emirates\",\"offsetgroup\":\"United Arab Emirates\",\"orientation\":\"h\",\"showlegend\":true,\"textposition\":\"auto\",\"x\":[1.1],\"xaxis\":\"x\",\"y\":[\"United Arab Emirates\"],\"yaxis\":\"y\",\"type\":\"bar\"}],                        {\"template\":{\"data\":{\"barpolar\":[{\"marker\":{\"line\":{\"color\":\"white\",\"width\":0.5},\"pattern\":{\"fillmode\":\"overlay\",\"size\":10,\"solidity\":0.2}},\"type\":\"barpolar\"}],\"bar\":[{\"error_x\":{\"color\":\"rgb(36,36,36)\"},\"error_y\":{\"color\":\"rgb(36,36,36)\"},\"marker\":{\"line\":{\"color\":\"white\",\"width\":0.5},\"pattern\":{\"fillmode\":\"overlay\",\"size\":10,\"solidity\":0.2}},\"type\":\"bar\"}],\"carpet\":[{\"aaxis\":{\"endlinecolor\":\"rgb(36,36,36)\",\"gridcolor\":\"white\",\"linecolor\":\"white\",\"minorgridcolor\":\"white\",\"startlinecolor\":\"rgb(36,36,36)\"},\"baxis\":{\"endlinecolor\":\"rgb(36,36,36)\",\"gridcolor\":\"white\",\"linecolor\":\"white\",\"minorgridcolor\":\"white\",\"startlinecolor\":\"rgb(36,36,36)\"},\"type\":\"carpet\"}],\"choropleth\":[{\"colorbar\":{\"outlinewidth\":1,\"tickcolor\":\"rgb(36,36,36)\",\"ticks\":\"outside\"},\"type\":\"choropleth\"}],\"contourcarpet\":[{\"colorbar\":{\"outlinewidth\":1,\"tickcolor\":\"rgb(36,36,36)\",\"ticks\":\"outside\"},\"type\":\"contourcarpet\"}],\"contour\":[{\"colorbar\":{\"outlinewidth\":1,\"tickcolor\":\"rgb(36,36,36)\",\"ticks\":\"outside\"},\"colorscale\":[[0.0,\"#440154\"],[0.1111111111111111,\"#482878\"],[0.2222222222222222,\"#3e4989\"],[0.3333333333333333,\"#31688e\"],[0.4444444444444444,\"#26828e\"],[0.5555555555555556,\"#1f9e89\"],[0.6666666666666666,\"#35b779\"],[0.7777777777777778,\"#6ece58\"],[0.8888888888888888,\"#b5de2b\"],[1.0,\"#fde725\"]],\"type\":\"contour\"}],\"heatmapgl\":[{\"colorbar\":{\"outlinewidth\":1,\"tickcolor\":\"rgb(36,36,36)\",\"ticks\":\"outside\"},\"colorscale\":[[0.0,\"#440154\"],[0.1111111111111111,\"#482878\"],[0.2222222222222222,\"#3e4989\"],[0.3333333333333333,\"#31688e\"],[0.4444444444444444,\"#26828e\"],[0.5555555555555556,\"#1f9e89\"],[0.6666666666666666,\"#35b779\"],[0.7777777777777778,\"#6ece58\"],[0.8888888888888888,\"#b5de2b\"],[1.0,\"#fde725\"]],\"type\":\"heatmapgl\"}],\"heatmap\":[{\"colorbar\":{\"outlinewidth\":1,\"tickcolor\":\"rgb(36,36,36)\",\"ticks\":\"outside\"},\"colorscale\":[[0.0,\"#440154\"],[0.1111111111111111,\"#482878\"],[0.2222222222222222,\"#3e4989\"],[0.3333333333333333,\"#31688e\"],[0.4444444444444444,\"#26828e\"],[0.5555555555555556,\"#1f9e89\"],[0.6666666666666666,\"#35b779\"],[0.7777777777777778,\"#6ece58\"],[0.8888888888888888,\"#b5de2b\"],[1.0,\"#fde725\"]],\"type\":\"heatmap\"}],\"histogram2dcontour\":[{\"colorbar\":{\"outlinewidth\":1,\"tickcolor\":\"rgb(36,36,36)\",\"ticks\":\"outside\"},\"colorscale\":[[0.0,\"#440154\"],[0.1111111111111111,\"#482878\"],[0.2222222222222222,\"#3e4989\"],[0.3333333333333333,\"#31688e\"],[0.4444444444444444,\"#26828e\"],[0.5555555555555556,\"#1f9e89\"],[0.6666666666666666,\"#35b779\"],[0.7777777777777778,\"#6ece58\"],[0.8888888888888888,\"#b5de2b\"],[1.0,\"#fde725\"]],\"type\":\"histogram2dcontour\"}],\"histogram2d\":[{\"colorbar\":{\"outlinewidth\":1,\"tickcolor\":\"rgb(36,36,36)\",\"ticks\":\"outside\"},\"colorscale\":[[0.0,\"#440154\"],[0.1111111111111111,\"#482878\"],[0.2222222222222222,\"#3e4989\"],[0.3333333333333333,\"#31688e\"],[0.4444444444444444,\"#26828e\"],[0.5555555555555556,\"#1f9e89\"],[0.6666666666666666,\"#35b779\"],[0.7777777777777778,\"#6ece58\"],[0.8888888888888888,\"#b5de2b\"],[1.0,\"#fde725\"]],\"type\":\"histogram2d\"}],\"histogram\":[{\"marker\":{\"line\":{\"color\":\"white\",\"width\":0.6}},\"type\":\"histogram\"}],\"mesh3d\":[{\"colorbar\":{\"outlinewidth\":1,\"tickcolor\":\"rgb(36,36,36)\",\"ticks\":\"outside\"},\"type\":\"mesh3d\"}],\"parcoords\":[{\"line\":{\"colorbar\":{\"outlinewidth\":1,\"tickcolor\":\"rgb(36,36,36)\",\"ticks\":\"outside\"}},\"type\":\"parcoords\"}],\"pie\":[{\"automargin\":true,\"type\":\"pie\"}],\"scatter3d\":[{\"line\":{\"colorbar\":{\"outlinewidth\":1,\"tickcolor\":\"rgb(36,36,36)\",\"ticks\":\"outside\"}},\"marker\":{\"colorbar\":{\"outlinewidth\":1,\"tickcolor\":\"rgb(36,36,36)\",\"ticks\":\"outside\"}},\"type\":\"scatter3d\"}],\"scattercarpet\":[{\"marker\":{\"colorbar\":{\"outlinewidth\":1,\"tickcolor\":\"rgb(36,36,36)\",\"ticks\":\"outside\"}},\"type\":\"scattercarpet\"}],\"scattergeo\":[{\"marker\":{\"colorbar\":{\"outlinewidth\":1,\"tickcolor\":\"rgb(36,36,36)\",\"ticks\":\"outside\"}},\"type\":\"scattergeo\"}],\"scattergl\":[{\"marker\":{\"colorbar\":{\"outlinewidth\":1,\"tickcolor\":\"rgb(36,36,36)\",\"ticks\":\"outside\"}},\"type\":\"scattergl\"}],\"scattermapbox\":[{\"marker\":{\"colorbar\":{\"outlinewidth\":1,\"tickcolor\":\"rgb(36,36,36)\",\"ticks\":\"outside\"}},\"type\":\"scattermapbox\"}],\"scatterpolargl\":[{\"marker\":{\"colorbar\":{\"outlinewidth\":1,\"tickcolor\":\"rgb(36,36,36)\",\"ticks\":\"outside\"}},\"type\":\"scatterpolargl\"}],\"scatterpolar\":[{\"marker\":{\"colorbar\":{\"outlinewidth\":1,\"tickcolor\":\"rgb(36,36,36)\",\"ticks\":\"outside\"}},\"type\":\"scatterpolar\"}],\"scatter\":[{\"marker\":{\"colorbar\":{\"outlinewidth\":1,\"tickcolor\":\"rgb(36,36,36)\",\"ticks\":\"outside\"}},\"type\":\"scatter\"}],\"scatterternary\":[{\"marker\":{\"colorbar\":{\"outlinewidth\":1,\"tickcolor\":\"rgb(36,36,36)\",\"ticks\":\"outside\"}},\"type\":\"scatterternary\"}],\"surface\":[{\"colorbar\":{\"outlinewidth\":1,\"tickcolor\":\"rgb(36,36,36)\",\"ticks\":\"outside\"},\"colorscale\":[[0.0,\"#440154\"],[0.1111111111111111,\"#482878\"],[0.2222222222222222,\"#3e4989\"],[0.3333333333333333,\"#31688e\"],[0.4444444444444444,\"#26828e\"],[0.5555555555555556,\"#1f9e89\"],[0.6666666666666666,\"#35b779\"],[0.7777777777777778,\"#6ece58\"],[0.8888888888888888,\"#b5de2b\"],[1.0,\"#fde725\"]],\"type\":\"surface\"}],\"table\":[{\"cells\":{\"fill\":{\"color\":\"rgb(237,237,237)\"},\"line\":{\"color\":\"white\"}},\"header\":{\"fill\":{\"color\":\"rgb(217,217,217)\"},\"line\":{\"color\":\"white\"}},\"type\":\"table\"}]},\"layout\":{\"annotationdefaults\":{\"arrowhead\":0,\"arrowwidth\":1},\"autotypenumbers\":\"strict\",\"coloraxis\":{\"colorbar\":{\"outlinewidth\":1,\"tickcolor\":\"rgb(36,36,36)\",\"ticks\":\"outside\"}},\"colorscale\":{\"diverging\":[[0.0,\"rgb(103,0,31)\"],[0.1,\"rgb(178,24,43)\"],[0.2,\"rgb(214,96,77)\"],[0.3,\"rgb(244,165,130)\"],[0.4,\"rgb(253,219,199)\"],[0.5,\"rgb(247,247,247)\"],[0.6,\"rgb(209,229,240)\"],[0.7,\"rgb(146,197,222)\"],[0.8,\"rgb(67,147,195)\"],[0.9,\"rgb(33,102,172)\"],[1.0,\"rgb(5,48,97)\"]],\"sequential\":[[0.0,\"#440154\"],[0.1111111111111111,\"#482878\"],[0.2222222222222222,\"#3e4989\"],[0.3333333333333333,\"#31688e\"],[0.4444444444444444,\"#26828e\"],[0.5555555555555556,\"#1f9e89\"],[0.6666666666666666,\"#35b779\"],[0.7777777777777778,\"#6ece58\"],[0.8888888888888888,\"#b5de2b\"],[1.0,\"#fde725\"]],\"sequentialminus\":[[0.0,\"#440154\"],[0.1111111111111111,\"#482878\"],[0.2222222222222222,\"#3e4989\"],[0.3333333333333333,\"#31688e\"],[0.4444444444444444,\"#26828e\"],[0.5555555555555556,\"#1f9e89\"],[0.6666666666666666,\"#35b779\"],[0.7777777777777778,\"#6ece58\"],[0.8888888888888888,\"#b5de2b\"],[1.0,\"#fde725\"]]},\"colorway\":[\"#1F77B4\",\"#FF7F0E\",\"#2CA02C\",\"#D62728\",\"#9467BD\",\"#8C564B\",\"#E377C2\",\"#7F7F7F\",\"#BCBD22\",\"#17BECF\"],\"font\":{\"color\":\"rgb(36,36,36)\"},\"geo\":{\"bgcolor\":\"white\",\"lakecolor\":\"white\",\"landcolor\":\"white\",\"showlakes\":true,\"showland\":true,\"subunitcolor\":\"white\"},\"hoverlabel\":{\"align\":\"left\"},\"hovermode\":\"closest\",\"mapbox\":{\"style\":\"light\"},\"paper_bgcolor\":\"white\",\"plot_bgcolor\":\"white\",\"polar\":{\"angularaxis\":{\"gridcolor\":\"rgb(232,232,232)\",\"linecolor\":\"rgb(36,36,36)\",\"showgrid\":false,\"showline\":true,\"ticks\":\"outside\"},\"bgcolor\":\"white\",\"radialaxis\":{\"gridcolor\":\"rgb(232,232,232)\",\"linecolor\":\"rgb(36,36,36)\",\"showgrid\":false,\"showline\":true,\"ticks\":\"outside\"}},\"scene\":{\"xaxis\":{\"backgroundcolor\":\"white\",\"gridcolor\":\"rgb(232,232,232)\",\"gridwidth\":2,\"linecolor\":\"rgb(36,36,36)\",\"showbackground\":true,\"showgrid\":false,\"showline\":true,\"ticks\":\"outside\",\"zeroline\":false,\"zerolinecolor\":\"rgb(36,36,36)\"},\"yaxis\":{\"backgroundcolor\":\"white\",\"gridcolor\":\"rgb(232,232,232)\",\"gridwidth\":2,\"linecolor\":\"rgb(36,36,36)\",\"showbackground\":true,\"showgrid\":false,\"showline\":true,\"ticks\":\"outside\",\"zeroline\":false,\"zerolinecolor\":\"rgb(36,36,36)\"},\"zaxis\":{\"backgroundcolor\":\"white\",\"gridcolor\":\"rgb(232,232,232)\",\"gridwidth\":2,\"linecolor\":\"rgb(36,36,36)\",\"showbackground\":true,\"showgrid\":false,\"showline\":true,\"ticks\":\"outside\",\"zeroline\":false,\"zerolinecolor\":\"rgb(36,36,36)\"}},\"shapedefaults\":{\"fillcolor\":\"black\",\"line\":{\"width\":0},\"opacity\":0.3},\"ternary\":{\"aaxis\":{\"gridcolor\":\"rgb(232,232,232)\",\"linecolor\":\"rgb(36,36,36)\",\"showgrid\":false,\"showline\":true,\"ticks\":\"outside\"},\"baxis\":{\"gridcolor\":\"rgb(232,232,232)\",\"linecolor\":\"rgb(36,36,36)\",\"showgrid\":false,\"showline\":true,\"ticks\":\"outside\"},\"bgcolor\":\"white\",\"caxis\":{\"gridcolor\":\"rgb(232,232,232)\",\"linecolor\":\"rgb(36,36,36)\",\"showgrid\":false,\"showline\":true,\"ticks\":\"outside\"}},\"title\":{\"x\":0.05},\"xaxis\":{\"automargin\":true,\"gridcolor\":\"rgb(232,232,232)\",\"linecolor\":\"rgb(36,36,36)\",\"showgrid\":false,\"showline\":true,\"ticks\":\"outside\",\"title\":{\"standoff\":15},\"zeroline\":false,\"zerolinecolor\":\"rgb(36,36,36)\"},\"yaxis\":{\"automargin\":true,\"gridcolor\":\"rgb(232,232,232)\",\"linecolor\":\"rgb(36,36,36)\",\"showgrid\":false,\"showline\":true,\"ticks\":\"outside\",\"title\":{\"standoff\":15},\"zeroline\":false,\"zerolinecolor\":\"rgb(36,36,36)\"}}},\"xaxis\":{\"anchor\":\"y\",\"domain\":[0.0,1.0],\"title\":{\"text\":\"Price Per Liter (USD)\"}},\"yaxis\":{\"anchor\":\"x\",\"domain\":[0.0,1.0],\"title\":{\"text\":\"Country\"},\"categoryorder\":\"array\",\"categoryarray\":[\"United Arab Emirates\",\"Saudi Arabia\",\"Oman\",\"Qatar\",\"Kuwait\",\"Bahrain\"]},\"legend\":{\"title\":{\"text\":\"Country\"},\"tracegroupgap\":0},\"margin\":{\"t\":60},\"barmode\":\"relative\",\"height\":300,\"width\":800,\"title\":{\"text\":\"Bar plot of Price Per Liter (USD) of petrol - GCC Countries\",\"x\":0.5}},                        {\"responsive\": true}                    ).then(function(){\n",
              "                            \n",
              "var gd = document.getElementById('5fb2c5c8-dd8e-4a8d-8999-e8009923681a');\n",
              "var x = new MutationObserver(function (mutations, observer) {{\n",
              "        var display = window.getComputedStyle(gd).display;\n",
              "        if (!display || display === 'none') {{\n",
              "            console.log([gd, 'removed!']);\n",
              "            Plotly.purge(gd);\n",
              "            observer.disconnect();\n",
              "        }}\n",
              "}});\n",
              "\n",
              "// Listen for the removal of the full notebook cells\n",
              "var notebookContainer = gd.closest('#notebook-container');\n",
              "if (notebookContainer) {{\n",
              "    x.observe(notebookContainer, {childList: true});\n",
              "}}\n",
              "\n",
              "// Listen for the clearing of the current output cell\n",
              "var outputEl = gd.closest('.output');\n",
              "if (outputEl) {{\n",
              "    x.observe(outputEl, {childList: true});\n",
              "}}\n",
              "\n",
              "                        })                };                            </script>        </div>\n",
              "</body>\n",
              "</html>"
            ]
          },
          "metadata": {}
        }
      ],
      "source": [
        "fig=px.bar(df_GCC, x='Price Per Liter (USD)',y='Country',color='Country',height=300,width=800,template='simple_white',color_discrete_sequence=px.colors.qualitative.Set3)\n",
        "\n",
        "fig.update_layout(title={'text':'Bar plot of Price Per Liter (USD) of petrol - GCC Countries'},title_x=0.5)\n",
        "fig.show()"
      ]
    },
    {
      "cell_type": "code",
      "execution_count": null,
      "id": "99202714",
      "metadata": {
        "execution": {
          "iopub.execute_input": "2022-07-19T06:47:37.224255Z",
          "iopub.status.busy": "2022-07-19T06:47:37.223637Z",
          "iopub.status.idle": "2022-07-19T06:47:37.229740Z",
          "shell.execute_reply": "2022-07-19T06:47:37.228240Z"
        },
        "papermill": {
          "duration": 0.041756,
          "end_time": "2022-07-19T06:47:37.232008",
          "exception": false,
          "start_time": "2022-07-19T06:47:37.190252",
          "status": "completed"
        },
        "tags": [],
        "colab": {
          "base_uri": "https://localhost:8080/"
        },
        "id": "99202714",
        "outputId": "28e2ee3a-51ba-45c9-f874-1add33a79e82"
      },
      "outputs": [
        {
          "output_type": "stream",
          "name": "stdout",
          "text": [
            "Thanks\n"
          ]
        }
      ],
      "source": [
        "print('Thanks')"
      ]
    }
  ],
  "metadata": {
    "kernelspec": {
      "display_name": "Python 3",
      "language": "python",
      "name": "python3"
    },
    "language_info": {
      "codemirror_mode": {
        "name": "ipython",
        "version": 3
      },
      "file_extension": ".py",
      "mimetype": "text/x-python",
      "name": "python",
      "nbconvert_exporter": "python",
      "pygments_lexer": "ipython3",
      "version": "3.7.12"
    },
    "papermill": {
      "default_parameters": {},
      "duration": 30.89823,
      "end_time": "2022-07-19T06:47:38.388763",
      "environment_variables": {},
      "exception": null,
      "input_path": "__notebook__.ipynb",
      "output_path": "__notebook__.ipynb",
      "parameters": {},
      "start_time": "2022-07-19T06:47:07.490533",
      "version": "2.3.4"
    },
    "colab": {
      "name": "Petrol_Price_Prediction.ipynb",
      "provenance": []
    }
  },
  "nbformat": 4,
  "nbformat_minor": 5
}